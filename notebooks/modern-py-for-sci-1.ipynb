{
 "cells": [
  {
   "cell_type": "markdown",
   "metadata": {},
   "source": [
    "# Modern techniques for scientific computing and data science (1/n)\n",
    "\n",
    "If you're anything like me, you've picked up some python programming in order to solve a problem or maybe as part of a class in computing. Many of us picked up this langauge as a means to an end and started learning via google and stack overflow. When learning like this, it's easy to miss some of the new devlopments in the python landscape. This post is a first in an arbitrary number of posts describing a few techniques I consider must-haves in modern python development. The field moves extremely fast, so I'll try to restrict myself to tools that I consider so useful, that the payoff of learning them is well worth the effort.\n",
    "\n",
    "## Part 1: Altair + Dataclasses + Callable classes\n",
    "\n",
    "In python, functions are objects, and objects are functions. To make an object \n",
    "callable using `f(x)` syntax, all you have to do is define the `__call__` method.\n",
    "Let's try it out with a class that squares a number:"
   ]
  },
  {
   "cell_type": "code",
   "execution_count": 8,
   "metadata": {},
   "outputs": [
    {
     "data": {
      "text/plain": [
       "4"
      ]
     },
     "execution_count": 8,
     "metadata": {},
     "output_type": "execute_result"
    }
   ],
   "source": [
    "class Squared:\n",
    "    def __call__(self, x):\n",
    "        return x * x\n",
    "\n",
    "squared = Squared()  # Instantiate the class\n",
    "squared(2)"
   ]
  },
  {
   "cell_type": "markdown",
   "metadata": {},
   "source": [
    "Ok, that's pretty useless. But what about storing a value to use later? We can\n",
    "use this to create a class that is parameterized. We can instantiate the class\n",
    "with a parameter, and then call it later. This is effectively \"partial function application\", which allows us to convert `f(x, n)` to `f(x)` by \"binding\" a value for `n`"
   ]
  },
  {
   "cell_type": "code",
   "execution_count": 27,
   "metadata": {},
   "outputs": [
    {
     "name": "stdout",
     "output_type": "stream",
     "text": [
      "2 cubed =  8\n",
      "2 ^ 5 =  32\n"
     ]
    }
   ],
   "source": [
    "class Power:\n",
    "    def __init__(self, n):\n",
    "        self.n = n\n",
    "    \n",
    "    def __call__(self, x):\n",
    "        return x ** self.n\n",
    "    \n",
    "# Instantiate Power with different exponents\n",
    "cubed = Power(3)\n",
    "pow5 = Power(5)\n",
    "\n",
    "# Now the instances remember the value of n they were instantiated with\n",
    "print(\"2 cubed = \", cubed(2))\n",
    "print(\"2 ^ 5 = \", pow5(2))"
   ]
  },
  {
   "cell_type": "markdown",
   "metadata": {},
   "source": [
    "Alright, so we can create various functions on the fly, and invoke them later. \n",
    "Let's take a look at what one looks like:"
   ]
  },
  {
   "cell_type": "code",
   "execution_count": 15,
   "metadata": {},
   "outputs": [
    {
     "name": "stdout",
     "output_type": "stream",
     "text": [
      "<__main__.Power object at 0x000001C4080C8A58>\n"
     ]
    }
   ],
   "source": [
    "print(cubed)"
   ]
  },
  {
   "cell_type": "markdown",
   "metadata": {},
   "source": [
    "Bummer. That's not helpful at all! But what if we could make a new function,\n",
    "but also be able to print it out? That'd be kinda nice. The way to define a \n",
    "custom print function for a python class is to write a `__str__` method. \n",
    "I don't want to do that, so I'm going to make python do it for me. \n",
    "Enter dataclasses, a new way in python 3.7 to auto generate a lot of \n",
    "boilerplate involved when writing classes. Simply decorate our function\n",
    "with `@dataclass` and add annotations for the variables we want to store. \n",
    "In this case we're saying that the class has a variable named `n` and it is\n",
    "expected to be integer. "
   ]
  },
  {
   "cell_type": "code",
   "execution_count": 28,
   "metadata": {},
   "outputs": [
    {
     "name": "stdout",
     "output_type": "stream",
     "text": [
      "2 ^ 4 =  16\n"
     ]
    }
   ],
   "source": [
    "from dataclasses import dataclass\n",
    "\n",
    "@dataclass\n",
    "class Dataclass_Pow:\n",
    "    n: int\n",
    "    def __call__(self, x):\n",
    "        return x ** self.n\n",
    "    \n",
    "dataclass_pow4 = Dataclass_Pow(n=4)\n",
    "print(\"2 ^ 4 = \", dataclass_pow4(2))"
   ]
  },
  {
   "cell_type": "markdown",
   "metadata": {},
   "source": [
    "Notice how we didn't have to define `__init__` anymore! Now we've really only specified\n",
    "what `Dataclass_Pow` should do when called, and what variables it needs to save. And\n",
    "look what happens when we print it out:"
   ]
  },
  {
   "cell_type": "code",
   "execution_count": 29,
   "metadata": {},
   "outputs": [
    {
     "name": "stdout",
     "output_type": "stream",
     "text": [
      "Dataclass_Pow(n=4)\n"
     ]
    }
   ],
   "source": [
    "print(dataclass_pow4)"
   ]
  },
  {
   "cell_type": "markdown",
   "metadata": {},
   "source": [
    "Now that's what I call descriptive! Let's Try it out with something a bit more complicated:"
   ]
  },
  {
   "cell_type": "code",
   "execution_count": 31,
   "metadata": {},
   "outputs": [],
   "source": [
    "from math import factorial\n",
    "import numpy as np\n",
    "import pandas as pd\n",
    "\n",
    "@dataclass\n",
    "class Gaussian:\n",
    "    mu: float\n",
    "    sigma: float\n",
    "        \n",
    "    def __call__(self, x):\n",
    "        N = 1.0 / np.sqrt(2 * np.pi * self.sigma**2)\n",
    "        return N * np.exp(-(x - self.mu)**2 / (2 * self.sigma**2))"
   ]
  },
  {
   "cell_type": "markdown",
   "metadata": {},
   "source": [
    "Now that we can make gaussians as we want, let's make a few:"
   ]
  },
  {
   "cell_type": "code",
   "execution_count": 33,
   "metadata": {},
   "outputs": [
    {
     "data": {
      "text/plain": [
       "[Gaussian(mu=-3, sigma=2),\n",
       " Gaussian(mu=-1, sigma=1.5),\n",
       " Gaussian(mu=1, sigma=1),\n",
       " Gaussian(mu=2, sigma=0.5)]"
      ]
     },
     "execution_count": 33,
     "metadata": {},
     "output_type": "execute_result"
    }
   ],
   "source": [
    "gaussians = [\n",
    "    Gaussian(mu=-3, sigma=2),\n",
    "    Gaussian(mu=-1, sigma=1.5),\n",
    "    Gaussian(mu=1, sigma=1),\n",
    "    Gaussian(mu=2, sigma=0.5)\n",
    "]\n",
    "gaussians"
   ]
  },
  {
   "cell_type": "markdown",
   "metadata": {},
   "source": [
    "Look! We can make a bunch of functions, and print them all out at once! Let's see if we \n",
    "can do something a bit more interesting: We can tabulate the values of each\n",
    "gaussian over a grid of x values, all while keeping track of which function was\n",
    "used to generate the data."
   ]
  },
  {
   "cell_type": "code",
   "execution_count": 43,
   "metadata": {},
   "outputs": [
    {
     "data": {
      "text/html": [
       "<div>\n",
       "<style scoped>\n",
       "    .dataframe tbody tr th:only-of-type {\n",
       "        vertical-align: middle;\n",
       "    }\n",
       "\n",
       "    .dataframe tbody tr th {\n",
       "        vertical-align: top;\n",
       "    }\n",
       "\n",
       "    .dataframe thead th {\n",
       "        text-align: right;\n",
       "    }\n",
       "</style>\n",
       "<table border=\"1\" class=\"dataframe\">\n",
       "  <thead>\n",
       "    <tr style=\"text-align: right;\">\n",
       "      <th></th>\n",
       "      <th>x</th>\n",
       "      <th>g(x)</th>\n",
       "      <th>Func</th>\n",
       "    </tr>\n",
       "  </thead>\n",
       "  <tbody>\n",
       "    <tr>\n",
       "      <th>0</th>\n",
       "      <td>-10.000000</td>\n",
       "      <td>0.000436</td>\n",
       "      <td>Gaussian(mu=-3, sigma=2)</td>\n",
       "    </tr>\n",
       "    <tr>\n",
       "      <th>1</th>\n",
       "      <td>-9.949833</td>\n",
       "      <td>0.000476</td>\n",
       "      <td>Gaussian(mu=-3, sigma=2)</td>\n",
       "    </tr>\n",
       "    <tr>\n",
       "      <th>2</th>\n",
       "      <td>-9.899666</td>\n",
       "      <td>0.000519</td>\n",
       "      <td>Gaussian(mu=-3, sigma=2)</td>\n",
       "    </tr>\n",
       "    <tr>\n",
       "      <th>3</th>\n",
       "      <td>-9.849498</td>\n",
       "      <td>0.000566</td>\n",
       "      <td>Gaussian(mu=-3, sigma=2)</td>\n",
       "    </tr>\n",
       "    <tr>\n",
       "      <th>4</th>\n",
       "      <td>-9.799331</td>\n",
       "      <td>0.000617</td>\n",
       "      <td>Gaussian(mu=-3, sigma=2)</td>\n",
       "    </tr>\n",
       "  </tbody>\n",
       "</table>\n",
       "</div>"
      ],
      "text/plain": [
       "           x      g(x)                      Func\n",
       "0 -10.000000  0.000436  Gaussian(mu=-3, sigma=2)\n",
       "1  -9.949833  0.000476  Gaussian(mu=-3, sigma=2)\n",
       "2  -9.899666  0.000519  Gaussian(mu=-3, sigma=2)\n",
       "3  -9.849498  0.000566  Gaussian(mu=-3, sigma=2)\n",
       "4  -9.799331  0.000617  Gaussian(mu=-3, sigma=2)"
      ]
     },
     "execution_count": 43,
     "metadata": {},
     "output_type": "execute_result"
    }
   ],
   "source": [
    "x = np.linspace(-10, 5, 300)\n",
    "data = []\n",
    "for g in gaussians:\n",
    "    # Evaluate the gaussian over x values, store in dict along with its name\n",
    "    func_dict = {\"x\": x, \"g(x)\": g(x), \"Func\": str(g)}\n",
    "    # Convert to dataframe\n",
    "    func_df = pd.DataFrame(func_dict)\n",
    "    # Add to list of dataframes\n",
    "    data.append(func_df)\n",
    "    \n",
    "# Merge all of our dataframes into one\n",
    "df = pd.concat(data)\n",
    "df.head()"
   ]
  },
  {
   "cell_type": "markdown",
   "metadata": {},
   "source": [
    "And boom! A big dataframe holding all of our gaussians, along with their x, g(x) and parameters! Better yet, we can keep the `Func` column around to group the values by\n",
    "function. Even better still, we can make altair do all the heavy lifting.\n",
    "\n",
    "Altair is a relatively recent addition to the python data visualization landscape. \n",
    "It allows us to declaratively specify plots for pandas dataframes. \n",
    "Let's throw in our table of gaussian data. Then we can tell it to plot\n",
    "`g(x)` vs `x`, with different colors for each gaussian. Let's see how easy \n",
    "it is:"
   ]
  },
  {
   "cell_type": "code",
   "execution_count": 44,
   "metadata": {},
   "outputs": [
    {
     "data": {
      "application/vnd.vegalite.v3+json": {
       "$schema": "https://vega.github.io/schema/vega-lite/v3.2.1.json",
       "config": {
        "mark": {
         "tooltip": null
        },
        "view": {
         "height": 300,
         "width": 400
        }
       },
       "data": {
        "name": "data-2d39b8ef830be996dd2c659338b85258"
       },
       "datasets": {
        "data-2d39b8ef830be996dd2c659338b85258": [
         {
          "Func": "Gaussian(mu=-3, sigma=2)",
          "g(x)": 0.0004363413475228801,
          "x": -10
         },
         {
          "Func": "Gaussian(mu=-3, sigma=2)",
          "g(x)": 0.0004762309342380628,
          "x": -9.949832775919733
         },
         {
          "Func": "Gaussian(mu=-3, sigma=2)",
          "g(x)": 0.000519440231199887,
          "x": -9.899665551839465
         },
         {
          "Func": "Gaussian(mu=-3, sigma=2)",
          "g(x)": 0.0005662136194111191,
          "x": -9.849498327759198
         },
         {
          "Func": "Gaussian(mu=-3, sigma=2)",
          "g(x)": 0.0006168105410593263,
          "x": -9.799331103678929
         },
         {
          "Func": "Gaussian(mu=-3, sigma=2)",
          "g(x)": 0.0006715061738171468,
          "x": -9.749163879598662
         },
         {
          "Func": "Gaussian(mu=-3, sigma=2)",
          "g(x)": 0.0007305921139517464,
          "x": -9.698996655518394
         },
         {
          "Func": "Gaussian(mu=-3, sigma=2)",
          "g(x)": 0.0007943770663398397,
          "x": -9.648829431438127
         },
         {
          "Func": "Gaussian(mu=-3, sigma=2)",
          "g(x)": 0.0008631875392835744,
          "x": -9.59866220735786
         },
         {
          "Func": "Gaussian(mu=-3, sigma=2)",
          "g(x)": 0.0009373685418146708,
          "x": -9.548494983277592
         },
         {
          "Func": "Gaussian(mu=-3, sigma=2)",
          "g(x)": 0.0010172842809601742,
          "x": -9.498327759197325
         },
         {
          "Func": "Gaussian(mu=-3, sigma=2)",
          "g(x)": 0.0011033188562237094,
          "x": -9.448160535117056
         },
         {
          "Func": "Gaussian(mu=-3, sigma=2)",
          "g(x)": 0.0011958769483120346,
          "x": -9.397993311036789
         },
         {
          "Func": "Gaussian(mu=-3, sigma=2)",
          "g(x)": 0.001295384498909021,
          "x": -9.347826086956522
         },
         {
          "Func": "Gaussian(mu=-3, sigma=2)",
          "g(x)": 0.001402289378068669,
          "x": -9.297658862876254
         },
         {
          "Func": "Gaussian(mu=-3, sigma=2)",
          "g(x)": 0.0015170620355669628,
          "x": -9.247491638795987
         },
         {
          "Func": "Gaussian(mu=-3, sigma=2)",
          "g(x)": 0.0016401961323201297,
          "x": -9.19732441471572
         },
         {
          "Func": "Gaussian(mu=-3, sigma=2)",
          "g(x)": 0.0017722091477457398,
          "x": -9.147157190635452
         },
         {
          "Func": "Gaussian(mu=-3, sigma=2)",
          "g(x)": 0.0019136429587144899,
          "x": -9.096989966555183
         },
         {
          "Func": "Gaussian(mu=-3, sigma=2)",
          "g(x)": 0.0020650643855159466,
          "x": -9.046822742474916
         },
         {
          "Func": "Gaussian(mu=-3, sigma=2)",
          "g(x)": 0.0022270657000427745,
          "x": -8.996655518394649
         },
         {
          "Func": "Gaussian(mu=-3, sigma=2)",
          "g(x)": 0.0024002650911864993,
          "x": -8.946488294314381
         },
         {
          "Func": "Gaussian(mu=-3, sigma=2)",
          "g(x)": 0.0025853070822359388,
          "x": -8.896321070234114
         },
         {
          "Func": "Gaussian(mu=-3, sigma=2)",
          "g(x)": 0.0027828628948785732,
          "x": -8.846153846153847
         },
         {
          "Func": "Gaussian(mu=-3, sigma=2)",
          "g(x)": 0.0029936307542275634,
          "x": -8.795986622073578
         },
         {
          "Func": "Gaussian(mu=-3, sigma=2)",
          "g(x)": 0.0032183361291349103,
          "x": -8.74581939799331
         },
         {
          "Func": "Gaussian(mu=-3, sigma=2)",
          "g(x)": 0.003457731901906526,
          "x": -8.695652173913043
         },
         {
          "Func": "Gaussian(mu=-3, sigma=2)",
          "g(x)": 0.0037125984614097243,
          "x": -8.645484949832776
         },
         {
          "Func": "Gaussian(mu=-3, sigma=2)",
          "g(x)": 0.003983743713460551,
          "x": -8.595317725752508
         },
         {
          "Func": "Gaussian(mu=-3, sigma=2)",
          "g(x)": 0.004272003002299159,
          "x": -8.545150501672241
         },
         {
          "Func": "Gaussian(mu=-3, sigma=2)",
          "g(x)": 0.004578238936908796,
          "x": -8.494983277591974
         },
         {
          "Func": "Gaussian(mu=-3, sigma=2)",
          "g(x)": 0.004903341115909862,
          "x": -8.444816053511705
         },
         {
          "Func": "Gaussian(mu=-3, sigma=2)",
          "g(x)": 0.005248225744767347,
          "x": -8.394648829431437
         },
         {
          "Func": "Gaussian(mu=-3, sigma=2)",
          "g(x)": 0.005613835139090126,
          "x": -8.34448160535117
         },
         {
          "Func": "Gaussian(mu=-3, sigma=2)",
          "g(x)": 0.00600113710787544,
          "x": -8.294314381270903
         },
         {
          "Func": "Gaussian(mu=-3, sigma=2)",
          "g(x)": 0.006411124210664819,
          "x": -8.244147157190636
         },
         {
          "Func": "Gaussian(mu=-3, sigma=2)",
          "g(x)": 0.006844812882729452,
          "x": -8.193979933110368
         },
         {
          "Func": "Gaussian(mu=-3, sigma=2)",
          "g(x)": 0.0073032424225959736,
          "x": -8.143812709030101
         },
         {
          "Func": "Gaussian(mu=-3, sigma=2)",
          "g(x)": 0.0077874738364598,
          "x": -8.093645484949832
         },
         {
          "Func": "Gaussian(mu=-3, sigma=2)",
          "g(x)": 0.008298588534313228,
          "x": -8.043478260869565
         },
         {
          "Func": "Gaussian(mu=-3, sigma=2)",
          "g(x)": 0.008837686872942337,
          "x": -7.993311036789297
         },
         {
          "Func": "Gaussian(mu=-3, sigma=2)",
          "g(x)": 0.009405886541319262,
          "x": -7.94314381270903
         },
         {
          "Func": "Gaussian(mu=-3, sigma=2)",
          "g(x)": 0.010004320784338345,
          "x": -7.892976588628763
         },
         {
          "Func": "Gaussian(mu=-3, sigma=2)",
          "g(x)": 0.010634136461314196,
          "x": -7.842809364548495
         },
         {
          "Func": "Gaussian(mu=-3, sigma=2)",
          "g(x)": 0.01129649193617885,
          "x": -7.792642140468228
         },
         {
          "Func": "Gaussian(mu=-3, sigma=2)",
          "g(x)": 0.011992554796883565,
          "x": -7.74247491638796
         },
         {
          "Func": "Gaussian(mu=-3, sigma=2)",
          "g(x)": 0.012723499402127907,
          "x": -7.692307692307692
         },
         {
          "Func": "Gaussian(mu=-3, sigma=2)",
          "g(x)": 0.013490504254205136,
          "x": -7.642140468227424
         },
         {
          "Func": "Gaussian(mu=-3, sigma=2)",
          "g(x)": 0.014294749197466173,
          "x": -7.591973244147157
         },
         {
          "Func": "Gaussian(mu=-3, sigma=2)",
          "g(x)": 0.015137412442664866,
          "x": -7.54180602006689
         },
         {
          "Func": "Gaussian(mu=-3, sigma=2)",
          "g(x)": 0.016019667418252413,
          "x": -7.491638795986622
         },
         {
          "Func": "Gaussian(mu=-3, sigma=2)",
          "g(x)": 0.01694267945053702,
          "x": -7.441471571906355
         },
         {
          "Func": "Gaussian(mu=-3, sigma=2)",
          "g(x)": 0.017907602275513447,
          "x": -7.391304347826087
         },
         {
          "Func": "Gaussian(mu=-3, sigma=2)",
          "g(x)": 0.018915574386094005,
          "x": -7.341137123745819
         },
         {
          "Func": "Gaussian(mu=-3, sigma=2)",
          "g(x)": 0.01996771521943369,
          "x": -7.290969899665551
         },
         {
          "Func": "Gaussian(mu=-3, sigma=2)",
          "g(x)": 0.02106512119003472,
          "x": -7.240802675585284
         },
         {
          "Func": "Gaussian(mu=-3, sigma=2)",
          "g(x)": 0.022208861575334825,
          "x": -7.190635451505017
         },
         {
          "Func": "Gaussian(mu=-3, sigma=2)",
          "g(x)": 0.02339997426152655,
          "x": -7.1404682274247495
         },
         {
          "Func": "Gaussian(mu=-3, sigma=2)",
          "g(x)": 0.02463946135841429,
          "x": -7.090301003344481
         },
         {
          "Func": "Gaussian(mu=-3, sigma=2)",
          "g(x)": 0.02592828469318885,
          "x": -7.040133779264214
         },
         {
          "Func": "Gaussian(mu=-3, sigma=2)",
          "g(x)": 0.027267361194079826,
          "x": -6.989966555183946
         },
         {
          "Func": "Gaussian(mu=-3, sigma=2)",
          "g(x)": 0.028657558175926547,
          "x": -6.9397993311036785
         },
         {
          "Func": "Gaussian(mu=-3, sigma=2)",
          "g(x)": 0.030099688540785836,
          "x": -6.889632107023411
         },
         {
          "Func": "Gaussian(mu=-3, sigma=2)",
          "g(x)": 0.031594505907759175,
          "x": -6.839464882943144
         },
         {
          "Func": "Gaussian(mu=-3, sigma=2)",
          "g(x)": 0.033142699687269246,
          "x": -6.789297658862877
         },
         {
          "Func": "Gaussian(mu=-3, sigma=2)",
          "g(x)": 0.03474489011603741,
          "x": -6.739130434782608
         },
         {
          "Func": "Gaussian(mu=-3, sigma=2)",
          "g(x)": 0.03640162327000292,
          "x": -6.688963210702341
         },
         {
          "Func": "Gaussian(mu=-3, sigma=2)",
          "g(x)": 0.03811336607337497,
          "x": -6.638795986622073
         },
         {
          "Func": "Gaussian(mu=-3, sigma=2)",
          "g(x)": 0.03988050132290986,
          "x": -6.588628762541806
         },
         {
          "Func": "Gaussian(mu=-3, sigma=2)",
          "g(x)": 0.041703322747355144,
          "x": -6.538461538461538
         },
         {
          "Func": "Gaussian(mu=-3, sigma=2)",
          "g(x)": 0.043582030122786254,
          "x": -6.488294314381271
         },
         {
          "Func": "Gaussian(mu=-3, sigma=2)",
          "g(x)": 0.04551672446527826,
          "x": -6.438127090301004
         },
         {
          "Func": "Gaussian(mu=-3, sigma=2)",
          "g(x)": 0.04750740332299339,
          "x": -6.3879598662207355
         },
         {
          "Func": "Gaussian(mu=-3, sigma=2)",
          "g(x)": 0.049553956190319194,
          "x": -6.337792642140468
         },
         {
          "Func": "Gaussian(mu=-3, sigma=2)",
          "g(x)": 0.05165616006715572,
          "x": -6.2876254180602
         },
         {
          "Func": "Gaussian(mu=-3, sigma=2)",
          "g(x)": 0.053813675186813195,
          "x": -6.237458193979933
         },
         {
          "Func": "Gaussian(mu=-3, sigma=2)",
          "g(x)": 0.05602604093624403,
          "x": -6.187290969899665
         },
         {
          "Func": "Gaussian(mu=-3, sigma=2)",
          "g(x)": 0.05829267199247998,
          "x": -6.137123745819398
         },
         {
          "Func": "Gaussian(mu=-3, sigma=2)",
          "g(x)": 0.06061285469917987,
          "x": -6.086956521739131
         },
         {
          "Func": "Gaussian(mu=-3, sigma=2)",
          "g(x)": 0.06298574370710504,
          "x": -6.036789297658863
         },
         {
          "Func": "Gaussian(mu=-3, sigma=2)",
          "g(x)": 0.06541035890212472,
          "x": -5.986622073578595
         },
         {
          "Func": "Gaussian(mu=-3, sigma=2)",
          "g(x)": 0.06788558264401107,
          "x": -5.936454849498328
         },
         {
          "Func": "Gaussian(mu=-3, sigma=2)",
          "g(x)": 0.07041015733880535,
          "x": -5.88628762541806
         },
         {
          "Func": "Gaussian(mu=-3, sigma=2)",
          "g(x)": 0.07298268336692589,
          "x": -5.8361204013377925
         },
         {
          "Func": "Gaussian(mu=-3, sigma=2)",
          "g(x)": 0.07560161738843879,
          "x": -5.785953177257525
         },
         {
          "Func": "Gaussian(mu=-3, sigma=2)",
          "g(x)": 0.0782652710460238,
          "x": -5.735785953177257
         },
         {
          "Func": "Gaussian(mu=-3, sigma=2)",
          "g(x)": 0.08097181008514345,
          "x": -5.68561872909699
         },
         {
          "Func": "Gaussian(mu=-3, sigma=2)",
          "g(x)": 0.08371925390976065,
          "x": -5.635451505016722
         },
         {
          "Func": "Gaussian(mu=-3, sigma=2)",
          "g(x)": 0.08650547559064972,
          "x": -5.585284280936455
         },
         {
          "Func": "Gaussian(mu=-3, sigma=2)",
          "g(x)": 0.08932820234191617,
          "x": -5.535117056856187
         },
         {
          "Func": "Gaussian(mu=-3, sigma=2)",
          "g(x)": 0.09218501647977852,
          "x": -5.48494983277592
         },
         {
          "Func": "Gaussian(mu=-3, sigma=2)",
          "g(x)": 0.09507335687598042,
          "x": -5.434782608695652
         },
         {
          "Func": "Gaussian(mu=-3, sigma=2)",
          "g(x)": 0.09799052091639558,
          "x": -5.384615384615384
         },
         {
          "Func": "Gaussian(mu=-3, sigma=2)",
          "g(x)": 0.10093366697347039,
          "x": -5.334448160535117
         },
         {
          "Func": "Gaussian(mu=-3, sigma=2)",
          "g(x)": 0.10389981739912688,
          "x": -5.2842809364548495
         },
         {
          "Func": "Gaussian(mu=-3, sigma=2)",
          "g(x)": 0.1068858620426258,
          "x": -5.234113712374582
         },
         {
          "Func": "Gaussian(mu=-3, sigma=2)",
          "g(x)": 0.10988856229568361,
          "x": -5.183946488294314
         },
         {
          "Func": "Gaussian(mu=-3, sigma=2)",
          "g(x)": 0.11290455566484832,
          "x": -5.133779264214047
         },
         {
          "Func": "Gaussian(mu=-3, sigma=2)",
          "g(x)": 0.11593036086878757,
          "x": -5.083612040133779
         },
         {
          "Func": "Gaussian(mu=-3, sigma=2)",
          "g(x)": 0.11896238345573101,
          "x": -5.033444816053511
         },
         {
          "Func": "Gaussian(mu=-3, sigma=2)",
          "g(x)": 0.12199692193385693,
          "x": -4.983277591973244
         },
         {
          "Func": "Gaussian(mu=-3, sigma=2)",
          "g(x)": 0.12503017440493072,
          "x": -4.933110367892977
         },
         {
          "Func": "Gaussian(mu=-3, sigma=2)",
          "g(x)": 0.1280582456890006,
          "x": -4.882943143812709
         },
         {
          "Func": "Gaussian(mu=-3, sigma=2)",
          "g(x)": 0.13107715492545327,
          "x": -4.832775919732441
         },
         {
          "Func": "Gaussian(mu=-3, sigma=2)",
          "g(x)": 0.13408284363323972,
          "x": -4.782608695652174
         },
         {
          "Func": "Gaussian(mu=-3, sigma=2)",
          "g(x)": 0.13707118421061362,
          "x": -4.7324414715719065
         },
         {
          "Func": "Gaussian(mu=-3, sigma=2)",
          "g(x)": 0.1400379888522981,
          "x": -4.682274247491638
         },
         {
          "Func": "Gaussian(mu=-3, sigma=2)",
          "g(x)": 0.14297901885962527,
          "x": -4.632107023411371
         },
         {
          "Func": "Gaussian(mu=-3, sigma=2)",
          "g(x)": 0.1458899943168914,
          "x": -4.581939799331104
         },
         {
          "Func": "Gaussian(mu=-3, sigma=2)",
          "g(x)": 0.14876660410495315,
          "x": -4.5317725752508355
         },
         {
          "Func": "Gaussian(mu=-3, sigma=2)",
          "g(x)": 0.15160451622097346,
          "x": -4.481605351170568
         },
         {
          "Func": "Gaussian(mu=-3, sigma=2)",
          "g(x)": 0.15439938837122172,
          "x": -4.431438127090301
         },
         {
          "Func": "Gaussian(mu=-3, sigma=2)",
          "g(x)": 0.1571468788019555,
          "x": -4.381270903010034
         },
         {
          "Func": "Gaussian(mu=-3, sigma=2)",
          "g(x)": 0.15984265733167619,
          "x": -4.331103678929765
         },
         {
          "Func": "Gaussian(mu=-3, sigma=2)",
          "g(x)": 0.16248241654646692,
          "x": -4.280936454849498
         },
         {
          "Func": "Gaussian(mu=-3, sigma=2)",
          "g(x)": 0.16506188311870548,
          "x": -4.230769230769231
         },
         {
          "Func": "Gaussian(mu=-3, sigma=2)",
          "g(x)": 0.16757682920820105,
          "x": -4.180602006688963
         },
         {
          "Func": "Gaussian(mu=-3, sigma=2)",
          "g(x)": 0.17002308390375082,
          "x": -4.130434782608695
         },
         {
          "Func": "Gaussian(mu=-3, sigma=2)",
          "g(x)": 0.17239654466225257,
          "x": -4.080267558528428
         },
         {
          "Func": "Gaussian(mu=-3, sigma=2)",
          "g(x)": 0.17469318870185316,
          "x": -4.030100334448161
         },
         {
          "Func": "Gaussian(mu=-3, sigma=2)",
          "g(x)": 0.17690908430516802,
          "x": -3.9799331103678925
         },
         {
          "Func": "Gaussian(mu=-3, sigma=2)",
          "g(x)": 0.17904040198837795,
          "x": -3.9297658862876252
         },
         {
          "Func": "Gaussian(mu=-3, sigma=2)",
          "g(x)": 0.1810834254920013,
          "x": -3.879598662207358
         },
         {
          "Func": "Gaussian(mu=-3, sigma=2)",
          "g(x)": 0.18303456254935405,
          "x": -3.8294314381270897
         },
         {
          "Func": "Gaussian(mu=-3, sigma=2)",
          "g(x)": 0.1848903553891522,
          "x": -3.7792642140468224
         },
         {
          "Func": "Gaussian(mu=-3, sigma=2)",
          "g(x)": 0.18664749092937621,
          "x": -3.729096989966555
         },
         {
          "Func": "Gaussian(mu=-3, sigma=2)",
          "g(x)": 0.18830281062040832,
          "x": -3.678929765886288
         },
         {
          "Func": "Gaussian(mu=-3, sigma=2)",
          "g(x)": 0.18985331989656648,
          "x": -3.6287625418060196
         },
         {
          "Func": "Gaussian(mu=-3, sigma=2)",
          "g(x)": 0.19129619719648824,
          "x": -3.5785953177257523
         },
         {
          "Func": "Gaussian(mu=-3, sigma=2)",
          "g(x)": 0.19262880251436248,
          "x": -3.528428093645485
         },
         {
          "Func": "Gaussian(mu=-3, sigma=2)",
          "g(x)": 0.19384868544575382,
          "x": -3.478260869565217
         },
         {
          "Func": "Gaussian(mu=-3, sigma=2)",
          "g(x)": 0.19495359269371132,
          "x": -3.4280936454849495
         },
         {
          "Func": "Gaussian(mu=-3, sigma=2)",
          "g(x)": 0.19594147500298828,
          "x": -3.3779264214046822
         },
         {
          "Func": "Gaussian(mu=-3, sigma=2)",
          "g(x)": 0.19681049349250856,
          "x": -3.327759197324415
         },
         {
          "Func": "Gaussian(mu=-3, sigma=2)",
          "g(x)": 0.19755902535869457,
          "x": -3.2775919732441468
         },
         {
          "Func": "Gaussian(mu=-3, sigma=2)",
          "g(x)": 0.19818566892489803,
          "x": -3.2274247491638794
         },
         {
          "Func": "Gaussian(mu=-3, sigma=2)",
          "g(x)": 0.19868924801494434,
          "x": -3.177257525083612
         },
         {
          "Func": "Gaussian(mu=-3, sigma=2)",
          "g(x)": 0.19906881563168835,
          "x": -3.127090301003344
         },
         {
          "Func": "Gaussian(mu=-3, sigma=2)",
          "g(x)": 0.19932365692447956,
          "x": -3.0769230769230766
         },
         {
          "Func": "Gaussian(mu=-3, sigma=2)",
          "g(x)": 0.1994532914325206,
          "x": -3.0267558528428093
         },
         {
          "Func": "Gaussian(mu=-3, sigma=2)",
          "g(x)": 0.1994574745942653,
          "x": -2.976588628762542
         },
         {
          "Func": "Gaussian(mu=-3, sigma=2)",
          "g(x)": 0.19933619851621853,
          "x": -2.926421404682274
         },
         {
          "Func": "Gaussian(mu=-3, sigma=2)",
          "g(x)": 0.19908969199775586,
          "x": -2.8762541806020065
         },
         {
          "Func": "Gaussian(mu=-3, sigma=2)",
          "g(x)": 0.198718419811853,
          "x": -2.8260869565217392
         },
         {
          "Func": "Gaussian(mu=-3, sigma=2)",
          "g(x)": 0.19822308124489027,
          "x": -2.775919732441471
         },
         {
          "Func": "Gaussian(mu=-3, sigma=2)",
          "g(x)": 0.19760460790195386,
          "x": -2.7257525083612038
         },
         {
          "Func": "Gaussian(mu=-3, sigma=2)",
          "g(x)": 0.1968641607872739,
          "x": -2.6755852842809364
         },
         {
          "Func": "Gaussian(mu=-3, sigma=2)",
          "g(x)": 0.19600312667260725,
          "x": -2.625418060200669
         },
         {
          "Func": "Gaussian(mu=-3, sigma=2)",
          "g(x)": 0.19502311376946457,
          "x": -2.575250836120401
         },
         {
          "Func": "Gaussian(mu=-3, sigma=2)",
          "g(x)": 0.1939259467240854,
          "x": -2.5250836120401337
         },
         {
          "Func": "Gaussian(mu=-3, sigma=2)",
          "g(x)": 0.19271366095696332,
          "x": -2.4749163879598663
         },
         {
          "Func": "Gaussian(mu=-3, sigma=2)",
          "g(x)": 0.19138849637149807,
          "x": -2.424749163879598
         },
         {
          "Func": "Gaussian(mu=-3, sigma=2)",
          "g(x)": 0.18995289045899055,
          "x": -2.374581939799331
         },
         {
          "Func": "Gaussian(mu=-3, sigma=2)",
          "g(x)": 0.1884094708296834,
          "x": -2.3244147157190636
         },
         {
          "Func": "Gaussian(mu=-3, sigma=2)",
          "g(x)": 0.18676104720187298,
          "x": -2.2742474916387954
         },
         {
          "Func": "Gaussian(mu=-3, sigma=2)",
          "g(x)": 0.18501060288326418,
          "x": -2.224080267558528
         },
         {
          "Func": "Gaussian(mu=-3, sigma=2)",
          "g(x)": 0.18316128578069907,
          "x": -2.1739130434782608
         },
         {
          "Func": "Gaussian(mu=-3, sigma=2)",
          "g(x)": 0.18121639897615202,
          "x": -2.1237458193979935
         },
         {
          "Func": "Gaussian(mu=-3, sigma=2)",
          "g(x)": 0.17917939090844112,
          "x": -2.0735785953177253
         },
         {
          "Func": "Gaussian(mu=-3, sigma=2)",
          "g(x)": 0.17705384520145043,
          "x": -2.023411371237458
         },
         {
          "Func": "Gaussian(mu=-3, sigma=2)",
          "g(x)": 0.1748434701807846,
          "x": -1.9732441471571907
         },
         {
          "Func": "Gaussian(mu=-3, sigma=2)",
          "g(x)": 0.17255208812168404,
          "x": -1.9230769230769234
         },
         {
          "Func": "Gaussian(mu=-3, sigma=2)",
          "g(x)": 0.1701836242717088,
          "x": -1.872909698996656
         },
         {
          "Func": "Gaussian(mu=-3, sigma=2)",
          "g(x)": 0.1677420956921561,
          "x": -1.822742474916387
         },
         {
          "Func": "Gaussian(mu=-3, sigma=2)",
          "g(x)": 0.16523159996240613,
          "x": -1.7725752508361197
         },
         {
          "Func": "Gaussian(mu=-3, sigma=2)",
          "g(x)": 0.16265630379139726,
          "x": -1.7224080267558524
         },
         {
          "Func": "Gaussian(mu=-3, sigma=2)",
          "g(x)": 0.16002043158021778,
          "x": -1.672240802675585
         },
         {
          "Func": "Gaussian(mu=-3, sigma=2)",
          "g(x)": 0.15732825397937042,
          "x": -1.6220735785953178
         },
         {
          "Func": "Gaussian(mu=-3, sigma=2)",
          "g(x)": 0.15458407648362316,
          "x": -1.5719063545150505
         },
         {
          "Func": "Gaussian(mu=-3, sigma=2)",
          "g(x)": 0.15179222810651533,
          "x": -1.5217391304347831
         },
         {
          "Func": "Gaussian(mu=-3, sigma=2)",
          "g(x)": 0.1489570501755441,
          "x": -1.471571906354514
         },
         {
          "Func": "Gaussian(mu=-3, sigma=2)",
          "g(x)": 0.14608288528782928,
          "x": -1.4214046822742468
         },
         {
          "Func": "Gaussian(mu=-3, sigma=2)",
          "g(x)": 0.1431740664646457,
          "x": -1.3712374581939795
         },
         {
          "Func": "Gaussian(mu=-3, sigma=2)",
          "g(x)": 0.14023490654164347,
          "x": -1.3210702341137122
         },
         {
          "Func": "Gaussian(mu=-3, sigma=2)",
          "g(x)": 0.13726968782984703,
          "x": -1.2709030100334449
         },
         {
          "Func": "Gaussian(mu=-3, sigma=2)",
          "g(x)": 0.13428265208065898,
          "x": -1.2207357859531776
         },
         {
          "Func": "Gaussian(mu=-3, sigma=2)",
          "g(x)": 0.1312779907860968,
          "x": -1.1705685618729103
         },
         {
          "Func": "Gaussian(mu=-3, sigma=2)",
          "g(x)": 0.12825983584338124,
          "x": -1.1204013377926412
         },
         {
          "Func": "Gaussian(mu=-3, sigma=2)",
          "g(x)": 0.12523225061078513,
          "x": -1.0702341137123739
         },
         {
          "Func": "Gaussian(mu=-3, sigma=2)",
          "g(x)": 0.12219922137935225,
          "x": -1.0200668896321066
         },
         {
          "Func": "Gaussian(mu=-3, sigma=2)",
          "g(x)": 0.11916464928273243,
          "x": -0.9698996655518393
         },
         {
          "Func": "Gaussian(mu=-3, sigma=2)",
          "g(x)": 0.11613234266495209,
          "x": -0.919732441471572
         },
         {
          "Func": "Gaussian(mu=-3, sigma=2)",
          "g(x)": 0.11310600992347628,
          "x": -0.8695652173913047
         },
         {
          "Func": "Gaussian(mu=-3, sigma=2)",
          "g(x)": 0.1100892528424261,
          "x": -0.8193979933110374
         },
         {
          "Func": "Gaussian(mu=-3, sigma=2)",
          "g(x)": 0.10708556042831267,
          "x": -0.7692307692307683
         },
         {
          "Func": "Gaussian(mu=-3, sigma=2)",
          "g(x)": 0.10409830325814702,
          "x": -0.719063545150501
         },
         {
          "Func": "Gaussian(mu=-3, sigma=2)",
          "g(x)": 0.10113072834729987,
          "x": -0.6688963210702337
         },
         {
          "Func": "Gaussian(mu=-3, sigma=2)",
          "g(x)": 0.09818595454203226,
          "x": -0.6187290969899664
         },
         {
          "Func": "Gaussian(mu=-3, sigma=2)",
          "g(x)": 0.0952669684392027,
          "x": -0.5685618729096991
         },
         {
          "Func": "Gaussian(mu=-3, sigma=2)",
          "g(x)": 0.09237662083329985,
          "x": -0.5183946488294318
         },
         {
          "Func": "Gaussian(mu=-3, sigma=2)",
          "g(x)": 0.08951762368865872,
          "x": -0.46822742474916446
         },
         {
          "Func": "Gaussian(mu=-3, sigma=2)",
          "g(x)": 0.08669254763250335,
          "x": -0.4180602006688954
         },
         {
          "Func": "Gaussian(mu=-3, sigma=2)",
          "g(x)": 0.08390381996233356,
          "x": -0.3678929765886281
         },
         {
          "Func": "Gaussian(mu=-3, sigma=2)",
          "g(x)": 0.08115372315914086,
          "x": -0.31772575250836077
         },
         {
          "Func": "Gaussian(mu=-3, sigma=2)",
          "g(x)": 0.07844439389601704,
          "x": -0.26755852842809347
         },
         {
          "Func": "Gaussian(mu=-3, sigma=2)",
          "g(x)": 0.07577782252990276,
          "x": -0.21739130434782616
         },
         {
          "Func": "Gaussian(mu=-3, sigma=2)",
          "g(x)": 0.07315585306253153,
          "x": -0.16722408026755886
         },
         {
          "Func": "Gaussian(mu=-3, sigma=2)",
          "g(x)": 0.07058018355505491,
          "x": -0.11705685618729156
         },
         {
          "Func": "Gaussian(mu=-3, sigma=2)",
          "g(x)": 0.06805236697939342,
          "x": -0.06688963210702248
         },
         {
          "Func": "Gaussian(mu=-3, sigma=2)",
          "g(x)": 0.0655738124880523,
          "x": -0.016722408026755176
         },
         {
          "Func": "Gaussian(mu=-3, sigma=2)",
          "g(x)": 0.06314578708296552,
          "x": 0.03344481605351213
         },
         {
          "Func": "Gaussian(mu=-3, sigma=2)",
          "g(x)": 0.06076941766290144,
          "x": 0.08361204013377943
         },
         {
          "Func": "Gaussian(mu=-3, sigma=2)",
          "g(x)": 0.05844569342806236,
          "x": 0.13377926421404673
         },
         {
          "Func": "Gaussian(mu=-3, sigma=2)",
          "g(x)": 0.056175468619754386,
          "x": 0.18394648829431404
         },
         {
          "Func": "Gaussian(mu=-3, sigma=2)",
          "g(x)": 0.05395946557238157,
          "x": 0.23411371237458134
         },
         {
          "Func": "Gaussian(mu=-3, sigma=2)",
          "g(x)": 0.05179827805453323,
          "x": 0.2842809364548504
         },
         {
          "Func": "Gaussian(mu=-3, sigma=2)",
          "g(x)": 0.049692374875580404,
          "x": 0.3344481605351177
         },
         {
          "Func": "Gaussian(mu=-3, sigma=2)",
          "g(x)": 0.04764210373397418,
          "x": 0.384615384615385
         },
         {
          "Func": "Gaussian(mu=-3, sigma=2)",
          "g(x)": 0.04564769528334434,
          "x": 0.43478260869565233
         },
         {
          "Func": "Gaussian(mu=-3, sigma=2)",
          "g(x)": 0.04370926739251928,
          "x": 0.48494983277591963
         },
         {
          "Func": "Gaussian(mu=-3, sigma=2)",
          "g(x)": 0.04182682957573167,
          "x": 0.5351170568561869
         },
         {
          "Func": "Gaussian(mu=-3, sigma=2)",
          "g(x)": 0.040000287569526866,
          "x": 0.5852842809364542
         },
         {
          "Func": "Gaussian(mu=-3, sigma=2)",
          "g(x)": 0.03822944803324844,
          "x": 0.6354515050167233
         },
         {
          "Func": "Gaussian(mu=-3, sigma=2)",
          "g(x)": 0.036514023350432454,
          "x": 0.6856187290969906
         },
         {
          "Func": "Gaussian(mu=-3, sigma=2)",
          "g(x)": 0.034853636508989344,
          "x": 0.7357859531772579
         },
         {
          "Func": "Gaussian(mu=-3, sigma=2)",
          "g(x)": 0.03324782603868718,
          "x": 0.7859531772575252
         },
         {
          "Func": "Gaussian(mu=-3, sigma=2)",
          "g(x)": 0.03169605098515911,
          "x": 0.8361204013377925
         },
         {
          "Func": "Gaussian(mu=-3, sigma=2)",
          "g(x)": 0.030197695900440222,
          "x": 0.8862876254180598
         },
         {
          "Func": "Gaussian(mu=-3, sigma=2)",
          "g(x)": 0.028752075830882184,
          "x": 0.9364548494983289
         },
         {
          "Func": "Gaussian(mu=-3, sigma=2)",
          "g(x)": 0.027358441284193645,
          "x": 0.9866220735785962
         },
         {
          "Func": "Gaussian(mu=-3, sigma=2)",
          "g(x)": 0.02601598315830008,
          "x": 1.0367892976588635
         },
         {
          "Func": "Gaussian(mu=-3, sigma=2)",
          "g(x)": 0.024723837615705433,
          "x": 1.0869565217391308
         },
         {
          "Func": "Gaussian(mu=-3, sigma=2)",
          "g(x)": 0.023481090888056,
          "x": 1.1371237458193981
         },
         {
          "Func": "Gaussian(mu=-3, sigma=2)",
          "g(x)": 0.022286783996653608,
          "x": 1.1872909698996654
         },
         {
          "Func": "Gaussian(mu=-3, sigma=2)",
          "g(x)": 0.021139917375728626,
          "x": 1.2374581939799327
         },
         {
          "Func": "Gaussian(mu=-3, sigma=2)",
          "g(x)": 0.020039455386359782,
          "x": 1.2876254180602018
         },
         {
          "Func": "Gaussian(mu=-3, sigma=2)",
          "g(x)": 0.018984330710008695,
          "x": 1.3377926421404691
         },
         {
          "Func": "Gaussian(mu=-3, sigma=2)",
          "g(x)": 0.017973448611716996,
          "x": 1.3879598662207364
         },
         {
          "Func": "Gaussian(mu=-3, sigma=2)",
          "g(x)": 0.017005691064088762,
          "x": 1.4381270903010037
         },
         {
          "Func": "Gaussian(mu=-3, sigma=2)",
          "g(x)": 0.016079920724240374,
          "x": 1.488294314381271
         },
         {
          "Func": "Gaussian(mu=-3, sigma=2)",
          "g(x)": 0.015194984756944778,
          "x": 1.5384615384615383
         },
         {
          "Func": "Gaussian(mu=-3, sigma=2)",
          "g(x)": 0.014349718498217699,
          "x": 1.5886287625418056
         },
         {
          "Func": "Gaussian(mu=-3, sigma=2)",
          "g(x)": 0.01354294895458783,
          "x": 1.6387959866220747
         },
         {
          "Func": "Gaussian(mu=-3, sigma=2)",
          "g(x)": 0.012773498134256614,
          "x": 1.688963210702342
         },
         {
          "Func": "Gaussian(mu=-3, sigma=2)",
          "g(x)": 0.012040186207281886,
          "x": 1.7391304347826093
         },
         {
          "Func": "Gaussian(mu=-3, sigma=2)",
          "g(x)": 0.011341834492811764,
          "x": 1.7892976588628766
         },
         {
          "Func": "Gaussian(mu=-3, sigma=2)",
          "g(x)": 0.010677268272245468,
          "x": 1.839464882943144
         },
         {
          "Func": "Gaussian(mu=-3, sigma=2)",
          "g(x)": 0.010045319428006043,
          "x": 1.8896321070234112
         },
         {
          "Func": "Gaussian(mu=-3, sigma=2)",
          "g(x)": 0.009444828908373448,
          "x": 1.9397993311036785
         },
         {
          "Func": "Gaussian(mu=-3, sigma=2)",
          "g(x)": 0.008874649019542989,
          "x": 1.9899665551839476
         },
         {
          "Func": "Gaussian(mu=-3, sigma=2)",
          "g(x)": 0.008333645546743533,
          "x": 2.040133779264215
         },
         {
          "Func": "Gaussian(mu=-3, sigma=2)",
          "g(x)": 0.007820699706870144,
          "x": 2.090301003344482
         },
         {
          "Func": "Gaussian(mu=-3, sigma=2)",
          "g(x)": 0.007334709935657919,
          "x": 2.1404682274247495
         },
         {
          "Func": "Gaussian(mu=-3, sigma=2)",
          "g(x)": 0.006874593512945624,
          "x": 2.190635451505017
         },
         {
          "Func": "Gaussian(mu=-3, sigma=2)",
          "g(x)": 0.006439288030051071,
          "x": 2.240802675585284
         },
         {
          "Func": "Gaussian(mu=-3, sigma=2)",
          "g(x)": 0.0060277527037048105,
          "x": 2.2909698996655514
         },
         {
          "Func": "Gaussian(mu=-3, sigma=2)",
          "g(x)": 0.00563896954136493,
          "x": 2.3411371237458205
         },
         {
          "Func": "Gaussian(mu=-3, sigma=2)",
          "g(x)": 0.005271944363065346,
          "x": 2.391304347826088
         },
         {
          "Func": "Gaussian(mu=-3, sigma=2)",
          "g(x)": 0.004925707685233059,
          "x": 2.441471571906355
         },
         {
          "Func": "Gaussian(mu=-3, sigma=2)",
          "g(x)": 0.004599315472149241,
          "x": 2.4916387959866224
         },
         {
          "Func": "Gaussian(mu=-3, sigma=2)",
          "g(x)": 0.004291849760924354,
          "x": 2.5418060200668897
         },
         {
          "Func": "Gaussian(mu=-3, sigma=2)",
          "g(x)": 0.004002419166012378,
          "x": 2.591973244147157
         },
         {
          "Func": "Gaussian(mu=-3, sigma=2)",
          "g(x)": 0.0037301592694043008,
          "x": 2.6421404682274243
         },
         {
          "Func": "Gaussian(mu=-3, sigma=2)",
          "g(x)": 0.003474232902718608,
          "x": 2.6923076923076934
         },
         {
          "Func": "Gaussian(mu=-3, sigma=2)",
          "g(x)": 0.003233830327448889,
          "x": 2.7424749163879607
         },
         {
          "Func": "Gaussian(mu=-3, sigma=2)",
          "g(x)": 0.0030081693196374656,
          "x": 2.792642140468228
         },
         {
          "Func": "Gaussian(mu=-3, sigma=2)",
          "g(x)": 0.0027964951652222,
          "x": 2.8428093645484953
         },
         {
          "Func": "Gaussian(mu=-3, sigma=2)",
          "g(x)": 0.0025980805722524837,
          "x": 2.8929765886287626
         },
         {
          "Func": "Gaussian(mu=-3, sigma=2)",
          "g(x)": 0.0024122255060931323,
          "x": 2.94314381270903
         },
         {
          "Func": "Gaussian(mu=-3, sigma=2)",
          "g(x)": 0.0022382569536331985,
          "x": 2.993311036789297
         },
         {
          "Func": "Gaussian(mu=-3, sigma=2)",
          "g(x)": 0.0020755286223929407,
          "x": 3.0434782608695663
         },
         {
          "Func": "Gaussian(mu=-3, sigma=2)",
          "g(x)": 0.0019234205802786983,
          "x": 3.0936454849498336
         },
         {
          "Func": "Gaussian(mu=-3, sigma=2)",
          "g(x)": 0.0017813388415742117,
          "x": 3.143812709030101
         },
         {
          "Func": "Gaussian(mu=-3, sigma=2)",
          "g(x)": 0.0016487149045804526,
          "x": 3.193979933110368
         },
         {
          "Func": "Gaussian(mu=-3, sigma=2)",
          "g(x)": 0.0015250052461259253,
          "x": 3.2441471571906355
         },
         {
          "Func": "Gaussian(mu=-3, sigma=2)",
          "g(x)": 0.001409690777968097,
          "x": 3.294314381270903
         },
         {
          "Func": "Gaussian(mu=-3, sigma=2)",
          "g(x)": 0.0013022762698958424,
          "x": 3.34448160535117
         },
         {
          "Func": "Gaussian(mu=-3, sigma=2)",
          "g(x)": 0.0012022897441243885,
          "x": 3.394648829431439
         },
         {
          "Func": "Gaussian(mu=-3, sigma=2)",
          "g(x)": 0.001109281845350047,
          "x": 3.4448160535117065
         },
         {
          "Func": "Gaussian(mu=-3, sigma=2)",
          "g(x)": 0.0010228251906035835,
          "x": 3.494983277591974
         },
         {
          "Func": "Gaussian(mu=-3, sigma=2)",
          "g(x)": 0.0009425137028101677,
          "x": 3.545150501672241
         },
         {
          "Func": "Gaussian(mu=-3, sigma=2)",
          "g(x)": 0.0008679619317315924,
          "x": 3.5953177257525084
         },
         {
          "Func": "Gaussian(mu=-3, sigma=2)",
          "g(x)": 0.0007988043657345122,
          "x": 3.6454849498327757
         },
         {
          "Func": "Gaussian(mu=-3, sigma=2)",
          "g(x)": 0.0007346947375979365,
          "x": 3.695652173913043
         },
         {
          "Func": "Gaussian(mu=-3, sigma=2)",
          "g(x)": 0.0006753053273452133,
          "x": 3.745819397993312
         },
         {
          "Func": "Gaussian(mu=-3, sigma=2)",
          "g(x)": 0.0006203262648614539,
          "x": 3.7959866220735794
         },
         {
          "Func": "Gaussian(mu=-3, sigma=2)",
          "g(x)": 0.0005694648348374656,
          "x": 3.8461538461538467
         },
         {
          "Func": "Gaussian(mu=-3, sigma=2)",
          "g(x)": 0.0005224447863669361,
          "x": 3.896321070234114
         },
         {
          "Func": "Gaussian(mu=-3, sigma=2)",
          "g(x)": 0.00047900564931519814,
          "x": 3.9464882943143813
         },
         {
          "Func": "Gaussian(mu=-3, sigma=2)",
          "g(x)": 0.0004389020593763791,
          "x": 3.9966555183946486
         },
         {
          "Func": "Gaussian(mu=-3, sigma=2)",
          "g(x)": 0.00040190309354141886,
          "x": 4.046822742474916
         },
         {
          "Func": "Gaussian(mu=-3, sigma=2)",
          "g(x)": 0.00036779161751287603,
          "x": 4.096989966555185
         },
         {
          "Func": "Gaussian(mu=-3, sigma=2)",
          "g(x)": 0.00033636364642400537,
          "x": 4.147157190635452
         },
         {
          "Func": "Gaussian(mu=-3, sigma=2)",
          "g(x)": 0.00030742772004949153,
          "x": 4.19732441471572
         },
         {
          "Func": "Gaussian(mu=-3, sigma=2)",
          "g(x)": 0.00028080429353384014,
          "x": 4.247491638795987
         },
         {
          "Func": "Gaussian(mu=-3, sigma=2)",
          "g(x)": 0.0002563251445106822,
          "x": 4.297658862876254
         },
         {
          "Func": "Gaussian(mu=-3, sigma=2)",
          "g(x)": 0.00023383279734244417,
          "x": 4.3478260869565215
         },
         {
          "Func": "Gaussian(mu=-3, sigma=2)",
          "g(x)": 0.00021317996507483683,
          "x": 4.397993311036789
         },
         {
          "Func": "Gaussian(mu=-3, sigma=2)",
          "g(x)": 0.0001942290095744621,
          "x": 4.448160535117058
         },
         {
          "Func": "Gaussian(mu=-3, sigma=2)",
          "g(x)": 0.00017685142020042657,
          "x": 4.498327759197325
         },
         {
          "Func": "Gaussian(mu=-3, sigma=2)",
          "g(x)": 0.0001609273112520398,
          "x": 4.5484949832775925
         },
         {
          "Func": "Gaussian(mu=-3, sigma=2)",
          "g(x)": 0.000146344938334333,
          "x": 4.59866220735786
         },
         {
          "Func": "Gaussian(mu=-3, sigma=2)",
          "g(x)": 0.00013300023369099937,
          "x": 4.648829431438127
         },
         {
          "Func": "Gaussian(mu=-3, sigma=2)",
          "g(x)": 0.00012079636047024044,
          "x": 4.698996655518394
         },
         {
          "Func": "Gaussian(mu=-3, sigma=2)",
          "g(x)": 0.0001096432858126243,
          "x": 4.749163879598662
         },
         {
          "Func": "Gaussian(mu=-3, sigma=2)",
          "g(x)": 9.945737258112281e-05,
          "x": 4.799331103678931
         },
         {
          "Func": "Gaussian(mu=-3, sigma=2)",
          "g(x)": 9.016098949171437e-05,
          "x": 4.849498327759198
         },
         {
          "Func": "Gaussian(mu=-3, sigma=2)",
          "g(x)": 8.16821393479683e-05,
          "x": 4.899665551839465
         },
         {
          "Func": "Gaussian(mu=-3, sigma=2)",
          "g(x)": 7.395410503457265e-05,
          "x": 4.949832775919733
         },
         {
          "Func": "Gaussian(mu=-3, sigma=2)",
          "g(x)": 6.691511288244268e-05,
          "x": 5
         },
         {
          "Func": "Gaussian(mu=-1, sigma=1.5)",
          "g(x)": 4.050588566548858e-09,
          "x": -10
         },
         {
          "Func": "Gaussian(mu=-1, sigma=1.5)",
          "g(x)": 4.947942403457782e-09,
          "x": -9.949832775919733
         },
         {
          "Func": "Gaussian(mu=-1, sigma=1.5)",
          "g(x)": 6.0373361315253555e-09,
          "x": -9.899665551839465
         },
         {
          "Func": "Gaussian(mu=-1, sigma=1.5)",
          "g(x)": 7.35834750572528e-09,
          "x": -9.849498327759198
         },
         {
          "Func": "Gaussian(mu=-1, sigma=1.5)",
          "g(x)": 8.958379355736244e-09,
          "x": -9.799331103678929
         },
         {
          "Func": "Gaussian(mu=-1, sigma=1.5)",
          "g(x)": 1.0894136739805424e-08,
          "x": -9.749163879598662
         },
         {
          "Func": "Gaussian(mu=-1, sigma=1.5)",
          "g(x)": 1.3233368687019318e-08,
          "x": -9.698996655518394
         },
         {
          "Func": "Gaussian(mu=-1, sigma=1.5)",
          "g(x)": 1.6056919123545205e-08,
          "x": -9.648829431438127
         },
         {
          "Func": "Gaussian(mu=-1, sigma=1.5)",
          "g(x)": 1.9461138567402323e-08,
          "x": -9.59866220735786
         },
         {
          "Func": "Gaussian(mu=-1, sigma=1.5)",
          "g(x)": 2.3560716165270958e-08,
          "x": -9.548494983277592
         },
         {
          "Func": "Gaussian(mu=-1, sigma=1.5)",
          "g(x)": 2.8492000760323374e-08,
          "x": -9.498327759197325
         },
         {
          "Func": "Gaussian(mu=-1, sigma=1.5)",
          "g(x)": 3.441689006186892e-08,
          "x": -9.448160535117056
         },
         {
          "Func": "Gaussian(mu=-1, sigma=1.5)",
          "g(x)": 4.1527378789788416e-08,
          "x": -9.397993311036789
         },
         {
          "Func": "Gaussian(mu=-1, sigma=1.5)",
          "g(x)": 5.005087005845211e-08,
          "x": -9.347826086956522
         },
         {
          "Func": "Gaussian(mu=-1, sigma=1.5)",
          "g(x)": 6.025636943128302e-08,
          "x": -9.297658862876254
         },
         {
          "Func": "Gaussian(mu=-1, sigma=1.5)",
          "g(x)": 7.246169822048067e-08,
          "x": -9.247491638795987
         },
         {
          "Func": "Gaussian(mu=-1, sigma=1.5)",
          "g(x)": 8.704188194646575e-08,
          "x": -9.19732441471572
         },
         {
          "Func": "Gaussian(mu=-1, sigma=1.5)",
          "g(x)": 1.044388916465688e-07,
          "x": -9.147157190635452
         },
         {
          "Func": "Gaussian(mu=-1, sigma=1.5)",
          "g(x)": 1.2517294018954691e-07,
          "x": -9.096989966555183
         },
         {
          "Func": "Gaussian(mu=-1, sigma=1.5)",
          "g(x)": 1.4985556318819494e-07,
          "x": -9.046822742474916
         },
         {
          "Func": "Gaussian(mu=-1, sigma=1.5)",
          "g(x)": 1.792047448027703e-07,
          "x": -8.996655518394649
         },
         {
          "Func": "Gaussian(mu=-1, sigma=1.5)",
          "g(x)": 2.1406238300874642e-07,
          "x": -8.946488294314381
         },
         {
          "Func": "Gaussian(mu=-1, sigma=1.5)",
          "g(x)": 2.5541442709843635e-07,
          "x": -8.896321070234114
         },
         {
          "Func": "Gaussian(mu=-1, sigma=1.5)",
          "g(x)": 3.0441406265052133e-07,
          "x": -8.846153846153847
         },
         {
          "Func": "Gaussian(mu=-1, sigma=1.5)",
          "g(x)": 3.624083663052199e-07,
          "x": -8.795986622073578
         },
         {
          "Func": "Gaussian(mu=-1, sigma=1.5)",
          "g(x)": 4.3096890481222794e-07,
          "x": -8.74581939799331
         },
         {
          "Func": "Gaussian(mu=-1, sigma=1.5)",
          "g(x)": 5.119268103739444e-07,
          "x": -8.695652173913043
         },
         {
          "Func": "Gaussian(mu=-1, sigma=1.5)",
          "g(x)": 6.074129276989184e-07,
          "x": -8.645484949832776
         },
         {
          "Func": "Gaussian(mu=-1, sigma=1.5)",
          "g(x)": 7.199036978289873e-07,
          "x": -8.595317725752508
         },
         {
          "Func": "Gaussian(mu=-1, sigma=1.5)",
          "g(x)": 8.52273520130128e-07,
          "x": -8.545150501672241
         },
         {
          "Func": "Gaussian(mu=-1, sigma=1.5)",
          "g(x)": 1.0078544172624886e-06,
          "x": -8.494983277591974
         },
         {
          "Func": "Gaussian(mu=-1, sigma=1.5)",
          "g(x)": 1.1905039188822758e-06,
          "x": -8.444816053511705
         },
         {
          "Func": "Gaussian(mu=-1, sigma=1.5)",
          "g(x)": 1.4046821786758677e-06,
          "x": -8.394648829431437
         },
         {
          "Func": "Gaussian(mu=-1, sigma=1.5)",
          "g(x)": 1.6555394464608145e-06,
          "x": -8.34448160535117
         },
         {
          "Func": "Gaussian(mu=-1, sigma=1.5)",
          "g(x)": 1.9490151328533625e-06,
          "x": -8.294314381270903
         },
         {
          "Func": "Gaussian(mu=-1, sigma=1.5)",
          "g(x)": 2.2919498287007452e-06,
          "x": -8.244147157190636
         },
         {
          "Func": "Gaussian(mu=-1, sigma=1.5)",
          "g(x)": 2.6922117753564504e-06,
          "x": -8.193979933110368
         },
         {
          "Func": "Gaussian(mu=-1, sigma=1.5)",
          "g(x)": 3.158839425120505e-06,
          "x": -8.143812709030101
         },
         {
          "Func": "Gaussian(mu=-1, sigma=1.5)",
          "g(x)": 3.702201883874672e-06,
          "x": -8.093645484949832
         },
         {
          "Func": "Gaussian(mu=-1, sigma=1.5)",
          "g(x)": 4.334179190117676e-06,
          "x": -8.043478260869565
         },
         {
          "Func": "Gaussian(mu=-1, sigma=1.5)",
          "g(x)": 5.068364556138991e-06,
          "x": -7.993311036789297
         },
         {
          "Func": "Gaussian(mu=-1, sigma=1.5)",
          "g(x)": 5.920290877716042e-06,
          "x": -7.94314381270903
         },
         {
          "Func": "Gaussian(mu=-1, sigma=1.5)",
          "g(x)": 6.907684008085758e-06,
          "x": -7.892976588628763
         },
         {
          "Func": "Gaussian(mu=-1, sigma=1.5)",
          "g(x)": 8.050745489457047e-06,
          "x": -7.842809364548495
         },
         {
          "Func": "Gaussian(mu=-1, sigma=1.5)",
          "g(x)": 9.372467640231183e-06,
          "x": -7.792642140468228
         },
         {
          "Func": "Gaussian(mu=-1, sigma=1.5)",
          "g(x)": 1.0898984107400659e-05,
          "x": -7.74247491638796
         },
         {
          "Func": "Gaussian(mu=-1, sigma=1.5)",
          "g(x)": 1.2659959210076392e-05,
          "x": -7.692307692307692
         },
         {
          "Func": "Gaussian(mu=-1, sigma=1.5)",
          "g(x)": 1.4689019620258244e-05,
          "x": -7.642140468227424
         },
         {
          "Func": "Gaussian(mu=-1, sigma=1.5)",
          "g(x)": 1.7024232149029412e-05,
          "x": -7.591973244147157
         },
         {
          "Func": "Gaussian(mu=-1, sigma=1.5)",
          "g(x)": 1.9708631628223684e-05,
          "x": -7.54180602006689
         },
         {
          "Func": "Gaussian(mu=-1, sigma=1.5)",
          "g(x)": 2.2790803096848528e-05,
          "x": -7.491638795986622
         },
         {
          "Func": "Gaussian(mu=-1, sigma=1.5)",
          "g(x)": 2.632552271534633e-05,
          "x": -7.441471571906355
         },
         {
          "Func": "Gaussian(mu=-1, sigma=1.5)",
          "g(x)": 3.0374462035957848e-05,
          "x": -7.391304347826087
         },
         {
          "Func": "Gaussian(mu=-1, sigma=1.5)",
          "g(x)": 3.500696045043396e-05,
          "x": -7.341137123745819
         },
         {
          "Func": "Gaussian(mu=-1, sigma=1.5)",
          "g(x)": 4.030087081312114e-05,
          "x": -7.290969899665551
         },
         {
          "Func": "Gaussian(mu=-1, sigma=1.5)",
          "g(x)": 4.6343483393588124e-05,
          "x": -7.240802675585284
         },
         {
          "Func": "Gaussian(mu=-1, sigma=1.5)",
          "g(x)": 5.32325334435991e-05,
          "x": -7.190635451505017
         },
         {
          "Func": "Gaussian(mu=-1, sigma=1.5)",
          "g(x)": 6.107729776305427e-05,
          "x": -7.1404682274247495
         },
         {
          "Func": "Gaussian(mu=-1, sigma=1.5)",
          "g(x)": 6.99997857127589e-05,
          "x": -7.090301003344481
         },
         {
          "Func": "Gaussian(mu=-1, sigma=1.5)",
          "g(x)": 8.013603014236581e-05,
          "x": -7.040133779264214
         },
         {
          "Func": "Gaussian(mu=-1, sigma=1.5)",
          "g(x)": 9.163748367295975e-05,
          "x": -6.989966555183946
         },
         {
          "Func": "Gaussian(mu=-1, sigma=1.5)",
          "g(x)": 0.00010467252568852479,
          "x": -6.9397993311036785
         },
         {
          "Func": "Gaussian(mu=-1, sigma=1.5)",
          "g(x)": 0.00011942808524163756,
          "x": -6.889632107023411
         },
         {
          "Func": "Gaussian(mu=-1, sigma=1.5)",
          "g(x)": 0.0001361113848584627,
          "x": -6.839464882943144
         },
         {
          "Func": "Gaussian(mu=-1, sigma=1.5)",
          "g(x)": 0.00015495180992864383,
          "x": -6.789297658862877
         },
         {
          "Func": "Gaussian(mu=-1, sigma=1.5)",
          "g(x)": 0.00017620290797883747,
          "x": -6.739130434782608
         },
         {
          "Func": "Gaussian(mu=-1, sigma=1.5)",
          "g(x)": 0.0002001445216462629,
          "x": -6.688963210702341
         },
         {
          "Func": "Gaussian(mu=-1, sigma=1.5)",
          "g(x)": 0.00022708505858251197,
          "x": -6.638795986622073
         },
         {
          "Func": "Gaussian(mu=-1, sigma=1.5)",
          "g(x)": 0.00025736390081983765,
          "x": -6.588628762541806
         },
         {
          "Func": "Gaussian(mu=-1, sigma=1.5)",
          "g(x)": 0.0002913539553143491,
          "x": -6.538461538461538
         },
         {
          "Func": "Gaussian(mu=-1, sigma=1.5)",
          "g(x)": 0.0003294643464353517,
          "x": -6.488294314381271
         },
         {
          "Func": "Gaussian(mu=-1, sigma=1.5)",
          "g(x)": 0.0003721432500904532,
          "x": -6.438127090301004
         },
         {
          "Func": "Gaussian(mu=-1, sigma=1.5)",
          "g(x)": 0.00041988086795555104,
          "x": -6.3879598662207355
         },
         {
          "Func": "Gaussian(mu=-1, sigma=1.5)",
          "g(x)": 0.0004732125389117842,
          "x": -6.337792642140468
         },
         {
          "Func": "Gaussian(mu=-1, sigma=1.5)",
          "g(x)": 0.0005327219832734332,
          "x": -6.2876254180602
         },
         {
          "Func": "Gaussian(mu=-1, sigma=1.5)",
          "g(x)": 0.0005990446737180157,
          "x": -6.237458193979933
         },
         {
          "Func": "Gaussian(mu=-1, sigma=1.5)",
          "g(x)": 0.0006728713250006192,
          "x": -6.187290969899665
         },
         {
          "Func": "Gaussian(mu=-1, sigma=1.5)",
          "g(x)": 0.0007549514925481594,
          "x": -6.137123745819398
         },
         {
          "Func": "Gaussian(mu=-1, sigma=1.5)",
          "g(x)": 0.0008460972678873705,
          "x": -6.086956521739131
         },
         {
          "Func": "Gaussian(mu=-1, sigma=1.5)",
          "g(x)": 0.0009471870565660796,
          "x": -6.036789297658863
         },
         {
          "Func": "Gaussian(mu=-1, sigma=1.5)",
          "g(x)": 0.001059169421786453,
          "x": -5.986622073578595
         },
         {
          "Func": "Gaussian(mu=-1, sigma=1.5)",
          "g(x)": 0.001183066974389465,
          "x": -5.936454849498328
         },
         {
          "Func": "Gaussian(mu=-1, sigma=1.5)",
          "g(x)": 0.001319980287122271,
          "x": -5.88628762541806
         },
         {
          "Func": "Gaussian(mu=-1, sigma=1.5)",
          "g(x)": 0.0014710918082982782,
          "x": -5.8361204013377925
         },
         {
          "Func": "Gaussian(mu=-1, sigma=1.5)",
          "g(x)": 0.0016376697470396426,
          "x": -5.785953177257525
         },
         {
          "Func": "Gaussian(mu=-1, sigma=1.5)",
          "g(x)": 0.001821071899293144,
          "x": -5.735785953177257
         },
         {
          "Func": "Gaussian(mu=-1, sigma=1.5)",
          "g(x)": 0.0020227493807559523,
          "x": -5.68561872909699
         },
         {
          "Func": "Gaussian(mu=-1, sigma=1.5)",
          "g(x)": 0.002244250229763376,
          "x": -5.635451505016722
         },
         {
          "Func": "Gaussian(mu=-1, sigma=1.5)",
          "g(x)": 0.0024872228401056243,
          "x": -5.585284280936455
         },
         {
          "Func": "Gaussian(mu=-1, sigma=1.5)",
          "g(x)": 0.002753419180687929,
          "x": -5.535117056856187
         },
         {
          "Func": "Gaussian(mu=-1, sigma=1.5)",
          "g(x)": 0.0030446977559633846,
          "x": -5.48494983277592
         },
         {
          "Func": "Gaussian(mu=-1, sigma=1.5)",
          "g(x)": 0.003363026258190412,
          "x": -5.434782608695652
         },
         {
          "Func": "Gaussian(mu=-1, sigma=1.5)",
          "g(x)": 0.003710483859838104,
          "x": -5.384615384615384
         },
         {
          "Func": "Gaussian(mu=-1, sigma=1.5)",
          "g(x)": 0.004089263091928718,
          "x": -5.334448160535117
         },
         {
          "Func": "Gaussian(mu=-1, sigma=1.5)",
          "g(x)": 0.00450167125181387,
          "x": -5.2842809364548495
         },
         {
          "Func": "Gaussian(mu=-1, sigma=1.5)",
          "g(x)": 0.004950131281879629,
          "x": -5.234113712374582
         },
         {
          "Func": "Gaussian(mu=-1, sigma=1.5)",
          "g(x)": 0.005437182059017029,
          "x": -5.183946488294314
         },
         {
          "Func": "Gaussian(mu=-1, sigma=1.5)",
          "g(x)": 0.005965478033431043,
          "x": -5.133779264214047
         },
         {
          "Func": "Gaussian(mu=-1, sigma=1.5)",
          "g(x)": 0.006537788154546469,
          "x": -5.083612040133779
         },
         {
          "Func": "Gaussian(mu=-1, sigma=1.5)",
          "g(x)": 0.007156994021456358,
          "x": -5.033444816053511
         },
         {
          "Func": "Gaussian(mu=-1, sigma=1.5)",
          "g(x)": 0.007826087195601591,
          "x": -4.983277591973244
         },
         {
          "Func": "Gaussian(mu=-1, sigma=1.5)",
          "g(x)": 0.00854816561421976,
          "x": -4.933110367892977
         },
         {
          "Func": "Gaussian(mu=-1, sigma=1.5)",
          "g(x)": 0.009326429044607268,
          "x": -4.882943143812709
         },
         {
          "Func": "Gaussian(mu=-1, sigma=1.5)",
          "g(x)": 0.010164173521448097,
          "x": -4.832775919732441
         },
         {
          "Func": "Gaussian(mu=-1, sigma=1.5)",
          "g(x)": 0.011064784712417633,
          "x": -4.782608695652174
         },
         {
          "Func": "Gaussian(mu=-1, sigma=1.5)",
          "g(x)": 0.012031730161009752,
          "x": -4.7324414715719065
         },
         {
          "Func": "Gaussian(mu=-1, sigma=1.5)",
          "g(x)": 0.013068550360091087,
          "x": -4.682274247491638
         },
         {
          "Func": "Gaussian(mu=-1, sigma=1.5)",
          "g(x)": 0.014178848615085607,
          "x": -4.632107023411371
         },
         {
          "Func": "Gaussian(mu=-1, sigma=1.5)",
          "g(x)": 0.015366279661952906,
          "x": -4.581939799331104
         },
         {
          "Func": "Gaussian(mu=-1, sigma=1.5)",
          "g(x)": 0.016634537012254615,
          "x": -4.5317725752508355
         },
         {
          "Func": "Gaussian(mu=-1, sigma=1.5)",
          "g(x)": 0.01798733900560685,
          "x": -4.481605351170568
         },
         {
          "Func": "Gaussian(mu=-1, sigma=1.5)",
          "g(x)": 0.01942841355868383,
          "x": -4.431438127090301
         },
         {
          "Func": "Gaussian(mu=-1, sigma=1.5)",
          "g(x)": 0.02096148160964539,
          "x": -4.381270903010034
         },
         {
          "Func": "Gaussian(mu=-1, sigma=1.5)",
          "g(x)": 0.022590239267382725,
          "x": -4.331103678929765
         },
         {
          "Func": "Gaussian(mu=-1, sigma=1.5)",
          "g(x)": 0.024318338686263916,
          "x": -4.280936454849498
         },
         {
          "Func": "Gaussian(mu=-1, sigma=1.5)",
          "g(x)": 0.02614936769906074,
          "x": -4.230769230769231
         },
         {
          "Func": "Gaussian(mu=-1, sigma=1.5)",
          "g(x)": 0.02808682825337965,
          "x": -4.180602006688963
         },
         {
          "Func": "Gaussian(mu=-1, sigma=1.5)",
          "g(x)": 0.030134113710124023,
          "x": -4.130434782608695
         },
         {
          "Func": "Gaussian(mu=-1, sigma=1.5)",
          "g(x)": 0.03229448507618484,
          "x": -4.080267558528428
         },
         {
          "Func": "Gaussian(mu=-1, sigma=1.5)",
          "g(x)": 0.034571046257585114,
          "x": -4.030100334448161
         },
         {
          "Func": "Gaussian(mu=-1, sigma=1.5)",
          "g(x)": 0.036966718433574554,
          "x": -3.9799331103678925
         },
         {
          "Func": "Gaussian(mu=-1, sigma=1.5)",
          "g(x)": 0.039484213666548494,
          "x": -3.9297658862876252
         },
         {
          "Func": "Gaussian(mu=-1, sigma=1.5)",
          "g(x)": 0.042126007877012234,
          "x": -3.879598662207358
         },
         {
          "Func": "Gaussian(mu=-1, sigma=1.5)",
          "g(x)": 0.0448943133269725,
          "x": -3.8294314381270897
         },
         {
          "Func": "Gaussian(mu=-1, sigma=1.5)",
          "g(x)": 0.047791050768956705,
          "x": -3.7792642140468224
         },
         {
          "Func": "Gaussian(mu=-1, sigma=1.5)",
          "g(x)": 0.05081782143116661,
          "x": -3.729096989966555
         },
         {
          "Func": "Gaussian(mu=-1, sigma=1.5)",
          "g(x)": 0.05397587902189436,
          "x": -3.678929765886288
         },
         {
          "Func": "Gaussian(mu=-1, sigma=1.5)",
          "g(x)": 0.05726610194809157,
          "x": -3.6287625418060196
         },
         {
          "Func": "Gaussian(mu=-1, sigma=1.5)",
          "g(x)": 0.060688965953704384,
          "x": -3.5785953177257523
         },
         {
          "Func": "Gaussian(mu=-1, sigma=1.5)",
          "g(x)": 0.06424451739289598,
          "x": -3.528428093645485
         },
         {
          "Func": "Gaussian(mu=-1, sigma=1.5)",
          "g(x)": 0.06793234736139318,
          "x": -3.478260869565217
         },
         {
          "Func": "Gaussian(mu=-1, sigma=1.5)",
          "g(x)": 0.07175156691575094,
          "x": -3.4280936454849495
         },
         {
          "Func": "Gaussian(mu=-1, sigma=1.5)",
          "g(x)": 0.07570078361516376,
          "x": -3.3779264214046822
         },
         {
          "Func": "Gaussian(mu=-1, sigma=1.5)",
          "g(x)": 0.07977807962341119,
          "x": -3.327759197324415
         },
         {
          "Func": "Gaussian(mu=-1, sigma=1.5)",
          "g(x)": 0.08398099160947341,
          "x": -3.2775919732441468
         },
         {
          "Func": "Gaussian(mu=-1, sigma=1.5)",
          "g(x)": 0.08830649268416167,
          "x": -3.2274247491638794
         },
         {
          "Func": "Gaussian(mu=-1, sigma=1.5)",
          "g(x)": 0.09275097660667583,
          "x": -3.177257525083612
         },
         {
          "Func": "Gaussian(mu=-1, sigma=1.5)",
          "g(x)": 0.09731024448923456,
          "x": -3.127090301003344
         },
         {
          "Func": "Gaussian(mu=-1, sigma=1.5)",
          "g(x)": 0.10197949421976608,
          "x": -3.0769230769230766
         },
         {
          "Func": "Gaussian(mu=-1, sigma=1.5)",
          "g(x)": 0.10675331281205362,
          "x": -3.0267558528428093
         },
         {
          "Func": "Gaussian(mu=-1, sigma=1.5)",
          "g(x)": 0.11162567187968085,
          "x": -2.976588628762542
         },
         {
          "Func": "Gaussian(mu=-1, sigma=1.5)",
          "g(x)": 0.11658992641464437,
          "x": -2.926421404682274
         },
         {
          "Func": "Gaussian(mu=-1, sigma=1.5)",
          "g(x)": 0.12163881703361654,
          "x": -2.8762541806020065
         },
         {
          "Func": "Gaussian(mu=-1, sigma=1.5)",
          "g(x)": 0.12676447583464057,
          "x": -2.8260869565217392
         },
         {
          "Func": "Gaussian(mu=-1, sigma=1.5)",
          "g(x)": 0.13195843598460352,
          "x": -2.775919732441471
         },
         {
          "Func": "Gaussian(mu=-1, sigma=1.5)",
          "g(x)": 0.1372116451333081,
          "x": -2.7257525083612038
         },
         {
          "Func": "Gaussian(mu=-1, sigma=1.5)",
          "g(x)": 0.14251448272350112,
          "x": -2.6755852842809364
         },
         {
          "Func": "Gaussian(mu=-1, sigma=1.5)",
          "g(x)": 0.1478567812380033,
          "x": -2.625418060200669
         },
         {
          "Func": "Gaussian(mu=-1, sigma=1.5)",
          "g(x)": 0.15322785139534822,
          "x": -2.575250836120401
         },
         {
          "Func": "Gaussian(mu=-1, sigma=1.5)",
          "g(x)": 0.15861651127430804,
          "x": -2.5250836120401337
         },
         {
          "Func": "Gaussian(mu=-1, sigma=1.5)",
          "g(x)": 0.1640111193156388,
          "x": -2.4749163879598663
         },
         {
          "Func": "Gaussian(mu=-1, sigma=1.5)",
          "g(x)": 0.16939961111660015,
          "x": -2.424749163879598
         },
         {
          "Func": "Gaussian(mu=-1, sigma=1.5)",
          "g(x)": 0.17476953990060437,
          "x": -2.374581939799331
         },
         {
          "Func": "Gaussian(mu=-1, sigma=1.5)",
          "g(x)": 0.1801081205110572,
          "x": -2.3244147157190636
         },
         {
          "Func": "Gaussian(mu=-1, sigma=1.5)",
          "g(x)": 0.18540227674539242,
          "x": -2.2742474916387954
         },
         {
          "Func": "Gaussian(mu=-1, sigma=1.5)",
          "g(x)": 0.19063869181283374,
          "x": -2.224080267558528
         },
         {
          "Func": "Gaussian(mu=-1, sigma=1.5)",
          "g(x)": 0.1958038616678844,
          "x": -2.1739130434782608
         },
         {
          "Func": "Gaussian(mu=-1, sigma=1.5)",
          "g(x)": 0.20088415094129233,
          "x": -2.1237458193979935
         },
         {
          "Func": "Gaussian(mu=-1, sigma=1.5)",
          "g(x)": 0.205865851161629,
          "x": -2.0735785953177253
         },
         {
          "Func": "Gaussian(mu=-1, sigma=1.5)",
          "g(x)": 0.2107352409339763,
          "x": -2.023411371237458
         },
         {
          "Func": "Gaussian(mu=-1, sigma=1.5)",
          "g(x)": 0.2154786477178737,
          "x": -1.9732441471571907
         },
         {
          "Func": "Gaussian(mu=-1, sigma=1.5)",
          "g(x)": 0.22008251082494062,
          "x": -1.9230769230769234
         },
         {
          "Func": "Gaussian(mu=-1, sigma=1.5)",
          "g(x)": 0.2245334452377501,
          "x": -1.872909698996656
         },
         {
          "Func": "Gaussian(mu=-1, sigma=1.5)",
          "g(x)": 0.2288183058358422,
          "x": -1.822742474916387
         },
         {
          "Func": "Gaussian(mu=-1, sigma=1.5)",
          "g(x)": 0.23292425160247096,
          "x": -1.7725752508361197
         },
         {
          "Func": "Gaussian(mu=-1, sigma=1.5)",
          "g(x)": 0.23683880937696966,
          "x": -1.7224080267558524
         },
         {
          "Func": "Gaussian(mu=-1, sigma=1.5)",
          "g(x)": 0.2405499367126586,
          "x": -1.672240802675585
         },
         {
          "Func": "Gaussian(mu=-1, sigma=1.5)",
          "g(x)": 0.24404608339913872,
          "x": -1.6220735785953178
         },
         {
          "Func": "Gaussian(mu=-1, sigma=1.5)",
          "g(x)": 0.2473162512106864,
          "x": -1.5719063545150505
         },
         {
          "Func": "Gaussian(mu=-1, sigma=1.5)",
          "g(x)": 0.2503500514493345,
          "x": -1.5217391304347831
         },
         {
          "Func": "Gaussian(mu=-1, sigma=1.5)",
          "g(x)": 0.2531377598620887,
          "x": -1.471571906354514
         },
         {
          "Func": "Gaussian(mu=-1, sigma=1.5)",
          "g(x)": 0.25567036852653063,
          "x": -1.4214046822742468
         },
         {
          "Func": "Gaussian(mu=-1, sigma=1.5)",
          "g(x)": 0.25793963431771355,
          "x": -1.3712374581939795
         },
         {
          "Func": "Gaussian(mu=-1, sigma=1.5)",
          "g(x)": 0.2599381235916151,
          "x": -1.3210702341137122
         },
         {
          "Func": "Gaussian(mu=-1, sigma=1.5)",
          "g(x)": 0.2616592527462978,
          "x": -1.2709030100334449
         },
         {
          "Func": "Gaussian(mu=-1, sigma=1.5)",
          "g(x)": 0.2630973243511158,
          "x": -1.2207357859531776
         },
         {
          "Func": "Gaussian(mu=-1, sigma=1.5)",
          "g(x)": 0.26424755856653076,
          "x": -1.1705685618729103
         },
         {
          "Func": "Gaussian(mu=-1, sigma=1.5)",
          "g(x)": 0.2651061196120615,
          "x": -1.1204013377926412
         },
         {
          "Func": "Gaussian(mu=-1, sigma=1.5)",
          "g(x)": 0.26567013707726167,
          "x": -1.0702341137123739
         },
         {
          "Func": "Gaussian(mu=-1, sigma=1.5)",
          "g(x)": 0.2659377219100275,
          "x": -1.0200668896321066
         },
         {
          "Func": "Gaussian(mu=-1, sigma=1.5)",
          "g(x)": 0.26590797695760454,
          "x": -0.9698996655518393
         },
         {
          "Func": "Gaussian(mu=-1, sigma=1.5)",
          "g(x)": 0.2655810019779781,
          "x": -0.919732441471572
         },
         {
          "Func": "Gaussian(mu=-1, sigma=1.5)",
          "g(x)": 0.2649578930824707,
          "x": -0.8695652173913047
         },
         {
          "Func": "Gaussian(mu=-1, sigma=1.5)",
          "g(x)": 0.2640407366139053,
          "x": -0.8193979933110374
         },
         {
          "Func": "Gaussian(mu=-1, sigma=1.5)",
          "g(x)": 0.26283259750818433,
          "x": -0.7692307692307683
         },
         {
          "Func": "Gaussian(mu=-1, sigma=1.5)",
          "g(x)": 0.261337502230143,
          "x": -0.719063545150501
         },
         {
          "Func": "Gaussian(mu=-1, sigma=1.5)",
          "g(x)": 0.25956041641663363,
          "x": -0.6688963210702337
         },
         {
          "Func": "Gaussian(mu=-1, sigma=1.5)",
          "g(x)": 0.2575072174005669,
          "x": -0.6187290969899664
         },
         {
          "Func": "Gaussian(mu=-1, sigma=1.5)",
          "g(x)": 0.2551846618286641,
          "x": -0.5685618729096991
         },
         {
          "Func": "Gaussian(mu=-1, sigma=1.5)",
          "g(x)": 0.25260034862259223,
          "x": -0.5183946488294318
         },
         {
          "Func": "Gaussian(mu=-1, sigma=1.5)",
          "g(x)": 0.2497626775675922,
          "x": -0.46822742474916446
         },
         {
          "Func": "Gaussian(mu=-1, sigma=1.5)",
          "g(x)": 0.2466808038443522,
          "x": -0.4180602006688954
         },
         {
          "Func": "Gaussian(mu=-1, sigma=1.5)",
          "g(x)": 0.24336458884842488,
          "x": -0.3678929765886281
         },
         {
          "Func": "Gaussian(mu=-1, sigma=1.5)",
          "g(x)": 0.2398245476666815,
          "x": -0.31772575250836077
         },
         {
          "Func": "Gaussian(mu=-1, sigma=1.5)",
          "g(x)": 0.23607179360193392,
          "x": -0.26755852842809347
         },
         {
          "Func": "Gaussian(mu=-1, sigma=1.5)",
          "g(x)": 0.23211798015474142,
          "x": -0.21739130434782616
         },
         {
          "Func": "Gaussian(mu=-1, sigma=1.5)",
          "g(x)": 0.22797524088544552,
          "x": -0.16722408026755886
         },
         {
          "Func": "Gaussian(mu=-1, sigma=1.5)",
          "g(x)": 0.22365612758954156,
          "x": -0.11705685618729156
         },
         {
          "Func": "Gaussian(mu=-1, sigma=1.5)",
          "g(x)": 0.2191735472255643,
          "x": -0.06688963210702248
         },
         {
          "Func": "Gaussian(mu=-1, sigma=1.5)",
          "g(x)": 0.21454069803674525,
          "x": -0.016722408026755176
         },
         {
          "Func": "Gaussian(mu=-1, sigma=1.5)",
          "g(x)": 0.20977100530582718,
          "x": 0.03344481605351213
         },
         {
          "Func": "Gaussian(mu=-1, sigma=1.5)",
          "g(x)": 0.2048780571767101,
          "x": 0.08361204013377943
         },
         {
          "Func": "Gaussian(mu=-1, sigma=1.5)",
          "g(x)": 0.19987554096715318,
          "x": 0.13377926421404673
         },
         {
          "Func": "Gaussian(mu=-1, sigma=1.5)",
          "g(x)": 0.19477718038377245,
          "x": 0.18394648829431404
         },
         {
          "Func": "Gaussian(mu=-1, sigma=1.5)",
          "g(x)": 0.18959667403423477,
          "x": 0.23411371237458134
         },
         {
          "Func": "Gaussian(mu=-1, sigma=1.5)",
          "g(x)": 0.18434763561210768,
          "x": 0.2842809364548504
         },
         {
          "Func": "Gaussian(mu=-1, sigma=1.5)",
          "g(x)": 0.17904353610754525,
          "x": 0.3344481605351177
         },
         {
          "Func": "Gaussian(mu=-1, sigma=1.5)",
          "g(x)": 0.1736976483721567,
          "x": 0.384615384615385
         },
         {
          "Func": "Gaussian(mu=-1, sigma=1.5)",
          "g(x)": 0.16832299433935047,
          "x": 0.43478260869565233
         },
         {
          "Func": "Gaussian(mu=-1, sigma=1.5)",
          "g(x)": 0.16293229517246974,
          "x": 0.48494983277591963
         },
         {
          "Func": "Gaussian(mu=-1, sigma=1.5)",
          "g(x)": 0.15753792458250712,
          "x": 0.5351170568561869
         },
         {
          "Func": "Gaussian(mu=-1, sigma=1.5)",
          "g(x)": 0.15215186552543447,
          "x": 0.5852842809364542
         },
         {
          "Func": "Gaussian(mu=-1, sigma=1.5)",
          "g(x)": 0.14678567045656798,
          "x": 0.6354515050167233
         },
         {
          "Func": "Gaussian(mu=-1, sigma=1.5)",
          "g(x)": 0.14145042528625887,
          "x": 0.6856187290969906
         },
         {
          "Func": "Gaussian(mu=-1, sigma=1.5)",
          "g(x)": 0.13615671714789207,
          "x": 0.7357859531772579
         },
         {
          "Func": "Gaussian(mu=-1, sigma=1.5)",
          "g(x)": 0.13091460605604302,
          "x": 0.7859531772575252
         },
         {
          "Func": "Gaussian(mu=-1, sigma=1.5)",
          "g(x)": 0.12573360049998006,
          "x": 0.8361204013377925
         },
         {
          "Func": "Gaussian(mu=-1, sigma=1.5)",
          "g(x)": 0.12062263698583904,
          "x": 0.8862876254180598
         },
         {
          "Func": "Gaussian(mu=-1, sigma=1.5)",
          "g(x)": 0.11559006351000443,
          "x": 0.9364548494983289
         },
         {
          "Func": "Gaussian(mu=-1, sigma=1.5)",
          "g(x)": 0.11064362691677927,
          "x": 0.9866220735785962
         },
         {
          "Func": "Gaussian(mu=-1, sigma=1.5)",
          "g(x)": 0.10579046406554628,
          "x": 1.0367892976588635
         },
         {
          "Func": "Gaussian(mu=-1, sigma=1.5)",
          "g(x)": 0.10103709670653697,
          "x": 1.0869565217391308
         },
         {
          "Func": "Gaussian(mu=-1, sigma=1.5)",
          "g(x)": 0.09638942994020017,
          "x": 1.1371237458193981
         },
         {
          "Func": "Gaussian(mu=-1, sigma=1.5)",
          "g(x)": 0.091852754113168,
          "x": 1.1872909698996654
         },
         {
          "Func": "Gaussian(mu=-1, sigma=1.5)",
          "g(x)": 0.0874317499840698,
          "x": 1.2374581939799327
         },
         {
          "Func": "Gaussian(mu=-1, sigma=1.5)",
          "g(x)": 0.08313049697503834,
          "x": 1.2876254180602018
         },
         {
          "Func": "Gaussian(mu=-1, sigma=1.5)",
          "g(x)": 0.07895248430975718,
          "x": 1.3377926421404691
         },
         {
          "Func": "Gaussian(mu=-1, sigma=1.5)",
          "g(x)": 0.07490062482633911,
          "x": 1.3879598662207364
         },
         {
          "Func": "Gaussian(mu=-1, sigma=1.5)",
          "g(x)": 0.07097727124322525,
          "x": 1.4381270903010037
         },
         {
          "Func": "Gaussian(mu=-1, sigma=1.5)",
          "g(x)": 0.06718423464861308,
          "x": 1.488294314381271
         },
         {
          "Func": "Gaussian(mu=-1, sigma=1.5)",
          "g(x)": 0.06352280497863229,
          "x": 1.5384615384615383
         },
         {
          "Func": "Gaussian(mu=-1, sigma=1.5)",
          "g(x)": 0.05999377324650856,
          "x": 1.5886287625418056
         },
         {
          "Func": "Gaussian(mu=-1, sigma=1.5)",
          "g(x)": 0.0565974552842022,
          "x": 1.6387959866220747
         },
         {
          "Func": "Gaussian(mu=-1, sigma=1.5)",
          "g(x)": 0.05333371675936908,
          "x": 1.688963210702342
         },
         {
          "Func": "Gaussian(mu=-1, sigma=1.5)",
          "g(x)": 0.05020199923383559,
          "x": 1.7391304347826093
         },
         {
          "Func": "Gaussian(mu=-1, sigma=1.5)",
          "g(x)": 0.047201347034974986,
          "x": 1.7892976588628766
         },
         {
          "Func": "Gaussian(mu=-1, sigma=1.5)",
          "g(x)": 0.04433043471824957,
          "x": 1.839464882943144
         },
         {
          "Func": "Gaussian(mu=-1, sigma=1.5)",
          "g(x)": 0.04158759490759464,
          "x": 1.8896321070234112
         },
         {
          "Func": "Gaussian(mu=-1, sigma=1.5)",
          "g(x)": 0.03897084631008343,
          "x": 1.9397993311036785
         },
         {
          "Func": "Gaussian(mu=-1, sigma=1.5)",
          "g(x)": 0.03647792171225817,
          "x": 1.9899665551839476
         },
         {
          "Func": "Gaussian(mu=-1, sigma=1.5)",
          "g(x)": 0.03410629577746001,
          "x": 2.040133779264215
         },
         {
          "Func": "Gaussian(mu=-1, sigma=1.5)",
          "g(x)": 0.03185321247626245,
          "x": 2.090301003344482
         },
         {
          "Func": "Gaussian(mu=-1, sigma=1.5)",
          "g(x)": 0.029715711995538116,
          "x": 2.1404682274247495
         },
         {
          "Func": "Gaussian(mu=-1, sigma=1.5)",
          "g(x)": 0.027690656985584584,
          "x": 2.190635451505017
         },
         {
          "Func": "Gaussian(mu=-1, sigma=1.5)",
          "g(x)": 0.025774758018949226,
          "x": 2.240802675585284
         },
         {
          "Func": "Gaussian(mu=-1, sigma=1.5)",
          "g(x)": 0.023964598148956028,
          "x": 2.2909698996655514
         },
         {
          "Func": "Gaussian(mu=-1, sigma=1.5)",
          "g(x)": 0.02225665647030565,
          "x": 2.3411371237458205
         },
         {
          "Func": "Gaussian(mu=-1, sigma=1.5)",
          "g(x)": 0.02064733059835191,
          "x": 2.391304347826088
         },
         {
          "Func": "Gaussian(mu=-1, sigma=1.5)",
          "g(x)": 0.019132957997623573,
          "x": 2.441471571906355
         },
         {
          "Func": "Gaussian(mu=-1, sigma=1.5)",
          "g(x)": 0.017709836103746785,
          "x": 2.4916387959866224
         },
         {
          "Func": "Gaussian(mu=-1, sigma=1.5)",
          "g(x)": 0.01637424119602024,
          "x": 2.5418060200668897
         },
         {
          "Func": "Gaussian(mu=-1, sigma=1.5)",
          "g(x)": 0.015122445990415699,
          "x": 2.591973244147157
         },
         {
          "Func": "Gaussian(mu=-1, sigma=1.5)",
          "g(x)": 0.013950735934638721,
          "x": 2.6421404682274243
         },
         {
          "Func": "Gaussian(mu=-1, sigma=1.5)",
          "g(x)": 0.012855424198022684,
          "x": 2.6923076923076934
         },
         {
          "Func": "Gaussian(mu=-1, sigma=1.5)",
          "g(x)": 0.011832865359390652,
          "x": 2.7424749163879607
         },
         {
          "Func": "Gaussian(mu=-1, sigma=1.5)",
          "g(x)": 0.010879467805561668,
          "x": 2.792642140468228
         },
         {
          "Func": "Gaussian(mu=-1, sigma=1.5)",
          "g(x)": 0.00999170486187414,
          "x": 2.8428093645484953
         },
         {
          "Func": "Gaussian(mu=-1, sigma=1.5)",
          "g(x)": 0.009166124683927497,
          "x": 2.8929765886287626
         },
         {
          "Func": "Gaussian(mu=-1, sigma=1.5)",
          "g(x)": 0.008399358946700504,
          "x": 2.94314381270903
         },
         {
          "Func": "Gaussian(mu=-1, sigma=1.5)",
          "g(x)": 0.007688130373291439,
          "x": 2.993311036789297
         },
         {
          "Func": "Gaussian(mu=-1, sigma=1.5)",
          "g(x)": 0.0070292591507537866,
          "x": 3.0434782608695663
         },
         {
          "Func": "Gaussian(mu=-1, sigma=1.5)",
          "g(x)": 0.006419668284892,
          "x": 3.0936454849498336
         },
         {
          "Func": "Gaussian(mu=-1, sigma=1.5)",
          "g(x)": 0.00585638794946094,
          "x": 3.143812709030101
         },
         {
          "Func": "Gaussian(mu=-1, sigma=1.5)",
          "g(x)": 0.005336558888016501,
          "x": 3.193979933110368
         },
         {
          "Func": "Gaussian(mu=-1, sigma=1.5)",
          "g(x)": 0.0048574349287289105,
          "x": 3.2441471571906355
         },
         {
          "Func": "Gaussian(mu=-1, sigma=1.5)",
          "g(x)": 0.004416384673841715,
          "x": 3.294314381270903
         },
         {
          "Func": "Gaussian(mu=-1, sigma=1.5)",
          "g(x)": 0.004010892426183295,
          "x": 3.34448160535117
         },
         {
          "Func": "Gaussian(mu=-1, sigma=1.5)",
          "g(x)": 0.0036385584152654085,
          "x": 3.394648829431439
         },
         {
          "Func": "Gaussian(mu=-1, sigma=1.5)",
          "g(x)": 0.0032970983850859623,
          "x": 3.4448160535117065
         },
         {
          "Func": "Gaussian(mu=-1, sigma=1.5)",
          "g(x)": 0.0029843426048442624,
          "x": 3.494983277591974
         },
         {
          "Func": "Gaussian(mu=-1, sigma=1.5)",
          "g(x)": 0.002698234362430674,
          "x": 3.545150501672241
         },
         {
          "Func": "Gaussian(mu=-1, sigma=1.5)",
          "g(x)": 0.002436827998820772,
          "x": 3.5953177257525084
         },
         {
          "Func": "Gaussian(mu=-1, sigma=1.5)",
          "g(x)": 0.0021982865394406053,
          "x": 3.6454849498327757
         },
         {
          "Func": "Gaussian(mu=-1, sigma=1.5)",
          "g(x)": 0.0019808789762248554,
          "x": 3.695652173913043
         },
         {
          "Func": "Gaussian(mu=-1, sigma=1.5)",
          "g(x)": 0.0017829772515128746,
          "x": 3.745819397993312
         },
         {
          "Func": "Gaussian(mu=-1, sigma=1.5)",
          "g(x)": 0.0016030529921658514,
          "x": 3.7959866220735794
         },
         {
          "Func": "Gaussian(mu=-1, sigma=1.5)",
          "g(x)": 0.001439674039385893,
          "x": 3.8461538461538467
         },
         {
          "Func": "Gaussian(mu=-1, sigma=1.5)",
          "g(x)": 0.00129150081671656,
          "x": 3.896321070234114
         },
         {
          "Func": "Gaussian(mu=-1, sigma=1.5)",
          "g(x)": 0.001157282575642123,
          "x": 3.9464882943143813
         },
         {
          "Func": "Gaussian(mu=-1, sigma=1.5)",
          "g(x)": 0.0010358535551156331,
          "x": 3.9966555183946486
         },
         {
          "Func": "Gaussian(mu=-1, sigma=1.5)",
          "g(x)": 0.0009261290882651232,
          "x": 4.046822742474916
         },
         {
          "Func": "Gaussian(mu=-1, sigma=1.5)",
          "g(x)": 0.0008271016864819378,
          "x": 4.096989966555185
         },
         {
          "Func": "Gaussian(mu=-1, sigma=1.5)",
          "g(x)": 0.0007378371281105697,
          "x": 4.147157190635452
         },
         {
          "Func": "Gaussian(mu=-1, sigma=1.5)",
          "g(x)": 0.0006574705760573451,
          "x": 4.19732441471572
         },
         {
          "Func": "Gaussian(mu=-1, sigma=1.5)",
          "g(x)": 0.0005852027458351716,
          "x": 4.247491638795987
         },
         {
          "Func": "Gaussian(mu=-1, sigma=1.5)",
          "g(x)": 0.0005202961428785827,
          "x": 4.297658862876254
         },
         {
          "Func": "Gaussian(mu=-1, sigma=1.5)",
          "g(x)": 0.0004620713854108267,
          "x": 4.3478260869565215
         },
         {
          "Func": "Gaussian(mu=-1, sigma=1.5)",
          "g(x)": 0.0004099036267326565,
          "x": 4.397993311036789
         },
         {
          "Func": "Gaussian(mu=-1, sigma=1.5)",
          "g(x)": 0.0003632190885383198,
          "x": 4.448160535117058
         },
         {
          "Func": "Gaussian(mu=-1, sigma=1.5)",
          "g(x)": 0.00032149171475326875,
          "x": 4.498327759197325
         },
         {
          "Func": "Gaussian(mu=-1, sigma=1.5)",
          "g(x)": 0.00028423995343311505,
          "x": 4.5484949832775925
         },
         {
          "Func": "Gaussian(mu=-1, sigma=1.5)",
          "g(x)": 0.0002510236724655815,
          "x": 4.59866220735786
         },
         {
          "Func": "Gaussian(mu=-1, sigma=1.5)",
          "g(x)": 0.00022144121317555133,
          "x": 4.648829431438127
         },
         {
          "Func": "Gaussian(mu=-1, sigma=1.5)",
          "g(x)": 0.00019512658444577753,
          "x": 4.698996655518394
         },
         {
          "Func": "Gaussian(mu=-1, sigma=1.5)",
          "g(x)": 0.00017174679862848,
          "x": 4.749163879598662
         },
         {
          "Func": "Gaussian(mu=-1, sigma=1.5)",
          "g(x)": 0.00015099934933120851,
          "x": 4.799331103678931
         },
         {
          "Func": "Gaussian(mu=-1, sigma=1.5)",
          "g(x)": 0.00013260983010816374,
          "x": 4.849498327759198
         },
         {
          "Func": "Gaussian(mu=-1, sigma=1.5)",
          "g(x)": 0.00011632969216902548,
          "x": 4.899665551839465
         },
         {
          "Func": "Gaussian(mu=-1, sigma=1.5)",
          "g(x)": 0.00010193413842414434,
          "x": 4.949832775919733
         },
         {
          "Func": "Gaussian(mu=-1, sigma=1.5)",
          "g(x)": 8.922015050992358e-05,
          "x": 5
         },
         {
          "Func": "Gaussian(mu=1, sigma=1)",
          "g(x)": 2.1188192535093538e-27,
          "x": -10
         },
         {
          "Func": "Gaussian(mu=1, sigma=1)",
          "g(x)": 3.6745845083895764e-27,
          "x": -9.949832775919733
         },
         {
          "Func": "Gaussian(mu=1, sigma=1)",
          "g(x)": 6.356668419278636e-27,
          "x": -9.899665551839465
         },
         {
          "Func": "Gaussian(mu=1, sigma=1)",
          "g(x)": 1.0968768372053055e-26,
          "x": -9.849498327759198
         },
         {
          "Func": "Gaussian(mu=1, sigma=1)",
          "g(x)": 1.887961623908237e-26,
          "x": -9.799331103678929
         },
         {
          "Func": "Gaussian(mu=1, sigma=1)",
          "g(x)": 3.241421050252689e-26,
          "x": -9.749163879598662
         },
         {
          "Func": "Gaussian(mu=1, sigma=1)",
          "g(x)": 5.551172502978378e-26,
          "x": -9.698996655518394
         },
         {
          "Func": "Gaussian(mu=1, sigma=1)",
          "g(x)": 9.48289599868375e-26,
          "x": -9.648829431438127
         },
         {
          "Func": "Gaussian(mu=1, sigma=1)",
          "g(x)": 1.6158619004559983e-25,
          "x": -9.59866220735786
         },
         {
          "Func": "Gaussian(mu=1, sigma=1)",
          "g(x)": 2.746467623706345e-25,
          "x": -9.548494983277592
         },
         {
          "Func": "Gaussian(mu=1, sigma=1)",
          "g(x)": 4.656415387043138e-25,
          "x": -9.498327759197325
         },
         {
          "Func": "Gaussian(mu=1, sigma=1)",
          "g(x)": 7.874734799240411e-25,
          "x": -9.448160535117056
         },
         {
          "Func": "Gaussian(mu=1, sigma=1)",
          "g(x)": 1.3283947394787591e-24,
          "x": -9.397993311036789
         },
         {
          "Func": "Gaussian(mu=1, sigma=1)",
          "g(x)": 2.2352461041195113e-24,
          "x": -9.347826086956522
         },
         {
          "Func": "Gaussian(mu=1, sigma=1)",
          "g(x)": 3.7517210094825875e-24,
          "x": -9.297658862876254
         },
         {
          "Func": "Gaussian(mu=1, sigma=1)",
          "g(x)": 6.2812013192213e-24,
          "x": -9.247491638795987
         },
         {
          "Func": "Gaussian(mu=1, sigma=1)",
          "g(x)": 1.0489671319520203e-23,
          "x": -9.19732441471572
         },
         {
          "Func": "Gaussian(mu=1, sigma=1)",
          "g(x)": 1.7473827201239665e-23,
          "x": -9.147157190635452
         },
         {
          "Func": "Gaussian(mu=1, sigma=1)",
          "g(x)": 2.90349566644352e-23,
          "x": -9.096989966555183
         },
         {
          "Func": "Gaussian(mu=1, sigma=1)",
          "g(x)": 4.812395553948639e-23,
          "x": -9.046822742474916
         },
         {
          "Func": "Gaussian(mu=1, sigma=1)",
          "g(x)": 7.95625036288226e-23,
          "x": -8.996655518394649
         },
         {
          "Func": "Gaussian(mu=1, sigma=1)",
          "g(x)": 1.3120867623794868e-22,
          "x": -8.946488294314381
         },
         {
          "Func": "Gaussian(mu=1, sigma=1)",
          "g(x)": 2.158358869086507e-22,
          "x": -8.896321070234114
         },
         {
          "Func": "Gaussian(mu=1, sigma=1)",
          "g(x)": 3.5415367092107826e-22,
          "x": -8.846153846153847
         },
         {
          "Func": "Gaussian(mu=1, sigma=1)",
          "g(x)": 5.796513190610198e-22,
          "x": -8.795986622073578
         },
         {
          "Func": "Gaussian(mu=1, sigma=1)",
          "g(x)": 9.463437068087063e-22,
          "x": -8.74581939799331
         },
         {
          "Func": "Gaussian(mu=1, sigma=1)",
          "g(x)": 1.541125326273688e-21,
          "x": -8.695652173913043
         },
         {
          "Func": "Gaussian(mu=1, sigma=1)",
          "g(x)": 2.503421662097056e-21,
          "x": -8.645484949832776
         },
         {
          "Func": "Gaussian(mu=1, sigma=1)",
          "g(x)": 4.056365155042644e-21,
          "x": -8.595317725752508
         },
         {
          "Func": "Gaussian(mu=1, sigma=1)",
          "g(x)": 6.556122657363087e-21,
          "x": -8.545150501672241
         },
         {
          "Func": "Gaussian(mu=1, sigma=1)",
          "g(x)": 1.0569734684835269e-20,
          "x": -8.494983277591974
         },
         {
          "Func": "Gaussian(mu=1, sigma=1)",
          "g(x)": 1.6997619032474786e-20,
          "x": -8.444816053511705
         },
         {
          "Func": "Gaussian(mu=1, sigma=1)",
          "g(x)": 2.726585278410908e-20,
          "x": -8.394648829431437
         },
         {
          "Func": "Gaussian(mu=1, sigma=1)",
          "g(x)": 4.362717270014047e-20,
          "x": -8.34448160535117
         },
         {
          "Func": "Gaussian(mu=1, sigma=1)",
          "g(x)": 6.963090531887058e-20,
          "x": -8.294314381270903
         },
         {
          "Func": "Gaussian(mu=1, sigma=1)",
          "g(x)": 1.1085467261554486e-19,
          "x": -8.244147157190636
         },
         {
          "Func": "Gaussian(mu=1, sigma=1)",
          "g(x)": 1.7604064650972985e-19,
          "x": -8.193979933110368
         },
         {
          "Func": "Gaussian(mu=1, sigma=1)",
          "g(x)": 2.7885529483302373e-19,
          "x": -8.143812709030101
         },
         {
          "Func": "Gaussian(mu=1, sigma=1)",
          "g(x)": 4.406074384164243e-19,
          "x": -8.093645484949832
         },
         {
          "Func": "Gaussian(mu=1, sigma=1)",
          "g(x)": 6.944352270513515e-19,
          "x": -8.043478260869565
         },
         {
          "Func": "Gaussian(mu=1, sigma=1)",
          "g(x)": 1.0917385640731103e-18,
          "x": -7.993311036789297
         },
         {
          "Func": "Gaussian(mu=1, sigma=1)",
          "g(x)": 1.7120346436475454e-18,
          "x": -7.94314381270903
         },
         {
          "Func": "Gaussian(mu=1, sigma=1)",
          "g(x)": 2.6780176493355866e-18,
          "x": -7.892976588628763
         },
         {
          "Func": "Gaussian(mu=1, sigma=1)",
          "g(x)": 4.178508696953052e-18,
          "x": -7.842809364548495
         },
         {
          "Func": "Gaussian(mu=1, sigma=1)",
          "g(x)": 6.503335736656139e-18,
          "x": -7.792642140468228
         },
         {
          "Func": "Gaussian(mu=1, sigma=1)",
          "g(x)": 1.0096201952842622e-17,
          "x": -7.74247491638796
         },
         {
          "Func": "Gaussian(mu=1, sigma=1)",
          "g(x)": 1.563460351553965e-17,
          "x": -7.692307692307692
         },
         {
          "Func": "Gaussian(mu=1, sigma=1)",
          "g(x)": 2.4150309708891382e-17,
          "x": -7.642140468227424
         },
         {
          "Func": "Gaussian(mu=1, sigma=1)",
          "g(x)": 3.721050175267159e-17,
          "x": -7.591973244147157
         },
         {
          "Func": "Gaussian(mu=1, sigma=1)",
          "g(x)": 5.71893732316565e-17,
          "x": -7.54180602006689
         },
         {
          "Func": "Gaussian(mu=1, sigma=1)",
          "g(x)": 8.767426562932699e-17,
          "x": -7.491638795986622
         },
         {
          "Func": "Gaussian(mu=1, sigma=1)",
          "g(x)": 1.3407133258507787e-16,
          "x": -7.441471571906355
         },
         {
          "Func": "Gaussian(mu=1, sigma=1)",
          "g(x)": 2.0450630611706115e-16,
          "x": -7.391304347826087
         },
         {
          "Func": "Gaussian(mu=1, sigma=1)",
          "g(x)": 3.11160508057559e-16,
          "x": -7.341137123745819
         },
         {
          "Func": "Gaussian(mu=1, sigma=1)",
          "g(x)": 4.722470228161888e-16,
          "x": -7.290969899665551
         },
         {
          "Func": "Gaussian(mu=1, sigma=1)",
          "g(x)": 7.149258076041352e-16,
          "x": -7.240802675585284
         },
         {
          "Func": "Gaussian(mu=1, sigma=1)",
          "g(x)": 1.0795921295491765e-15,
          "x": -7.190635451505017
         },
         {
          "Func": "Gaussian(mu=1, sigma=1)",
          "g(x)": 1.6261680878594446e-15,
          "x": -7.1404682274247495
         },
         {
          "Func": "Gaussian(mu=1, sigma=1)",
          "g(x)": 2.4433076103417557e-15,
          "x": -7.090301003344481
         },
         {
          "Func": "Gaussian(mu=1, sigma=1)",
          "g(x)": 3.6618272353866415e-15,
          "x": -7.040133779264214
         },
         {
          "Func": "Gaussian(mu=1, sigma=1)",
          "g(x)": 5.4742489336670865e-15,
          "x": -6.989966555183946
         },
         {
          "Func": "Gaussian(mu=1, sigma=1)",
          "g(x)": 8.163158397528206e-15,
          "x": -6.9397993311036785
         },
         {
          "Func": "Gaussian(mu=1, sigma=1)",
          "g(x)": 1.2142242270655484e-14,
          "x": -6.889632107023411
         },
         {
          "Func": "Gaussian(mu=1, sigma=1)",
          "g(x)": 1.801550968860924e-14,
          "x": -6.839464882943144
         },
         {
          "Func": "Gaussian(mu=1, sigma=1)",
          "g(x)": 2.666252049614346e-14,
          "x": -6.789297658862877
         },
         {
          "Func": "Gaussian(mu=1, sigma=1)",
          "g(x)": 3.936070243398845e-14,
          "x": -6.739130434782608
         },
         {
          "Func": "Gaussian(mu=1, sigma=1)",
          "g(x)": 5.796041247302552e-14,
          "x": -6.688963210702341
         },
         {
          "Func": "Gaussian(mu=1, sigma=1)",
          "g(x)": 8.513479288524245e-14,
          "x": -6.638795986622073
         },
         {
          "Func": "Gaussian(mu=1, sigma=1)",
          "g(x)": 1.2473539004027193e-13,
          "x": -6.588628762541806
         },
         {
          "Func": "Gaussian(mu=1, sigma=1)",
          "g(x)": 1.8229690030460817e-13,
          "x": -6.538461538461538
         },
         {
          "Func": "Gaussian(mu=1, sigma=1)",
          "g(x)": 2.6575158788398706e-13,
          "x": -6.488294314381271
         },
         {
          "Func": "Gaussian(mu=1, sigma=1)",
          "g(x)": 3.8643765791863885e-13,
          "x": -6.438127090301004
         },
         {
          "Func": "Gaussian(mu=1, sigma=1)",
          "g(x)": 5.605185678507199e-13,
          "x": -6.3879598662207355
         },
         {
          "Func": "Gaussian(mu=1, sigma=1)",
          "g(x)": 8.109751659911131e-13,
          "x": -6.337792642140468
         },
         {
          "Func": "Gaussian(mu=1, sigma=1)",
          "g(x)": 1.170394025148468e-12,
          "x": -6.2876254180602
         },
         {
          "Func": "Gaussian(mu=1, sigma=1)",
          "g(x)": 1.6848592479143252e-12,
          "x": -6.237458193979933
         },
         {
          "Func": "Gaussian(mu=1, sigma=1)",
          "g(x)": 2.4193691871524036e-12,
          "x": -6.187290969899665
         },
         {
          "Func": "Gaussian(mu=1, sigma=1)",
          "g(x)": 3.465354378516214e-12,
          "x": -6.137123745819398
         },
         {
          "Func": "Gaussian(mu=1, sigma=1)",
          "g(x)": 4.9510823647001725e-12,
          "x": -6.086956521739131
         },
         {
          "Func": "Gaussian(mu=1, sigma=1)",
          "g(x)": 7.056017316829846e-12,
          "x": -6.036789297658863
         },
         {
          "Func": "Gaussian(mu=1, sigma=1)",
          "g(x)": 1.0030581568719095e-11,
          "x": -5.986622073578595
         },
         {
          "Func": "Gaussian(mu=1, sigma=1)",
          "g(x)": 1.4223274087977182e-11,
          "x": -5.936454849498328
         },
         {
          "Func": "Gaussian(mu=1, sigma=1)",
          "g(x)": 2.0117779025479345e-11,
          "x": -5.88628762541806
         },
         {
          "Func": "Gaussian(mu=1, sigma=1)",
          "g(x)": 2.838359995314046e-11,
          "x": -5.8361204013377925
         },
         {
          "Func": "Gaussian(mu=1, sigma=1)",
          "g(x)": 3.994495257828754e-11,
          "x": -5.785953177257525
         },
         {
          "Func": "Gaussian(mu=1, sigma=1)",
          "g(x)": 5.6074231710898295e-11,
          "x": -5.735785953177257
         },
         {
          "Func": "Gaussian(mu=1, sigma=1)",
          "g(x)": 7.851845457588377e-11,
          "x": -5.68561872909699
         },
         {
          "Func": "Gaussian(mu=1, sigma=1)",
          "g(x)": 1.096698232381398e-10,
          "x": -5.635451505016722
         },
         {
          "Func": "Gaussian(mu=1, sigma=1)",
          "g(x)": 1.5279513731166496e-10,
          "x": -5.585284280936455
         },
         {
          "Func": "Gaussian(mu=1, sigma=1)",
          "g(x)": 2.123434708811239e-10,
          "x": -5.535117056856187
         },
         {
          "Func": "Gaussian(mu=1, sigma=1)",
          "g(x)": 2.943576180059128e-10,
          "x": -5.48494983277592
         },
         {
          "Func": "Gaussian(mu=1, sigma=1)",
          "g(x)": 4.070227058183098e-10,
          "x": -5.434782608695652
         },
         {
          "Func": "Gaussian(mu=1, sigma=1)",
          "g(x)": 5.61395572852069e-10,
          "x": -5.384615384615384
         },
         {
          "Func": "Gaussian(mu=1, sigma=1)",
          "g(x)": 7.723716402450845e-10,
          "x": -5.334448160535117
         },
         {
          "Func": "Gaussian(mu=1, sigma=1)",
          "g(x)": 1.0599628492122554e-09,
          "x": -5.2842809364548495
         },
         {
          "Func": "Gaussian(mu=1, sigma=1)",
          "g(x)": 1.4509817761802412e-09,
          "x": -5.234113712374582
         },
         {
          "Func": "Gaussian(mu=1, sigma=1)",
          "g(x)": 1.9812544777380263e-09,
          "x": -5.183946488294314
         },
         {
          "Func": "Gaussian(mu=1, sigma=1)",
          "g(x)": 2.698519455213704e-09,
          "x": -5.133779264214047
         },
         {
          "Func": "Gaussian(mu=1, sigma=1)",
          "g(x)": 3.666214199250407e-09,
          "x": -5.083612040133779
         },
         {
          "Func": "Gaussian(mu=1, sigma=1)",
          "g(x)": 4.96840632414297e-09,
          "x": -5.033444816053511
         },
         {
          "Func": "Gaussian(mu=1, sigma=1)",
          "g(x)": 6.7161960645399715e-09,
          "x": -4.983277591973244
         },
         {
          "Func": "Gaussian(mu=1, sigma=1)",
          "g(x)": 9.056004197288032e-09,
          "x": -4.933110367892977
         },
         {
          "Func": "Gaussian(mu=1, sigma=1)",
          "g(x)": 1.2180268264939147e-08,
          "x": -4.882943143812709
         },
         {
          "Func": "Gaussian(mu=1, sigma=1)",
          "g(x)": 1.634120510970819e-08,
          "x": -4.832775919732441
         },
         {
          "Func": "Gaussian(mu=1, sigma=1)",
          "g(x)": 2.186846490097243e-08,
          "x": -4.782608695652174
         },
         {
          "Func": "Gaussian(mu=1, sigma=1)",
          "g(x)": 2.9191707851103377e-08,
          "x": -4.7324414715719065
         },
         {
          "Func": "Gaussian(mu=1, sigma=1)",
          "g(x)": 3.886938768665646e-08,
          "x": -4.682274247491638
         },
         {
          "Func": "Gaussian(mu=1, sigma=1)",
          "g(x)": 5.1625335092803376e-08,
          "x": -4.632107023411371
         },
         {
          "Func": "Gaussian(mu=1, sigma=1)",
          "g(x)": 6.839511076730025e-08,
          "x": -4.581939799331104
         },
         {
          "Func": "Gaussian(mu=1, sigma=1)",
          "g(x)": 9.038455414692485e-08,
          "x": -4.5317725752508355
         },
         {
          "Func": "Gaussian(mu=1, sigma=1)",
          "g(x)": 1.1914350497763725e-07,
          "x": -4.481605351170568
         },
         {
          "Func": "Gaussian(mu=1, sigma=1)",
          "g(x)": 1.5665833746985373e-07,
          "x": -4.431438127090301
         },
         {
          "Func": "Gaussian(mu=1, sigma=1)",
          "g(x)": 2.054677398573484e-07,
          "x": -4.381270903010034
         },
         {
          "Func": "Gaussian(mu=1, sigma=1)",
          "g(x)": 2.6880711720415596e-07,
          "x": -4.331103678929765
         },
         {
          "Func": "Gaussian(mu=1, sigma=1)",
          "g(x)": 3.5078811620740653e-07,
          "x": -4.280936454849498
         },
         {
          "Func": "Gaussian(mu=1, sigma=1)",
          "g(x)": 4.566210939757828e-07,
          "x": -4.230769230769231
         },
         {
          "Func": "Gaussian(mu=1, sigma=1)",
          "g(x)": 5.928899072521089e-07,
          "x": -4.180602006688963
         },
         {
          "Func": "Gaussian(mu=1, sigma=1)",
          "g(x)": 7.678902155609165e-07,
          "x": -4.130434782608695
         },
         {
          "Func": "Gaussian(mu=1, sigma=1)",
          "g(x)": 9.92044604634738e-07,
          "x": -4.080267558528428
         },
         {
          "Func": "Gaussian(mu=1, sigma=1)",
          "g(x)": 1.278410280195192e-06,
          "x": -4.030100334448161
         },
         {
          "Func": "Gaussian(mu=1, sigma=1)",
          "g(x)": 1.6432978927735687e-06,
          "x": -3.9799331103678925
         },
         {
          "Func": "Gaussian(mu=1, sigma=1)",
          "g(x)": 2.1070232680137978e-06,
          "x": -3.9297658862876252
         },
         {
          "Func": "Gaussian(mu=1, sigma=1)",
          "g(x)": 2.694817469225127e-06,
          "x": -3.879598662207358
         },
         {
          "Func": "Gaussian(mu=1, sigma=1)",
          "g(x)": 3.4379247430511297e-06,
          "x": -3.8294314381270897
         },
         {
          "Func": "Gaussian(mu=1, sigma=1)",
          "g(x)": 4.374922524317312e-06,
          "x": -3.7792642140468224
         },
         {
          "Func": "Gaussian(mu=1, sigma=1)",
          "g(x)": 5.553302825811988e-06,
          "x": -3.729096989966555
         },
         {
          "Func": "Gaussian(mu=1, sigma=1)",
          "g(x)": 7.031360028016314e-06,
          "x": -3.678929765886288
         },
         {
          "Func": "Gaussian(mu=1, sigma=1)",
          "g(x)": 8.88043631657408e-06,
          "x": -3.6287625418060196
         },
         {
          "Func": "Gaussian(mu=1, sigma=1)",
          "g(x)": 1.1187582781189263e-05,
          "x": -3.5785953177257523
         },
         {
          "Func": "Gaussian(mu=1, sigma=1)",
          "g(x)": 1.40587014603468e-05,
          "x": -3.528428093645485
         },
         {
          "Func": "Gaussian(mu=1, sigma=1)",
          "g(x)": 1.7622241341560714e-05,
          "x": -3.478260869565217
         },
         {
          "Func": "Gaussian(mu=1, sigma=1)",
          "g(x)": 2.2033529430387365e-05,
          "x": -3.4280936454849495
         },
         {
          "Func": "Gaussian(mu=1, sigma=1)",
          "g(x)": 2.7479826376106083e-05,
          "x": -3.3779264214046822
         },
         {
          "Func": "Gaussian(mu=1, sigma=1)",
          "g(x)": 3.418620464527279e-05,
          "x": -3.327759197324415
         },
         {
          "Func": "Gaussian(mu=1, sigma=1)",
          "g(x)": 4.242235568371039e-05,
          "x": -3.2775919732441468
         },
         {
          "Func": "Gaussian(mu=1, sigma=1)",
          "g(x)": 5.2510440675650935e-05,
          "x": -3.2274247491638794
         },
         {
          "Func": "Gaussian(mu=1, sigma=1)",
          "g(x)": 6.483410711959447e-05,
          "x": -3.177257525083612
         },
         {
          "Func": "Gaussian(mu=1, sigma=1)",
          "g(x)": 7.984880016539893e-05,
          "x": -3.127090301003344
         },
         {
          "Func": "Gaussian(mu=1, sigma=1)",
          "g(x)": 9.809350311240964e-05,
          "x": -3.0769230769230766
         },
         {
          "Func": "Gaussian(mu=1, sigma=1)",
          "g(x)": 0.00012020404521354871,
          "x": -3.0267558528428093
         },
         {
          "Func": "Gaussian(mu=1, sigma=1)",
          "g(x)": 0.00014692811646791146,
          "x": -2.976588628762542
         },
         {
          "Func": "Gaussian(mu=1, sigma=1)",
          "g(x)": 0.00017914212786245646,
          "x": -2.926421404682274
         },
         {
          "Func": "Gaussian(mu=1, sigma=1)",
          "g(x)": 0.00021787005093890354,
          "x": -2.8762541806020065
         },
         {
          "Func": "Gaussian(mu=1, sigma=1)",
          "g(x)": 0.00026430436196825597,
          "x": -2.8260869565217392
         },
         {
          "Func": "Gaussian(mu=1, sigma=1)",
          "g(x)": 0.0003198292027315436,
          "x": -2.775919732441471
         },
         {
          "Func": "Gaussian(mu=1, sigma=1)",
          "g(x)": 0.00038604585122975645,
          "x": -2.7257525083612038
         },
         {
          "Func": "Gaussian(mu=1, sigma=1)",
          "g(x)": 0.0004648005708726439,
          "x": -2.6755852842809364
         },
         {
          "Func": "Gaussian(mu=1, sigma=1)",
          "g(x)": 0.0005582148751356803,
          "x": -2.625418060200669
         },
         {
          "Func": "Gaussian(mu=1, sigma=1)",
          "g(x)": 0.0006687182056787853,
          "x": -2.575250836120401
         },
         {
          "Func": "Gaussian(mu=1, sigma=1)",
          "g(x)": 0.0007990829749101484,
          "x": -2.5250836120401337
         },
         {
          "Func": "Gaussian(mu=1, sigma=1)",
          "g(x)": 0.0009524618684761256,
          "x": -2.4749163879598663
         },
         {
          "Func": "Gaussian(mu=1, sigma=1)",
          "g(x)": 0.0011324272388222411,
          "x": -2.424749163879598
         },
         {
          "Func": "Gaussian(mu=1, sigma=1)",
          "g(x)": 0.0013430123476342935,
          "x": -2.374581939799331
         },
         {
          "Func": "Gaussian(mu=1, sigma=1)",
          "g(x)": 0.0015887541326796795,
          "x": -2.3244147157190636
         },
         {
          "Func": "Gaussian(mu=1, sigma=1)",
          "g(x)": 0.0018747370836293467,
          "x": -2.2742474916387954
         },
         {
          "Func": "Gaussian(mu=1, sigma=1)",
          "g(x)": 0.0022066377124474188,
          "x": -2.224080267558528
         },
         {
          "Func": "Gaussian(mu=1, sigma=1)",
          "g(x)": 0.002590768997818042,
          "x": -2.1739130434782608
         },
         {
          "Func": "Gaussian(mu=1, sigma=1)",
          "g(x)": 0.0030341240711339256,
          "x": -2.1237458193979935
         },
         {
          "Func": "Gaussian(mu=1, sigma=1)",
          "g(x)": 0.003544418295491488,
          "x": -2.0735785953177253
         },
         {
          "Func": "Gaussian(mu=1, sigma=1)",
          "g(x)": 0.004130128771031893,
          "x": -2.023411371237458
         },
         {
          "Func": "Gaussian(mu=1, sigma=1)",
          "g(x)": 0.0048005301823729985,
          "x": -1.9732441471571907
         },
         {
          "Func": "Gaussian(mu=1, sigma=1)",
          "g(x)": 0.0055657257897571465,
          "x": -1.9230769230769234
         },
         {
          "Func": "Gaussian(mu=1, sigma=1)",
          "g(x)": 0.006436672258269802,
          "x": -1.872909698996656
         },
         {
          "Func": "Gaussian(mu=1, sigma=1)",
          "g(x)": 0.0074251969228194695,
          "x": -1.822742474916387
         },
         {
          "Func": "Gaussian(mu=1, sigma=1)",
          "g(x)": 0.008544006004598342,
          "x": -1.7725752508361197
         },
         {
          "Func": "Gaussian(mu=1, sigma=1)",
          "g(x)": 0.009806682231819724,
          "x": -1.7224080267558524
         },
         {
          "Func": "Gaussian(mu=1, sigma=1)",
          "g(x)": 0.011227670278180252,
          "x": -1.672240802675585
         },
         {
          "Func": "Gaussian(mu=1, sigma=1)",
          "g(x)": 0.012822248421329637,
          "x": -1.6220735785953178
         },
         {
          "Func": "Gaussian(mu=1, sigma=1)",
          "g(x)": 0.014606484845191947,
          "x": -1.5719063545150505
         },
         {
          "Func": "Gaussian(mu=1, sigma=1)",
          "g(x)": 0.016597177068626418,
          "x": -1.5217391304347831
         },
         {
          "Func": "Gaussian(mu=1, sigma=1)",
          "g(x)": 0.018811773082638567,
          "x": -1.471571906354514
         },
         {
          "Func": "Gaussian(mu=1, sigma=1)",
          "g(x)": 0.021268272922628437,
          "x": -1.4214046822742468
         },
         {
          "Func": "Gaussian(mu=1, sigma=1)",
          "g(x)": 0.02398510959376715,
          "x": -1.3712374581939795
         },
         {
          "Func": "Gaussian(mu=1, sigma=1)",
          "g(x)": 0.026981008508410273,
          "x": -1.3210702341137122
         },
         {
          "Func": "Gaussian(mu=1, sigma=1)",
          "g(x)": 0.030274824885329732,
          "x": -1.2709030100334449
         },
         {
          "Func": "Gaussian(mu=1, sigma=1)",
          "g(x)": 0.03388535890107404,
          "x": -1.2207357859531776
         },
         {
          "Func": "Gaussian(mu=1, sigma=1)",
          "g(x)": 0.03783114877218793,
          "x": -1.1705685618729103
         },
         {
          "Func": "Gaussian(mu=1, sigma=1)",
          "g(x)": 0.04213024238006951,
          "x": -1.1204013377926412
         },
         {
          "Func": "Gaussian(mu=1, sigma=1)",
          "g(x)": 0.046799948523053206,
          "x": -1.0702341137123739
         },
         {
          "Func": "Gaussian(mu=1, sigma=1)",
          "g(x)": 0.05185656938637774,
          "x": -1.0200668896321066
         },
         {
          "Func": "Gaussian(mu=1, sigma=1)",
          "g(x)": 0.057315116351853095,
          "x": -0.9698996655518393
         },
         {
          "Func": "Gaussian(mu=1, sigma=1)",
          "g(x)": 0.06318901181551835,
          "x": -0.919732441471572
         },
         {
          "Func": "Gaussian(mu=1, sigma=1)",
          "g(x)": 0.06948978023207475,
          "x": -0.8695652173913047
         },
         {
          "Func": "Gaussian(mu=1, sigma=1)",
          "g(x)": 0.07622673214674981,
          "x": -0.8193979933110374
         },
         {
          "Func": "Gaussian(mu=1, sigma=1)",
          "g(x)": 0.08340664549471043,
          "x": -0.7692307692307683
         },
         {
          "Func": "Gaussian(mu=1, sigma=1)",
          "g(x)": 0.09103344893055666,
          "x": -0.719063545150501
         },
         {
          "Func": "Gaussian(mu=1, sigma=1)",
          "g(x)": 0.09910791238063849,
          "x": -0.6688963210702337
         },
         {
          "Func": "Gaussian(mu=1, sigma=1)",
          "g(x)": 0.10762735037362639,
          "x": -0.6187290969899664
         },
         {
          "Func": "Gaussian(mu=1, sigma=1)",
          "g(x)": 0.11658534398495995,
          "x": -0.5685618729096991
         },
         {
          "Func": "Gaussian(mu=1, sigma=1)",
          "g(x)": 0.12597148741421,
          "x": -0.5183946488294318
         },
         {
          "Func": "Gaussian(mu=1, sigma=1)",
          "g(x)": 0.13577116528802202,
          "x": -0.46822742474916446
         },
         {
          "Func": "Gaussian(mu=1, sigma=1)",
          "g(x)": 0.14596536673385196,
          "x": -0.4180602006688954
         },
         {
          "Func": "Gaussian(mu=1, sigma=1)",
          "g(x)": 0.1565305420920477,
          "x": -0.3678929765886281
         },
         {
          "Func": "Gaussian(mu=1, sigma=1)",
          "g(x)": 0.1674385078195214,
          "x": -0.31772575250836077
         },
         {
          "Func": "Gaussian(mu=1, sigma=1)",
          "g(x)": 0.17865640468383234,
          "x": -0.26755852842809347
         },
         {
          "Func": "Gaussian(mu=1, sigma=1)",
          "g(x)": 0.19014671375196085,
          "x": -0.21739130434782616
         },
         {
          "Func": "Gaussian(mu=1, sigma=1)",
          "g(x)": 0.20186733394694065,
          "x": -0.16722408026755886
         },
         {
          "Func": "Gaussian(mu=1, sigma=1)",
          "g(x)": 0.21377172408525152,
          "x": -0.11705685618729156
         },
         {
          "Func": "Gaussian(mu=1, sigma=1)",
          "g(x)": 0.22580911132969686,
          "x": -0.06688963210702248
         },
         {
          "Func": "Gaussian(mu=1, sigma=1)",
          "g(x)": 0.23792476691146217,
          "x": -0.016722408026755176
         },
         {
          "Func": "Gaussian(mu=1, sigma=1)",
          "g(x)": 0.25006034880986155,
          "x": 0.03344481605351213
         },
         {
          "Func": "Gaussian(mu=1, sigma=1)",
          "g(x)": 0.26215430985090654,
          "x": 0.08361204013377943
         },
         {
          "Func": "Gaussian(mu=1, sigma=1)",
          "g(x)": 0.27414236842122724,
          "x": 0.13377926421404673
         },
         {
          "Func": "Gaussian(mu=1, sigma=1)",
          "g(x)": 0.28595803771925044,
          "x": 0.18394648829431404
         },
         {
          "Func": "Gaussian(mu=1, sigma=1)",
          "g(x)": 0.29753320820990614,
          "x": 0.23411371237458134
         },
         {
          "Func": "Gaussian(mu=1, sigma=1)",
          "g(x)": 0.30879877674244366,
          "x": 0.2842809364548504
         },
         {
          "Func": "Gaussian(mu=1, sigma=1)",
          "g(x)": 0.3196853146633525,
          "x": 0.3344481605351177
         },
         {
          "Func": "Gaussian(mu=1, sigma=1)",
          "g(x)": 0.3301237662374111,
          "x": 0.384615384615385
         },
         {
          "Func": "Gaussian(mu=1, sigma=1)",
          "g(x)": 0.34004616780750163,
          "x": 0.43478260869565233
         },
         {
          "Func": "Gaussian(mu=1, sigma=1)",
          "g(x)": 0.3493863774037063,
          "x": 0.48494983277591963
         },
         {
          "Func": "Gaussian(mu=1, sigma=1)",
          "g(x)": 0.35808080397675585,
          "x": 0.5351170568561869
         },
         {
          "Func": "Gaussian(mu=1, sigma=1)",
          "g(x)": 0.366069125098708,
          "x": 0.5852842809364542
         },
         {
          "Func": "Gaussian(mu=1, sigma=1)",
          "g(x)": 0.37329498185875254,
          "x": 0.6354515050167233
         },
         {
          "Func": "Gaussian(mu=1, sigma=1)",
          "g(x)": 0.379706639793133,
          "x": 0.6856187290969906
         },
         {
          "Func": "Gaussian(mu=1, sigma=1)",
          "g(x)": 0.385257605028725,
          "x": 0.7357859531772579
         },
         {
          "Func": "Gaussian(mu=1, sigma=1)",
          "g(x)": 0.38990718538742264,
          "x": 0.7859531772575252
         },
         {
          "Func": "Gaussian(mu=1, sigma=1)",
          "g(x)": 0.39362098698501713,
          "x": 0.8361204013377925
         },
         {
          "Func": "Gaussian(mu=1, sigma=1)",
          "g(x)": 0.39637133784979606,
          "x": 0.8862876254180598
         },
         {
          "Func": "Gaussian(mu=1, sigma=1)",
          "g(x)": 0.3981376312633767,
          "x": 0.9364548494983289
         },
         {
          "Func": "Gaussian(mu=1, sigma=1)",
          "g(x)": 0.3989065828650412,
          "x": 0.9866220735785962
         },
         {
          "Func": "Gaussian(mu=1, sigma=1)",
          "g(x)": 0.39867239703243706,
          "x": 1.0367892976588635
         },
         {
          "Func": "Gaussian(mu=1, sigma=1)",
          "g(x)": 0.39743683962370596,
          "x": 1.0869565217391308
         },
         {
          "Func": "Gaussian(mu=1, sigma=1)",
          "g(x)": 0.3952092158039077,
          "x": 1.1371237458193981
         },
         {
          "Func": "Gaussian(mu=1, sigma=1)",
          "g(x)": 0.3920062533452145,
          "x": 1.1872909698996654
         },
         {
          "Func": "Gaussian(mu=1, sigma=1)",
          "g(x)": 0.38785189344817084,
          "x": 1.2374581939799327
         },
         {
          "Func": "Gaussian(mu=1, sigma=1)",
          "g(x)": 0.38277699274299604,
          "x": 1.2876254180602018
         },
         {
          "Func": "Gaussian(mu=1, sigma=1)",
          "g(x)": 0.3768189416593667,
          "x": 1.3377926421404691
         },
         {
          "Func": "Gaussian(mu=1, sigma=1)",
          "g(x)": 0.3700212057665283,
          "x": 1.3879598662207364
         },
         {
          "Func": "Gaussian(mu=1, sigma=1)",
          "g(x)": 0.362432797952304,
          "x": 1.4381270903010037
         },
         {
          "Func": "Gaussian(mu=1, sigma=1)",
          "g(x)": 0.35410769040290085,
          "x": 1.488294314381271
         },
         {
          "Func": "Gaussian(mu=1, sigma=1)",
          "g(x)": 0.3451041762433681,
          "x": 1.5384615384615383
         },
         {
          "Func": "Gaussian(mu=1, sigma=1)",
          "g(x)": 0.3354841913843123,
          "x": 1.5886287625418056
         },
         {
          "Func": "Gaussian(mu=1, sigma=1)",
          "g(x)": 0.32531260758279434,
          "x": 1.6387959866220747
         },
         {
          "Func": "Gaussian(mu=1, sigma=1)",
          "g(x)": 0.3146565079587406,
          "x": 1.688963210702342
         },
         {
          "Func": "Gaussian(mu=1, sigma=1)",
          "g(x)": 0.3035844562130305,
          "x": 1.7391304347826093
         },
         {
          "Func": "Gaussian(mu=1, sigma=1)",
          "g(x)": 0.29216577057565857,
          "x": 1.7892976588628766
         },
         {
          "Func": "Gaussian(mu=1, sigma=1)",
          "g(x)": 0.28046981308328695,
          "x": 1.839464882943144
         },
         {
          "Func": "Gaussian(mu=1, sigma=1)",
          "g(x)": 0.26856530416131796,
          "x": 1.8896321070234112
         },
         {
          "Func": "Gaussian(mu=1, sigma=1)",
          "g(x)": 0.2565196716867627,
          "x": 1.9397993311036785
         },
         {
          "Func": "Gaussian(mu=1, sigma=1)",
          "g(x)": 0.2443984427587043,
          "x": 1.9899665551839476
         },
         {
          "Func": "Gaussian(mu=1, sigma=1)",
          "g(x)": 0.23226468532990396,
          "x": 2.040133779264215
         },
         {
          "Func": "Gaussian(mu=1, sigma=1)",
          "g(x)": 0.22017850568485198,
          "x": 2.090301003344482
         },
         {
          "Func": "Gaussian(mu=1, sigma=1)",
          "g(x)": 0.20819660651629404,
          "x": 2.1404682274247495
         },
         {
          "Func": "Gaussian(mu=1, sigma=1)",
          "g(x)": 0.19637190908406452,
          "x": 2.190635451505017
         },
         {
          "Func": "Gaussian(mu=1, sigma=1)",
          "g(x)": 0.1847532416665997,
          "x": 2.240802675585284
         },
         {
          "Func": "Gaussian(mu=1, sigma=1)",
          "g(x)": 0.17338509526500692,
          "x": 2.2909698996655514
         },
         {
          "Func": "Gaussian(mu=1, sigma=1)",
          "g(x)": 0.16230744631828153,
          "x": 2.3411371237458205
         },
         {
          "Func": "Gaussian(mu=1, sigma=1)",
          "g(x)": 0.15155564505980534,
          "x": 2.391304347826088
         },
         {
          "Func": "Gaussian(mu=1, sigma=1)",
          "g(x)": 0.14116036711010962,
          "x": 2.441471571906355
         },
         {
          "Func": "Gaussian(mu=1, sigma=1)",
          "g(x)": 0.1311476249761046,
          "x": 2.4916387959866224
         },
         {
          "Func": "Gaussian(mu=1, sigma=1)",
          "g(x)": 0.12153883532580288,
          "x": 2.5418060200668897
         },
         {
          "Func": "Gaussian(mu=1, sigma=1)",
          "g(x)": 0.11235093723950877,
          "x": 2.591973244147157
         },
         {
          "Func": "Gaussian(mu=1, sigma=1)",
          "g(x)": 0.10359655610906661,
          "x": 2.6421404682274243
         },
         {
          "Func": "Gaussian(mu=1, sigma=1)",
          "g(x)": 0.09528420746794823,
          "x": 2.6923076923076934
         },
         {
          "Func": "Gaussian(mu=1, sigma=1)",
          "g(x)": 0.08741853478503842,
          "x": 2.7424749163879607
         },
         {
          "Func": "Gaussian(mu=1, sigma=1)",
          "g(x)": 0.0800005751390536,
          "x": 2.792642140468228
         },
         {
          "Func": "Gaussian(mu=1, sigma=1)",
          "g(x)": 0.07302804670086491,
          "x": 2.8428093645484953
         },
         {
          "Func": "Gaussian(mu=1, sigma=1)",
          "g(x)": 0.06649565207737436,
          "x": 2.8929765886287626
         },
         {
          "Func": "Gaussian(mu=1, sigma=1)",
          "g(x)": 0.060395391800880445,
          "x": 2.94314381270903
         },
         {
          "Func": "Gaussian(mu=1, sigma=1)",
          "g(x)": 0.054716882568387394,
          "x": 2.993311036789297
         },
         {
          "Func": "Gaussian(mu=1, sigma=1)",
          "g(x)": 0.049447675231410776,
          "x": 3.0434782608695663
         },
         {
          "Func": "Gaussian(mu=1, sigma=1)",
          "g(x)": 0.04457356799330712,
          "x": 3.0936454849498336
         },
         {
          "Func": "Gaussian(mu=1, sigma=1)",
          "g(x)": 0.040078910772719564,
          "x": 3.143812709030101
         },
         {
          "Func": "Gaussian(mu=1, sigma=1)",
          "g(x)": 0.03594689722343399,
          "x": 3.193979933110368
         },
         {
          "Func": "Gaussian(mu=1, sigma=1)",
          "g(x)": 0.03215984144848075,
          "x": 3.2441471571906355
         },
         {
          "Func": "Gaussian(mu=1, sigma=1)",
          "g(x)": 0.028699436996435398,
          "x": 3.294314381270903
         },
         {
          "Func": "Gaussian(mu=1, sigma=1)",
          "g(x)": 0.025546996268513283,
          "x": 3.34448160535117
         },
         {
          "Func": "Gaussian(mu=1, sigma=1)",
          "g(x)": 0.022683668985623486,
          "x": 3.394648829431439
         },
         {
          "Func": "Gaussian(mu=1, sigma=1)",
          "g(x)": 0.02009063885601204,
          "x": 3.4448160535117065
         },
         {
          "Func": "Gaussian(mu=1, sigma=1)",
          "g(x)": 0.017749298039085978,
          "x": 3.494983277591974
         },
         {
          "Func": "Gaussian(mu=1, sigma=1)",
          "g(x)": 0.01564139941374029,
          "x": 3.545150501672241
         },
         {
          "Func": "Gaussian(mu=1, sigma=1)",
          "g(x)": 0.013749187025891249,
          "x": 3.5953177257525084
         },
         {
          "Func": "Gaussian(mu=1, sigma=1)",
          "g(x)": 0.012055505407409621,
          "x": 3.6454849498327757
         },
         {
          "Func": "Gaussian(mu=1, sigma=1)",
          "g(x)": 0.010543888726130716,
          "x": 3.695652173913043
         },
         {
          "Func": "Gaussian(mu=1, sigma=1)",
          "g(x)": 0.009198630944298462,
          "x": 3.745819397993312
         },
         {
          "Func": "Gaussian(mu=1, sigma=1)",
          "g(x)": 0.008004838332024734,
          "x": 3.7959866220735794
         },
         {
          "Func": "Gaussian(mu=1, sigma=1)",
          "g(x)": 0.006948465805437216,
          "x": 3.8461538461538467
         },
         {
          "Func": "Gaussian(mu=1, sigma=1)",
          "g(x)": 0.006016338639274931,
          "x": 3.896321070234114
         },
         {
          "Func": "Gaussian(mu=1, sigma=1)",
          "g(x)": 0.005196161144504967,
          "x": 3.9464882943143813
         },
         {
          "Func": "Gaussian(mu=1, sigma=1)",
          "g(x)": 0.004476513907266397,
          "x": 3.9966555183946486
         },
         {
          "Func": "Gaussian(mu=1, sigma=1)",
          "g(x)": 0.003846841160557407,
          "x": 4.046822742474916
         },
         {
          "Func": "Gaussian(mu=1, sigma=1)",
          "g(x)": 0.003297429809160896,
          "x": 4.096989966555185
         },
         {
          "Func": "Gaussian(mu=1, sigma=1)",
          "g(x)": 0.002819381555936186,
          "x": 4.147157190635452
         },
         {
          "Func": "Gaussian(mu=1, sigma=1)",
          "g(x)": 0.002404579488248777,
          "x": 4.19732441471572
         },
         {
          "Func": "Gaussian(mu=1, sigma=1)",
          "g(x)": 0.002045650381207167,
          "x": 4.247491638795987
         },
         {
          "Func": "Gaussian(mu=1, sigma=1)",
          "g(x)": 0.0017359238634631847,
          "x": 4.297658862876254
         },
         {
          "Func": "Gaussian(mu=1, sigma=1)",
          "g(x)": 0.001469389475195873,
          "x": 4.3478260869565215
         },
         {
          "Func": "Gaussian(mu=1, sigma=1)",
          "g(x)": 0.0012406525297229112,
          "x": 4.397993311036789
         },
         {
          "Func": "Gaussian(mu=1, sigma=1)",
          "g(x)": 0.0010448895727338688,
          "x": 4.448160535117058
         },
         {
          "Func": "Gaussian(mu=1, sigma=1)",
          "g(x)": 0.0008778041187527558,
          "x": 4.498327759197325
         },
         {
          "Func": "Gaussian(mu=1, sigma=1)",
          "g(x)": 0.0007355832350257521,
          "x": 4.5484949832775925
         },
         {
          "Func": "Gaussian(mu=1, sigma=1)",
          "g(x)": 0.0006148554400989831,
          "x": 4.59866220735786
         },
         {
          "Func": "Gaussian(mu=1, sigma=1)",
          "g(x)": 0.0005126502890213644,
          "x": 4.648829431438127
         },
         {
          "Func": "Gaussian(mu=1, sigma=1)",
          "g(x)": 0.00042635993014967366,
          "x": 4.698996655518394
         },
         {
          "Func": "Gaussian(mu=1, sigma=1)",
          "g(x)": 0.00035370284040085444,
          "x": 4.749163879598662
         },
         {
          "Func": "Gaussian(mu=1, sigma=1)",
          "g(x)": 0.0002926898766686649,
          "x": 4.799331103678931
         },
         {
          "Func": "Gaussian(mu=1, sigma=1)",
          "g(x)": 0.00024159272094048,
          "x": 4.849498327759198
         },
         {
          "Func": "Gaussian(mu=1, sigma=1)",
          "g(x)": 0.00019891474516224561,
          "x": 4.899665551839465
         },
         {
          "Func": "Gaussian(mu=1, sigma=1)",
          "g(x)": 0.0001633642786959366,
          "x": 4.949832775919733
         },
         {
          "Func": "Gaussian(mu=1, sigma=1)",
          "g(x)": 0.00013383022576488537,
          "x": 5
         },
         {
          "Func": "Gaussian(mu=2, sigma=0.5)",
          "g(x)": 6.685428883588916e-126,
          "x": -10
         },
         {
          "Func": "Gaussian(mu=2, sigma=0.5)",
          "g(x)": 7.391557915297407e-125,
          "x": -9.949832775919733
         },
         {
          "Func": "Gaussian(mu=2, sigma=0.5)",
          "g(x)": 8.090412246782977e-124,
          "x": -9.899665551839465
         },
         {
          "Func": "Gaussian(mu=2, sigma=0.5)",
          "g(x)": 8.766642084715719e-123,
          "x": -9.849498327759198
         },
         {
          "Func": "Gaussian(mu=2, sigma=0.5)",
          "g(x)": 9.404243317174834e-122,
          "x": -9.799331103678929
         },
         {
          "Func": "Gaussian(mu=2, sigma=0.5)",
          "g(x)": 9.987168911979543e-121,
          "x": -9.749163879598662
         },
         {
          "Func": "Gaussian(mu=2, sigma=0.5)",
          "g(x)": 1.0499990107074202e-119,
          "x": -9.698996655518394
         },
         {
          "Func": "Gaussian(mu=2, sigma=0.5)",
          "g(x)": 1.092857007770509e-118,
          "x": -9.648829431438127
         },
         {
          "Func": "Gaussian(mu=2, sigma=0.5)",
          "g(x)": 1.1260709370344152e-117,
          "x": -9.59866220735786
         },
         {
          "Func": "Gaussian(mu=2, sigma=0.5)",
          "g(x)": 1.1486722120424005e-116,
          "x": -9.548494983277592
         },
         {
          "Func": "Gaussian(mu=2, sigma=0.5)",
          "g(x)": 1.1599905120469397e-115,
          "x": -9.498327759197325
         },
         {
          "Func": "Gaussian(mu=2, sigma=0.5)",
          "g(x)": 1.1596868050927297e-114,
          "x": -9.448160535117056
         },
         {
          "Func": "Gaussian(mu=2, sigma=0.5)",
          "g(x)": 1.147770217400023e-113,
          "x": -9.397993311036789
         },
         {
          "Func": "Gaussian(mu=2, sigma=0.5)",
          "g(x)": 1.1245975778284262e-112,
          "x": -9.347826086956522
         },
         {
          "Func": "Gaussian(mu=2, sigma=0.5)",
          "g(x)": 1.0908556691465758e-111,
          "x": -9.297658862876254
         },
         {
          "Func": "Gaussian(mu=2, sigma=0.5)",
          "g(x)": 1.0475274179536578e-110,
          "x": -9.247491638795987
         },
         {
          "Func": "Gaussian(mu=2, sigma=0.5)",
          "g(x)": 9.958443456570709e-110,
          "x": -9.19732441471572
         },
         {
          "Func": "Gaussian(mu=2, sigma=0.5)",
          "g(x)": 9.372284890537404e-109,
          "x": -9.147157190635452
         },
         {
          "Func": "Gaussian(mu=2, sigma=0.5)",
          "g(x)": 8.73227607852195e-108,
          "x": -9.096989966555183
         },
         {
          "Func": "Gaussian(mu=2, sigma=0.5)",
          "g(x)": 8.054477841619494e-107,
          "x": -9.046822742474916
         },
         {
          "Func": "Gaussian(mu=2, sigma=0.5)",
          "g(x)": 7.354874746826998e-106,
          "x": -8.996655518394649
         },
         {
          "Func": "Gaussian(mu=2, sigma=0.5)",
          "g(x)": 6.6487672171739884e-105,
          "x": -8.946488294314381
         },
         {
          "Func": "Gaussian(mu=2, sigma=0.5)",
          "g(x)": 5.950246144231107e-104,
          "x": -8.896321070234114
         },
         {
          "Func": "Gaussian(mu=2, sigma=0.5)",
          "g(x)": 5.271772885371307e-103,
          "x": -8.846153846153847
         },
         {
          "Func": "Gaussian(mu=2, sigma=0.5)",
          "g(x)": 4.623878452333955e-102,
          "x": -8.795986622073578
         },
         {
          "Func": "Gaussian(mu=2, sigma=0.5)",
          "g(x)": 4.0149864444856774e-101,
          "x": -8.74581939799331
         },
         {
          "Func": "Gaussian(mu=2, sigma=0.5)",
          "g(x)": 3.451355650716059e-100,
          "x": -8.695652173913043
         },
         {
          "Func": "Gaussian(mu=2, sigma=0.5)",
          "g(x)": 2.937130897126977e-99,
          "x": -8.645484949832776
         },
         {
          "Func": "Gaussian(mu=2, sigma=0.5)",
          "g(x)": 2.4744851185782728e-98,
          "x": -8.595317725752508
         },
         {
          "Func": "Gaussian(mu=2, sigma=0.5)",
          "g(x)": 2.0638320267954916e-97,
          "x": -8.545150501672241
         },
         {
          "Func": "Gaussian(mu=2, sigma=0.5)",
          "g(x)": 1.7040871660999244e-96,
          "x": -8.494983277591974
         },
         {
          "Func": "Gaussian(mu=2, sigma=0.5)",
          "g(x)": 1.3929554297282597e-95,
          "x": -8.444816053511705
         },
         {
          "Func": "Gaussian(mu=2, sigma=0.5)",
          "g(x)": 1.1272249483598139e-94,
          "x": -8.394648829431437
         },
         {
          "Func": "Gaussian(mu=2, sigma=0.5)",
          "g(x)": 9.030502573842173e-94,
          "x": -8.34448160535117
         },
         {
          "Func": "Gaussian(mu=2, sigma=0.5)",
          "g(x)": 7.162113614166732e-93,
          "x": -8.294314381270903
         },
         {
          "Func": "Gaussian(mu=2, sigma=0.5)",
          "g(x)": 5.62339315784168e-92,
          "x": -8.244147157190636
         },
         {
          "Func": "Gaussian(mu=2, sigma=0.5)",
          "g(x)": 4.37102858913702e-91,
          "x": -8.193979933110368
         },
         {
          "Func": "Gaussian(mu=2, sigma=0.5)",
          "g(x)": 3.363541595231124e-90,
          "x": -8.143812709030101
         },
         {
          "Func": "Gaussian(mu=2, sigma=0.5)",
          "g(x)": 2.5623468379679365e-89,
          "x": -8.093645484949832
         },
         {
          "Func": "Gaussian(mu=2, sigma=0.5)",
          "g(x)": 1.932444298872648e-88,
          "x": -8.043478260869565
         },
         {
          "Func": "Gaussian(mu=2, sigma=0.5)",
          "g(x)": 1.4427929472651957e-87,
          "x": -7.993311036789297
         },
         {
          "Func": "Gaussian(mu=2, sigma=0.5)",
          "g(x)": 1.0664217489519024e-86,
          "x": -7.94314381270903
         },
         {
          "Func": "Gaussian(mu=2, sigma=0.5)",
          "g(x)": 7.803365215437866e-86,
          "x": -7.892976588628763
         },
         {
          "Func": "Gaussian(mu=2, sigma=0.5)",
          "g(x)": 5.652789714961896e-85,
          "x": -7.842809364548495
         },
         {
          "Func": "Gaussian(mu=2, sigma=0.5)",
          "g(x)": 4.0538874149982925e-84,
          "x": -7.792642140468228
         },
         {
          "Func": "Gaussian(mu=2, sigma=0.5)",
          "g(x)": 2.878117322618691e-83,
          "x": -7.74247491638796
         },
         {
          "Func": "Gaussian(mu=2, sigma=0.5)",
          "g(x)": 2.0228946245687592e-82,
          "x": -7.692307692307692
         },
         {
          "Func": "Gaussian(mu=2, sigma=0.5)",
          "g(x)": 1.4075569778557608e-81,
          "x": -7.642140468227424
         },
         {
          "Func": "Gaussian(mu=2, sigma=0.5)",
          "g(x)": 9.6958673370954e-81,
          "x": -7.591973244147157
         },
         {
          "Func": "Gaussian(mu=2, sigma=0.5)",
          "g(x)": 6.612037409153301e-80,
          "x": -7.54180602006689
         },
         {
          "Func": "Gaussian(mu=2, sigma=0.5)",
          "g(x)": 4.46387367884174e-79,
          "x": -7.491638795986622
         },
         {
          "Func": "Gaussian(mu=2, sigma=0.5)",
          "g(x)": 2.983434085305252e-78,
          "x": -7.441471571906355
         },
         {
          "Func": "Gaussian(mu=2, sigma=0.5)",
          "g(x)": 1.974008211642294e-77,
          "x": -7.391304347826087
         },
         {
          "Func": "Gaussian(mu=2, sigma=0.5)",
          "g(x)": 1.293032436434704e-76,
          "x": -7.341137123745819
         },
         {
          "Func": "Gaussian(mu=2, sigma=0.5)",
          "g(x)": 8.384899100925062e-76,
          "x": -7.290969899665551
         },
         {
          "Func": "Gaussian(mu=2, sigma=0.5)",
          "g(x)": 5.382874061459767e-75,
          "x": -7.240802675585284
         },
         {
          "Func": "Gaussian(mu=2, sigma=0.5)",
          "g(x)": 3.4210431664418894e-74,
          "x": -7.190635451505017
         },
         {
          "Func": "Gaussian(mu=2, sigma=0.5)",
          "g(x)": 2.1524389677570228e-73,
          "x": -7.1404682274247495
         },
         {
          "Func": "Gaussian(mu=2, sigma=0.5)",
          "g(x)": 1.3406984105873895e-72,
          "x": -7.090301003344481
         },
         {
          "Func": "Gaussian(mu=2, sigma=0.5)",
          "g(x)": 8.267216289608154e-72,
          "x": -7.040133779264214
         },
         {
          "Func": "Gaussian(mu=2, sigma=0.5)",
          "g(x)": 5.0467926529206566e-71,
          "x": -6.989966555183946
         },
         {
          "Func": "Gaussian(mu=2, sigma=0.5)",
          "g(x)": 3.0499981868231153e-70,
          "x": -6.9397993311036785
         },
         {
          "Func": "Gaussian(mu=2, sigma=0.5)",
          "g(x)": 1.8247848095400541e-69,
          "x": -6.889632107023411
         },
         {
          "Func": "Gaussian(mu=2, sigma=0.5)",
          "g(x)": 1.0808158119131933e-68,
          "x": -6.839464882943144
         },
         {
          "Func": "Gaussian(mu=2, sigma=0.5)",
          "g(x)": 6.337524905461778e-68,
          "x": -6.789297658862877
         },
         {
          "Func": "Gaussian(mu=2, sigma=0.5)",
          "g(x)": 3.678880028097177e-67,
          "x": -6.739130434782608
         },
         {
          "Func": "Gaussian(mu=2, sigma=0.5)",
          "g(x)": 2.114168161936197e-66,
          "x": -6.688963210702341
         },
         {
          "Func": "Gaussian(mu=2, sigma=0.5)",
          "g(x)": 1.2027943743741013e-65,
          "x": -6.638795986622073
         },
         {
          "Func": "Gaussian(mu=2, sigma=0.5)",
          "g(x)": 6.77440574800678e-65,
          "x": -6.588628762541806
         },
         {
          "Func": "Gaussian(mu=2, sigma=0.5)",
          "g(x)": 3.7772782530382895e-64,
          "x": -6.538461538461538
         },
         {
          "Func": "Gaussian(mu=2, sigma=0.5)",
          "g(x)": 2.0850415244698666e-63,
          "x": -6.488294314381271
         },
         {
          "Func": "Gaussian(mu=2, sigma=0.5)",
          "g(x)": 1.139405720689464e-62,
          "x": -6.438127090301004
         },
         {
          "Func": "Gaussian(mu=2, sigma=0.5)",
          "g(x)": 6.164105164091504e-62,
          "x": -6.3879598662207355
         },
         {
          "Func": "Gaussian(mu=2, sigma=0.5)",
          "g(x)": 3.301335334121894e-61,
          "x": -6.337792642140468
         },
         {
          "Func": "Gaussian(mu=2, sigma=0.5)",
          "g(x)": 1.750399568697069e-60,
          "x": -6.2876254180602
         },
         {
          "Func": "Gaussian(mu=2, sigma=0.5)",
          "g(x)": 9.187824943042523e-60,
          "x": -6.237458193979933
         },
         {
          "Func": "Gaussian(mu=2, sigma=0.5)",
          "g(x)": 4.774371214348292e-59,
          "x": -6.187290969899665
         },
         {
          "Func": "Gaussian(mu=2, sigma=0.5)",
          "g(x)": 2.4561088552038322e-58,
          "x": -6.137123745819398
         },
         {
          "Func": "Gaussian(mu=2, sigma=0.5)",
          "g(x)": 1.2508550769587555e-57,
          "x": -6.086956521739131
         },
         {
          "Func": "Gaussian(mu=2, sigma=0.5)",
          "g(x)": 6.306586213866581e-57,
          "x": -6.036789297658863
         },
         {
          "Func": "Gaussian(mu=2, sigma=0.5)",
          "g(x)": 3.147818151969297e-56,
          "x": -5.986622073578595
         },
         {
          "Func": "Gaussian(mu=2, sigma=0.5)",
          "g(x)": 1.5554386653883926e-55,
          "x": -5.936454849498328
         },
         {
          "Func": "Gaussian(mu=2, sigma=0.5)",
          "g(x)": 7.608939000332286e-55,
          "x": -5.88628762541806
         },
         {
          "Func": "Gaussian(mu=2, sigma=0.5)",
          "g(x)": 3.6848793361630963e-54,
          "x": -5.8361204013377925
         },
         {
          "Func": "Gaussian(mu=2, sigma=0.5)",
          "g(x)": 1.7666495075700205e-53,
          "x": -5.785953177257525
         },
         {
          "Func": "Gaussian(mu=2, sigma=0.5)",
          "g(x)": 8.385046570548365e-53,
          "x": -5.735785953177257
         },
         {
          "Func": "Gaussian(mu=2, sigma=0.5)",
          "g(x)": 3.93993011149309e-52,
          "x": -5.68561872909699
         },
         {
          "Func": "Gaussian(mu=2, sigma=0.5)",
          "g(x)": 1.8327343263996262e-51,
          "x": -5.635451505016722
         },
         {
          "Func": "Gaussian(mu=2, sigma=0.5)",
          "g(x)": 8.439922657885681e-51,
          "x": -5.585284280936455
         },
         {
          "Func": "Gaussian(mu=2, sigma=0.5)",
          "g(x)": 3.847736972039e-50,
          "x": -5.535117056856187
         },
         {
          "Func": "Gaussian(mu=2, sigma=0.5)",
          "g(x)": 1.736601783618619e-49,
          "x": -5.48494983277592
         },
         {
          "Func": "Gaussian(mu=2, sigma=0.5)",
          "g(x)": 7.759309334413384e-49,
          "x": -5.434782608695652
         },
         {
          "Func": "Gaussian(mu=2, sigma=0.5)",
          "g(x)": 3.432209948887809e-48,
          "x": -5.384615384615384
         },
         {
          "Func": "Gaussian(mu=2, sigma=0.5)",
          "g(x)": 1.5029778581935438e-47,
          "x": -5.334448160535117
         },
         {
          "Func": "Gaussian(mu=2, sigma=0.5)",
          "g(x)": 6.515672937175027e-47,
          "x": -5.2842809364548495
         },
         {
          "Func": "Gaussian(mu=2, sigma=0.5)",
          "g(x)": 2.7963654431238077e-46,
          "x": -5.234113712374582
         },
         {
          "Func": "Gaussian(mu=2, sigma=0.5)",
          "g(x)": 1.1881096786023792e-45,
          "x": -5.183946488294314
         },
         {
          "Func": "Gaussian(mu=2, sigma=0.5)",
          "g(x)": 4.9974343514436255e-45,
          "x": -5.133779264214047
         },
         {
          "Func": "Gaussian(mu=2, sigma=0.5)",
          "g(x)": 2.0809690379163711e-44,
          "x": -5.083612040133779
         },
         {
          "Func": "Gaussian(mu=2, sigma=0.5)",
          "g(x)": 8.578514627315074e-44,
          "x": -5.033444816053511
         },
         {
          "Func": "Gaussian(mu=2, sigma=0.5)",
          "g(x)": 3.5009550159940885e-43,
          "x": -4.983277591973244
         },
         {
          "Func": "Gaussian(mu=2, sigma=0.5)",
          "g(x)": 1.4144543047152053e-42,
          "x": -4.933110367892977
         },
         {
          "Func": "Gaussian(mu=2, sigma=0.5)",
          "g(x)": 5.657431050560366e-42,
          "x": -4.882943143812709
         },
         {
          "Func": "Gaussian(mu=2, sigma=0.5)",
          "g(x)": 2.2401524499402216e-41,
          "x": -4.832775919732441
         },
         {
          "Func": "Gaussian(mu=2, sigma=0.5)",
          "g(x)": 8.781401538497141e-41,
          "x": -4.782608695652174
         },
         {
          "Func": "Gaussian(mu=2, sigma=0.5)",
          "g(x)": 3.4078310419125393e-40,
          "x": -4.7324414715719065
         },
         {
          "Func": "Gaussian(mu=2, sigma=0.5)",
          "g(x)": 1.3092429072433786e-39,
          "x": -4.682274247491638
         },
         {
          "Func": "Gaussian(mu=2, sigma=0.5)",
          "g(x)": 4.9795530308052326e-39,
          "x": -4.632107023411371
         },
         {
          "Func": "Gaussian(mu=2, sigma=0.5)",
          "g(x)": 1.87494464644663e-38,
          "x": -4.581939799331104
         },
         {
          "Func": "Gaussian(mu=2, sigma=0.5)",
          "g(x)": 6.988991243041118e-38,
          "x": -4.5317725752508355
         },
         {
          "Func": "Gaussian(mu=2, sigma=0.5)",
          "g(x)": 2.5791018843496923e-37,
          "x": -4.481605351170568
         },
         {
          "Func": "Gaussian(mu=2, sigma=0.5)",
          "g(x)": 9.422159635241015e-37,
          "x": -4.431438127090301
         },
         {
          "Func": "Gaussian(mu=2, sigma=0.5)",
          "g(x)": 3.4076923088726906e-36,
          "x": -4.381270903010034
         },
         {
          "Func": "Gaussian(mu=2, sigma=0.5)",
          "g(x)": 1.2201079219296715e-35,
          "x": -4.331103678929765
         },
         {
          "Func": "Gaussian(mu=2, sigma=0.5)",
          "g(x)": 4.324780563925645e-35,
          "x": -4.280936454849498
         },
         {
          "Func": "Gaussian(mu=2, sigma=0.5)",
          "g(x)": 1.517601905064168e-34,
          "x": -4.230769230769231
         },
         {
          "Func": "Gaussian(mu=2, sigma=0.5)",
          "g(x)": 5.272051042577295e-34,
          "x": -4.180602006688963
         },
         {
          "Func": "Gaussian(mu=2, sigma=0.5)",
          "g(x)": 1.8131315138957046e-33,
          "x": -4.130434782608695
         },
         {
          "Func": "Gaussian(mu=2, sigma=0.5)",
          "g(x)": 6.173151895697662e-33,
          "x": -4.080267558528428
         },
         {
          "Func": "Gaussian(mu=2, sigma=0.5)",
          "g(x)": 2.08071489907776e-32,
          "x": -4.030100334448161
         },
         {
          "Func": "Gaussian(mu=2, sigma=0.5)",
          "g(x)": 6.942983728717862e-32,
          "x": -3.9799331103678925
         },
         {
          "Func": "Gaussian(mu=2, sigma=0.5)",
          "g(x)": 2.293547161162701e-31,
          "x": -3.9297658862876252
         },
         {
          "Func": "Gaussian(mu=2, sigma=0.5)",
          "g(x)": 7.500619918373364e-31,
          "x": -3.879598662207358
         },
         {
          "Func": "Gaussian(mu=2, sigma=0.5)",
          "g(x)": 2.428368550610995e-30,
          "x": -3.8294314381270897
         },
         {
          "Func": "Gaussian(mu=2, sigma=0.5)",
          "g(x)": 7.783232385753163e-30,
          "x": -3.7792642140468224
         },
         {
          "Func": "Gaussian(mu=2, sigma=0.5)",
          "g(x)": 2.4696383015434625e-29,
          "x": -3.729096989966555
         },
         {
          "Func": "Gaussian(mu=2, sigma=0.5)",
          "g(x)": 7.757730052877455e-29,
          "x": -3.678929765886288
         },
         {
          "Func": "Gaussian(mu=2, sigma=0.5)",
          "g(x)": 2.412481165397533e-28,
          "x": -3.6287625418060196
         },
         {
          "Func": "Gaussian(mu=2, sigma=0.5)",
          "g(x)": 7.427132235926647e-28,
          "x": -3.5785953177257523
         },
         {
          "Func": "Gaussian(mu=2, sigma=0.5)",
          "g(x)": 2.2636346756544683e-27,
          "x": -3.528428093645485
         },
         {
          "Func": "Gaussian(mu=2, sigma=0.5)",
          "g(x)": 6.829980702496897e-27,
          "x": -3.478260869565217
         },
         {
          "Func": "Gaussian(mu=2, sigma=0.5)",
          "g(x)": 2.040142823433171e-26,
          "x": -3.4280936454849495
         },
         {
          "Func": "Gaussian(mu=2, sigma=0.5)",
          "g(x)": 6.032948584921924e-26,
          "x": -3.3779264214046822
         },
         {
          "Func": "Gaussian(mu=2, sigma=0.5)",
          "g(x)": 1.7661461260769974e-25,
          "x": -3.327759197324415
         },
         {
          "Func": "Gaussian(mu=2, sigma=0.5)",
          "g(x)": 5.118604790723934e-25,
          "x": -3.2775919732441468
         },
         {
          "Func": "Gaussian(mu=2, sigma=0.5)",
          "g(x)": 1.468603373135605e-24,
          "x": -3.2274247491638794
         },
         {
          "Func": "Gaussian(mu=2, sigma=0.5)",
          "g(x)": 4.171434231742572e-24,
          "x": -3.177257525083612
         },
         {
          "Func": "Gaussian(mu=2, sigma=0.5)",
          "g(x)": 1.1729898034624855e-23,
          "x": -3.127090301003344
         },
         {
          "Func": "Gaussian(mu=2, sigma=0.5)",
          "g(x)": 3.2653597101767355e-23,
          "x": -3.0769230769230766
         },
         {
          "Func": "Gaussian(mu=2, sigma=0.5)",
          "g(x)": 8.999031658426402e-23,
          "x": -3.0267558528428093
         },
         {
          "Func": "Gaussian(mu=2, sigma=0.5)",
          "g(x)": 2.4552091064607556e-22,
          "x": -2.976588628762542
         },
         {
          "Func": "Gaussian(mu=2, sigma=0.5)",
          "g(x)": 6.631459927615629e-22,
          "x": -2.926421404682274
         },
         {
          "Func": "Gaussian(mu=2, sigma=0.5)",
          "g(x)": 1.7732001926836856e-21,
          "x": -2.8762541806020065
         },
         {
          "Func": "Gaussian(mu=2, sigma=0.5)",
          "g(x)": 4.693905552895806e-21,
          "x": -2.8260869565217392
         },
         {
          "Func": "Gaussian(mu=2, sigma=0.5)",
          "g(x)": 1.230095644095629e-20,
          "x": -2.775919732441471
         },
         {
          "Func": "Gaussian(mu=2, sigma=0.5)",
          "g(x)": 3.191327475230094e-20,
          "x": -2.7257525083612038
         },
         {
          "Func": "Gaussian(mu=2, sigma=0.5)",
          "g(x)": 8.196563704944882e-20,
          "x": -2.6755852842809364
         },
         {
          "Func": "Gaussian(mu=2, sigma=0.5)",
          "g(x)": 2.0841080104544181e-19,
          "x": -2.625418060200669
         },
         {
          "Func": "Gaussian(mu=2, sigma=0.5)",
          "g(x)": 5.246100230805845e-19,
          "x": -2.575250836120401
         },
         {
          "Func": "Gaussian(mu=2, sigma=0.5)",
          "g(x)": 1.3073169790011353e-18,
          "x": -2.5250836120401337
         },
         {
          "Func": "Gaussian(mu=2, sigma=0.5)",
          "g(x)": 3.2251741951355127e-18,
          "x": -2.4749163879598663
         },
         {
          "Func": "Gaussian(mu=2, sigma=0.5)",
          "g(x)": 7.876865099814672e-18,
          "x": -2.424749163879598
         },
         {
          "Func": "Gaussian(mu=2, sigma=0.5)",
          "g(x)": 1.9045027144487838e-17,
          "x": -2.374581939799331
         },
         {
          "Func": "Gaussian(mu=2, sigma=0.5)",
          "g(x)": 4.558665655052721e-17,
          "x": -2.3244147157190636
         },
         {
          "Func": "Gaussian(mu=2, sigma=0.5)",
          "g(x)": 1.0802439504754556e-16,
          "x": -2.2742474916387954
         },
         {
          "Func": "Gaussian(mu=2, sigma=0.5)",
          "g(x)": 2.534159241072708e-16,
          "x": -2.224080267558528
         },
         {
          "Func": "Gaussian(mu=2, sigma=0.5)",
          "g(x)": 5.885371976192574e-16,
          "x": -2.1739130434782608
         },
         {
          "Func": "Gaussian(mu=2, sigma=0.5)",
          "g(x)": 1.3531373731024468e-15,
          "x": -2.1237458193979935
         },
         {
          "Func": "Gaussian(mu=2, sigma=0.5)",
          "g(x)": 3.079908527880894e-15,
          "x": -2.0735785953177253
         },
         {
          "Func": "Gaussian(mu=2, sigma=0.5)",
          "g(x)": 6.9400356948816565e-15,
          "x": -2.023411371237458
         },
         {
          "Func": "Gaussian(mu=2, sigma=0.5)",
          "g(x)": 1.5481518171208504e-14,
          "x": -1.9732441471571907
         },
         {
          "Func": "Gaussian(mu=2, sigma=0.5)",
          "g(x)": 3.4189546980623976e-14,
          "x": -1.9230769230769234
         },
         {
          "Func": "Gaussian(mu=2, sigma=0.5)",
          "g(x)": 7.474826259326572e-14,
          "x": -1.872909698996656
         },
         {
          "Func": "Gaussian(mu=2, sigma=0.5)",
          "g(x)": 1.61784464480425e-13,
          "x": -1.822742474916387
         },
         {
          "Func": "Gaussian(mu=2, sigma=0.5)",
          "g(x)": 3.4665740814046215e-13,
          "x": -1.7725752508361197
         },
         {
          "Func": "Gaussian(mu=2, sigma=0.5)",
          "g(x)": 7.353466399044145e-13,
          "x": -1.7224080267558524
         },
         {
          "Func": "Gaussian(mu=2, sigma=0.5)",
          "g(x)": 1.5442289705761852e-12,
          "x": -1.672240802675585
         },
         {
          "Func": "Gaussian(mu=2, sigma=0.5)",
          "g(x)": 3.2104006606896867e-12,
          "x": -1.6220735785953178
         },
         {
          "Func": "Gaussian(mu=2, sigma=0.5)",
          "g(x)": 6.607462898578831e-12,
          "x": -1.5719063545150505
         },
         {
          "Func": "Gaussian(mu=2, sigma=0.5)",
          "g(x)": 1.3462886582991062e-11,
          "x": -1.5217391304347831
         },
         {
          "Func": "Gaussian(mu=2, sigma=0.5)",
          "g(x)": 2.715623747658115e-11,
          "x": -1.471571906354514
         },
         {
          "Func": "Gaussian(mu=2, sigma=0.5)",
          "g(x)": 5.4228671525229515e-11,
          "x": -1.4214046822742468
         },
         {
          "Func": "Gaussian(mu=2, sigma=0.5)",
          "g(x)": 1.0720530820231381e-10,
          "x": -1.3712374581939795
         },
         {
          "Func": "Gaussian(mu=2, sigma=0.5)",
          "g(x)": 2.098126025377757e-10,
          "x": -1.3210702341137122
         },
         {
          "Func": "Gaussian(mu=2, sigma=0.5)",
          "g(x)": 4.0651334651012676e-10,
          "x": -1.2709030100334449
         },
         {
          "Func": "Gaussian(mu=2, sigma=0.5)",
          "g(x)": 7.797331591078711e-10,
          "x": -1.2207357859531776
         },
         {
          "Func": "Gaussian(mu=2, sigma=0.5)",
          "g(x)": 1.4806252625104854e-09,
          "x": -1.1705685618729103
         },
         {
          "Func": "Gaussian(mu=2, sigma=0.5)",
          "g(x)": 2.7833784690977473e-09,
          "x": -1.1204013377926412
         },
         {
          "Func": "Gaussian(mu=2, sigma=0.5)",
          "g(x)": 5.179971002564859e-09,
          "x": -1.0702341137123739
         },
         {
          "Func": "Gaussian(mu=2, sigma=0.5)",
          "g(x)": 9.543558731925513e-09,
          "x": -1.0200668896321066
         },
         {
          "Func": "Gaussian(mu=2, sigma=0.5)",
          "g(x)": 1.7406895788802544e-08,
          "x": -0.9698996655518393
         },
         {
          "Func": "Gaussian(mu=2, sigma=0.5)",
          "g(x)": 3.143114953961354e-08,
          "x": -0.919732441471572
         },
         {
          "Func": "Gaussian(mu=2, sigma=0.5)",
          "g(x)": 5.6185876111773215e-08,
          "x": -0.8695652173913047
         },
         {
          "Func": "Gaussian(mu=2, sigma=0.5)",
          "g(x)": 9.943104560512295e-08,
          "x": -0.8193979933110374
         },
         {
          "Func": "Gaussian(mu=2, sigma=0.5)",
          "g(x)": 1.741986609949695e-07,
          "x": -0.7692307692307683
         },
         {
          "Func": "Gaussian(mu=2, sigma=0.5)",
          "g(x)": 3.021311997124827e-07,
          "x": -0.719063545150501
         },
         {
          "Func": "Gaussian(mu=2, sigma=0.5)",
          "g(x)": 5.187693328822577e-07,
          "x": -0.6688963210702337
         },
         {
          "Func": "Gaussian(mu=2, sigma=0.5)",
          "g(x)": 8.818220845466969e-07,
          "x": -0.6187290969899664
         },
         {
          "Func": "Gaussian(mu=2, sigma=0.5)",
          "g(x)": 1.4839374813520407e-06,
          "x": -0.5685618729096991
         },
         {
          "Func": "Gaussian(mu=2, sigma=0.5)",
          "g(x)": 2.4721692172040437e-06,
          "x": -0.5183946488294318
         },
         {
          "Func": "Gaussian(mu=2, sigma=0.5)",
          "g(x)": 4.077263141800626e-06,
          "x": -0.46822742474916446
         },
         {
          "Func": "Gaussian(mu=2, sigma=0.5)",
          "g(x)": 6.657133171842264e-06,
          "x": -0.4180602006688954
         },
         {
          "Func": "Gaussian(mu=2, sigma=0.5)",
          "g(x)": 1.0760531056015742e-05,
          "x": -0.3678929765886281
         },
         {
          "Func": "Gaussian(mu=2, sigma=0.5)",
          "g(x)": 1.7219007788751305e-05,
          "x": -0.31772575250836077
         },
         {
          "Func": "Gaussian(mu=2, sigma=0.5)",
          "g(x)": 2.7277872588057525e-05,
          "x": -0.26755852842809347
         },
         {
          "Func": "Gaussian(mu=2, sigma=0.5)",
          "g(x)": 4.2780004640371665e-05,
          "x": -0.21739130434782616
         },
         {
          "Func": "Gaussian(mu=2, sigma=0.5)",
          "g(x)": 6.642003727410498e-05,
          "x": -0.16722408026755886
         },
         {
          "Func": "Gaussian(mu=2, sigma=0.5)",
          "g(x)": 0.00010209050672286807,
          "x": -0.11705685618729156
         },
         {
          "Func": "Gaussian(mu=2, sigma=0.5)",
          "g(x)": 0.00015534581599265464,
          "x": -0.06688963210702248
         },
         {
          "Func": "Gaussian(mu=2, sigma=0.5)",
          "g(x)": 0.00023401393462053064,
          "x": -0.016722408026755176
         },
         {
          "Func": "Gaussian(mu=2, sigma=0.5)",
          "g(x)": 0.000348989076507078,
          "x": 0.03344481605351213
         },
         {
          "Func": "Gaussian(mu=2, sigma=0.5)",
          "g(x)": 0.0005152403958854396,
          "x": 0.08361204013377943
         },
         {
          "Func": "Gaussian(mu=2, sigma=0.5)",
          "g(x)": 0.0007530710173967444,
          "x": 0.13377926421404673
         },
         {
          "Func": "Gaussian(mu=2, sigma=0.5)",
          "g(x)": 0.0010896572656149594,
          "x": 0.18394648829431404
         },
         {
          "Func": "Gaussian(mu=2, sigma=0.5)",
          "g(x)": 0.0015608884286357411,
          "x": 0.23411371237458134
         },
         {
          "Func": "Gaussian(mu=2, sigma=0.5)",
          "g(x)": 0.0022135113843317284,
          "x": 0.2842809364548504
         },
         {
          "Func": "Gaussian(mu=2, sigma=0.5)",
          "g(x)": 0.0031075606653469126,
          "x": 0.3344481605351177
         },
         {
          "Func": "Gaussian(mu=2, sigma=0.5)",
          "g(x)": 0.004319022118157694,
          "x": 0.384615384615385
         },
         {
          "Func": "Gaussian(mu=2, sigma=0.5)",
          "g(x)": 0.005942636928674572,
          "x": 0.43478260869565233
         },
         {
          "Func": "Gaussian(mu=2, sigma=0.5)",
          "g(x)": 0.00809470308729202,
          "x": 0.48494983277591963
         },
         {
          "Func": "Gaussian(mu=2, sigma=0.5)",
          "g(x)": 0.010915675245796225,
          "x": 0.5351170568561869
         },
         {
          "Func": "Gaussian(mu=2, sigma=0.5)",
          "g(x)": 0.014572304786186678,
          "x": 0.5852842809364542
         },
         {
          "Func": "Gaussian(mu=2, sigma=0.5)",
          "g(x)": 0.019259004854676135,
          "x": 0.6354515050167233
         },
         {
          "Func": "Gaussian(mu=2, sigma=0.5)",
          "g(x)": 0.025198076840101606,
          "x": 0.6856187290969906
         },
         {
          "Func": "Gaussian(mu=2, sigma=0.5)",
          "g(x)": 0.03263840341668509,
          "x": 0.7357859531772579
         },
         {
          "Func": "Gaussian(mu=2, sigma=0.5)",
          "g(x)": 0.04185220780391616,
          "x": 0.7859531772575252
         },
         {
          "Func": "Gaussian(mu=2, sigma=0.5)",
          "g(x)": 0.05312950831124035,
          "x": 0.8361204013377925
         },
         {
          "Func": "Gaussian(mu=2, sigma=0.5)",
          "g(x)": 0.06676996941091695,
          "x": 0.8862876254180598
         },
         {
          "Func": "Gaussian(mu=2, sigma=0.5)",
          "g(x)": 0.08307197095675414,
          "x": 0.9364548494983289
         },
         {
          "Func": "Gaussian(mu=2, sigma=0.5)",
          "g(x)": 0.10231888733238052,
          "x": 0.9866220735785962
         },
         {
          "Func": "Gaussian(mu=2, sigma=0.5)",
          "g(x)": 0.12476278472278415,
          "x": 1.0367892976588635
         },
         {
          "Func": "Gaussian(mu=2, sigma=0.5)",
          "g(x)": 0.1506059977015071,
          "x": 1.0869565217391308
         },
         {
          "Func": "Gaussian(mu=2, sigma=0.5)",
          "g(x)": 0.1799813197395256,
          "x": 1.1371237458193981
         },
         {
          "Func": "Gaussian(mu=2, sigma=0.5)",
          "g(x)": 0.21293181372967568,
          "x": 1.1872909698996654
         },
         {
          "Func": "Gaussian(mu=2, sigma=0.5)",
          "g(x)": 0.249391490925115,
          "x": 1.2374581939799327
         },
         {
          "Func": "Gaussian(mu=2, sigma=0.5)",
          "g(x)": 0.28916828982060144,
          "x": 1.2876254180602018
         },
         {
          "Func": "Gaussian(mu=2, sigma=0.5)",
          "g(x)": 0.33193088075033883,
          "x": 1.3377926421404691
         },
         {
          "Func": "Gaussian(mu=2, sigma=0.5)",
          "g(x)": 0.3772008014999407,
          "x": 1.3879598662207364
         },
         {
          "Func": "Gaussian(mu=2, sigma=0.5)",
          "g(x)": 0.42435127585877724,
          "x": 1.4381270903010037
         },
         {
          "Func": "Gaussian(mu=2, sigma=0.5)",
          "g(x)": 0.47261377374752134,
          "x": 1.488294314381271
         },
         {
          "Func": "Gaussian(mu=2, sigma=0.5)",
          "g(x)": 0.5210929451164701,
          "x": 1.5384615384615383
         },
         {
          "Func": "Gaussian(mu=2, sigma=0.5)",
          "g(x)": 0.5687900221027037,
          "x": 1.5886287625418056
         },
         {
          "Func": "Gaussian(mu=2, sigma=0.5)",
          "g(x)": 0.6146341715301313,
          "x": 1.6387959866220747
         },
         {
          "Func": "Gaussian(mu=2, sigma=0.5)",
          "g(x)": 0.6575206416766939,
          "x": 1.688963210702342
         },
         {
          "Func": "Gaussian(mu=2, sigma=0.5)",
          "g(x)": 0.6963539404642246,
          "x": 1.7391304347826093
         },
         {
          "Func": "Gaussian(mu=2, sigma=0.5)",
          "g(x)": 0.7300937665452749,
          "x": 1.7892976588628766
         },
         {
          "Func": "Gaussian(mu=2, sigma=0.5)",
          "g(x)": 0.7578010458677766,
          "x": 1.839464882943144
         },
         {
          "Func": "Gaussian(mu=2, sigma=0.5)",
          "g(x)": 0.7786812492499008,
          "x": 1.8896321070234112
         },
         {
          "Func": "Gaussian(mu=2, sigma=0.5)",
          "g(x)": 0.7921222098417158,
          "x": 1.9397993311036785
         },
         {
          "Func": "Gaussian(mu=2, sigma=0.5)",
          "g(x)": 0.7977239308728136,
          "x": 1.9899665551839476
         },
         {
          "Func": "Gaussian(mu=2, sigma=0.5)",
          "g(x)": 0.7953183588361843,
          "x": 2.040133779264215
         },
         {
          "Func": "Gaussian(mu=2, sigma=0.5)",
          "g(x)": 0.7849777582388932,
          "x": 2.090301003344482
         },
         {
          "Func": "Gaussian(mu=2, sigma=0.5)",
          "g(x)": 0.7670111055795915,
          "x": 2.1404682274247495
         },
         {
          "Func": "Gaussian(mu=2, sigma=0.5)",
          "g(x)": 0.7419487536320591,
          "x": 2.190635451505017
         },
         {
          "Func": "Gaussian(mu=2, sigma=0.5)",
          "g(x)": 0.710516428130909,
          "x": 2.240802675585284
         },
         {
          "Func": "Gaussian(mu=2, sigma=0.5)",
          "g(x)": 0.6736003357132506,
          "x": 2.2909698996655514
         },
         {
          "Func": "Gaussian(mu=2, sigma=0.5)",
          "g(x)": 0.6322057228019279,
          "x": 2.3411371237458205
         },
         {
          "Func": "Gaussian(mu=2, sigma=0.5)",
          "g(x)": 0.5874115850036524,
          "x": 2.391304347826088
         },
         {
          "Func": "Gaussian(mu=2, sigma=0.5)",
          "g(x)": 0.5403243615331711,
          "x": 2.441471571906355
         },
         {
          "Func": "Gaussian(mu=2, sigma=0.5)",
          "g(x)": 0.4920333579469161,
          "x": 2.4916387959866224
         },
         {
          "Func": "Gaussian(mu=2, sigma=0.5)",
          "g(x)": 0.44357034371400983,
          "x": 2.5418060200668897
         },
         {
          "Func": "Gaussian(mu=2, sigma=0.5)",
          "g(x)": 0.3958753079538106,
          "x": 2.591973244147157
         },
         {
          "Func": "Gaussian(mu=2, sigma=0.5)",
          "g(x)": 0.3497697792439333,
          "x": 2.6421404682274243
         },
         {
          "Func": "Gaussian(mu=2, sigma=0.5)",
          "g(x)": 0.30593848265929724,
          "x": 2.6923076923076934
         },
         {
          "Func": "Gaussian(mu=2, sigma=0.5)",
          "g(x)": 0.2649194780524843,
          "x": 2.7424749163879607
         },
         {
          "Func": "Gaussian(mu=2, sigma=0.5)",
          "g(x)": 0.22710235084549085,
          "x": 2.792642140468228
         },
         {
          "Func": "Gaussian(mu=2, sigma=0.5)",
          "g(x)": 0.19273355217868773,
          "x": 2.8428093645484953
         },
         {
          "Func": "Gaussian(mu=2, sigma=0.5)",
          "g(x)": 0.16192763706568306,
          "x": 2.8929765886287626
         },
         {
          "Func": "Gaussian(mu=2, sigma=0.5)",
          "g(x)": 0.13468293998091752,
          "x": 2.94314381270903
         },
         {
          "Func": "Gaussian(mu=2, sigma=0.5)",
          "g(x)": 0.1109001553007238,
          "x": 2.993311036789297
         },
         {
          "Func": "Gaussian(mu=2, sigma=0.5)",
          "g(x)": 0.09040234113037163,
          "x": 3.0434782608695663
         },
         {
          "Func": "Gaussian(mu=2, sigma=0.5)",
          "g(x)": 0.07295501605879148,
          "x": 3.0936454849498336
         },
         {
          "Func": "Gaussian(mu=2, sigma=0.5)",
          "g(x)": 0.058285240676051335,
          "x": 3.143812709030101
         },
         {
          "Func": "Gaussian(mu=2, sigma=0.5)",
          "g(x)": 0.046098838985858676,
          "x": 3.193979933110368
         },
         {
          "Func": "Gaussian(mu=2, sigma=0.5)",
          "g(x)": 0.03609519048302925,
          "x": 3.2441471571906355
         },
         {
          "Func": "Gaussian(mu=2, sigma=0.5)",
          "g(x)": 0.02797928713382185,
          "x": 3.294314381270903
         },
         {
          "Func": "Gaussian(mu=2, sigma=0.5)",
          "g(x)": 0.02147098206436911,
          "x": 3.34448160535117
         },
         {
          "Func": "Gaussian(mu=2, sigma=0.5)",
          "g(x)": 0.016311546177050978,
          "x": 3.394648829431439
         },
         {
          "Func": "Gaussian(mu=2, sigma=0.5)",
          "g(x)": 0.01226778927578609,
          "x": 3.4448160535117065
         },
         {
          "Func": "Gaussian(mu=2, sigma=0.5)",
          "g(x)": 0.009134093267890123,
          "x": 3.494983277591974
         },
         {
          "Func": "Gaussian(mu=2, sigma=0.5)",
          "g(x)": 0.006732750689290109,
          "x": 3.545150501672241
         },
         {
          "Func": "Gaussian(mu=2, sigma=0.5)",
          "g(x)": 0.004913009241118927,
          "x": 3.5953177257525084
         },
         {
          "Func": "Gaussian(mu=2, sigma=0.5)",
          "g(x)": 0.0035492009231684035,
          "x": 3.6454849498327757
         },
         {
          "Func": "Gaussian(mu=2, sigma=0.5)",
          "g(x)": 0.0025382918036621228,
          "x": 3.695652173913043
         },
         {
          "Func": "Gaussian(mu=2, sigma=0.5)",
          "g(x)": 0.001797134021154031,
          "x": 3.745819397993312
         },
         {
          "Func": "Gaussian(mu=2, sigma=0.5)",
          "g(x)": 0.0012596426038666453,
          "x": 3.7959866220735794
         },
         {
          "Func": "Gaussian(mu=2, sigma=0.5)",
          "g(x)": 0.0008740618659430435,
          "x": 3.8461538461538467
         },
         {
          "Func": "Gaussian(mu=2, sigma=0.5)",
          "g(x)": 0.0006004335649387875,
          "x": 3.896321070234114
         },
         {
          "Func": "Gaussian(mu=2, sigma=0.5)",
          "g(x)": 0.0004083341545753881,
          "x": 3.9464882943143813
         },
         {
          "Func": "Gaussian(mu=2, sigma=0.5)",
          "g(x)": 0.0002749124510188789,
          "x": 3.9966555183946486
         },
         {
          "Func": "Gaussian(mu=2, sigma=0.5)",
          "g(x)": 0.00018323189328916349,
          "x": 4.046822742474916
         },
         {
          "Func": "Gaussian(mu=2, sigma=0.5)",
          "g(x)": 0.00012090261243936211,
          "x": 4.096989966555185
         },
         {
          "Func": "Gaussian(mu=2, sigma=0.5)",
          "g(x)": 7.897656814603857e-05,
          "x": 4.147157190635452
         },
         {
          "Func": "Gaussian(mu=2, sigma=0.5)",
          "g(x)": 5.1072696447087956e-05,
          "x": 4.19732441471572
         },
         {
          "Func": "Gaussian(mu=2, sigma=0.5)",
          "g(x)": 3.269695232220192e-05,
          "x": 4.247491638795987
         },
         {
          "Func": "Gaussian(mu=2, sigma=0.5)",
          "g(x)": 2.0723052024257272e-05,
          "x": 4.297658862876254
         },
         {
          "Func": "Gaussian(mu=2, sigma=0.5)",
          "g(x)": 1.3002537570353004e-05,
          "x": 4.3478260869565215
         },
         {
          "Func": "Gaussian(mu=2, sigma=0.5)",
          "g(x)": 8.076635326069394e-06,
          "x": 4.397993311036789
         },
         {
          "Func": "Gaussian(mu=2, sigma=0.5)",
          "g(x)": 4.966618339382382e-06,
          "x": 4.448160535117058
         },
         {
          "Func": "Gaussian(mu=2, sigma=0.5)",
          "g(x)": 3.023563251787444e-06,
          "x": 4.498327759197325
         },
         {
          "Func": "Gaussian(mu=2, sigma=0.5)",
          "g(x)": 1.8222387830967454e-06,
          "x": 4.5484949832775925
         },
         {
          "Func": "Gaussian(mu=2, sigma=0.5)",
          "g(x)": 1.0872250989156538e-06,
          "x": 4.59866220735786
         },
         {
          "Func": "Gaussian(mu=2, sigma=0.5)",
          "g(x)": 6.421871490262392e-07,
          "x": 4.648829431438127
         },
         {
          "Func": "Gaussian(mu=2, sigma=0.5)",
          "g(x)": 3.755188205686414e-07,
          "x": 4.698996655518394
         },
         {
          "Func": "Gaussian(mu=2, sigma=0.5)",
          "g(x)": 2.1738509466144356e-07,
          "x": 4.749163879598662
         },
         {
          "Func": "Gaussian(mu=2, sigma=0.5)",
          "g(x)": 1.245821363693637e-07,
          "x": 4.799331103678931
         },
         {
          "Func": "Gaussian(mu=2, sigma=0.5)",
          "g(x)": 7.068214849581237e-08,
          "x": 4.849498327759198
         },
         {
          "Func": "Gaussian(mu=2, sigma=0.5)",
          "g(x)": 3.9700106061057674e-08,
          "x": 4.899665551839465
         },
         {
          "Func": "Gaussian(mu=2, sigma=0.5)",
          "g(x)": 2.2075042517175915e-08,
          "x": 4.949832775919733
         },
         {
          "Func": "Gaussian(mu=2, sigma=0.5)",
          "g(x)": 1.2151765699646572e-08,
          "x": 5
         }
        ]
       },
       "encoding": {
        "color": {
         "field": "Func",
         "type": "nominal"
        },
        "x": {
         "field": "x",
         "type": "quantitative"
        },
        "y": {
         "field": "g(x)",
         "type": "quantitative"
        }
       },
       "mark": "line"
      },
      "image/png": "[encoded data removed]",
      "text/plain": [
       "<VegaLite 3 object>\n",
       "\n",
       "If you see this message, it means the renderer has not been properly enabled\n",
       "for the frontend that you are using. For more information, see\n",
       "https://altair-viz.github.io/user_guide/troubleshooting.html\n"
      ]
     },
     "execution_count": 44,
     "metadata": {},
     "output_type": "execute_result"
    }
   ],
   "source": [
    "import altair as alt\n",
    "alt.Chart(df).mark_line().encode(\n",
    "    x=\"x\",\n",
    "    y=\"g(x)\",\n",
    "    color=\"Func\"\n",
    ")"
   ]
  },
  {
   "cell_type": "markdown",
   "metadata": {},
   "source": [
    "Bam! That's it! Just a few lines. This short snippet of code plotted\n",
    "all of our functions and colored them differently. Additionally, It was able\n",
    "to generate a very detailed legend detailing all of our parameters. Since\n",
    "all of this was done so automatically, there's no chance for us to mix up \n",
    "our labels and functions, to boot.\n",
    "\n",
    "And if we want to split our functions into different plots, we\n",
    "only have to change `color` to `row`."
   ]
  },
  {
   "cell_type": "code",
   "execution_count": 49,
   "metadata": {},
   "outputs": [
    {
     "data": {
      "application/vnd.vegalite.v3+json": {
       "$schema": "https://vega.github.io/schema/vega-lite/v3.2.1.json",
       "config": {
        "mark": {
         "tooltip": null
        },
        "view": {
         "height": 300,
         "width": 400
        }
       },
       "data": {
        "name": "data-2d39b8ef830be996dd2c659338b85258"
       },
       "datasets": {
        "data-2d39b8ef830be996dd2c659338b85258": [
         {
          "Func": "Gaussian(mu=-3, sigma=2)",
          "g(x)": 0.0004363413475228801,
          "x": -10
         },
         {
          "Func": "Gaussian(mu=-3, sigma=2)",
          "g(x)": 0.0004762309342380628,
          "x": -9.949832775919733
         },
         {
          "Func": "Gaussian(mu=-3, sigma=2)",
          "g(x)": 0.000519440231199887,
          "x": -9.899665551839465
         },
         {
          "Func": "Gaussian(mu=-3, sigma=2)",
          "g(x)": 0.0005662136194111191,
          "x": -9.849498327759198
         },
         {
          "Func": "Gaussian(mu=-3, sigma=2)",
          "g(x)": 0.0006168105410593263,
          "x": -9.799331103678929
         },
         {
          "Func": "Gaussian(mu=-3, sigma=2)",
          "g(x)": 0.0006715061738171468,
          "x": -9.749163879598662
         },
         {
          "Func": "Gaussian(mu=-3, sigma=2)",
          "g(x)": 0.0007305921139517464,
          "x": -9.698996655518394
         },
         {
          "Func": "Gaussian(mu=-3, sigma=2)",
          "g(x)": 0.0007943770663398397,
          "x": -9.648829431438127
         },
         {
          "Func": "Gaussian(mu=-3, sigma=2)",
          "g(x)": 0.0008631875392835744,
          "x": -9.59866220735786
         },
         {
          "Func": "Gaussian(mu=-3, sigma=2)",
          "g(x)": 0.0009373685418146708,
          "x": -9.548494983277592
         },
         {
          "Func": "Gaussian(mu=-3, sigma=2)",
          "g(x)": 0.0010172842809601742,
          "x": -9.498327759197325
         },
         {
          "Func": "Gaussian(mu=-3, sigma=2)",
          "g(x)": 0.0011033188562237094,
          "x": -9.448160535117056
         },
         {
          "Func": "Gaussian(mu=-3, sigma=2)",
          "g(x)": 0.0011958769483120346,
          "x": -9.397993311036789
         },
         {
          "Func": "Gaussian(mu=-3, sigma=2)",
          "g(x)": 0.001295384498909021,
          "x": -9.347826086956522
         },
         {
          "Func": "Gaussian(mu=-3, sigma=2)",
          "g(x)": 0.001402289378068669,
          "x": -9.297658862876254
         },
         {
          "Func": "Gaussian(mu=-3, sigma=2)",
          "g(x)": 0.0015170620355669628,
          "x": -9.247491638795987
         },
         {
          "Func": "Gaussian(mu=-3, sigma=2)",
          "g(x)": 0.0016401961323201297,
          "x": -9.19732441471572
         },
         {
          "Func": "Gaussian(mu=-3, sigma=2)",
          "g(x)": 0.0017722091477457398,
          "x": -9.147157190635452
         },
         {
          "Func": "Gaussian(mu=-3, sigma=2)",
          "g(x)": 0.0019136429587144899,
          "x": -9.096989966555183
         },
         {
          "Func": "Gaussian(mu=-3, sigma=2)",
          "g(x)": 0.0020650643855159466,
          "x": -9.046822742474916
         },
         {
          "Func": "Gaussian(mu=-3, sigma=2)",
          "g(x)": 0.0022270657000427745,
          "x": -8.996655518394649
         },
         {
          "Func": "Gaussian(mu=-3, sigma=2)",
          "g(x)": 0.0024002650911864993,
          "x": -8.946488294314381
         },
         {
          "Func": "Gaussian(mu=-3, sigma=2)",
          "g(x)": 0.0025853070822359388,
          "x": -8.896321070234114
         },
         {
          "Func": "Gaussian(mu=-3, sigma=2)",
          "g(x)": 0.0027828628948785732,
          "x": -8.846153846153847
         },
         {
          "Func": "Gaussian(mu=-3, sigma=2)",
          "g(x)": 0.0029936307542275634,
          "x": -8.795986622073578
         },
         {
          "Func": "Gaussian(mu=-3, sigma=2)",
          "g(x)": 0.0032183361291349103,
          "x": -8.74581939799331
         },
         {
          "Func": "Gaussian(mu=-3, sigma=2)",
          "g(x)": 0.003457731901906526,
          "x": -8.695652173913043
         },
         {
          "Func": "Gaussian(mu=-3, sigma=2)",
          "g(x)": 0.0037125984614097243,
          "x": -8.645484949832776
         },
         {
          "Func": "Gaussian(mu=-3, sigma=2)",
          "g(x)": 0.003983743713460551,
          "x": -8.595317725752508
         },
         {
          "Func": "Gaussian(mu=-3, sigma=2)",
          "g(x)": 0.004272003002299159,
          "x": -8.545150501672241
         },
         {
          "Func": "Gaussian(mu=-3, sigma=2)",
          "g(x)": 0.004578238936908796,
          "x": -8.494983277591974
         },
         {
          "Func": "Gaussian(mu=-3, sigma=2)",
          "g(x)": 0.004903341115909862,
          "x": -8.444816053511705
         },
         {
          "Func": "Gaussian(mu=-3, sigma=2)",
          "g(x)": 0.005248225744767347,
          "x": -8.394648829431437
         },
         {
          "Func": "Gaussian(mu=-3, sigma=2)",
          "g(x)": 0.005613835139090126,
          "x": -8.34448160535117
         },
         {
          "Func": "Gaussian(mu=-3, sigma=2)",
          "g(x)": 0.00600113710787544,
          "x": -8.294314381270903
         },
         {
          "Func": "Gaussian(mu=-3, sigma=2)",
          "g(x)": 0.006411124210664819,
          "x": -8.244147157190636
         },
         {
          "Func": "Gaussian(mu=-3, sigma=2)",
          "g(x)": 0.006844812882729452,
          "x": -8.193979933110368
         },
         {
          "Func": "Gaussian(mu=-3, sigma=2)",
          "g(x)": 0.0073032424225959736,
          "x": -8.143812709030101
         },
         {
          "Func": "Gaussian(mu=-3, sigma=2)",
          "g(x)": 0.0077874738364598,
          "x": -8.093645484949832
         },
         {
          "Func": "Gaussian(mu=-3, sigma=2)",
          "g(x)": 0.008298588534313228,
          "x": -8.043478260869565
         },
         {
          "Func": "Gaussian(mu=-3, sigma=2)",
          "g(x)": 0.008837686872942337,
          "x": -7.993311036789297
         },
         {
          "Func": "Gaussian(mu=-3, sigma=2)",
          "g(x)": 0.009405886541319262,
          "x": -7.94314381270903
         },
         {
          "Func": "Gaussian(mu=-3, sigma=2)",
          "g(x)": 0.010004320784338345,
          "x": -7.892976588628763
         },
         {
          "Func": "Gaussian(mu=-3, sigma=2)",
          "g(x)": 0.010634136461314196,
          "x": -7.842809364548495
         },
         {
          "Func": "Gaussian(mu=-3, sigma=2)",
          "g(x)": 0.01129649193617885,
          "x": -7.792642140468228
         },
         {
          "Func": "Gaussian(mu=-3, sigma=2)",
          "g(x)": 0.011992554796883565,
          "x": -7.74247491638796
         },
         {
          "Func": "Gaussian(mu=-3, sigma=2)",
          "g(x)": 0.012723499402127907,
          "x": -7.692307692307692
         },
         {
          "Func": "Gaussian(mu=-3, sigma=2)",
          "g(x)": 0.013490504254205136,
          "x": -7.642140468227424
         },
         {
          "Func": "Gaussian(mu=-3, sigma=2)",
          "g(x)": 0.014294749197466173,
          "x": -7.591973244147157
         },
         {
          "Func": "Gaussian(mu=-3, sigma=2)",
          "g(x)": 0.015137412442664866,
          "x": -7.54180602006689
         },
         {
          "Func": "Gaussian(mu=-3, sigma=2)",
          "g(x)": 0.016019667418252413,
          "x": -7.491638795986622
         },
         {
          "Func": "Gaussian(mu=-3, sigma=2)",
          "g(x)": 0.01694267945053702,
          "x": -7.441471571906355
         },
         {
          "Func": "Gaussian(mu=-3, sigma=2)",
          "g(x)": 0.017907602275513447,
          "x": -7.391304347826087
         },
         {
          "Func": "Gaussian(mu=-3, sigma=2)",
          "g(x)": 0.018915574386094005,
          "x": -7.341137123745819
         },
         {
          "Func": "Gaussian(mu=-3, sigma=2)",
          "g(x)": 0.01996771521943369,
          "x": -7.290969899665551
         },
         {
          "Func": "Gaussian(mu=-3, sigma=2)",
          "g(x)": 0.02106512119003472,
          "x": -7.240802675585284
         },
         {
          "Func": "Gaussian(mu=-3, sigma=2)",
          "g(x)": 0.022208861575334825,
          "x": -7.190635451505017
         },
         {
          "Func": "Gaussian(mu=-3, sigma=2)",
          "g(x)": 0.02339997426152655,
          "x": -7.1404682274247495
         },
         {
          "Func": "Gaussian(mu=-3, sigma=2)",
          "g(x)": 0.02463946135841429,
          "x": -7.090301003344481
         },
         {
          "Func": "Gaussian(mu=-3, sigma=2)",
          "g(x)": 0.02592828469318885,
          "x": -7.040133779264214
         },
         {
          "Func": "Gaussian(mu=-3, sigma=2)",
          "g(x)": 0.027267361194079826,
          "x": -6.989966555183946
         },
         {
          "Func": "Gaussian(mu=-3, sigma=2)",
          "g(x)": 0.028657558175926547,
          "x": -6.9397993311036785
         },
         {
          "Func": "Gaussian(mu=-3, sigma=2)",
          "g(x)": 0.030099688540785836,
          "x": -6.889632107023411
         },
         {
          "Func": "Gaussian(mu=-3, sigma=2)",
          "g(x)": 0.031594505907759175,
          "x": -6.839464882943144
         },
         {
          "Func": "Gaussian(mu=-3, sigma=2)",
          "g(x)": 0.033142699687269246,
          "x": -6.789297658862877
         },
         {
          "Func": "Gaussian(mu=-3, sigma=2)",
          "g(x)": 0.03474489011603741,
          "x": -6.739130434782608
         },
         {
          "Func": "Gaussian(mu=-3, sigma=2)",
          "g(x)": 0.03640162327000292,
          "x": -6.688963210702341
         },
         {
          "Func": "Gaussian(mu=-3, sigma=2)",
          "g(x)": 0.03811336607337497,
          "x": -6.638795986622073
         },
         {
          "Func": "Gaussian(mu=-3, sigma=2)",
          "g(x)": 0.03988050132290986,
          "x": -6.588628762541806
         },
         {
          "Func": "Gaussian(mu=-3, sigma=2)",
          "g(x)": 0.041703322747355144,
          "x": -6.538461538461538
         },
         {
          "Func": "Gaussian(mu=-3, sigma=2)",
          "g(x)": 0.043582030122786254,
          "x": -6.488294314381271
         },
         {
          "Func": "Gaussian(mu=-3, sigma=2)",
          "g(x)": 0.04551672446527826,
          "x": -6.438127090301004
         },
         {
          "Func": "Gaussian(mu=-3, sigma=2)",
          "g(x)": 0.04750740332299339,
          "x": -6.3879598662207355
         },
         {
          "Func": "Gaussian(mu=-3, sigma=2)",
          "g(x)": 0.049553956190319194,
          "x": -6.337792642140468
         },
         {
          "Func": "Gaussian(mu=-3, sigma=2)",
          "g(x)": 0.05165616006715572,
          "x": -6.2876254180602
         },
         {
          "Func": "Gaussian(mu=-3, sigma=2)",
          "g(x)": 0.053813675186813195,
          "x": -6.237458193979933
         },
         {
          "Func": "Gaussian(mu=-3, sigma=2)",
          "g(x)": 0.05602604093624403,
          "x": -6.187290969899665
         },
         {
          "Func": "Gaussian(mu=-3, sigma=2)",
          "g(x)": 0.05829267199247998,
          "x": -6.137123745819398
         },
         {
          "Func": "Gaussian(mu=-3, sigma=2)",
          "g(x)": 0.06061285469917987,
          "x": -6.086956521739131
         },
         {
          "Func": "Gaussian(mu=-3, sigma=2)",
          "g(x)": 0.06298574370710504,
          "x": -6.036789297658863
         },
         {
          "Func": "Gaussian(mu=-3, sigma=2)",
          "g(x)": 0.06541035890212472,
          "x": -5.986622073578595
         },
         {
          "Func": "Gaussian(mu=-3, sigma=2)",
          "g(x)": 0.06788558264401107,
          "x": -5.936454849498328
         },
         {
          "Func": "Gaussian(mu=-3, sigma=2)",
          "g(x)": 0.07041015733880535,
          "x": -5.88628762541806
         },
         {
          "Func": "Gaussian(mu=-3, sigma=2)",
          "g(x)": 0.07298268336692589,
          "x": -5.8361204013377925
         },
         {
          "Func": "Gaussian(mu=-3, sigma=2)",
          "g(x)": 0.07560161738843879,
          "x": -5.785953177257525
         },
         {
          "Func": "Gaussian(mu=-3, sigma=2)",
          "g(x)": 0.0782652710460238,
          "x": -5.735785953177257
         },
         {
          "Func": "Gaussian(mu=-3, sigma=2)",
          "g(x)": 0.08097181008514345,
          "x": -5.68561872909699
         },
         {
          "Func": "Gaussian(mu=-3, sigma=2)",
          "g(x)": 0.08371925390976065,
          "x": -5.635451505016722
         },
         {
          "Func": "Gaussian(mu=-3, sigma=2)",
          "g(x)": 0.08650547559064972,
          "x": -5.585284280936455
         },
         {
          "Func": "Gaussian(mu=-3, sigma=2)",
          "g(x)": 0.08932820234191617,
          "x": -5.535117056856187
         },
         {
          "Func": "Gaussian(mu=-3, sigma=2)",
          "g(x)": 0.09218501647977852,
          "x": -5.48494983277592
         },
         {
          "Func": "Gaussian(mu=-3, sigma=2)",
          "g(x)": 0.09507335687598042,
          "x": -5.434782608695652
         },
         {
          "Func": "Gaussian(mu=-3, sigma=2)",
          "g(x)": 0.09799052091639558,
          "x": -5.384615384615384
         },
         {
          "Func": "Gaussian(mu=-3, sigma=2)",
          "g(x)": 0.10093366697347039,
          "x": -5.334448160535117
         },
         {
          "Func": "Gaussian(mu=-3, sigma=2)",
          "g(x)": 0.10389981739912688,
          "x": -5.2842809364548495
         },
         {
          "Func": "Gaussian(mu=-3, sigma=2)",
          "g(x)": 0.1068858620426258,
          "x": -5.234113712374582
         },
         {
          "Func": "Gaussian(mu=-3, sigma=2)",
          "g(x)": 0.10988856229568361,
          "x": -5.183946488294314
         },
         {
          "Func": "Gaussian(mu=-3, sigma=2)",
          "g(x)": 0.11290455566484832,
          "x": -5.133779264214047
         },
         {
          "Func": "Gaussian(mu=-3, sigma=2)",
          "g(x)": 0.11593036086878757,
          "x": -5.083612040133779
         },
         {
          "Func": "Gaussian(mu=-3, sigma=2)",
          "g(x)": 0.11896238345573101,
          "x": -5.033444816053511
         },
         {
          "Func": "Gaussian(mu=-3, sigma=2)",
          "g(x)": 0.12199692193385693,
          "x": -4.983277591973244
         },
         {
          "Func": "Gaussian(mu=-3, sigma=2)",
          "g(x)": 0.12503017440493072,
          "x": -4.933110367892977
         },
         {
          "Func": "Gaussian(mu=-3, sigma=2)",
          "g(x)": 0.1280582456890006,
          "x": -4.882943143812709
         },
         {
          "Func": "Gaussian(mu=-3, sigma=2)",
          "g(x)": 0.13107715492545327,
          "x": -4.832775919732441
         },
         {
          "Func": "Gaussian(mu=-3, sigma=2)",
          "g(x)": 0.13408284363323972,
          "x": -4.782608695652174
         },
         {
          "Func": "Gaussian(mu=-3, sigma=2)",
          "g(x)": 0.13707118421061362,
          "x": -4.7324414715719065
         },
         {
          "Func": "Gaussian(mu=-3, sigma=2)",
          "g(x)": 0.1400379888522981,
          "x": -4.682274247491638
         },
         {
          "Func": "Gaussian(mu=-3, sigma=2)",
          "g(x)": 0.14297901885962527,
          "x": -4.632107023411371
         },
         {
          "Func": "Gaussian(mu=-3, sigma=2)",
          "g(x)": 0.1458899943168914,
          "x": -4.581939799331104
         },
         {
          "Func": "Gaussian(mu=-3, sigma=2)",
          "g(x)": 0.14876660410495315,
          "x": -4.5317725752508355
         },
         {
          "Func": "Gaussian(mu=-3, sigma=2)",
          "g(x)": 0.15160451622097346,
          "x": -4.481605351170568
         },
         {
          "Func": "Gaussian(mu=-3, sigma=2)",
          "g(x)": 0.15439938837122172,
          "x": -4.431438127090301
         },
         {
          "Func": "Gaussian(mu=-3, sigma=2)",
          "g(x)": 0.1571468788019555,
          "x": -4.381270903010034
         },
         {
          "Func": "Gaussian(mu=-3, sigma=2)",
          "g(x)": 0.15984265733167619,
          "x": -4.331103678929765
         },
         {
          "Func": "Gaussian(mu=-3, sigma=2)",
          "g(x)": 0.16248241654646692,
          "x": -4.280936454849498
         },
         {
          "Func": "Gaussian(mu=-3, sigma=2)",
          "g(x)": 0.16506188311870548,
          "x": -4.230769230769231
         },
         {
          "Func": "Gaussian(mu=-3, sigma=2)",
          "g(x)": 0.16757682920820105,
          "x": -4.180602006688963
         },
         {
          "Func": "Gaussian(mu=-3, sigma=2)",
          "g(x)": 0.17002308390375082,
          "x": -4.130434782608695
         },
         {
          "Func": "Gaussian(mu=-3, sigma=2)",
          "g(x)": 0.17239654466225257,
          "x": -4.080267558528428
         },
         {
          "Func": "Gaussian(mu=-3, sigma=2)",
          "g(x)": 0.17469318870185316,
          "x": -4.030100334448161
         },
         {
          "Func": "Gaussian(mu=-3, sigma=2)",
          "g(x)": 0.17690908430516802,
          "x": -3.9799331103678925
         },
         {
          "Func": "Gaussian(mu=-3, sigma=2)",
          "g(x)": 0.17904040198837795,
          "x": -3.9297658862876252
         },
         {
          "Func": "Gaussian(mu=-3, sigma=2)",
          "g(x)": 0.1810834254920013,
          "x": -3.879598662207358
         },
         {
          "Func": "Gaussian(mu=-3, sigma=2)",
          "g(x)": 0.18303456254935405,
          "x": -3.8294314381270897
         },
         {
          "Func": "Gaussian(mu=-3, sigma=2)",
          "g(x)": 0.1848903553891522,
          "x": -3.7792642140468224
         },
         {
          "Func": "Gaussian(mu=-3, sigma=2)",
          "g(x)": 0.18664749092937621,
          "x": -3.729096989966555
         },
         {
          "Func": "Gaussian(mu=-3, sigma=2)",
          "g(x)": 0.18830281062040832,
          "x": -3.678929765886288
         },
         {
          "Func": "Gaussian(mu=-3, sigma=2)",
          "g(x)": 0.18985331989656648,
          "x": -3.6287625418060196
         },
         {
          "Func": "Gaussian(mu=-3, sigma=2)",
          "g(x)": 0.19129619719648824,
          "x": -3.5785953177257523
         },
         {
          "Func": "Gaussian(mu=-3, sigma=2)",
          "g(x)": 0.19262880251436248,
          "x": -3.528428093645485
         },
         {
          "Func": "Gaussian(mu=-3, sigma=2)",
          "g(x)": 0.19384868544575382,
          "x": -3.478260869565217
         },
         {
          "Func": "Gaussian(mu=-3, sigma=2)",
          "g(x)": 0.19495359269371132,
          "x": -3.4280936454849495
         },
         {
          "Func": "Gaussian(mu=-3, sigma=2)",
          "g(x)": 0.19594147500298828,
          "x": -3.3779264214046822
         },
         {
          "Func": "Gaussian(mu=-3, sigma=2)",
          "g(x)": 0.19681049349250856,
          "x": -3.327759197324415
         },
         {
          "Func": "Gaussian(mu=-3, sigma=2)",
          "g(x)": 0.19755902535869457,
          "x": -3.2775919732441468
         },
         {
          "Func": "Gaussian(mu=-3, sigma=2)",
          "g(x)": 0.19818566892489803,
          "x": -3.2274247491638794
         },
         {
          "Func": "Gaussian(mu=-3, sigma=2)",
          "g(x)": 0.19868924801494434,
          "x": -3.177257525083612
         },
         {
          "Func": "Gaussian(mu=-3, sigma=2)",
          "g(x)": 0.19906881563168835,
          "x": -3.127090301003344
         },
         {
          "Func": "Gaussian(mu=-3, sigma=2)",
          "g(x)": 0.19932365692447956,
          "x": -3.0769230769230766
         },
         {
          "Func": "Gaussian(mu=-3, sigma=2)",
          "g(x)": 0.1994532914325206,
          "x": -3.0267558528428093
         },
         {
          "Func": "Gaussian(mu=-3, sigma=2)",
          "g(x)": 0.1994574745942653,
          "x": -2.976588628762542
         },
         {
          "Func": "Gaussian(mu=-3, sigma=2)",
          "g(x)": 0.19933619851621853,
          "x": -2.926421404682274
         },
         {
          "Func": "Gaussian(mu=-3, sigma=2)",
          "g(x)": 0.19908969199775586,
          "x": -2.8762541806020065
         },
         {
          "Func": "Gaussian(mu=-3, sigma=2)",
          "g(x)": 0.198718419811853,
          "x": -2.8260869565217392
         },
         {
          "Func": "Gaussian(mu=-3, sigma=2)",
          "g(x)": 0.19822308124489027,
          "x": -2.775919732441471
         },
         {
          "Func": "Gaussian(mu=-3, sigma=2)",
          "g(x)": 0.19760460790195386,
          "x": -2.7257525083612038
         },
         {
          "Func": "Gaussian(mu=-3, sigma=2)",
          "g(x)": 0.1968641607872739,
          "x": -2.6755852842809364
         },
         {
          "Func": "Gaussian(mu=-3, sigma=2)",
          "g(x)": 0.19600312667260725,
          "x": -2.625418060200669
         },
         {
          "Func": "Gaussian(mu=-3, sigma=2)",
          "g(x)": 0.19502311376946457,
          "x": -2.575250836120401
         },
         {
          "Func": "Gaussian(mu=-3, sigma=2)",
          "g(x)": 0.1939259467240854,
          "x": -2.5250836120401337
         },
         {
          "Func": "Gaussian(mu=-3, sigma=2)",
          "g(x)": 0.19271366095696332,
          "x": -2.4749163879598663
         },
         {
          "Func": "Gaussian(mu=-3, sigma=2)",
          "g(x)": 0.19138849637149807,
          "x": -2.424749163879598
         },
         {
          "Func": "Gaussian(mu=-3, sigma=2)",
          "g(x)": 0.18995289045899055,
          "x": -2.374581939799331
         },
         {
          "Func": "Gaussian(mu=-3, sigma=2)",
          "g(x)": 0.1884094708296834,
          "x": -2.3244147157190636
         },
         {
          "Func": "Gaussian(mu=-3, sigma=2)",
          "g(x)": 0.18676104720187298,
          "x": -2.2742474916387954
         },
         {
          "Func": "Gaussian(mu=-3, sigma=2)",
          "g(x)": 0.18501060288326418,
          "x": -2.224080267558528
         },
         {
          "Func": "Gaussian(mu=-3, sigma=2)",
          "g(x)": 0.18316128578069907,
          "x": -2.1739130434782608
         },
         {
          "Func": "Gaussian(mu=-3, sigma=2)",
          "g(x)": 0.18121639897615202,
          "x": -2.1237458193979935
         },
         {
          "Func": "Gaussian(mu=-3, sigma=2)",
          "g(x)": 0.17917939090844112,
          "x": -2.0735785953177253
         },
         {
          "Func": "Gaussian(mu=-3, sigma=2)",
          "g(x)": 0.17705384520145043,
          "x": -2.023411371237458
         },
         {
          "Func": "Gaussian(mu=-3, sigma=2)",
          "g(x)": 0.1748434701807846,
          "x": -1.9732441471571907
         },
         {
          "Func": "Gaussian(mu=-3, sigma=2)",
          "g(x)": 0.17255208812168404,
          "x": -1.9230769230769234
         },
         {
          "Func": "Gaussian(mu=-3, sigma=2)",
          "g(x)": 0.1701836242717088,
          "x": -1.872909698996656
         },
         {
          "Func": "Gaussian(mu=-3, sigma=2)",
          "g(x)": 0.1677420956921561,
          "x": -1.822742474916387
         },
         {
          "Func": "Gaussian(mu=-3, sigma=2)",
          "g(x)": 0.16523159996240613,
          "x": -1.7725752508361197
         },
         {
          "Func": "Gaussian(mu=-3, sigma=2)",
          "g(x)": 0.16265630379139726,
          "x": -1.7224080267558524
         },
         {
          "Func": "Gaussian(mu=-3, sigma=2)",
          "g(x)": 0.16002043158021778,
          "x": -1.672240802675585
         },
         {
          "Func": "Gaussian(mu=-3, sigma=2)",
          "g(x)": 0.15732825397937042,
          "x": -1.6220735785953178
         },
         {
          "Func": "Gaussian(mu=-3, sigma=2)",
          "g(x)": 0.15458407648362316,
          "x": -1.5719063545150505
         },
         {
          "Func": "Gaussian(mu=-3, sigma=2)",
          "g(x)": 0.15179222810651533,
          "x": -1.5217391304347831
         },
         {
          "Func": "Gaussian(mu=-3, sigma=2)",
          "g(x)": 0.1489570501755441,
          "x": -1.471571906354514
         },
         {
          "Func": "Gaussian(mu=-3, sigma=2)",
          "g(x)": 0.14608288528782928,
          "x": -1.4214046822742468
         },
         {
          "Func": "Gaussian(mu=-3, sigma=2)",
          "g(x)": 0.1431740664646457,
          "x": -1.3712374581939795
         },
         {
          "Func": "Gaussian(mu=-3, sigma=2)",
          "g(x)": 0.14023490654164347,
          "x": -1.3210702341137122
         },
         {
          "Func": "Gaussian(mu=-3, sigma=2)",
          "g(x)": 0.13726968782984703,
          "x": -1.2709030100334449
         },
         {
          "Func": "Gaussian(mu=-3, sigma=2)",
          "g(x)": 0.13428265208065898,
          "x": -1.2207357859531776
         },
         {
          "Func": "Gaussian(mu=-3, sigma=2)",
          "g(x)": 0.1312779907860968,
          "x": -1.1705685618729103
         },
         {
          "Func": "Gaussian(mu=-3, sigma=2)",
          "g(x)": 0.12825983584338124,
          "x": -1.1204013377926412
         },
         {
          "Func": "Gaussian(mu=-3, sigma=2)",
          "g(x)": 0.12523225061078513,
          "x": -1.0702341137123739
         },
         {
          "Func": "Gaussian(mu=-3, sigma=2)",
          "g(x)": 0.12219922137935225,
          "x": -1.0200668896321066
         },
         {
          "Func": "Gaussian(mu=-3, sigma=2)",
          "g(x)": 0.11916464928273243,
          "x": -0.9698996655518393
         },
         {
          "Func": "Gaussian(mu=-3, sigma=2)",
          "g(x)": 0.11613234266495209,
          "x": -0.919732441471572
         },
         {
          "Func": "Gaussian(mu=-3, sigma=2)",
          "g(x)": 0.11310600992347628,
          "x": -0.8695652173913047
         },
         {
          "Func": "Gaussian(mu=-3, sigma=2)",
          "g(x)": 0.1100892528424261,
          "x": -0.8193979933110374
         },
         {
          "Func": "Gaussian(mu=-3, sigma=2)",
          "g(x)": 0.10708556042831267,
          "x": -0.7692307692307683
         },
         {
          "Func": "Gaussian(mu=-3, sigma=2)",
          "g(x)": 0.10409830325814702,
          "x": -0.719063545150501
         },
         {
          "Func": "Gaussian(mu=-3, sigma=2)",
          "g(x)": 0.10113072834729987,
          "x": -0.6688963210702337
         },
         {
          "Func": "Gaussian(mu=-3, sigma=2)",
          "g(x)": 0.09818595454203226,
          "x": -0.6187290969899664
         },
         {
          "Func": "Gaussian(mu=-3, sigma=2)",
          "g(x)": 0.0952669684392027,
          "x": -0.5685618729096991
         },
         {
          "Func": "Gaussian(mu=-3, sigma=2)",
          "g(x)": 0.09237662083329985,
          "x": -0.5183946488294318
         },
         {
          "Func": "Gaussian(mu=-3, sigma=2)",
          "g(x)": 0.08951762368865872,
          "x": -0.46822742474916446
         },
         {
          "Func": "Gaussian(mu=-3, sigma=2)",
          "g(x)": 0.08669254763250335,
          "x": -0.4180602006688954
         },
         {
          "Func": "Gaussian(mu=-3, sigma=2)",
          "g(x)": 0.08390381996233356,
          "x": -0.3678929765886281
         },
         {
          "Func": "Gaussian(mu=-3, sigma=2)",
          "g(x)": 0.08115372315914086,
          "x": -0.31772575250836077
         },
         {
          "Func": "Gaussian(mu=-3, sigma=2)",
          "g(x)": 0.07844439389601704,
          "x": -0.26755852842809347
         },
         {
          "Func": "Gaussian(mu=-3, sigma=2)",
          "g(x)": 0.07577782252990276,
          "x": -0.21739130434782616
         },
         {
          "Func": "Gaussian(mu=-3, sigma=2)",
          "g(x)": 0.07315585306253153,
          "x": -0.16722408026755886
         },
         {
          "Func": "Gaussian(mu=-3, sigma=2)",
          "g(x)": 0.07058018355505491,
          "x": -0.11705685618729156
         },
         {
          "Func": "Gaussian(mu=-3, sigma=2)",
          "g(x)": 0.06805236697939342,
          "x": -0.06688963210702248
         },
         {
          "Func": "Gaussian(mu=-3, sigma=2)",
          "g(x)": 0.0655738124880523,
          "x": -0.016722408026755176
         },
         {
          "Func": "Gaussian(mu=-3, sigma=2)",
          "g(x)": 0.06314578708296552,
          "x": 0.03344481605351213
         },
         {
          "Func": "Gaussian(mu=-3, sigma=2)",
          "g(x)": 0.06076941766290144,
          "x": 0.08361204013377943
         },
         {
          "Func": "Gaussian(mu=-3, sigma=2)",
          "g(x)": 0.05844569342806236,
          "x": 0.13377926421404673
         },
         {
          "Func": "Gaussian(mu=-3, sigma=2)",
          "g(x)": 0.056175468619754386,
          "x": 0.18394648829431404
         },
         {
          "Func": "Gaussian(mu=-3, sigma=2)",
          "g(x)": 0.05395946557238157,
          "x": 0.23411371237458134
         },
         {
          "Func": "Gaussian(mu=-3, sigma=2)",
          "g(x)": 0.05179827805453323,
          "x": 0.2842809364548504
         },
         {
          "Func": "Gaussian(mu=-3, sigma=2)",
          "g(x)": 0.049692374875580404,
          "x": 0.3344481605351177
         },
         {
          "Func": "Gaussian(mu=-3, sigma=2)",
          "g(x)": 0.04764210373397418,
          "x": 0.384615384615385
         },
         {
          "Func": "Gaussian(mu=-3, sigma=2)",
          "g(x)": 0.04564769528334434,
          "x": 0.43478260869565233
         },
         {
          "Func": "Gaussian(mu=-3, sigma=2)",
          "g(x)": 0.04370926739251928,
          "x": 0.48494983277591963
         },
         {
          "Func": "Gaussian(mu=-3, sigma=2)",
          "g(x)": 0.04182682957573167,
          "x": 0.5351170568561869
         },
         {
          "Func": "Gaussian(mu=-3, sigma=2)",
          "g(x)": 0.040000287569526866,
          "x": 0.5852842809364542
         },
         {
          "Func": "Gaussian(mu=-3, sigma=2)",
          "g(x)": 0.03822944803324844,
          "x": 0.6354515050167233
         },
         {
          "Func": "Gaussian(mu=-3, sigma=2)",
          "g(x)": 0.036514023350432454,
          "x": 0.6856187290969906
         },
         {
          "Func": "Gaussian(mu=-3, sigma=2)",
          "g(x)": 0.034853636508989344,
          "x": 0.7357859531772579
         },
         {
          "Func": "Gaussian(mu=-3, sigma=2)",
          "g(x)": 0.03324782603868718,
          "x": 0.7859531772575252
         },
         {
          "Func": "Gaussian(mu=-3, sigma=2)",
          "g(x)": 0.03169605098515911,
          "x": 0.8361204013377925
         },
         {
          "Func": "Gaussian(mu=-3, sigma=2)",
          "g(x)": 0.030197695900440222,
          "x": 0.8862876254180598
         },
         {
          "Func": "Gaussian(mu=-3, sigma=2)",
          "g(x)": 0.028752075830882184,
          "x": 0.9364548494983289
         },
         {
          "Func": "Gaussian(mu=-3, sigma=2)",
          "g(x)": 0.027358441284193645,
          "x": 0.9866220735785962
         },
         {
          "Func": "Gaussian(mu=-3, sigma=2)",
          "g(x)": 0.02601598315830008,
          "x": 1.0367892976588635
         },
         {
          "Func": "Gaussian(mu=-3, sigma=2)",
          "g(x)": 0.024723837615705433,
          "x": 1.0869565217391308
         },
         {
          "Func": "Gaussian(mu=-3, sigma=2)",
          "g(x)": 0.023481090888056,
          "x": 1.1371237458193981
         },
         {
          "Func": "Gaussian(mu=-3, sigma=2)",
          "g(x)": 0.022286783996653608,
          "x": 1.1872909698996654
         },
         {
          "Func": "Gaussian(mu=-3, sigma=2)",
          "g(x)": 0.021139917375728626,
          "x": 1.2374581939799327
         },
         {
          "Func": "Gaussian(mu=-3, sigma=2)",
          "g(x)": 0.020039455386359782,
          "x": 1.2876254180602018
         },
         {
          "Func": "Gaussian(mu=-3, sigma=2)",
          "g(x)": 0.018984330710008695,
          "x": 1.3377926421404691
         },
         {
          "Func": "Gaussian(mu=-3, sigma=2)",
          "g(x)": 0.017973448611716996,
          "x": 1.3879598662207364
         },
         {
          "Func": "Gaussian(mu=-3, sigma=2)",
          "g(x)": 0.017005691064088762,
          "x": 1.4381270903010037
         },
         {
          "Func": "Gaussian(mu=-3, sigma=2)",
          "g(x)": 0.016079920724240374,
          "x": 1.488294314381271
         },
         {
          "Func": "Gaussian(mu=-3, sigma=2)",
          "g(x)": 0.015194984756944778,
          "x": 1.5384615384615383
         },
         {
          "Func": "Gaussian(mu=-3, sigma=2)",
          "g(x)": 0.014349718498217699,
          "x": 1.5886287625418056
         },
         {
          "Func": "Gaussian(mu=-3, sigma=2)",
          "g(x)": 0.01354294895458783,
          "x": 1.6387959866220747
         },
         {
          "Func": "Gaussian(mu=-3, sigma=2)",
          "g(x)": 0.012773498134256614,
          "x": 1.688963210702342
         },
         {
          "Func": "Gaussian(mu=-3, sigma=2)",
          "g(x)": 0.012040186207281886,
          "x": 1.7391304347826093
         },
         {
          "Func": "Gaussian(mu=-3, sigma=2)",
          "g(x)": 0.011341834492811764,
          "x": 1.7892976588628766
         },
         {
          "Func": "Gaussian(mu=-3, sigma=2)",
          "g(x)": 0.010677268272245468,
          "x": 1.839464882943144
         },
         {
          "Func": "Gaussian(mu=-3, sigma=2)",
          "g(x)": 0.010045319428006043,
          "x": 1.8896321070234112
         },
         {
          "Func": "Gaussian(mu=-3, sigma=2)",
          "g(x)": 0.009444828908373448,
          "x": 1.9397993311036785
         },
         {
          "Func": "Gaussian(mu=-3, sigma=2)",
          "g(x)": 0.008874649019542989,
          "x": 1.9899665551839476
         },
         {
          "Func": "Gaussian(mu=-3, sigma=2)",
          "g(x)": 0.008333645546743533,
          "x": 2.040133779264215
         },
         {
          "Func": "Gaussian(mu=-3, sigma=2)",
          "g(x)": 0.007820699706870144,
          "x": 2.090301003344482
         },
         {
          "Func": "Gaussian(mu=-3, sigma=2)",
          "g(x)": 0.007334709935657919,
          "x": 2.1404682274247495
         },
         {
          "Func": "Gaussian(mu=-3, sigma=2)",
          "g(x)": 0.006874593512945624,
          "x": 2.190635451505017
         },
         {
          "Func": "Gaussian(mu=-3, sigma=2)",
          "g(x)": 0.006439288030051071,
          "x": 2.240802675585284
         },
         {
          "Func": "Gaussian(mu=-3, sigma=2)",
          "g(x)": 0.0060277527037048105,
          "x": 2.2909698996655514
         },
         {
          "Func": "Gaussian(mu=-3, sigma=2)",
          "g(x)": 0.00563896954136493,
          "x": 2.3411371237458205
         },
         {
          "Func": "Gaussian(mu=-3, sigma=2)",
          "g(x)": 0.005271944363065346,
          "x": 2.391304347826088
         },
         {
          "Func": "Gaussian(mu=-3, sigma=2)",
          "g(x)": 0.004925707685233059,
          "x": 2.441471571906355
         },
         {
          "Func": "Gaussian(mu=-3, sigma=2)",
          "g(x)": 0.004599315472149241,
          "x": 2.4916387959866224
         },
         {
          "Func": "Gaussian(mu=-3, sigma=2)",
          "g(x)": 0.004291849760924354,
          "x": 2.5418060200668897
         },
         {
          "Func": "Gaussian(mu=-3, sigma=2)",
          "g(x)": 0.004002419166012378,
          "x": 2.591973244147157
         },
         {
          "Func": "Gaussian(mu=-3, sigma=2)",
          "g(x)": 0.0037301592694043008,
          "x": 2.6421404682274243
         },
         {
          "Func": "Gaussian(mu=-3, sigma=2)",
          "g(x)": 0.003474232902718608,
          "x": 2.6923076923076934
         },
         {
          "Func": "Gaussian(mu=-3, sigma=2)",
          "g(x)": 0.003233830327448889,
          "x": 2.7424749163879607
         },
         {
          "Func": "Gaussian(mu=-3, sigma=2)",
          "g(x)": 0.0030081693196374656,
          "x": 2.792642140468228
         },
         {
          "Func": "Gaussian(mu=-3, sigma=2)",
          "g(x)": 0.0027964951652222,
          "x": 2.8428093645484953
         },
         {
          "Func": "Gaussian(mu=-3, sigma=2)",
          "g(x)": 0.0025980805722524837,
          "x": 2.8929765886287626
         },
         {
          "Func": "Gaussian(mu=-3, sigma=2)",
          "g(x)": 0.0024122255060931323,
          "x": 2.94314381270903
         },
         {
          "Func": "Gaussian(mu=-3, sigma=2)",
          "g(x)": 0.0022382569536331985,
          "x": 2.993311036789297
         },
         {
          "Func": "Gaussian(mu=-3, sigma=2)",
          "g(x)": 0.0020755286223929407,
          "x": 3.0434782608695663
         },
         {
          "Func": "Gaussian(mu=-3, sigma=2)",
          "g(x)": 0.0019234205802786983,
          "x": 3.0936454849498336
         },
         {
          "Func": "Gaussian(mu=-3, sigma=2)",
          "g(x)": 0.0017813388415742117,
          "x": 3.143812709030101
         },
         {
          "Func": "Gaussian(mu=-3, sigma=2)",
          "g(x)": 0.0016487149045804526,
          "x": 3.193979933110368
         },
         {
          "Func": "Gaussian(mu=-3, sigma=2)",
          "g(x)": 0.0015250052461259253,
          "x": 3.2441471571906355
         },
         {
          "Func": "Gaussian(mu=-3, sigma=2)",
          "g(x)": 0.001409690777968097,
          "x": 3.294314381270903
         },
         {
          "Func": "Gaussian(mu=-3, sigma=2)",
          "g(x)": 0.0013022762698958424,
          "x": 3.34448160535117
         },
         {
          "Func": "Gaussian(mu=-3, sigma=2)",
          "g(x)": 0.0012022897441243885,
          "x": 3.394648829431439
         },
         {
          "Func": "Gaussian(mu=-3, sigma=2)",
          "g(x)": 0.001109281845350047,
          "x": 3.4448160535117065
         },
         {
          "Func": "Gaussian(mu=-3, sigma=2)",
          "g(x)": 0.0010228251906035835,
          "x": 3.494983277591974
         },
         {
          "Func": "Gaussian(mu=-3, sigma=2)",
          "g(x)": 0.0009425137028101677,
          "x": 3.545150501672241
         },
         {
          "Func": "Gaussian(mu=-3, sigma=2)",
          "g(x)": 0.0008679619317315924,
          "x": 3.5953177257525084
         },
         {
          "Func": "Gaussian(mu=-3, sigma=2)",
          "g(x)": 0.0007988043657345122,
          "x": 3.6454849498327757
         },
         {
          "Func": "Gaussian(mu=-3, sigma=2)",
          "g(x)": 0.0007346947375979365,
          "x": 3.695652173913043
         },
         {
          "Func": "Gaussian(mu=-3, sigma=2)",
          "g(x)": 0.0006753053273452133,
          "x": 3.745819397993312
         },
         {
          "Func": "Gaussian(mu=-3, sigma=2)",
          "g(x)": 0.0006203262648614539,
          "x": 3.7959866220735794
         },
         {
          "Func": "Gaussian(mu=-3, sigma=2)",
          "g(x)": 0.0005694648348374656,
          "x": 3.8461538461538467
         },
         {
          "Func": "Gaussian(mu=-3, sigma=2)",
          "g(x)": 0.0005224447863669361,
          "x": 3.896321070234114
         },
         {
          "Func": "Gaussian(mu=-3, sigma=2)",
          "g(x)": 0.00047900564931519814,
          "x": 3.9464882943143813
         },
         {
          "Func": "Gaussian(mu=-3, sigma=2)",
          "g(x)": 0.0004389020593763791,
          "x": 3.9966555183946486
         },
         {
          "Func": "Gaussian(mu=-3, sigma=2)",
          "g(x)": 0.00040190309354141886,
          "x": 4.046822742474916
         },
         {
          "Func": "Gaussian(mu=-3, sigma=2)",
          "g(x)": 0.00036779161751287603,
          "x": 4.096989966555185
         },
         {
          "Func": "Gaussian(mu=-3, sigma=2)",
          "g(x)": 0.00033636364642400537,
          "x": 4.147157190635452
         },
         {
          "Func": "Gaussian(mu=-3, sigma=2)",
          "g(x)": 0.00030742772004949153,
          "x": 4.19732441471572
         },
         {
          "Func": "Gaussian(mu=-3, sigma=2)",
          "g(x)": 0.00028080429353384014,
          "x": 4.247491638795987
         },
         {
          "Func": "Gaussian(mu=-3, sigma=2)",
          "g(x)": 0.0002563251445106822,
          "x": 4.297658862876254
         },
         {
          "Func": "Gaussian(mu=-3, sigma=2)",
          "g(x)": 0.00023383279734244417,
          "x": 4.3478260869565215
         },
         {
          "Func": "Gaussian(mu=-3, sigma=2)",
          "g(x)": 0.00021317996507483683,
          "x": 4.397993311036789
         },
         {
          "Func": "Gaussian(mu=-3, sigma=2)",
          "g(x)": 0.0001942290095744621,
          "x": 4.448160535117058
         },
         {
          "Func": "Gaussian(mu=-3, sigma=2)",
          "g(x)": 0.00017685142020042657,
          "x": 4.498327759197325
         },
         {
          "Func": "Gaussian(mu=-3, sigma=2)",
          "g(x)": 0.0001609273112520398,
          "x": 4.5484949832775925
         },
         {
          "Func": "Gaussian(mu=-3, sigma=2)",
          "g(x)": 0.000146344938334333,
          "x": 4.59866220735786
         },
         {
          "Func": "Gaussian(mu=-3, sigma=2)",
          "g(x)": 0.00013300023369099937,
          "x": 4.648829431438127
         },
         {
          "Func": "Gaussian(mu=-3, sigma=2)",
          "g(x)": 0.00012079636047024044,
          "x": 4.698996655518394
         },
         {
          "Func": "Gaussian(mu=-3, sigma=2)",
          "g(x)": 0.0001096432858126243,
          "x": 4.749163879598662
         },
         {
          "Func": "Gaussian(mu=-3, sigma=2)",
          "g(x)": 9.945737258112281e-05,
          "x": 4.799331103678931
         },
         {
          "Func": "Gaussian(mu=-3, sigma=2)",
          "g(x)": 9.016098949171437e-05,
          "x": 4.849498327759198
         },
         {
          "Func": "Gaussian(mu=-3, sigma=2)",
          "g(x)": 8.16821393479683e-05,
          "x": 4.899665551839465
         },
         {
          "Func": "Gaussian(mu=-3, sigma=2)",
          "g(x)": 7.395410503457265e-05,
          "x": 4.949832775919733
         },
         {
          "Func": "Gaussian(mu=-3, sigma=2)",
          "g(x)": 6.691511288244268e-05,
          "x": 5
         },
         {
          "Func": "Gaussian(mu=-1, sigma=1.5)",
          "g(x)": 4.050588566548858e-09,
          "x": -10
         },
         {
          "Func": "Gaussian(mu=-1, sigma=1.5)",
          "g(x)": 4.947942403457782e-09,
          "x": -9.949832775919733
         },
         {
          "Func": "Gaussian(mu=-1, sigma=1.5)",
          "g(x)": 6.0373361315253555e-09,
          "x": -9.899665551839465
         },
         {
          "Func": "Gaussian(mu=-1, sigma=1.5)",
          "g(x)": 7.35834750572528e-09,
          "x": -9.849498327759198
         },
         {
          "Func": "Gaussian(mu=-1, sigma=1.5)",
          "g(x)": 8.958379355736244e-09,
          "x": -9.799331103678929
         },
         {
          "Func": "Gaussian(mu=-1, sigma=1.5)",
          "g(x)": 1.0894136739805424e-08,
          "x": -9.749163879598662
         },
         {
          "Func": "Gaussian(mu=-1, sigma=1.5)",
          "g(x)": 1.3233368687019318e-08,
          "x": -9.698996655518394
         },
         {
          "Func": "Gaussian(mu=-1, sigma=1.5)",
          "g(x)": 1.6056919123545205e-08,
          "x": -9.648829431438127
         },
         {
          "Func": "Gaussian(mu=-1, sigma=1.5)",
          "g(x)": 1.9461138567402323e-08,
          "x": -9.59866220735786
         },
         {
          "Func": "Gaussian(mu=-1, sigma=1.5)",
          "g(x)": 2.3560716165270958e-08,
          "x": -9.548494983277592
         },
         {
          "Func": "Gaussian(mu=-1, sigma=1.5)",
          "g(x)": 2.8492000760323374e-08,
          "x": -9.498327759197325
         },
         {
          "Func": "Gaussian(mu=-1, sigma=1.5)",
          "g(x)": 3.441689006186892e-08,
          "x": -9.448160535117056
         },
         {
          "Func": "Gaussian(mu=-1, sigma=1.5)",
          "g(x)": 4.1527378789788416e-08,
          "x": -9.397993311036789
         },
         {
          "Func": "Gaussian(mu=-1, sigma=1.5)",
          "g(x)": 5.005087005845211e-08,
          "x": -9.347826086956522
         },
         {
          "Func": "Gaussian(mu=-1, sigma=1.5)",
          "g(x)": 6.025636943128302e-08,
          "x": -9.297658862876254
         },
         {
          "Func": "Gaussian(mu=-1, sigma=1.5)",
          "g(x)": 7.246169822048067e-08,
          "x": -9.247491638795987
         },
         {
          "Func": "Gaussian(mu=-1, sigma=1.5)",
          "g(x)": 8.704188194646575e-08,
          "x": -9.19732441471572
         },
         {
          "Func": "Gaussian(mu=-1, sigma=1.5)",
          "g(x)": 1.044388916465688e-07,
          "x": -9.147157190635452
         },
         {
          "Func": "Gaussian(mu=-1, sigma=1.5)",
          "g(x)": 1.2517294018954691e-07,
          "x": -9.096989966555183
         },
         {
          "Func": "Gaussian(mu=-1, sigma=1.5)",
          "g(x)": 1.4985556318819494e-07,
          "x": -9.046822742474916
         },
         {
          "Func": "Gaussian(mu=-1, sigma=1.5)",
          "g(x)": 1.792047448027703e-07,
          "x": -8.996655518394649
         },
         {
          "Func": "Gaussian(mu=-1, sigma=1.5)",
          "g(x)": 2.1406238300874642e-07,
          "x": -8.946488294314381
         },
         {
          "Func": "Gaussian(mu=-1, sigma=1.5)",
          "g(x)": 2.5541442709843635e-07,
          "x": -8.896321070234114
         },
         {
          "Func": "Gaussian(mu=-1, sigma=1.5)",
          "g(x)": 3.0441406265052133e-07,
          "x": -8.846153846153847
         },
         {
          "Func": "Gaussian(mu=-1, sigma=1.5)",
          "g(x)": 3.624083663052199e-07,
          "x": -8.795986622073578
         },
         {
          "Func": "Gaussian(mu=-1, sigma=1.5)",
          "g(x)": 4.3096890481222794e-07,
          "x": -8.74581939799331
         },
         {
          "Func": "Gaussian(mu=-1, sigma=1.5)",
          "g(x)": 5.119268103739444e-07,
          "x": -8.695652173913043
         },
         {
          "Func": "Gaussian(mu=-1, sigma=1.5)",
          "g(x)": 6.074129276989184e-07,
          "x": -8.645484949832776
         },
         {
          "Func": "Gaussian(mu=-1, sigma=1.5)",
          "g(x)": 7.199036978289873e-07,
          "x": -8.595317725752508
         },
         {
          "Func": "Gaussian(mu=-1, sigma=1.5)",
          "g(x)": 8.52273520130128e-07,
          "x": -8.545150501672241
         },
         {
          "Func": "Gaussian(mu=-1, sigma=1.5)",
          "g(x)": 1.0078544172624886e-06,
          "x": -8.494983277591974
         },
         {
          "Func": "Gaussian(mu=-1, sigma=1.5)",
          "g(x)": 1.1905039188822758e-06,
          "x": -8.444816053511705
         },
         {
          "Func": "Gaussian(mu=-1, sigma=1.5)",
          "g(x)": 1.4046821786758677e-06,
          "x": -8.394648829431437
         },
         {
          "Func": "Gaussian(mu=-1, sigma=1.5)",
          "g(x)": 1.6555394464608145e-06,
          "x": -8.34448160535117
         },
         {
          "Func": "Gaussian(mu=-1, sigma=1.5)",
          "g(x)": 1.9490151328533625e-06,
          "x": -8.294314381270903
         },
         {
          "Func": "Gaussian(mu=-1, sigma=1.5)",
          "g(x)": 2.2919498287007452e-06,
          "x": -8.244147157190636
         },
         {
          "Func": "Gaussian(mu=-1, sigma=1.5)",
          "g(x)": 2.6922117753564504e-06,
          "x": -8.193979933110368
         },
         {
          "Func": "Gaussian(mu=-1, sigma=1.5)",
          "g(x)": 3.158839425120505e-06,
          "x": -8.143812709030101
         },
         {
          "Func": "Gaussian(mu=-1, sigma=1.5)",
          "g(x)": 3.702201883874672e-06,
          "x": -8.093645484949832
         },
         {
          "Func": "Gaussian(mu=-1, sigma=1.5)",
          "g(x)": 4.334179190117676e-06,
          "x": -8.043478260869565
         },
         {
          "Func": "Gaussian(mu=-1, sigma=1.5)",
          "g(x)": 5.068364556138991e-06,
          "x": -7.993311036789297
         },
         {
          "Func": "Gaussian(mu=-1, sigma=1.5)",
          "g(x)": 5.920290877716042e-06,
          "x": -7.94314381270903
         },
         {
          "Func": "Gaussian(mu=-1, sigma=1.5)",
          "g(x)": 6.907684008085758e-06,
          "x": -7.892976588628763
         },
         {
          "Func": "Gaussian(mu=-1, sigma=1.5)",
          "g(x)": 8.050745489457047e-06,
          "x": -7.842809364548495
         },
         {
          "Func": "Gaussian(mu=-1, sigma=1.5)",
          "g(x)": 9.372467640231183e-06,
          "x": -7.792642140468228
         },
         {
          "Func": "Gaussian(mu=-1, sigma=1.5)",
          "g(x)": 1.0898984107400659e-05,
          "x": -7.74247491638796
         },
         {
          "Func": "Gaussian(mu=-1, sigma=1.5)",
          "g(x)": 1.2659959210076392e-05,
          "x": -7.692307692307692
         },
         {
          "Func": "Gaussian(mu=-1, sigma=1.5)",
          "g(x)": 1.4689019620258244e-05,
          "x": -7.642140468227424
         },
         {
          "Func": "Gaussian(mu=-1, sigma=1.5)",
          "g(x)": 1.7024232149029412e-05,
          "x": -7.591973244147157
         },
         {
          "Func": "Gaussian(mu=-1, sigma=1.5)",
          "g(x)": 1.9708631628223684e-05,
          "x": -7.54180602006689
         },
         {
          "Func": "Gaussian(mu=-1, sigma=1.5)",
          "g(x)": 2.2790803096848528e-05,
          "x": -7.491638795986622
         },
         {
          "Func": "Gaussian(mu=-1, sigma=1.5)",
          "g(x)": 2.632552271534633e-05,
          "x": -7.441471571906355
         },
         {
          "Func": "Gaussian(mu=-1, sigma=1.5)",
          "g(x)": 3.0374462035957848e-05,
          "x": -7.391304347826087
         },
         {
          "Func": "Gaussian(mu=-1, sigma=1.5)",
          "g(x)": 3.500696045043396e-05,
          "x": -7.341137123745819
         },
         {
          "Func": "Gaussian(mu=-1, sigma=1.5)",
          "g(x)": 4.030087081312114e-05,
          "x": -7.290969899665551
         },
         {
          "Func": "Gaussian(mu=-1, sigma=1.5)",
          "g(x)": 4.6343483393588124e-05,
          "x": -7.240802675585284
         },
         {
          "Func": "Gaussian(mu=-1, sigma=1.5)",
          "g(x)": 5.32325334435991e-05,
          "x": -7.190635451505017
         },
         {
          "Func": "Gaussian(mu=-1, sigma=1.5)",
          "g(x)": 6.107729776305427e-05,
          "x": -7.1404682274247495
         },
         {
          "Func": "Gaussian(mu=-1, sigma=1.5)",
          "g(x)": 6.99997857127589e-05,
          "x": -7.090301003344481
         },
         {
          "Func": "Gaussian(mu=-1, sigma=1.5)",
          "g(x)": 8.013603014236581e-05,
          "x": -7.040133779264214
         },
         {
          "Func": "Gaussian(mu=-1, sigma=1.5)",
          "g(x)": 9.163748367295975e-05,
          "x": -6.989966555183946
         },
         {
          "Func": "Gaussian(mu=-1, sigma=1.5)",
          "g(x)": 0.00010467252568852479,
          "x": -6.9397993311036785
         },
         {
          "Func": "Gaussian(mu=-1, sigma=1.5)",
          "g(x)": 0.00011942808524163756,
          "x": -6.889632107023411
         },
         {
          "Func": "Gaussian(mu=-1, sigma=1.5)",
          "g(x)": 0.0001361113848584627,
          "x": -6.839464882943144
         },
         {
          "Func": "Gaussian(mu=-1, sigma=1.5)",
          "g(x)": 0.00015495180992864383,
          "x": -6.789297658862877
         },
         {
          "Func": "Gaussian(mu=-1, sigma=1.5)",
          "g(x)": 0.00017620290797883747,
          "x": -6.739130434782608
         },
         {
          "Func": "Gaussian(mu=-1, sigma=1.5)",
          "g(x)": 0.0002001445216462629,
          "x": -6.688963210702341
         },
         {
          "Func": "Gaussian(mu=-1, sigma=1.5)",
          "g(x)": 0.00022708505858251197,
          "x": -6.638795986622073
         },
         {
          "Func": "Gaussian(mu=-1, sigma=1.5)",
          "g(x)": 0.00025736390081983765,
          "x": -6.588628762541806
         },
         {
          "Func": "Gaussian(mu=-1, sigma=1.5)",
          "g(x)": 0.0002913539553143491,
          "x": -6.538461538461538
         },
         {
          "Func": "Gaussian(mu=-1, sigma=1.5)",
          "g(x)": 0.0003294643464353517,
          "x": -6.488294314381271
         },
         {
          "Func": "Gaussian(mu=-1, sigma=1.5)",
          "g(x)": 0.0003721432500904532,
          "x": -6.438127090301004
         },
         {
          "Func": "Gaussian(mu=-1, sigma=1.5)",
          "g(x)": 0.00041988086795555104,
          "x": -6.3879598662207355
         },
         {
          "Func": "Gaussian(mu=-1, sigma=1.5)",
          "g(x)": 0.0004732125389117842,
          "x": -6.337792642140468
         },
         {
          "Func": "Gaussian(mu=-1, sigma=1.5)",
          "g(x)": 0.0005327219832734332,
          "x": -6.2876254180602
         },
         {
          "Func": "Gaussian(mu=-1, sigma=1.5)",
          "g(x)": 0.0005990446737180157,
          "x": -6.237458193979933
         },
         {
          "Func": "Gaussian(mu=-1, sigma=1.5)",
          "g(x)": 0.0006728713250006192,
          "x": -6.187290969899665
         },
         {
          "Func": "Gaussian(mu=-1, sigma=1.5)",
          "g(x)": 0.0007549514925481594,
          "x": -6.137123745819398
         },
         {
          "Func": "Gaussian(mu=-1, sigma=1.5)",
          "g(x)": 0.0008460972678873705,
          "x": -6.086956521739131
         },
         {
          "Func": "Gaussian(mu=-1, sigma=1.5)",
          "g(x)": 0.0009471870565660796,
          "x": -6.036789297658863
         },
         {
          "Func": "Gaussian(mu=-1, sigma=1.5)",
          "g(x)": 0.001059169421786453,
          "x": -5.986622073578595
         },
         {
          "Func": "Gaussian(mu=-1, sigma=1.5)",
          "g(x)": 0.001183066974389465,
          "x": -5.936454849498328
         },
         {
          "Func": "Gaussian(mu=-1, sigma=1.5)",
          "g(x)": 0.001319980287122271,
          "x": -5.88628762541806
         },
         {
          "Func": "Gaussian(mu=-1, sigma=1.5)",
          "g(x)": 0.0014710918082982782,
          "x": -5.8361204013377925
         },
         {
          "Func": "Gaussian(mu=-1, sigma=1.5)",
          "g(x)": 0.0016376697470396426,
          "x": -5.785953177257525
         },
         {
          "Func": "Gaussian(mu=-1, sigma=1.5)",
          "g(x)": 0.001821071899293144,
          "x": -5.735785953177257
         },
         {
          "Func": "Gaussian(mu=-1, sigma=1.5)",
          "g(x)": 0.0020227493807559523,
          "x": -5.68561872909699
         },
         {
          "Func": "Gaussian(mu=-1, sigma=1.5)",
          "g(x)": 0.002244250229763376,
          "x": -5.635451505016722
         },
         {
          "Func": "Gaussian(mu=-1, sigma=1.5)",
          "g(x)": 0.0024872228401056243,
          "x": -5.585284280936455
         },
         {
          "Func": "Gaussian(mu=-1, sigma=1.5)",
          "g(x)": 0.002753419180687929,
          "x": -5.535117056856187
         },
         {
          "Func": "Gaussian(mu=-1, sigma=1.5)",
          "g(x)": 0.0030446977559633846,
          "x": -5.48494983277592
         },
         {
          "Func": "Gaussian(mu=-1, sigma=1.5)",
          "g(x)": 0.003363026258190412,
          "x": -5.434782608695652
         },
         {
          "Func": "Gaussian(mu=-1, sigma=1.5)",
          "g(x)": 0.003710483859838104,
          "x": -5.384615384615384
         },
         {
          "Func": "Gaussian(mu=-1, sigma=1.5)",
          "g(x)": 0.004089263091928718,
          "x": -5.334448160535117
         },
         {
          "Func": "Gaussian(mu=-1, sigma=1.5)",
          "g(x)": 0.00450167125181387,
          "x": -5.2842809364548495
         },
         {
          "Func": "Gaussian(mu=-1, sigma=1.5)",
          "g(x)": 0.004950131281879629,
          "x": -5.234113712374582
         },
         {
          "Func": "Gaussian(mu=-1, sigma=1.5)",
          "g(x)": 0.005437182059017029,
          "x": -5.183946488294314
         },
         {
          "Func": "Gaussian(mu=-1, sigma=1.5)",
          "g(x)": 0.005965478033431043,
          "x": -5.133779264214047
         },
         {
          "Func": "Gaussian(mu=-1, sigma=1.5)",
          "g(x)": 0.006537788154546469,
          "x": -5.083612040133779
         },
         {
          "Func": "Gaussian(mu=-1, sigma=1.5)",
          "g(x)": 0.007156994021456358,
          "x": -5.033444816053511
         },
         {
          "Func": "Gaussian(mu=-1, sigma=1.5)",
          "g(x)": 0.007826087195601591,
          "x": -4.983277591973244
         },
         {
          "Func": "Gaussian(mu=-1, sigma=1.5)",
          "g(x)": 0.00854816561421976,
          "x": -4.933110367892977
         },
         {
          "Func": "Gaussian(mu=-1, sigma=1.5)",
          "g(x)": 0.009326429044607268,
          "x": -4.882943143812709
         },
         {
          "Func": "Gaussian(mu=-1, sigma=1.5)",
          "g(x)": 0.010164173521448097,
          "x": -4.832775919732441
         },
         {
          "Func": "Gaussian(mu=-1, sigma=1.5)",
          "g(x)": 0.011064784712417633,
          "x": -4.782608695652174
         },
         {
          "Func": "Gaussian(mu=-1, sigma=1.5)",
          "g(x)": 0.012031730161009752,
          "x": -4.7324414715719065
         },
         {
          "Func": "Gaussian(mu=-1, sigma=1.5)",
          "g(x)": 0.013068550360091087,
          "x": -4.682274247491638
         },
         {
          "Func": "Gaussian(mu=-1, sigma=1.5)",
          "g(x)": 0.014178848615085607,
          "x": -4.632107023411371
         },
         {
          "Func": "Gaussian(mu=-1, sigma=1.5)",
          "g(x)": 0.015366279661952906,
          "x": -4.581939799331104
         },
         {
          "Func": "Gaussian(mu=-1, sigma=1.5)",
          "g(x)": 0.016634537012254615,
          "x": -4.5317725752508355
         },
         {
          "Func": "Gaussian(mu=-1, sigma=1.5)",
          "g(x)": 0.01798733900560685,
          "x": -4.481605351170568
         },
         {
          "Func": "Gaussian(mu=-1, sigma=1.5)",
          "g(x)": 0.01942841355868383,
          "x": -4.431438127090301
         },
         {
          "Func": "Gaussian(mu=-1, sigma=1.5)",
          "g(x)": 0.02096148160964539,
          "x": -4.381270903010034
         },
         {
          "Func": "Gaussian(mu=-1, sigma=1.5)",
          "g(x)": 0.022590239267382725,
          "x": -4.331103678929765
         },
         {
          "Func": "Gaussian(mu=-1, sigma=1.5)",
          "g(x)": 0.024318338686263916,
          "x": -4.280936454849498
         },
         {
          "Func": "Gaussian(mu=-1, sigma=1.5)",
          "g(x)": 0.02614936769906074,
          "x": -4.230769230769231
         },
         {
          "Func": "Gaussian(mu=-1, sigma=1.5)",
          "g(x)": 0.02808682825337965,
          "x": -4.180602006688963
         },
         {
          "Func": "Gaussian(mu=-1, sigma=1.5)",
          "g(x)": 0.030134113710124023,
          "x": -4.130434782608695
         },
         {
          "Func": "Gaussian(mu=-1, sigma=1.5)",
          "g(x)": 0.03229448507618484,
          "x": -4.080267558528428
         },
         {
          "Func": "Gaussian(mu=-1, sigma=1.5)",
          "g(x)": 0.034571046257585114,
          "x": -4.030100334448161
         },
         {
          "Func": "Gaussian(mu=-1, sigma=1.5)",
          "g(x)": 0.036966718433574554,
          "x": -3.9799331103678925
         },
         {
          "Func": "Gaussian(mu=-1, sigma=1.5)",
          "g(x)": 0.039484213666548494,
          "x": -3.9297658862876252
         },
         {
          "Func": "Gaussian(mu=-1, sigma=1.5)",
          "g(x)": 0.042126007877012234,
          "x": -3.879598662207358
         },
         {
          "Func": "Gaussian(mu=-1, sigma=1.5)",
          "g(x)": 0.0448943133269725,
          "x": -3.8294314381270897
         },
         {
          "Func": "Gaussian(mu=-1, sigma=1.5)",
          "g(x)": 0.047791050768956705,
          "x": -3.7792642140468224
         },
         {
          "Func": "Gaussian(mu=-1, sigma=1.5)",
          "g(x)": 0.05081782143116661,
          "x": -3.729096989966555
         },
         {
          "Func": "Gaussian(mu=-1, sigma=1.5)",
          "g(x)": 0.05397587902189436,
          "x": -3.678929765886288
         },
         {
          "Func": "Gaussian(mu=-1, sigma=1.5)",
          "g(x)": 0.05726610194809157,
          "x": -3.6287625418060196
         },
         {
          "Func": "Gaussian(mu=-1, sigma=1.5)",
          "g(x)": 0.060688965953704384,
          "x": -3.5785953177257523
         },
         {
          "Func": "Gaussian(mu=-1, sigma=1.5)",
          "g(x)": 0.06424451739289598,
          "x": -3.528428093645485
         },
         {
          "Func": "Gaussian(mu=-1, sigma=1.5)",
          "g(x)": 0.06793234736139318,
          "x": -3.478260869565217
         },
         {
          "Func": "Gaussian(mu=-1, sigma=1.5)",
          "g(x)": 0.07175156691575094,
          "x": -3.4280936454849495
         },
         {
          "Func": "Gaussian(mu=-1, sigma=1.5)",
          "g(x)": 0.07570078361516376,
          "x": -3.3779264214046822
         },
         {
          "Func": "Gaussian(mu=-1, sigma=1.5)",
          "g(x)": 0.07977807962341119,
          "x": -3.327759197324415
         },
         {
          "Func": "Gaussian(mu=-1, sigma=1.5)",
          "g(x)": 0.08398099160947341,
          "x": -3.2775919732441468
         },
         {
          "Func": "Gaussian(mu=-1, sigma=1.5)",
          "g(x)": 0.08830649268416167,
          "x": -3.2274247491638794
         },
         {
          "Func": "Gaussian(mu=-1, sigma=1.5)",
          "g(x)": 0.09275097660667583,
          "x": -3.177257525083612
         },
         {
          "Func": "Gaussian(mu=-1, sigma=1.5)",
          "g(x)": 0.09731024448923456,
          "x": -3.127090301003344
         },
         {
          "Func": "Gaussian(mu=-1, sigma=1.5)",
          "g(x)": 0.10197949421976608,
          "x": -3.0769230769230766
         },
         {
          "Func": "Gaussian(mu=-1, sigma=1.5)",
          "g(x)": 0.10675331281205362,
          "x": -3.0267558528428093
         },
         {
          "Func": "Gaussian(mu=-1, sigma=1.5)",
          "g(x)": 0.11162567187968085,
          "x": -2.976588628762542
         },
         {
          "Func": "Gaussian(mu=-1, sigma=1.5)",
          "g(x)": 0.11658992641464437,
          "x": -2.926421404682274
         },
         {
          "Func": "Gaussian(mu=-1, sigma=1.5)",
          "g(x)": 0.12163881703361654,
          "x": -2.8762541806020065
         },
         {
          "Func": "Gaussian(mu=-1, sigma=1.5)",
          "g(x)": 0.12676447583464057,
          "x": -2.8260869565217392
         },
         {
          "Func": "Gaussian(mu=-1, sigma=1.5)",
          "g(x)": 0.13195843598460352,
          "x": -2.775919732441471
         },
         {
          "Func": "Gaussian(mu=-1, sigma=1.5)",
          "g(x)": 0.1372116451333081,
          "x": -2.7257525083612038
         },
         {
          "Func": "Gaussian(mu=-1, sigma=1.5)",
          "g(x)": 0.14251448272350112,
          "x": -2.6755852842809364
         },
         {
          "Func": "Gaussian(mu=-1, sigma=1.5)",
          "g(x)": 0.1478567812380033,
          "x": -2.625418060200669
         },
         {
          "Func": "Gaussian(mu=-1, sigma=1.5)",
          "g(x)": 0.15322785139534822,
          "x": -2.575250836120401
         },
         {
          "Func": "Gaussian(mu=-1, sigma=1.5)",
          "g(x)": 0.15861651127430804,
          "x": -2.5250836120401337
         },
         {
          "Func": "Gaussian(mu=-1, sigma=1.5)",
          "g(x)": 0.1640111193156388,
          "x": -2.4749163879598663
         },
         {
          "Func": "Gaussian(mu=-1, sigma=1.5)",
          "g(x)": 0.16939961111660015,
          "x": -2.424749163879598
         },
         {
          "Func": "Gaussian(mu=-1, sigma=1.5)",
          "g(x)": 0.17476953990060437,
          "x": -2.374581939799331
         },
         {
          "Func": "Gaussian(mu=-1, sigma=1.5)",
          "g(x)": 0.1801081205110572,
          "x": -2.3244147157190636
         },
         {
          "Func": "Gaussian(mu=-1, sigma=1.5)",
          "g(x)": 0.18540227674539242,
          "x": -2.2742474916387954
         },
         {
          "Func": "Gaussian(mu=-1, sigma=1.5)",
          "g(x)": 0.19063869181283374,
          "x": -2.224080267558528
         },
         {
          "Func": "Gaussian(mu=-1, sigma=1.5)",
          "g(x)": 0.1958038616678844,
          "x": -2.1739130434782608
         },
         {
          "Func": "Gaussian(mu=-1, sigma=1.5)",
          "g(x)": 0.20088415094129233,
          "x": -2.1237458193979935
         },
         {
          "Func": "Gaussian(mu=-1, sigma=1.5)",
          "g(x)": 0.205865851161629,
          "x": -2.0735785953177253
         },
         {
          "Func": "Gaussian(mu=-1, sigma=1.5)",
          "g(x)": 0.2107352409339763,
          "x": -2.023411371237458
         },
         {
          "Func": "Gaussian(mu=-1, sigma=1.5)",
          "g(x)": 0.2154786477178737,
          "x": -1.9732441471571907
         },
         {
          "Func": "Gaussian(mu=-1, sigma=1.5)",
          "g(x)": 0.22008251082494062,
          "x": -1.9230769230769234
         },
         {
          "Func": "Gaussian(mu=-1, sigma=1.5)",
          "g(x)": 0.2245334452377501,
          "x": -1.872909698996656
         },
         {
          "Func": "Gaussian(mu=-1, sigma=1.5)",
          "g(x)": 0.2288183058358422,
          "x": -1.822742474916387
         },
         {
          "Func": "Gaussian(mu=-1, sigma=1.5)",
          "g(x)": 0.23292425160247096,
          "x": -1.7725752508361197
         },
         {
          "Func": "Gaussian(mu=-1, sigma=1.5)",
          "g(x)": 0.23683880937696966,
          "x": -1.7224080267558524
         },
         {
          "Func": "Gaussian(mu=-1, sigma=1.5)",
          "g(x)": 0.2405499367126586,
          "x": -1.672240802675585
         },
         {
          "Func": "Gaussian(mu=-1, sigma=1.5)",
          "g(x)": 0.24404608339913872,
          "x": -1.6220735785953178
         },
         {
          "Func": "Gaussian(mu=-1, sigma=1.5)",
          "g(x)": 0.2473162512106864,
          "x": -1.5719063545150505
         },
         {
          "Func": "Gaussian(mu=-1, sigma=1.5)",
          "g(x)": 0.2503500514493345,
          "x": -1.5217391304347831
         },
         {
          "Func": "Gaussian(mu=-1, sigma=1.5)",
          "g(x)": 0.2531377598620887,
          "x": -1.471571906354514
         },
         {
          "Func": "Gaussian(mu=-1, sigma=1.5)",
          "g(x)": 0.25567036852653063,
          "x": -1.4214046822742468
         },
         {
          "Func": "Gaussian(mu=-1, sigma=1.5)",
          "g(x)": 0.25793963431771355,
          "x": -1.3712374581939795
         },
         {
          "Func": "Gaussian(mu=-1, sigma=1.5)",
          "g(x)": 0.2599381235916151,
          "x": -1.3210702341137122
         },
         {
          "Func": "Gaussian(mu=-1, sigma=1.5)",
          "g(x)": 0.2616592527462978,
          "x": -1.2709030100334449
         },
         {
          "Func": "Gaussian(mu=-1, sigma=1.5)",
          "g(x)": 0.2630973243511158,
          "x": -1.2207357859531776
         },
         {
          "Func": "Gaussian(mu=-1, sigma=1.5)",
          "g(x)": 0.26424755856653076,
          "x": -1.1705685618729103
         },
         {
          "Func": "Gaussian(mu=-1, sigma=1.5)",
          "g(x)": 0.2651061196120615,
          "x": -1.1204013377926412
         },
         {
          "Func": "Gaussian(mu=-1, sigma=1.5)",
          "g(x)": 0.26567013707726167,
          "x": -1.0702341137123739
         },
         {
          "Func": "Gaussian(mu=-1, sigma=1.5)",
          "g(x)": 0.2659377219100275,
          "x": -1.0200668896321066
         },
         {
          "Func": "Gaussian(mu=-1, sigma=1.5)",
          "g(x)": 0.26590797695760454,
          "x": -0.9698996655518393
         },
         {
          "Func": "Gaussian(mu=-1, sigma=1.5)",
          "g(x)": 0.2655810019779781,
          "x": -0.919732441471572
         },
         {
          "Func": "Gaussian(mu=-1, sigma=1.5)",
          "g(x)": 0.2649578930824707,
          "x": -0.8695652173913047
         },
         {
          "Func": "Gaussian(mu=-1, sigma=1.5)",
          "g(x)": 0.2640407366139053,
          "x": -0.8193979933110374
         },
         {
          "Func": "Gaussian(mu=-1, sigma=1.5)",
          "g(x)": 0.26283259750818433,
          "x": -0.7692307692307683
         },
         {
          "Func": "Gaussian(mu=-1, sigma=1.5)",
          "g(x)": 0.261337502230143,
          "x": -0.719063545150501
         },
         {
          "Func": "Gaussian(mu=-1, sigma=1.5)",
          "g(x)": 0.25956041641663363,
          "x": -0.6688963210702337
         },
         {
          "Func": "Gaussian(mu=-1, sigma=1.5)",
          "g(x)": 0.2575072174005669,
          "x": -0.6187290969899664
         },
         {
          "Func": "Gaussian(mu=-1, sigma=1.5)",
          "g(x)": 0.2551846618286641,
          "x": -0.5685618729096991
         },
         {
          "Func": "Gaussian(mu=-1, sigma=1.5)",
          "g(x)": 0.25260034862259223,
          "x": -0.5183946488294318
         },
         {
          "Func": "Gaussian(mu=-1, sigma=1.5)",
          "g(x)": 0.2497626775675922,
          "x": -0.46822742474916446
         },
         {
          "Func": "Gaussian(mu=-1, sigma=1.5)",
          "g(x)": 0.2466808038443522,
          "x": -0.4180602006688954
         },
         {
          "Func": "Gaussian(mu=-1, sigma=1.5)",
          "g(x)": 0.24336458884842488,
          "x": -0.3678929765886281
         },
         {
          "Func": "Gaussian(mu=-1, sigma=1.5)",
          "g(x)": 0.2398245476666815,
          "x": -0.31772575250836077
         },
         {
          "Func": "Gaussian(mu=-1, sigma=1.5)",
          "g(x)": 0.23607179360193392,
          "x": -0.26755852842809347
         },
         {
          "Func": "Gaussian(mu=-1, sigma=1.5)",
          "g(x)": 0.23211798015474142,
          "x": -0.21739130434782616
         },
         {
          "Func": "Gaussian(mu=-1, sigma=1.5)",
          "g(x)": 0.22797524088544552,
          "x": -0.16722408026755886
         },
         {
          "Func": "Gaussian(mu=-1, sigma=1.5)",
          "g(x)": 0.22365612758954156,
          "x": -0.11705685618729156
         },
         {
          "Func": "Gaussian(mu=-1, sigma=1.5)",
          "g(x)": 0.2191735472255643,
          "x": -0.06688963210702248
         },
         {
          "Func": "Gaussian(mu=-1, sigma=1.5)",
          "g(x)": 0.21454069803674525,
          "x": -0.016722408026755176
         },
         {
          "Func": "Gaussian(mu=-1, sigma=1.5)",
          "g(x)": 0.20977100530582718,
          "x": 0.03344481605351213
         },
         {
          "Func": "Gaussian(mu=-1, sigma=1.5)",
          "g(x)": 0.2048780571767101,
          "x": 0.08361204013377943
         },
         {
          "Func": "Gaussian(mu=-1, sigma=1.5)",
          "g(x)": 0.19987554096715318,
          "x": 0.13377926421404673
         },
         {
          "Func": "Gaussian(mu=-1, sigma=1.5)",
          "g(x)": 0.19477718038377245,
          "x": 0.18394648829431404
         },
         {
          "Func": "Gaussian(mu=-1, sigma=1.5)",
          "g(x)": 0.18959667403423477,
          "x": 0.23411371237458134
         },
         {
          "Func": "Gaussian(mu=-1, sigma=1.5)",
          "g(x)": 0.18434763561210768,
          "x": 0.2842809364548504
         },
         {
          "Func": "Gaussian(mu=-1, sigma=1.5)",
          "g(x)": 0.17904353610754525,
          "x": 0.3344481605351177
         },
         {
          "Func": "Gaussian(mu=-1, sigma=1.5)",
          "g(x)": 0.1736976483721567,
          "x": 0.384615384615385
         },
         {
          "Func": "Gaussian(mu=-1, sigma=1.5)",
          "g(x)": 0.16832299433935047,
          "x": 0.43478260869565233
         },
         {
          "Func": "Gaussian(mu=-1, sigma=1.5)",
          "g(x)": 0.16293229517246974,
          "x": 0.48494983277591963
         },
         {
          "Func": "Gaussian(mu=-1, sigma=1.5)",
          "g(x)": 0.15753792458250712,
          "x": 0.5351170568561869
         },
         {
          "Func": "Gaussian(mu=-1, sigma=1.5)",
          "g(x)": 0.15215186552543447,
          "x": 0.5852842809364542
         },
         {
          "Func": "Gaussian(mu=-1, sigma=1.5)",
          "g(x)": 0.14678567045656798,
          "x": 0.6354515050167233
         },
         {
          "Func": "Gaussian(mu=-1, sigma=1.5)",
          "g(x)": 0.14145042528625887,
          "x": 0.6856187290969906
         },
         {
          "Func": "Gaussian(mu=-1, sigma=1.5)",
          "g(x)": 0.13615671714789207,
          "x": 0.7357859531772579
         },
         {
          "Func": "Gaussian(mu=-1, sigma=1.5)",
          "g(x)": 0.13091460605604302,
          "x": 0.7859531772575252
         },
         {
          "Func": "Gaussian(mu=-1, sigma=1.5)",
          "g(x)": 0.12573360049998006,
          "x": 0.8361204013377925
         },
         {
          "Func": "Gaussian(mu=-1, sigma=1.5)",
          "g(x)": 0.12062263698583904,
          "x": 0.8862876254180598
         },
         {
          "Func": "Gaussian(mu=-1, sigma=1.5)",
          "g(x)": 0.11559006351000443,
          "x": 0.9364548494983289
         },
         {
          "Func": "Gaussian(mu=-1, sigma=1.5)",
          "g(x)": 0.11064362691677927,
          "x": 0.9866220735785962
         },
         {
          "Func": "Gaussian(mu=-1, sigma=1.5)",
          "g(x)": 0.10579046406554628,
          "x": 1.0367892976588635
         },
         {
          "Func": "Gaussian(mu=-1, sigma=1.5)",
          "g(x)": 0.10103709670653697,
          "x": 1.0869565217391308
         },
         {
          "Func": "Gaussian(mu=-1, sigma=1.5)",
          "g(x)": 0.09638942994020017,
          "x": 1.1371237458193981
         },
         {
          "Func": "Gaussian(mu=-1, sigma=1.5)",
          "g(x)": 0.091852754113168,
          "x": 1.1872909698996654
         },
         {
          "Func": "Gaussian(mu=-1, sigma=1.5)",
          "g(x)": 0.0874317499840698,
          "x": 1.2374581939799327
         },
         {
          "Func": "Gaussian(mu=-1, sigma=1.5)",
          "g(x)": 0.08313049697503834,
          "x": 1.2876254180602018
         },
         {
          "Func": "Gaussian(mu=-1, sigma=1.5)",
          "g(x)": 0.07895248430975718,
          "x": 1.3377926421404691
         },
         {
          "Func": "Gaussian(mu=-1, sigma=1.5)",
          "g(x)": 0.07490062482633911,
          "x": 1.3879598662207364
         },
         {
          "Func": "Gaussian(mu=-1, sigma=1.5)",
          "g(x)": 0.07097727124322525,
          "x": 1.4381270903010037
         },
         {
          "Func": "Gaussian(mu=-1, sigma=1.5)",
          "g(x)": 0.06718423464861308,
          "x": 1.488294314381271
         },
         {
          "Func": "Gaussian(mu=-1, sigma=1.5)",
          "g(x)": 0.06352280497863229,
          "x": 1.5384615384615383
         },
         {
          "Func": "Gaussian(mu=-1, sigma=1.5)",
          "g(x)": 0.05999377324650856,
          "x": 1.5886287625418056
         },
         {
          "Func": "Gaussian(mu=-1, sigma=1.5)",
          "g(x)": 0.0565974552842022,
          "x": 1.6387959866220747
         },
         {
          "Func": "Gaussian(mu=-1, sigma=1.5)",
          "g(x)": 0.05333371675936908,
          "x": 1.688963210702342
         },
         {
          "Func": "Gaussian(mu=-1, sigma=1.5)",
          "g(x)": 0.05020199923383559,
          "x": 1.7391304347826093
         },
         {
          "Func": "Gaussian(mu=-1, sigma=1.5)",
          "g(x)": 0.047201347034974986,
          "x": 1.7892976588628766
         },
         {
          "Func": "Gaussian(mu=-1, sigma=1.5)",
          "g(x)": 0.04433043471824957,
          "x": 1.839464882943144
         },
         {
          "Func": "Gaussian(mu=-1, sigma=1.5)",
          "g(x)": 0.04158759490759464,
          "x": 1.8896321070234112
         },
         {
          "Func": "Gaussian(mu=-1, sigma=1.5)",
          "g(x)": 0.03897084631008343,
          "x": 1.9397993311036785
         },
         {
          "Func": "Gaussian(mu=-1, sigma=1.5)",
          "g(x)": 0.03647792171225817,
          "x": 1.9899665551839476
         },
         {
          "Func": "Gaussian(mu=-1, sigma=1.5)",
          "g(x)": 0.03410629577746001,
          "x": 2.040133779264215
         },
         {
          "Func": "Gaussian(mu=-1, sigma=1.5)",
          "g(x)": 0.03185321247626245,
          "x": 2.090301003344482
         },
         {
          "Func": "Gaussian(mu=-1, sigma=1.5)",
          "g(x)": 0.029715711995538116,
          "x": 2.1404682274247495
         },
         {
          "Func": "Gaussian(mu=-1, sigma=1.5)",
          "g(x)": 0.027690656985584584,
          "x": 2.190635451505017
         },
         {
          "Func": "Gaussian(mu=-1, sigma=1.5)",
          "g(x)": 0.025774758018949226,
          "x": 2.240802675585284
         },
         {
          "Func": "Gaussian(mu=-1, sigma=1.5)",
          "g(x)": 0.023964598148956028,
          "x": 2.2909698996655514
         },
         {
          "Func": "Gaussian(mu=-1, sigma=1.5)",
          "g(x)": 0.02225665647030565,
          "x": 2.3411371237458205
         },
         {
          "Func": "Gaussian(mu=-1, sigma=1.5)",
          "g(x)": 0.02064733059835191,
          "x": 2.391304347826088
         },
         {
          "Func": "Gaussian(mu=-1, sigma=1.5)",
          "g(x)": 0.019132957997623573,
          "x": 2.441471571906355
         },
         {
          "Func": "Gaussian(mu=-1, sigma=1.5)",
          "g(x)": 0.017709836103746785,
          "x": 2.4916387959866224
         },
         {
          "Func": "Gaussian(mu=-1, sigma=1.5)",
          "g(x)": 0.01637424119602024,
          "x": 2.5418060200668897
         },
         {
          "Func": "Gaussian(mu=-1, sigma=1.5)",
          "g(x)": 0.015122445990415699,
          "x": 2.591973244147157
         },
         {
          "Func": "Gaussian(mu=-1, sigma=1.5)",
          "g(x)": 0.013950735934638721,
          "x": 2.6421404682274243
         },
         {
          "Func": "Gaussian(mu=-1, sigma=1.5)",
          "g(x)": 0.012855424198022684,
          "x": 2.6923076923076934
         },
         {
          "Func": "Gaussian(mu=-1, sigma=1.5)",
          "g(x)": 0.011832865359390652,
          "x": 2.7424749163879607
         },
         {
          "Func": "Gaussian(mu=-1, sigma=1.5)",
          "g(x)": 0.010879467805561668,
          "x": 2.792642140468228
         },
         {
          "Func": "Gaussian(mu=-1, sigma=1.5)",
          "g(x)": 0.00999170486187414,
          "x": 2.8428093645484953
         },
         {
          "Func": "Gaussian(mu=-1, sigma=1.5)",
          "g(x)": 0.009166124683927497,
          "x": 2.8929765886287626
         },
         {
          "Func": "Gaussian(mu=-1, sigma=1.5)",
          "g(x)": 0.008399358946700504,
          "x": 2.94314381270903
         },
         {
          "Func": "Gaussian(mu=-1, sigma=1.5)",
          "g(x)": 0.007688130373291439,
          "x": 2.993311036789297
         },
         {
          "Func": "Gaussian(mu=-1, sigma=1.5)",
          "g(x)": 0.0070292591507537866,
          "x": 3.0434782608695663
         },
         {
          "Func": "Gaussian(mu=-1, sigma=1.5)",
          "g(x)": 0.006419668284892,
          "x": 3.0936454849498336
         },
         {
          "Func": "Gaussian(mu=-1, sigma=1.5)",
          "g(x)": 0.00585638794946094,
          "x": 3.143812709030101
         },
         {
          "Func": "Gaussian(mu=-1, sigma=1.5)",
          "g(x)": 0.005336558888016501,
          "x": 3.193979933110368
         },
         {
          "Func": "Gaussian(mu=-1, sigma=1.5)",
          "g(x)": 0.0048574349287289105,
          "x": 3.2441471571906355
         },
         {
          "Func": "Gaussian(mu=-1, sigma=1.5)",
          "g(x)": 0.004416384673841715,
          "x": 3.294314381270903
         },
         {
          "Func": "Gaussian(mu=-1, sigma=1.5)",
          "g(x)": 0.004010892426183295,
          "x": 3.34448160535117
         },
         {
          "Func": "Gaussian(mu=-1, sigma=1.5)",
          "g(x)": 0.0036385584152654085,
          "x": 3.394648829431439
         },
         {
          "Func": "Gaussian(mu=-1, sigma=1.5)",
          "g(x)": 0.0032970983850859623,
          "x": 3.4448160535117065
         },
         {
          "Func": "Gaussian(mu=-1, sigma=1.5)",
          "g(x)": 0.0029843426048442624,
          "x": 3.494983277591974
         },
         {
          "Func": "Gaussian(mu=-1, sigma=1.5)",
          "g(x)": 0.002698234362430674,
          "x": 3.545150501672241
         },
         {
          "Func": "Gaussian(mu=-1, sigma=1.5)",
          "g(x)": 0.002436827998820772,
          "x": 3.5953177257525084
         },
         {
          "Func": "Gaussian(mu=-1, sigma=1.5)",
          "g(x)": 0.0021982865394406053,
          "x": 3.6454849498327757
         },
         {
          "Func": "Gaussian(mu=-1, sigma=1.5)",
          "g(x)": 0.0019808789762248554,
          "x": 3.695652173913043
         },
         {
          "Func": "Gaussian(mu=-1, sigma=1.5)",
          "g(x)": 0.0017829772515128746,
          "x": 3.745819397993312
         },
         {
          "Func": "Gaussian(mu=-1, sigma=1.5)",
          "g(x)": 0.0016030529921658514,
          "x": 3.7959866220735794
         },
         {
          "Func": "Gaussian(mu=-1, sigma=1.5)",
          "g(x)": 0.001439674039385893,
          "x": 3.8461538461538467
         },
         {
          "Func": "Gaussian(mu=-1, sigma=1.5)",
          "g(x)": 0.00129150081671656,
          "x": 3.896321070234114
         },
         {
          "Func": "Gaussian(mu=-1, sigma=1.5)",
          "g(x)": 0.001157282575642123,
          "x": 3.9464882943143813
         },
         {
          "Func": "Gaussian(mu=-1, sigma=1.5)",
          "g(x)": 0.0010358535551156331,
          "x": 3.9966555183946486
         },
         {
          "Func": "Gaussian(mu=-1, sigma=1.5)",
          "g(x)": 0.0009261290882651232,
          "x": 4.046822742474916
         },
         {
          "Func": "Gaussian(mu=-1, sigma=1.5)",
          "g(x)": 0.0008271016864819378,
          "x": 4.096989966555185
         },
         {
          "Func": "Gaussian(mu=-1, sigma=1.5)",
          "g(x)": 0.0007378371281105697,
          "x": 4.147157190635452
         },
         {
          "Func": "Gaussian(mu=-1, sigma=1.5)",
          "g(x)": 0.0006574705760573451,
          "x": 4.19732441471572
         },
         {
          "Func": "Gaussian(mu=-1, sigma=1.5)",
          "g(x)": 0.0005852027458351716,
          "x": 4.247491638795987
         },
         {
          "Func": "Gaussian(mu=-1, sigma=1.5)",
          "g(x)": 0.0005202961428785827,
          "x": 4.297658862876254
         },
         {
          "Func": "Gaussian(mu=-1, sigma=1.5)",
          "g(x)": 0.0004620713854108267,
          "x": 4.3478260869565215
         },
         {
          "Func": "Gaussian(mu=-1, sigma=1.5)",
          "g(x)": 0.0004099036267326565,
          "x": 4.397993311036789
         },
         {
          "Func": "Gaussian(mu=-1, sigma=1.5)",
          "g(x)": 0.0003632190885383198,
          "x": 4.448160535117058
         },
         {
          "Func": "Gaussian(mu=-1, sigma=1.5)",
          "g(x)": 0.00032149171475326875,
          "x": 4.498327759197325
         },
         {
          "Func": "Gaussian(mu=-1, sigma=1.5)",
          "g(x)": 0.00028423995343311505,
          "x": 4.5484949832775925
         },
         {
          "Func": "Gaussian(mu=-1, sigma=1.5)",
          "g(x)": 0.0002510236724655815,
          "x": 4.59866220735786
         },
         {
          "Func": "Gaussian(mu=-1, sigma=1.5)",
          "g(x)": 0.00022144121317555133,
          "x": 4.648829431438127
         },
         {
          "Func": "Gaussian(mu=-1, sigma=1.5)",
          "g(x)": 0.00019512658444577753,
          "x": 4.698996655518394
         },
         {
          "Func": "Gaussian(mu=-1, sigma=1.5)",
          "g(x)": 0.00017174679862848,
          "x": 4.749163879598662
         },
         {
          "Func": "Gaussian(mu=-1, sigma=1.5)",
          "g(x)": 0.00015099934933120851,
          "x": 4.799331103678931
         },
         {
          "Func": "Gaussian(mu=-1, sigma=1.5)",
          "g(x)": 0.00013260983010816374,
          "x": 4.849498327759198
         },
         {
          "Func": "Gaussian(mu=-1, sigma=1.5)",
          "g(x)": 0.00011632969216902548,
          "x": 4.899665551839465
         },
         {
          "Func": "Gaussian(mu=-1, sigma=1.5)",
          "g(x)": 0.00010193413842414434,
          "x": 4.949832775919733
         },
         {
          "Func": "Gaussian(mu=-1, sigma=1.5)",
          "g(x)": 8.922015050992358e-05,
          "x": 5
         },
         {
          "Func": "Gaussian(mu=1, sigma=1)",
          "g(x)": 2.1188192535093538e-27,
          "x": -10
         },
         {
          "Func": "Gaussian(mu=1, sigma=1)",
          "g(x)": 3.6745845083895764e-27,
          "x": -9.949832775919733
         },
         {
          "Func": "Gaussian(mu=1, sigma=1)",
          "g(x)": 6.356668419278636e-27,
          "x": -9.899665551839465
         },
         {
          "Func": "Gaussian(mu=1, sigma=1)",
          "g(x)": 1.0968768372053055e-26,
          "x": -9.849498327759198
         },
         {
          "Func": "Gaussian(mu=1, sigma=1)",
          "g(x)": 1.887961623908237e-26,
          "x": -9.799331103678929
         },
         {
          "Func": "Gaussian(mu=1, sigma=1)",
          "g(x)": 3.241421050252689e-26,
          "x": -9.749163879598662
         },
         {
          "Func": "Gaussian(mu=1, sigma=1)",
          "g(x)": 5.551172502978378e-26,
          "x": -9.698996655518394
         },
         {
          "Func": "Gaussian(mu=1, sigma=1)",
          "g(x)": 9.48289599868375e-26,
          "x": -9.648829431438127
         },
         {
          "Func": "Gaussian(mu=1, sigma=1)",
          "g(x)": 1.6158619004559983e-25,
          "x": -9.59866220735786
         },
         {
          "Func": "Gaussian(mu=1, sigma=1)",
          "g(x)": 2.746467623706345e-25,
          "x": -9.548494983277592
         },
         {
          "Func": "Gaussian(mu=1, sigma=1)",
          "g(x)": 4.656415387043138e-25,
          "x": -9.498327759197325
         },
         {
          "Func": "Gaussian(mu=1, sigma=1)",
          "g(x)": 7.874734799240411e-25,
          "x": -9.448160535117056
         },
         {
          "Func": "Gaussian(mu=1, sigma=1)",
          "g(x)": 1.3283947394787591e-24,
          "x": -9.397993311036789
         },
         {
          "Func": "Gaussian(mu=1, sigma=1)",
          "g(x)": 2.2352461041195113e-24,
          "x": -9.347826086956522
         },
         {
          "Func": "Gaussian(mu=1, sigma=1)",
          "g(x)": 3.7517210094825875e-24,
          "x": -9.297658862876254
         },
         {
          "Func": "Gaussian(mu=1, sigma=1)",
          "g(x)": 6.2812013192213e-24,
          "x": -9.247491638795987
         },
         {
          "Func": "Gaussian(mu=1, sigma=1)",
          "g(x)": 1.0489671319520203e-23,
          "x": -9.19732441471572
         },
         {
          "Func": "Gaussian(mu=1, sigma=1)",
          "g(x)": 1.7473827201239665e-23,
          "x": -9.147157190635452
         },
         {
          "Func": "Gaussian(mu=1, sigma=1)",
          "g(x)": 2.90349566644352e-23,
          "x": -9.096989966555183
         },
         {
          "Func": "Gaussian(mu=1, sigma=1)",
          "g(x)": 4.812395553948639e-23,
          "x": -9.046822742474916
         },
         {
          "Func": "Gaussian(mu=1, sigma=1)",
          "g(x)": 7.95625036288226e-23,
          "x": -8.996655518394649
         },
         {
          "Func": "Gaussian(mu=1, sigma=1)",
          "g(x)": 1.3120867623794868e-22,
          "x": -8.946488294314381
         },
         {
          "Func": "Gaussian(mu=1, sigma=1)",
          "g(x)": 2.158358869086507e-22,
          "x": -8.896321070234114
         },
         {
          "Func": "Gaussian(mu=1, sigma=1)",
          "g(x)": 3.5415367092107826e-22,
          "x": -8.846153846153847
         },
         {
          "Func": "Gaussian(mu=1, sigma=1)",
          "g(x)": 5.796513190610198e-22,
          "x": -8.795986622073578
         },
         {
          "Func": "Gaussian(mu=1, sigma=1)",
          "g(x)": 9.463437068087063e-22,
          "x": -8.74581939799331
         },
         {
          "Func": "Gaussian(mu=1, sigma=1)",
          "g(x)": 1.541125326273688e-21,
          "x": -8.695652173913043
         },
         {
          "Func": "Gaussian(mu=1, sigma=1)",
          "g(x)": 2.503421662097056e-21,
          "x": -8.645484949832776
         },
         {
          "Func": "Gaussian(mu=1, sigma=1)",
          "g(x)": 4.056365155042644e-21,
          "x": -8.595317725752508
         },
         {
          "Func": "Gaussian(mu=1, sigma=1)",
          "g(x)": 6.556122657363087e-21,
          "x": -8.545150501672241
         },
         {
          "Func": "Gaussian(mu=1, sigma=1)",
          "g(x)": 1.0569734684835269e-20,
          "x": -8.494983277591974
         },
         {
          "Func": "Gaussian(mu=1, sigma=1)",
          "g(x)": 1.6997619032474786e-20,
          "x": -8.444816053511705
         },
         {
          "Func": "Gaussian(mu=1, sigma=1)",
          "g(x)": 2.726585278410908e-20,
          "x": -8.394648829431437
         },
         {
          "Func": "Gaussian(mu=1, sigma=1)",
          "g(x)": 4.362717270014047e-20,
          "x": -8.34448160535117
         },
         {
          "Func": "Gaussian(mu=1, sigma=1)",
          "g(x)": 6.963090531887058e-20,
          "x": -8.294314381270903
         },
         {
          "Func": "Gaussian(mu=1, sigma=1)",
          "g(x)": 1.1085467261554486e-19,
          "x": -8.244147157190636
         },
         {
          "Func": "Gaussian(mu=1, sigma=1)",
          "g(x)": 1.7604064650972985e-19,
          "x": -8.193979933110368
         },
         {
          "Func": "Gaussian(mu=1, sigma=1)",
          "g(x)": 2.7885529483302373e-19,
          "x": -8.143812709030101
         },
         {
          "Func": "Gaussian(mu=1, sigma=1)",
          "g(x)": 4.406074384164243e-19,
          "x": -8.093645484949832
         },
         {
          "Func": "Gaussian(mu=1, sigma=1)",
          "g(x)": 6.944352270513515e-19,
          "x": -8.043478260869565
         },
         {
          "Func": "Gaussian(mu=1, sigma=1)",
          "g(x)": 1.0917385640731103e-18,
          "x": -7.993311036789297
         },
         {
          "Func": "Gaussian(mu=1, sigma=1)",
          "g(x)": 1.7120346436475454e-18,
          "x": -7.94314381270903
         },
         {
          "Func": "Gaussian(mu=1, sigma=1)",
          "g(x)": 2.6780176493355866e-18,
          "x": -7.892976588628763
         },
         {
          "Func": "Gaussian(mu=1, sigma=1)",
          "g(x)": 4.178508696953052e-18,
          "x": -7.842809364548495
         },
         {
          "Func": "Gaussian(mu=1, sigma=1)",
          "g(x)": 6.503335736656139e-18,
          "x": -7.792642140468228
         },
         {
          "Func": "Gaussian(mu=1, sigma=1)",
          "g(x)": 1.0096201952842622e-17,
          "x": -7.74247491638796
         },
         {
          "Func": "Gaussian(mu=1, sigma=1)",
          "g(x)": 1.563460351553965e-17,
          "x": -7.692307692307692
         },
         {
          "Func": "Gaussian(mu=1, sigma=1)",
          "g(x)": 2.4150309708891382e-17,
          "x": -7.642140468227424
         },
         {
          "Func": "Gaussian(mu=1, sigma=1)",
          "g(x)": 3.721050175267159e-17,
          "x": -7.591973244147157
         },
         {
          "Func": "Gaussian(mu=1, sigma=1)",
          "g(x)": 5.71893732316565e-17,
          "x": -7.54180602006689
         },
         {
          "Func": "Gaussian(mu=1, sigma=1)",
          "g(x)": 8.767426562932699e-17,
          "x": -7.491638795986622
         },
         {
          "Func": "Gaussian(mu=1, sigma=1)",
          "g(x)": 1.3407133258507787e-16,
          "x": -7.441471571906355
         },
         {
          "Func": "Gaussian(mu=1, sigma=1)",
          "g(x)": 2.0450630611706115e-16,
          "x": -7.391304347826087
         },
         {
          "Func": "Gaussian(mu=1, sigma=1)",
          "g(x)": 3.11160508057559e-16,
          "x": -7.341137123745819
         },
         {
          "Func": "Gaussian(mu=1, sigma=1)",
          "g(x)": 4.722470228161888e-16,
          "x": -7.290969899665551
         },
         {
          "Func": "Gaussian(mu=1, sigma=1)",
          "g(x)": 7.149258076041352e-16,
          "x": -7.240802675585284
         },
         {
          "Func": "Gaussian(mu=1, sigma=1)",
          "g(x)": 1.0795921295491765e-15,
          "x": -7.190635451505017
         },
         {
          "Func": "Gaussian(mu=1, sigma=1)",
          "g(x)": 1.6261680878594446e-15,
          "x": -7.1404682274247495
         },
         {
          "Func": "Gaussian(mu=1, sigma=1)",
          "g(x)": 2.4433076103417557e-15,
          "x": -7.090301003344481
         },
         {
          "Func": "Gaussian(mu=1, sigma=1)",
          "g(x)": 3.6618272353866415e-15,
          "x": -7.040133779264214
         },
         {
          "Func": "Gaussian(mu=1, sigma=1)",
          "g(x)": 5.4742489336670865e-15,
          "x": -6.989966555183946
         },
         {
          "Func": "Gaussian(mu=1, sigma=1)",
          "g(x)": 8.163158397528206e-15,
          "x": -6.9397993311036785
         },
         {
          "Func": "Gaussian(mu=1, sigma=1)",
          "g(x)": 1.2142242270655484e-14,
          "x": -6.889632107023411
         },
         {
          "Func": "Gaussian(mu=1, sigma=1)",
          "g(x)": 1.801550968860924e-14,
          "x": -6.839464882943144
         },
         {
          "Func": "Gaussian(mu=1, sigma=1)",
          "g(x)": 2.666252049614346e-14,
          "x": -6.789297658862877
         },
         {
          "Func": "Gaussian(mu=1, sigma=1)",
          "g(x)": 3.936070243398845e-14,
          "x": -6.739130434782608
         },
         {
          "Func": "Gaussian(mu=1, sigma=1)",
          "g(x)": 5.796041247302552e-14,
          "x": -6.688963210702341
         },
         {
          "Func": "Gaussian(mu=1, sigma=1)",
          "g(x)": 8.513479288524245e-14,
          "x": -6.638795986622073
         },
         {
          "Func": "Gaussian(mu=1, sigma=1)",
          "g(x)": 1.2473539004027193e-13,
          "x": -6.588628762541806
         },
         {
          "Func": "Gaussian(mu=1, sigma=1)",
          "g(x)": 1.8229690030460817e-13,
          "x": -6.538461538461538
         },
         {
          "Func": "Gaussian(mu=1, sigma=1)",
          "g(x)": 2.6575158788398706e-13,
          "x": -6.488294314381271
         },
         {
          "Func": "Gaussian(mu=1, sigma=1)",
          "g(x)": 3.8643765791863885e-13,
          "x": -6.438127090301004
         },
         {
          "Func": "Gaussian(mu=1, sigma=1)",
          "g(x)": 5.605185678507199e-13,
          "x": -6.3879598662207355
         },
         {
          "Func": "Gaussian(mu=1, sigma=1)",
          "g(x)": 8.109751659911131e-13,
          "x": -6.337792642140468
         },
         {
          "Func": "Gaussian(mu=1, sigma=1)",
          "g(x)": 1.170394025148468e-12,
          "x": -6.2876254180602
         },
         {
          "Func": "Gaussian(mu=1, sigma=1)",
          "g(x)": 1.6848592479143252e-12,
          "x": -6.237458193979933
         },
         {
          "Func": "Gaussian(mu=1, sigma=1)",
          "g(x)": 2.4193691871524036e-12,
          "x": -6.187290969899665
         },
         {
          "Func": "Gaussian(mu=1, sigma=1)",
          "g(x)": 3.465354378516214e-12,
          "x": -6.137123745819398
         },
         {
          "Func": "Gaussian(mu=1, sigma=1)",
          "g(x)": 4.9510823647001725e-12,
          "x": -6.086956521739131
         },
         {
          "Func": "Gaussian(mu=1, sigma=1)",
          "g(x)": 7.056017316829846e-12,
          "x": -6.036789297658863
         },
         {
          "Func": "Gaussian(mu=1, sigma=1)",
          "g(x)": 1.0030581568719095e-11,
          "x": -5.986622073578595
         },
         {
          "Func": "Gaussian(mu=1, sigma=1)",
          "g(x)": 1.4223274087977182e-11,
          "x": -5.936454849498328
         },
         {
          "Func": "Gaussian(mu=1, sigma=1)",
          "g(x)": 2.0117779025479345e-11,
          "x": -5.88628762541806
         },
         {
          "Func": "Gaussian(mu=1, sigma=1)",
          "g(x)": 2.838359995314046e-11,
          "x": -5.8361204013377925
         },
         {
          "Func": "Gaussian(mu=1, sigma=1)",
          "g(x)": 3.994495257828754e-11,
          "x": -5.785953177257525
         },
         {
          "Func": "Gaussian(mu=1, sigma=1)",
          "g(x)": 5.6074231710898295e-11,
          "x": -5.735785953177257
         },
         {
          "Func": "Gaussian(mu=1, sigma=1)",
          "g(x)": 7.851845457588377e-11,
          "x": -5.68561872909699
         },
         {
          "Func": "Gaussian(mu=1, sigma=1)",
          "g(x)": 1.096698232381398e-10,
          "x": -5.635451505016722
         },
         {
          "Func": "Gaussian(mu=1, sigma=1)",
          "g(x)": 1.5279513731166496e-10,
          "x": -5.585284280936455
         },
         {
          "Func": "Gaussian(mu=1, sigma=1)",
          "g(x)": 2.123434708811239e-10,
          "x": -5.535117056856187
         },
         {
          "Func": "Gaussian(mu=1, sigma=1)",
          "g(x)": 2.943576180059128e-10,
          "x": -5.48494983277592
         },
         {
          "Func": "Gaussian(mu=1, sigma=1)",
          "g(x)": 4.070227058183098e-10,
          "x": -5.434782608695652
         },
         {
          "Func": "Gaussian(mu=1, sigma=1)",
          "g(x)": 5.61395572852069e-10,
          "x": -5.384615384615384
         },
         {
          "Func": "Gaussian(mu=1, sigma=1)",
          "g(x)": 7.723716402450845e-10,
          "x": -5.334448160535117
         },
         {
          "Func": "Gaussian(mu=1, sigma=1)",
          "g(x)": 1.0599628492122554e-09,
          "x": -5.2842809364548495
         },
         {
          "Func": "Gaussian(mu=1, sigma=1)",
          "g(x)": 1.4509817761802412e-09,
          "x": -5.234113712374582
         },
         {
          "Func": "Gaussian(mu=1, sigma=1)",
          "g(x)": 1.9812544777380263e-09,
          "x": -5.183946488294314
         },
         {
          "Func": "Gaussian(mu=1, sigma=1)",
          "g(x)": 2.698519455213704e-09,
          "x": -5.133779264214047
         },
         {
          "Func": "Gaussian(mu=1, sigma=1)",
          "g(x)": 3.666214199250407e-09,
          "x": -5.083612040133779
         },
         {
          "Func": "Gaussian(mu=1, sigma=1)",
          "g(x)": 4.96840632414297e-09,
          "x": -5.033444816053511
         },
         {
          "Func": "Gaussian(mu=1, sigma=1)",
          "g(x)": 6.7161960645399715e-09,
          "x": -4.983277591973244
         },
         {
          "Func": "Gaussian(mu=1, sigma=1)",
          "g(x)": 9.056004197288032e-09,
          "x": -4.933110367892977
         },
         {
          "Func": "Gaussian(mu=1, sigma=1)",
          "g(x)": 1.2180268264939147e-08,
          "x": -4.882943143812709
         },
         {
          "Func": "Gaussian(mu=1, sigma=1)",
          "g(x)": 1.634120510970819e-08,
          "x": -4.832775919732441
         },
         {
          "Func": "Gaussian(mu=1, sigma=1)",
          "g(x)": 2.186846490097243e-08,
          "x": -4.782608695652174
         },
         {
          "Func": "Gaussian(mu=1, sigma=1)",
          "g(x)": 2.9191707851103377e-08,
          "x": -4.7324414715719065
         },
         {
          "Func": "Gaussian(mu=1, sigma=1)",
          "g(x)": 3.886938768665646e-08,
          "x": -4.682274247491638
         },
         {
          "Func": "Gaussian(mu=1, sigma=1)",
          "g(x)": 5.1625335092803376e-08,
          "x": -4.632107023411371
         },
         {
          "Func": "Gaussian(mu=1, sigma=1)",
          "g(x)": 6.839511076730025e-08,
          "x": -4.581939799331104
         },
         {
          "Func": "Gaussian(mu=1, sigma=1)",
          "g(x)": 9.038455414692485e-08,
          "x": -4.5317725752508355
         },
         {
          "Func": "Gaussian(mu=1, sigma=1)",
          "g(x)": 1.1914350497763725e-07,
          "x": -4.481605351170568
         },
         {
          "Func": "Gaussian(mu=1, sigma=1)",
          "g(x)": 1.5665833746985373e-07,
          "x": -4.431438127090301
         },
         {
          "Func": "Gaussian(mu=1, sigma=1)",
          "g(x)": 2.054677398573484e-07,
          "x": -4.381270903010034
         },
         {
          "Func": "Gaussian(mu=1, sigma=1)",
          "g(x)": 2.6880711720415596e-07,
          "x": -4.331103678929765
         },
         {
          "Func": "Gaussian(mu=1, sigma=1)",
          "g(x)": 3.5078811620740653e-07,
          "x": -4.280936454849498
         },
         {
          "Func": "Gaussian(mu=1, sigma=1)",
          "g(x)": 4.566210939757828e-07,
          "x": -4.230769230769231
         },
         {
          "Func": "Gaussian(mu=1, sigma=1)",
          "g(x)": 5.928899072521089e-07,
          "x": -4.180602006688963
         },
         {
          "Func": "Gaussian(mu=1, sigma=1)",
          "g(x)": 7.678902155609165e-07,
          "x": -4.130434782608695
         },
         {
          "Func": "Gaussian(mu=1, sigma=1)",
          "g(x)": 9.92044604634738e-07,
          "x": -4.080267558528428
         },
         {
          "Func": "Gaussian(mu=1, sigma=1)",
          "g(x)": 1.278410280195192e-06,
          "x": -4.030100334448161
         },
         {
          "Func": "Gaussian(mu=1, sigma=1)",
          "g(x)": 1.6432978927735687e-06,
          "x": -3.9799331103678925
         },
         {
          "Func": "Gaussian(mu=1, sigma=1)",
          "g(x)": 2.1070232680137978e-06,
          "x": -3.9297658862876252
         },
         {
          "Func": "Gaussian(mu=1, sigma=1)",
          "g(x)": 2.694817469225127e-06,
          "x": -3.879598662207358
         },
         {
          "Func": "Gaussian(mu=1, sigma=1)",
          "g(x)": 3.4379247430511297e-06,
          "x": -3.8294314381270897
         },
         {
          "Func": "Gaussian(mu=1, sigma=1)",
          "g(x)": 4.374922524317312e-06,
          "x": -3.7792642140468224
         },
         {
          "Func": "Gaussian(mu=1, sigma=1)",
          "g(x)": 5.553302825811988e-06,
          "x": -3.729096989966555
         },
         {
          "Func": "Gaussian(mu=1, sigma=1)",
          "g(x)": 7.031360028016314e-06,
          "x": -3.678929765886288
         },
         {
          "Func": "Gaussian(mu=1, sigma=1)",
          "g(x)": 8.88043631657408e-06,
          "x": -3.6287625418060196
         },
         {
          "Func": "Gaussian(mu=1, sigma=1)",
          "g(x)": 1.1187582781189263e-05,
          "x": -3.5785953177257523
         },
         {
          "Func": "Gaussian(mu=1, sigma=1)",
          "g(x)": 1.40587014603468e-05,
          "x": -3.528428093645485
         },
         {
          "Func": "Gaussian(mu=1, sigma=1)",
          "g(x)": 1.7622241341560714e-05,
          "x": -3.478260869565217
         },
         {
          "Func": "Gaussian(mu=1, sigma=1)",
          "g(x)": 2.2033529430387365e-05,
          "x": -3.4280936454849495
         },
         {
          "Func": "Gaussian(mu=1, sigma=1)",
          "g(x)": 2.7479826376106083e-05,
          "x": -3.3779264214046822
         },
         {
          "Func": "Gaussian(mu=1, sigma=1)",
          "g(x)": 3.418620464527279e-05,
          "x": -3.327759197324415
         },
         {
          "Func": "Gaussian(mu=1, sigma=1)",
          "g(x)": 4.242235568371039e-05,
          "x": -3.2775919732441468
         },
         {
          "Func": "Gaussian(mu=1, sigma=1)",
          "g(x)": 5.2510440675650935e-05,
          "x": -3.2274247491638794
         },
         {
          "Func": "Gaussian(mu=1, sigma=1)",
          "g(x)": 6.483410711959447e-05,
          "x": -3.177257525083612
         },
         {
          "Func": "Gaussian(mu=1, sigma=1)",
          "g(x)": 7.984880016539893e-05,
          "x": -3.127090301003344
         },
         {
          "Func": "Gaussian(mu=1, sigma=1)",
          "g(x)": 9.809350311240964e-05,
          "x": -3.0769230769230766
         },
         {
          "Func": "Gaussian(mu=1, sigma=1)",
          "g(x)": 0.00012020404521354871,
          "x": -3.0267558528428093
         },
         {
          "Func": "Gaussian(mu=1, sigma=1)",
          "g(x)": 0.00014692811646791146,
          "x": -2.976588628762542
         },
         {
          "Func": "Gaussian(mu=1, sigma=1)",
          "g(x)": 0.00017914212786245646,
          "x": -2.926421404682274
         },
         {
          "Func": "Gaussian(mu=1, sigma=1)",
          "g(x)": 0.00021787005093890354,
          "x": -2.8762541806020065
         },
         {
          "Func": "Gaussian(mu=1, sigma=1)",
          "g(x)": 0.00026430436196825597,
          "x": -2.8260869565217392
         },
         {
          "Func": "Gaussian(mu=1, sigma=1)",
          "g(x)": 0.0003198292027315436,
          "x": -2.775919732441471
         },
         {
          "Func": "Gaussian(mu=1, sigma=1)",
          "g(x)": 0.00038604585122975645,
          "x": -2.7257525083612038
         },
         {
          "Func": "Gaussian(mu=1, sigma=1)",
          "g(x)": 0.0004648005708726439,
          "x": -2.6755852842809364
         },
         {
          "Func": "Gaussian(mu=1, sigma=1)",
          "g(x)": 0.0005582148751356803,
          "x": -2.625418060200669
         },
         {
          "Func": "Gaussian(mu=1, sigma=1)",
          "g(x)": 0.0006687182056787853,
          "x": -2.575250836120401
         },
         {
          "Func": "Gaussian(mu=1, sigma=1)",
          "g(x)": 0.0007990829749101484,
          "x": -2.5250836120401337
         },
         {
          "Func": "Gaussian(mu=1, sigma=1)",
          "g(x)": 0.0009524618684761256,
          "x": -2.4749163879598663
         },
         {
          "Func": "Gaussian(mu=1, sigma=1)",
          "g(x)": 0.0011324272388222411,
          "x": -2.424749163879598
         },
         {
          "Func": "Gaussian(mu=1, sigma=1)",
          "g(x)": 0.0013430123476342935,
          "x": -2.374581939799331
         },
         {
          "Func": "Gaussian(mu=1, sigma=1)",
          "g(x)": 0.0015887541326796795,
          "x": -2.3244147157190636
         },
         {
          "Func": "Gaussian(mu=1, sigma=1)",
          "g(x)": 0.0018747370836293467,
          "x": -2.2742474916387954
         },
         {
          "Func": "Gaussian(mu=1, sigma=1)",
          "g(x)": 0.0022066377124474188,
          "x": -2.224080267558528
         },
         {
          "Func": "Gaussian(mu=1, sigma=1)",
          "g(x)": 0.002590768997818042,
          "x": -2.1739130434782608
         },
         {
          "Func": "Gaussian(mu=1, sigma=1)",
          "g(x)": 0.0030341240711339256,
          "x": -2.1237458193979935
         },
         {
          "Func": "Gaussian(mu=1, sigma=1)",
          "g(x)": 0.003544418295491488,
          "x": -2.0735785953177253
         },
         {
          "Func": "Gaussian(mu=1, sigma=1)",
          "g(x)": 0.004130128771031893,
          "x": -2.023411371237458
         },
         {
          "Func": "Gaussian(mu=1, sigma=1)",
          "g(x)": 0.0048005301823729985,
          "x": -1.9732441471571907
         },
         {
          "Func": "Gaussian(mu=1, sigma=1)",
          "g(x)": 0.0055657257897571465,
          "x": -1.9230769230769234
         },
         {
          "Func": "Gaussian(mu=1, sigma=1)",
          "g(x)": 0.006436672258269802,
          "x": -1.872909698996656
         },
         {
          "Func": "Gaussian(mu=1, sigma=1)",
          "g(x)": 0.0074251969228194695,
          "x": -1.822742474916387
         },
         {
          "Func": "Gaussian(mu=1, sigma=1)",
          "g(x)": 0.008544006004598342,
          "x": -1.7725752508361197
         },
         {
          "Func": "Gaussian(mu=1, sigma=1)",
          "g(x)": 0.009806682231819724,
          "x": -1.7224080267558524
         },
         {
          "Func": "Gaussian(mu=1, sigma=1)",
          "g(x)": 0.011227670278180252,
          "x": -1.672240802675585
         },
         {
          "Func": "Gaussian(mu=1, sigma=1)",
          "g(x)": 0.012822248421329637,
          "x": -1.6220735785953178
         },
         {
          "Func": "Gaussian(mu=1, sigma=1)",
          "g(x)": 0.014606484845191947,
          "x": -1.5719063545150505
         },
         {
          "Func": "Gaussian(mu=1, sigma=1)",
          "g(x)": 0.016597177068626418,
          "x": -1.5217391304347831
         },
         {
          "Func": "Gaussian(mu=1, sigma=1)",
          "g(x)": 0.018811773082638567,
          "x": -1.471571906354514
         },
         {
          "Func": "Gaussian(mu=1, sigma=1)",
          "g(x)": 0.021268272922628437,
          "x": -1.4214046822742468
         },
         {
          "Func": "Gaussian(mu=1, sigma=1)",
          "g(x)": 0.02398510959376715,
          "x": -1.3712374581939795
         },
         {
          "Func": "Gaussian(mu=1, sigma=1)",
          "g(x)": 0.026981008508410273,
          "x": -1.3210702341137122
         },
         {
          "Func": "Gaussian(mu=1, sigma=1)",
          "g(x)": 0.030274824885329732,
          "x": -1.2709030100334449
         },
         {
          "Func": "Gaussian(mu=1, sigma=1)",
          "g(x)": 0.03388535890107404,
          "x": -1.2207357859531776
         },
         {
          "Func": "Gaussian(mu=1, sigma=1)",
          "g(x)": 0.03783114877218793,
          "x": -1.1705685618729103
         },
         {
          "Func": "Gaussian(mu=1, sigma=1)",
          "g(x)": 0.04213024238006951,
          "x": -1.1204013377926412
         },
         {
          "Func": "Gaussian(mu=1, sigma=1)",
          "g(x)": 0.046799948523053206,
          "x": -1.0702341137123739
         },
         {
          "Func": "Gaussian(mu=1, sigma=1)",
          "g(x)": 0.05185656938637774,
          "x": -1.0200668896321066
         },
         {
          "Func": "Gaussian(mu=1, sigma=1)",
          "g(x)": 0.057315116351853095,
          "x": -0.9698996655518393
         },
         {
          "Func": "Gaussian(mu=1, sigma=1)",
          "g(x)": 0.06318901181551835,
          "x": -0.919732441471572
         },
         {
          "Func": "Gaussian(mu=1, sigma=1)",
          "g(x)": 0.06948978023207475,
          "x": -0.8695652173913047
         },
         {
          "Func": "Gaussian(mu=1, sigma=1)",
          "g(x)": 0.07622673214674981,
          "x": -0.8193979933110374
         },
         {
          "Func": "Gaussian(mu=1, sigma=1)",
          "g(x)": 0.08340664549471043,
          "x": -0.7692307692307683
         },
         {
          "Func": "Gaussian(mu=1, sigma=1)",
          "g(x)": 0.09103344893055666,
          "x": -0.719063545150501
         },
         {
          "Func": "Gaussian(mu=1, sigma=1)",
          "g(x)": 0.09910791238063849,
          "x": -0.6688963210702337
         },
         {
          "Func": "Gaussian(mu=1, sigma=1)",
          "g(x)": 0.10762735037362639,
          "x": -0.6187290969899664
         },
         {
          "Func": "Gaussian(mu=1, sigma=1)",
          "g(x)": 0.11658534398495995,
          "x": -0.5685618729096991
         },
         {
          "Func": "Gaussian(mu=1, sigma=1)",
          "g(x)": 0.12597148741421,
          "x": -0.5183946488294318
         },
         {
          "Func": "Gaussian(mu=1, sigma=1)",
          "g(x)": 0.13577116528802202,
          "x": -0.46822742474916446
         },
         {
          "Func": "Gaussian(mu=1, sigma=1)",
          "g(x)": 0.14596536673385196,
          "x": -0.4180602006688954
         },
         {
          "Func": "Gaussian(mu=1, sigma=1)",
          "g(x)": 0.1565305420920477,
          "x": -0.3678929765886281
         },
         {
          "Func": "Gaussian(mu=1, sigma=1)",
          "g(x)": 0.1674385078195214,
          "x": -0.31772575250836077
         },
         {
          "Func": "Gaussian(mu=1, sigma=1)",
          "g(x)": 0.17865640468383234,
          "x": -0.26755852842809347
         },
         {
          "Func": "Gaussian(mu=1, sigma=1)",
          "g(x)": 0.19014671375196085,
          "x": -0.21739130434782616
         },
         {
          "Func": "Gaussian(mu=1, sigma=1)",
          "g(x)": 0.20186733394694065,
          "x": -0.16722408026755886
         },
         {
          "Func": "Gaussian(mu=1, sigma=1)",
          "g(x)": 0.21377172408525152,
          "x": -0.11705685618729156
         },
         {
          "Func": "Gaussian(mu=1, sigma=1)",
          "g(x)": 0.22580911132969686,
          "x": -0.06688963210702248
         },
         {
          "Func": "Gaussian(mu=1, sigma=1)",
          "g(x)": 0.23792476691146217,
          "x": -0.016722408026755176
         },
         {
          "Func": "Gaussian(mu=1, sigma=1)",
          "g(x)": 0.25006034880986155,
          "x": 0.03344481605351213
         },
         {
          "Func": "Gaussian(mu=1, sigma=1)",
          "g(x)": 0.26215430985090654,
          "x": 0.08361204013377943
         },
         {
          "Func": "Gaussian(mu=1, sigma=1)",
          "g(x)": 0.27414236842122724,
          "x": 0.13377926421404673
         },
         {
          "Func": "Gaussian(mu=1, sigma=1)",
          "g(x)": 0.28595803771925044,
          "x": 0.18394648829431404
         },
         {
          "Func": "Gaussian(mu=1, sigma=1)",
          "g(x)": 0.29753320820990614,
          "x": 0.23411371237458134
         },
         {
          "Func": "Gaussian(mu=1, sigma=1)",
          "g(x)": 0.30879877674244366,
          "x": 0.2842809364548504
         },
         {
          "Func": "Gaussian(mu=1, sigma=1)",
          "g(x)": 0.3196853146633525,
          "x": 0.3344481605351177
         },
         {
          "Func": "Gaussian(mu=1, sigma=1)",
          "g(x)": 0.3301237662374111,
          "x": 0.384615384615385
         },
         {
          "Func": "Gaussian(mu=1, sigma=1)",
          "g(x)": 0.34004616780750163,
          "x": 0.43478260869565233
         },
         {
          "Func": "Gaussian(mu=1, sigma=1)",
          "g(x)": 0.3493863774037063,
          "x": 0.48494983277591963
         },
         {
          "Func": "Gaussian(mu=1, sigma=1)",
          "g(x)": 0.35808080397675585,
          "x": 0.5351170568561869
         },
         {
          "Func": "Gaussian(mu=1, sigma=1)",
          "g(x)": 0.366069125098708,
          "x": 0.5852842809364542
         },
         {
          "Func": "Gaussian(mu=1, sigma=1)",
          "g(x)": 0.37329498185875254,
          "x": 0.6354515050167233
         },
         {
          "Func": "Gaussian(mu=1, sigma=1)",
          "g(x)": 0.379706639793133,
          "x": 0.6856187290969906
         },
         {
          "Func": "Gaussian(mu=1, sigma=1)",
          "g(x)": 0.385257605028725,
          "x": 0.7357859531772579
         },
         {
          "Func": "Gaussian(mu=1, sigma=1)",
          "g(x)": 0.38990718538742264,
          "x": 0.7859531772575252
         },
         {
          "Func": "Gaussian(mu=1, sigma=1)",
          "g(x)": 0.39362098698501713,
          "x": 0.8361204013377925
         },
         {
          "Func": "Gaussian(mu=1, sigma=1)",
          "g(x)": 0.39637133784979606,
          "x": 0.8862876254180598
         },
         {
          "Func": "Gaussian(mu=1, sigma=1)",
          "g(x)": 0.3981376312633767,
          "x": 0.9364548494983289
         },
         {
          "Func": "Gaussian(mu=1, sigma=1)",
          "g(x)": 0.3989065828650412,
          "x": 0.9866220735785962
         },
         {
          "Func": "Gaussian(mu=1, sigma=1)",
          "g(x)": 0.39867239703243706,
          "x": 1.0367892976588635
         },
         {
          "Func": "Gaussian(mu=1, sigma=1)",
          "g(x)": 0.39743683962370596,
          "x": 1.0869565217391308
         },
         {
          "Func": "Gaussian(mu=1, sigma=1)",
          "g(x)": 0.3952092158039077,
          "x": 1.1371237458193981
         },
         {
          "Func": "Gaussian(mu=1, sigma=1)",
          "g(x)": 0.3920062533452145,
          "x": 1.1872909698996654
         },
         {
          "Func": "Gaussian(mu=1, sigma=1)",
          "g(x)": 0.38785189344817084,
          "x": 1.2374581939799327
         },
         {
          "Func": "Gaussian(mu=1, sigma=1)",
          "g(x)": 0.38277699274299604,
          "x": 1.2876254180602018
         },
         {
          "Func": "Gaussian(mu=1, sigma=1)",
          "g(x)": 0.3768189416593667,
          "x": 1.3377926421404691
         },
         {
          "Func": "Gaussian(mu=1, sigma=1)",
          "g(x)": 0.3700212057665283,
          "x": 1.3879598662207364
         },
         {
          "Func": "Gaussian(mu=1, sigma=1)",
          "g(x)": 0.362432797952304,
          "x": 1.4381270903010037
         },
         {
          "Func": "Gaussian(mu=1, sigma=1)",
          "g(x)": 0.35410769040290085,
          "x": 1.488294314381271
         },
         {
          "Func": "Gaussian(mu=1, sigma=1)",
          "g(x)": 0.3451041762433681,
          "x": 1.5384615384615383
         },
         {
          "Func": "Gaussian(mu=1, sigma=1)",
          "g(x)": 0.3354841913843123,
          "x": 1.5886287625418056
         },
         {
          "Func": "Gaussian(mu=1, sigma=1)",
          "g(x)": 0.32531260758279434,
          "x": 1.6387959866220747
         },
         {
          "Func": "Gaussian(mu=1, sigma=1)",
          "g(x)": 0.3146565079587406,
          "x": 1.688963210702342
         },
         {
          "Func": "Gaussian(mu=1, sigma=1)",
          "g(x)": 0.3035844562130305,
          "x": 1.7391304347826093
         },
         {
          "Func": "Gaussian(mu=1, sigma=1)",
          "g(x)": 0.29216577057565857,
          "x": 1.7892976588628766
         },
         {
          "Func": "Gaussian(mu=1, sigma=1)",
          "g(x)": 0.28046981308328695,
          "x": 1.839464882943144
         },
         {
          "Func": "Gaussian(mu=1, sigma=1)",
          "g(x)": 0.26856530416131796,
          "x": 1.8896321070234112
         },
         {
          "Func": "Gaussian(mu=1, sigma=1)",
          "g(x)": 0.2565196716867627,
          "x": 1.9397993311036785
         },
         {
          "Func": "Gaussian(mu=1, sigma=1)",
          "g(x)": 0.2443984427587043,
          "x": 1.9899665551839476
         },
         {
          "Func": "Gaussian(mu=1, sigma=1)",
          "g(x)": 0.23226468532990396,
          "x": 2.040133779264215
         },
         {
          "Func": "Gaussian(mu=1, sigma=1)",
          "g(x)": 0.22017850568485198,
          "x": 2.090301003344482
         },
         {
          "Func": "Gaussian(mu=1, sigma=1)",
          "g(x)": 0.20819660651629404,
          "x": 2.1404682274247495
         },
         {
          "Func": "Gaussian(mu=1, sigma=1)",
          "g(x)": 0.19637190908406452,
          "x": 2.190635451505017
         },
         {
          "Func": "Gaussian(mu=1, sigma=1)",
          "g(x)": 0.1847532416665997,
          "x": 2.240802675585284
         },
         {
          "Func": "Gaussian(mu=1, sigma=1)",
          "g(x)": 0.17338509526500692,
          "x": 2.2909698996655514
         },
         {
          "Func": "Gaussian(mu=1, sigma=1)",
          "g(x)": 0.16230744631828153,
          "x": 2.3411371237458205
         },
         {
          "Func": "Gaussian(mu=1, sigma=1)",
          "g(x)": 0.15155564505980534,
          "x": 2.391304347826088
         },
         {
          "Func": "Gaussian(mu=1, sigma=1)",
          "g(x)": 0.14116036711010962,
          "x": 2.441471571906355
         },
         {
          "Func": "Gaussian(mu=1, sigma=1)",
          "g(x)": 0.1311476249761046,
          "x": 2.4916387959866224
         },
         {
          "Func": "Gaussian(mu=1, sigma=1)",
          "g(x)": 0.12153883532580288,
          "x": 2.5418060200668897
         },
         {
          "Func": "Gaussian(mu=1, sigma=1)",
          "g(x)": 0.11235093723950877,
          "x": 2.591973244147157
         },
         {
          "Func": "Gaussian(mu=1, sigma=1)",
          "g(x)": 0.10359655610906661,
          "x": 2.6421404682274243
         },
         {
          "Func": "Gaussian(mu=1, sigma=1)",
          "g(x)": 0.09528420746794823,
          "x": 2.6923076923076934
         },
         {
          "Func": "Gaussian(mu=1, sigma=1)",
          "g(x)": 0.08741853478503842,
          "x": 2.7424749163879607
         },
         {
          "Func": "Gaussian(mu=1, sigma=1)",
          "g(x)": 0.0800005751390536,
          "x": 2.792642140468228
         },
         {
          "Func": "Gaussian(mu=1, sigma=1)",
          "g(x)": 0.07302804670086491,
          "x": 2.8428093645484953
         },
         {
          "Func": "Gaussian(mu=1, sigma=1)",
          "g(x)": 0.06649565207737436,
          "x": 2.8929765886287626
         },
         {
          "Func": "Gaussian(mu=1, sigma=1)",
          "g(x)": 0.060395391800880445,
          "x": 2.94314381270903
         },
         {
          "Func": "Gaussian(mu=1, sigma=1)",
          "g(x)": 0.054716882568387394,
          "x": 2.993311036789297
         },
         {
          "Func": "Gaussian(mu=1, sigma=1)",
          "g(x)": 0.049447675231410776,
          "x": 3.0434782608695663
         },
         {
          "Func": "Gaussian(mu=1, sigma=1)",
          "g(x)": 0.04457356799330712,
          "x": 3.0936454849498336
         },
         {
          "Func": "Gaussian(mu=1, sigma=1)",
          "g(x)": 0.040078910772719564,
          "x": 3.143812709030101
         },
         {
          "Func": "Gaussian(mu=1, sigma=1)",
          "g(x)": 0.03594689722343399,
          "x": 3.193979933110368
         },
         {
          "Func": "Gaussian(mu=1, sigma=1)",
          "g(x)": 0.03215984144848075,
          "x": 3.2441471571906355
         },
         {
          "Func": "Gaussian(mu=1, sigma=1)",
          "g(x)": 0.028699436996435398,
          "x": 3.294314381270903
         },
         {
          "Func": "Gaussian(mu=1, sigma=1)",
          "g(x)": 0.025546996268513283,
          "x": 3.34448160535117
         },
         {
          "Func": "Gaussian(mu=1, sigma=1)",
          "g(x)": 0.022683668985623486,
          "x": 3.394648829431439
         },
         {
          "Func": "Gaussian(mu=1, sigma=1)",
          "g(x)": 0.02009063885601204,
          "x": 3.4448160535117065
         },
         {
          "Func": "Gaussian(mu=1, sigma=1)",
          "g(x)": 0.017749298039085978,
          "x": 3.494983277591974
         },
         {
          "Func": "Gaussian(mu=1, sigma=1)",
          "g(x)": 0.01564139941374029,
          "x": 3.545150501672241
         },
         {
          "Func": "Gaussian(mu=1, sigma=1)",
          "g(x)": 0.013749187025891249,
          "x": 3.5953177257525084
         },
         {
          "Func": "Gaussian(mu=1, sigma=1)",
          "g(x)": 0.012055505407409621,
          "x": 3.6454849498327757
         },
         {
          "Func": "Gaussian(mu=1, sigma=1)",
          "g(x)": 0.010543888726130716,
          "x": 3.695652173913043
         },
         {
          "Func": "Gaussian(mu=1, sigma=1)",
          "g(x)": 0.009198630944298462,
          "x": 3.745819397993312
         },
         {
          "Func": "Gaussian(mu=1, sigma=1)",
          "g(x)": 0.008004838332024734,
          "x": 3.7959866220735794
         },
         {
          "Func": "Gaussian(mu=1, sigma=1)",
          "g(x)": 0.006948465805437216,
          "x": 3.8461538461538467
         },
         {
          "Func": "Gaussian(mu=1, sigma=1)",
          "g(x)": 0.006016338639274931,
          "x": 3.896321070234114
         },
         {
          "Func": "Gaussian(mu=1, sigma=1)",
          "g(x)": 0.005196161144504967,
          "x": 3.9464882943143813
         },
         {
          "Func": "Gaussian(mu=1, sigma=1)",
          "g(x)": 0.004476513907266397,
          "x": 3.9966555183946486
         },
         {
          "Func": "Gaussian(mu=1, sigma=1)",
          "g(x)": 0.003846841160557407,
          "x": 4.046822742474916
         },
         {
          "Func": "Gaussian(mu=1, sigma=1)",
          "g(x)": 0.003297429809160896,
          "x": 4.096989966555185
         },
         {
          "Func": "Gaussian(mu=1, sigma=1)",
          "g(x)": 0.002819381555936186,
          "x": 4.147157190635452
         },
         {
          "Func": "Gaussian(mu=1, sigma=1)",
          "g(x)": 0.002404579488248777,
          "x": 4.19732441471572
         },
         {
          "Func": "Gaussian(mu=1, sigma=1)",
          "g(x)": 0.002045650381207167,
          "x": 4.247491638795987
         },
         {
          "Func": "Gaussian(mu=1, sigma=1)",
          "g(x)": 0.0017359238634631847,
          "x": 4.297658862876254
         },
         {
          "Func": "Gaussian(mu=1, sigma=1)",
          "g(x)": 0.001469389475195873,
          "x": 4.3478260869565215
         },
         {
          "Func": "Gaussian(mu=1, sigma=1)",
          "g(x)": 0.0012406525297229112,
          "x": 4.397993311036789
         },
         {
          "Func": "Gaussian(mu=1, sigma=1)",
          "g(x)": 0.0010448895727338688,
          "x": 4.448160535117058
         },
         {
          "Func": "Gaussian(mu=1, sigma=1)",
          "g(x)": 0.0008778041187527558,
          "x": 4.498327759197325
         },
         {
          "Func": "Gaussian(mu=1, sigma=1)",
          "g(x)": 0.0007355832350257521,
          "x": 4.5484949832775925
         },
         {
          "Func": "Gaussian(mu=1, sigma=1)",
          "g(x)": 0.0006148554400989831,
          "x": 4.59866220735786
         },
         {
          "Func": "Gaussian(mu=1, sigma=1)",
          "g(x)": 0.0005126502890213644,
          "x": 4.648829431438127
         },
         {
          "Func": "Gaussian(mu=1, sigma=1)",
          "g(x)": 0.00042635993014967366,
          "x": 4.698996655518394
         },
         {
          "Func": "Gaussian(mu=1, sigma=1)",
          "g(x)": 0.00035370284040085444,
          "x": 4.749163879598662
         },
         {
          "Func": "Gaussian(mu=1, sigma=1)",
          "g(x)": 0.0002926898766686649,
          "x": 4.799331103678931
         },
         {
          "Func": "Gaussian(mu=1, sigma=1)",
          "g(x)": 0.00024159272094048,
          "x": 4.849498327759198
         },
         {
          "Func": "Gaussian(mu=1, sigma=1)",
          "g(x)": 0.00019891474516224561,
          "x": 4.899665551839465
         },
         {
          "Func": "Gaussian(mu=1, sigma=1)",
          "g(x)": 0.0001633642786959366,
          "x": 4.949832775919733
         },
         {
          "Func": "Gaussian(mu=1, sigma=1)",
          "g(x)": 0.00013383022576488537,
          "x": 5
         },
         {
          "Func": "Gaussian(mu=2, sigma=0.5)",
          "g(x)": 6.685428883588916e-126,
          "x": -10
         },
         {
          "Func": "Gaussian(mu=2, sigma=0.5)",
          "g(x)": 7.391557915297407e-125,
          "x": -9.949832775919733
         },
         {
          "Func": "Gaussian(mu=2, sigma=0.5)",
          "g(x)": 8.090412246782977e-124,
          "x": -9.899665551839465
         },
         {
          "Func": "Gaussian(mu=2, sigma=0.5)",
          "g(x)": 8.766642084715719e-123,
          "x": -9.849498327759198
         },
         {
          "Func": "Gaussian(mu=2, sigma=0.5)",
          "g(x)": 9.404243317174834e-122,
          "x": -9.799331103678929
         },
         {
          "Func": "Gaussian(mu=2, sigma=0.5)",
          "g(x)": 9.987168911979543e-121,
          "x": -9.749163879598662
         },
         {
          "Func": "Gaussian(mu=2, sigma=0.5)",
          "g(x)": 1.0499990107074202e-119,
          "x": -9.698996655518394
         },
         {
          "Func": "Gaussian(mu=2, sigma=0.5)",
          "g(x)": 1.092857007770509e-118,
          "x": -9.648829431438127
         },
         {
          "Func": "Gaussian(mu=2, sigma=0.5)",
          "g(x)": 1.1260709370344152e-117,
          "x": -9.59866220735786
         },
         {
          "Func": "Gaussian(mu=2, sigma=0.5)",
          "g(x)": 1.1486722120424005e-116,
          "x": -9.548494983277592
         },
         {
          "Func": "Gaussian(mu=2, sigma=0.5)",
          "g(x)": 1.1599905120469397e-115,
          "x": -9.498327759197325
         },
         {
          "Func": "Gaussian(mu=2, sigma=0.5)",
          "g(x)": 1.1596868050927297e-114,
          "x": -9.448160535117056
         },
         {
          "Func": "Gaussian(mu=2, sigma=0.5)",
          "g(x)": 1.147770217400023e-113,
          "x": -9.397993311036789
         },
         {
          "Func": "Gaussian(mu=2, sigma=0.5)",
          "g(x)": 1.1245975778284262e-112,
          "x": -9.347826086956522
         },
         {
          "Func": "Gaussian(mu=2, sigma=0.5)",
          "g(x)": 1.0908556691465758e-111,
          "x": -9.297658862876254
         },
         {
          "Func": "Gaussian(mu=2, sigma=0.5)",
          "g(x)": 1.0475274179536578e-110,
          "x": -9.247491638795987
         },
         {
          "Func": "Gaussian(mu=2, sigma=0.5)",
          "g(x)": 9.958443456570709e-110,
          "x": -9.19732441471572
         },
         {
          "Func": "Gaussian(mu=2, sigma=0.5)",
          "g(x)": 9.372284890537404e-109,
          "x": -9.147157190635452
         },
         {
          "Func": "Gaussian(mu=2, sigma=0.5)",
          "g(x)": 8.73227607852195e-108,
          "x": -9.096989966555183
         },
         {
          "Func": "Gaussian(mu=2, sigma=0.5)",
          "g(x)": 8.054477841619494e-107,
          "x": -9.046822742474916
         },
         {
          "Func": "Gaussian(mu=2, sigma=0.5)",
          "g(x)": 7.354874746826998e-106,
          "x": -8.996655518394649
         },
         {
          "Func": "Gaussian(mu=2, sigma=0.5)",
          "g(x)": 6.6487672171739884e-105,
          "x": -8.946488294314381
         },
         {
          "Func": "Gaussian(mu=2, sigma=0.5)",
          "g(x)": 5.950246144231107e-104,
          "x": -8.896321070234114
         },
         {
          "Func": "Gaussian(mu=2, sigma=0.5)",
          "g(x)": 5.271772885371307e-103,
          "x": -8.846153846153847
         },
         {
          "Func": "Gaussian(mu=2, sigma=0.5)",
          "g(x)": 4.623878452333955e-102,
          "x": -8.795986622073578
         },
         {
          "Func": "Gaussian(mu=2, sigma=0.5)",
          "g(x)": 4.0149864444856774e-101,
          "x": -8.74581939799331
         },
         {
          "Func": "Gaussian(mu=2, sigma=0.5)",
          "g(x)": 3.451355650716059e-100,
          "x": -8.695652173913043
         },
         {
          "Func": "Gaussian(mu=2, sigma=0.5)",
          "g(x)": 2.937130897126977e-99,
          "x": -8.645484949832776
         },
         {
          "Func": "Gaussian(mu=2, sigma=0.5)",
          "g(x)": 2.4744851185782728e-98,
          "x": -8.595317725752508
         },
         {
          "Func": "Gaussian(mu=2, sigma=0.5)",
          "g(x)": 2.0638320267954916e-97,
          "x": -8.545150501672241
         },
         {
          "Func": "Gaussian(mu=2, sigma=0.5)",
          "g(x)": 1.7040871660999244e-96,
          "x": -8.494983277591974
         },
         {
          "Func": "Gaussian(mu=2, sigma=0.5)",
          "g(x)": 1.3929554297282597e-95,
          "x": -8.444816053511705
         },
         {
          "Func": "Gaussian(mu=2, sigma=0.5)",
          "g(x)": 1.1272249483598139e-94,
          "x": -8.394648829431437
         },
         {
          "Func": "Gaussian(mu=2, sigma=0.5)",
          "g(x)": 9.030502573842173e-94,
          "x": -8.34448160535117
         },
         {
          "Func": "Gaussian(mu=2, sigma=0.5)",
          "g(x)": 7.162113614166732e-93,
          "x": -8.294314381270903
         },
         {
          "Func": "Gaussian(mu=2, sigma=0.5)",
          "g(x)": 5.62339315784168e-92,
          "x": -8.244147157190636
         },
         {
          "Func": "Gaussian(mu=2, sigma=0.5)",
          "g(x)": 4.37102858913702e-91,
          "x": -8.193979933110368
         },
         {
          "Func": "Gaussian(mu=2, sigma=0.5)",
          "g(x)": 3.363541595231124e-90,
          "x": -8.143812709030101
         },
         {
          "Func": "Gaussian(mu=2, sigma=0.5)",
          "g(x)": 2.5623468379679365e-89,
          "x": -8.093645484949832
         },
         {
          "Func": "Gaussian(mu=2, sigma=0.5)",
          "g(x)": 1.932444298872648e-88,
          "x": -8.043478260869565
         },
         {
          "Func": "Gaussian(mu=2, sigma=0.5)",
          "g(x)": 1.4427929472651957e-87,
          "x": -7.993311036789297
         },
         {
          "Func": "Gaussian(mu=2, sigma=0.5)",
          "g(x)": 1.0664217489519024e-86,
          "x": -7.94314381270903
         },
         {
          "Func": "Gaussian(mu=2, sigma=0.5)",
          "g(x)": 7.803365215437866e-86,
          "x": -7.892976588628763
         },
         {
          "Func": "Gaussian(mu=2, sigma=0.5)",
          "g(x)": 5.652789714961896e-85,
          "x": -7.842809364548495
         },
         {
          "Func": "Gaussian(mu=2, sigma=0.5)",
          "g(x)": 4.0538874149982925e-84,
          "x": -7.792642140468228
         },
         {
          "Func": "Gaussian(mu=2, sigma=0.5)",
          "g(x)": 2.878117322618691e-83,
          "x": -7.74247491638796
         },
         {
          "Func": "Gaussian(mu=2, sigma=0.5)",
          "g(x)": 2.0228946245687592e-82,
          "x": -7.692307692307692
         },
         {
          "Func": "Gaussian(mu=2, sigma=0.5)",
          "g(x)": 1.4075569778557608e-81,
          "x": -7.642140468227424
         },
         {
          "Func": "Gaussian(mu=2, sigma=0.5)",
          "g(x)": 9.6958673370954e-81,
          "x": -7.591973244147157
         },
         {
          "Func": "Gaussian(mu=2, sigma=0.5)",
          "g(x)": 6.612037409153301e-80,
          "x": -7.54180602006689
         },
         {
          "Func": "Gaussian(mu=2, sigma=0.5)",
          "g(x)": 4.46387367884174e-79,
          "x": -7.491638795986622
         },
         {
          "Func": "Gaussian(mu=2, sigma=0.5)",
          "g(x)": 2.983434085305252e-78,
          "x": -7.441471571906355
         },
         {
          "Func": "Gaussian(mu=2, sigma=0.5)",
          "g(x)": 1.974008211642294e-77,
          "x": -7.391304347826087
         },
         {
          "Func": "Gaussian(mu=2, sigma=0.5)",
          "g(x)": 1.293032436434704e-76,
          "x": -7.341137123745819
         },
         {
          "Func": "Gaussian(mu=2, sigma=0.5)",
          "g(x)": 8.384899100925062e-76,
          "x": -7.290969899665551
         },
         {
          "Func": "Gaussian(mu=2, sigma=0.5)",
          "g(x)": 5.382874061459767e-75,
          "x": -7.240802675585284
         },
         {
          "Func": "Gaussian(mu=2, sigma=0.5)",
          "g(x)": 3.4210431664418894e-74,
          "x": -7.190635451505017
         },
         {
          "Func": "Gaussian(mu=2, sigma=0.5)",
          "g(x)": 2.1524389677570228e-73,
          "x": -7.1404682274247495
         },
         {
          "Func": "Gaussian(mu=2, sigma=0.5)",
          "g(x)": 1.3406984105873895e-72,
          "x": -7.090301003344481
         },
         {
          "Func": "Gaussian(mu=2, sigma=0.5)",
          "g(x)": 8.267216289608154e-72,
          "x": -7.040133779264214
         },
         {
          "Func": "Gaussian(mu=2, sigma=0.5)",
          "g(x)": 5.0467926529206566e-71,
          "x": -6.989966555183946
         },
         {
          "Func": "Gaussian(mu=2, sigma=0.5)",
          "g(x)": 3.0499981868231153e-70,
          "x": -6.9397993311036785
         },
         {
          "Func": "Gaussian(mu=2, sigma=0.5)",
          "g(x)": 1.8247848095400541e-69,
          "x": -6.889632107023411
         },
         {
          "Func": "Gaussian(mu=2, sigma=0.5)",
          "g(x)": 1.0808158119131933e-68,
          "x": -6.839464882943144
         },
         {
          "Func": "Gaussian(mu=2, sigma=0.5)",
          "g(x)": 6.337524905461778e-68,
          "x": -6.789297658862877
         },
         {
          "Func": "Gaussian(mu=2, sigma=0.5)",
          "g(x)": 3.678880028097177e-67,
          "x": -6.739130434782608
         },
         {
          "Func": "Gaussian(mu=2, sigma=0.5)",
          "g(x)": 2.114168161936197e-66,
          "x": -6.688963210702341
         },
         {
          "Func": "Gaussian(mu=2, sigma=0.5)",
          "g(x)": 1.2027943743741013e-65,
          "x": -6.638795986622073
         },
         {
          "Func": "Gaussian(mu=2, sigma=0.5)",
          "g(x)": 6.77440574800678e-65,
          "x": -6.588628762541806
         },
         {
          "Func": "Gaussian(mu=2, sigma=0.5)",
          "g(x)": 3.7772782530382895e-64,
          "x": -6.538461538461538
         },
         {
          "Func": "Gaussian(mu=2, sigma=0.5)",
          "g(x)": 2.0850415244698666e-63,
          "x": -6.488294314381271
         },
         {
          "Func": "Gaussian(mu=2, sigma=0.5)",
          "g(x)": 1.139405720689464e-62,
          "x": -6.438127090301004
         },
         {
          "Func": "Gaussian(mu=2, sigma=0.5)",
          "g(x)": 6.164105164091504e-62,
          "x": -6.3879598662207355
         },
         {
          "Func": "Gaussian(mu=2, sigma=0.5)",
          "g(x)": 3.301335334121894e-61,
          "x": -6.337792642140468
         },
         {
          "Func": "Gaussian(mu=2, sigma=0.5)",
          "g(x)": 1.750399568697069e-60,
          "x": -6.2876254180602
         },
         {
          "Func": "Gaussian(mu=2, sigma=0.5)",
          "g(x)": 9.187824943042523e-60,
          "x": -6.237458193979933
         },
         {
          "Func": "Gaussian(mu=2, sigma=0.5)",
          "g(x)": 4.774371214348292e-59,
          "x": -6.187290969899665
         },
         {
          "Func": "Gaussian(mu=2, sigma=0.5)",
          "g(x)": 2.4561088552038322e-58,
          "x": -6.137123745819398
         },
         {
          "Func": "Gaussian(mu=2, sigma=0.5)",
          "g(x)": 1.2508550769587555e-57,
          "x": -6.086956521739131
         },
         {
          "Func": "Gaussian(mu=2, sigma=0.5)",
          "g(x)": 6.306586213866581e-57,
          "x": -6.036789297658863
         },
         {
          "Func": "Gaussian(mu=2, sigma=0.5)",
          "g(x)": 3.147818151969297e-56,
          "x": -5.986622073578595
         },
         {
          "Func": "Gaussian(mu=2, sigma=0.5)",
          "g(x)": 1.5554386653883926e-55,
          "x": -5.936454849498328
         },
         {
          "Func": "Gaussian(mu=2, sigma=0.5)",
          "g(x)": 7.608939000332286e-55,
          "x": -5.88628762541806
         },
         {
          "Func": "Gaussian(mu=2, sigma=0.5)",
          "g(x)": 3.6848793361630963e-54,
          "x": -5.8361204013377925
         },
         {
          "Func": "Gaussian(mu=2, sigma=0.5)",
          "g(x)": 1.7666495075700205e-53,
          "x": -5.785953177257525
         },
         {
          "Func": "Gaussian(mu=2, sigma=0.5)",
          "g(x)": 8.385046570548365e-53,
          "x": -5.735785953177257
         },
         {
          "Func": "Gaussian(mu=2, sigma=0.5)",
          "g(x)": 3.93993011149309e-52,
          "x": -5.68561872909699
         },
         {
          "Func": "Gaussian(mu=2, sigma=0.5)",
          "g(x)": 1.8327343263996262e-51,
          "x": -5.635451505016722
         },
         {
          "Func": "Gaussian(mu=2, sigma=0.5)",
          "g(x)": 8.439922657885681e-51,
          "x": -5.585284280936455
         },
         {
          "Func": "Gaussian(mu=2, sigma=0.5)",
          "g(x)": 3.847736972039e-50,
          "x": -5.535117056856187
         },
         {
          "Func": "Gaussian(mu=2, sigma=0.5)",
          "g(x)": 1.736601783618619e-49,
          "x": -5.48494983277592
         },
         {
          "Func": "Gaussian(mu=2, sigma=0.5)",
          "g(x)": 7.759309334413384e-49,
          "x": -5.434782608695652
         },
         {
          "Func": "Gaussian(mu=2, sigma=0.5)",
          "g(x)": 3.432209948887809e-48,
          "x": -5.384615384615384
         },
         {
          "Func": "Gaussian(mu=2, sigma=0.5)",
          "g(x)": 1.5029778581935438e-47,
          "x": -5.334448160535117
         },
         {
          "Func": "Gaussian(mu=2, sigma=0.5)",
          "g(x)": 6.515672937175027e-47,
          "x": -5.2842809364548495
         },
         {
          "Func": "Gaussian(mu=2, sigma=0.5)",
          "g(x)": 2.7963654431238077e-46,
          "x": -5.234113712374582
         },
         {
          "Func": "Gaussian(mu=2, sigma=0.5)",
          "g(x)": 1.1881096786023792e-45,
          "x": -5.183946488294314
         },
         {
          "Func": "Gaussian(mu=2, sigma=0.5)",
          "g(x)": 4.9974343514436255e-45,
          "x": -5.133779264214047
         },
         {
          "Func": "Gaussian(mu=2, sigma=0.5)",
          "g(x)": 2.0809690379163711e-44,
          "x": -5.083612040133779
         },
         {
          "Func": "Gaussian(mu=2, sigma=0.5)",
          "g(x)": 8.578514627315074e-44,
          "x": -5.033444816053511
         },
         {
          "Func": "Gaussian(mu=2, sigma=0.5)",
          "g(x)": 3.5009550159940885e-43,
          "x": -4.983277591973244
         },
         {
          "Func": "Gaussian(mu=2, sigma=0.5)",
          "g(x)": 1.4144543047152053e-42,
          "x": -4.933110367892977
         },
         {
          "Func": "Gaussian(mu=2, sigma=0.5)",
          "g(x)": 5.657431050560366e-42,
          "x": -4.882943143812709
         },
         {
          "Func": "Gaussian(mu=2, sigma=0.5)",
          "g(x)": 2.2401524499402216e-41,
          "x": -4.832775919732441
         },
         {
          "Func": "Gaussian(mu=2, sigma=0.5)",
          "g(x)": 8.781401538497141e-41,
          "x": -4.782608695652174
         },
         {
          "Func": "Gaussian(mu=2, sigma=0.5)",
          "g(x)": 3.4078310419125393e-40,
          "x": -4.7324414715719065
         },
         {
          "Func": "Gaussian(mu=2, sigma=0.5)",
          "g(x)": 1.3092429072433786e-39,
          "x": -4.682274247491638
         },
         {
          "Func": "Gaussian(mu=2, sigma=0.5)",
          "g(x)": 4.9795530308052326e-39,
          "x": -4.632107023411371
         },
         {
          "Func": "Gaussian(mu=2, sigma=0.5)",
          "g(x)": 1.87494464644663e-38,
          "x": -4.581939799331104
         },
         {
          "Func": "Gaussian(mu=2, sigma=0.5)",
          "g(x)": 6.988991243041118e-38,
          "x": -4.5317725752508355
         },
         {
          "Func": "Gaussian(mu=2, sigma=0.5)",
          "g(x)": 2.5791018843496923e-37,
          "x": -4.481605351170568
         },
         {
          "Func": "Gaussian(mu=2, sigma=0.5)",
          "g(x)": 9.422159635241015e-37,
          "x": -4.431438127090301
         },
         {
          "Func": "Gaussian(mu=2, sigma=0.5)",
          "g(x)": 3.4076923088726906e-36,
          "x": -4.381270903010034
         },
         {
          "Func": "Gaussian(mu=2, sigma=0.5)",
          "g(x)": 1.2201079219296715e-35,
          "x": -4.331103678929765
         },
         {
          "Func": "Gaussian(mu=2, sigma=0.5)",
          "g(x)": 4.324780563925645e-35,
          "x": -4.280936454849498
         },
         {
          "Func": "Gaussian(mu=2, sigma=0.5)",
          "g(x)": 1.517601905064168e-34,
          "x": -4.230769230769231
         },
         {
          "Func": "Gaussian(mu=2, sigma=0.5)",
          "g(x)": 5.272051042577295e-34,
          "x": -4.180602006688963
         },
         {
          "Func": "Gaussian(mu=2, sigma=0.5)",
          "g(x)": 1.8131315138957046e-33,
          "x": -4.130434782608695
         },
         {
          "Func": "Gaussian(mu=2, sigma=0.5)",
          "g(x)": 6.173151895697662e-33,
          "x": -4.080267558528428
         },
         {
          "Func": "Gaussian(mu=2, sigma=0.5)",
          "g(x)": 2.08071489907776e-32,
          "x": -4.030100334448161
         },
         {
          "Func": "Gaussian(mu=2, sigma=0.5)",
          "g(x)": 6.942983728717862e-32,
          "x": -3.9799331103678925
         },
         {
          "Func": "Gaussian(mu=2, sigma=0.5)",
          "g(x)": 2.293547161162701e-31,
          "x": -3.9297658862876252
         },
         {
          "Func": "Gaussian(mu=2, sigma=0.5)",
          "g(x)": 7.500619918373364e-31,
          "x": -3.879598662207358
         },
         {
          "Func": "Gaussian(mu=2, sigma=0.5)",
          "g(x)": 2.428368550610995e-30,
          "x": -3.8294314381270897
         },
         {
          "Func": "Gaussian(mu=2, sigma=0.5)",
          "g(x)": 7.783232385753163e-30,
          "x": -3.7792642140468224
         },
         {
          "Func": "Gaussian(mu=2, sigma=0.5)",
          "g(x)": 2.4696383015434625e-29,
          "x": -3.729096989966555
         },
         {
          "Func": "Gaussian(mu=2, sigma=0.5)",
          "g(x)": 7.757730052877455e-29,
          "x": -3.678929765886288
         },
         {
          "Func": "Gaussian(mu=2, sigma=0.5)",
          "g(x)": 2.412481165397533e-28,
          "x": -3.6287625418060196
         },
         {
          "Func": "Gaussian(mu=2, sigma=0.5)",
          "g(x)": 7.427132235926647e-28,
          "x": -3.5785953177257523
         },
         {
          "Func": "Gaussian(mu=2, sigma=0.5)",
          "g(x)": 2.2636346756544683e-27,
          "x": -3.528428093645485
         },
         {
          "Func": "Gaussian(mu=2, sigma=0.5)",
          "g(x)": 6.829980702496897e-27,
          "x": -3.478260869565217
         },
         {
          "Func": "Gaussian(mu=2, sigma=0.5)",
          "g(x)": 2.040142823433171e-26,
          "x": -3.4280936454849495
         },
         {
          "Func": "Gaussian(mu=2, sigma=0.5)",
          "g(x)": 6.032948584921924e-26,
          "x": -3.3779264214046822
         },
         {
          "Func": "Gaussian(mu=2, sigma=0.5)",
          "g(x)": 1.7661461260769974e-25,
          "x": -3.327759197324415
         },
         {
          "Func": "Gaussian(mu=2, sigma=0.5)",
          "g(x)": 5.118604790723934e-25,
          "x": -3.2775919732441468
         },
         {
          "Func": "Gaussian(mu=2, sigma=0.5)",
          "g(x)": 1.468603373135605e-24,
          "x": -3.2274247491638794
         },
         {
          "Func": "Gaussian(mu=2, sigma=0.5)",
          "g(x)": 4.171434231742572e-24,
          "x": -3.177257525083612
         },
         {
          "Func": "Gaussian(mu=2, sigma=0.5)",
          "g(x)": 1.1729898034624855e-23,
          "x": -3.127090301003344
         },
         {
          "Func": "Gaussian(mu=2, sigma=0.5)",
          "g(x)": 3.2653597101767355e-23,
          "x": -3.0769230769230766
         },
         {
          "Func": "Gaussian(mu=2, sigma=0.5)",
          "g(x)": 8.999031658426402e-23,
          "x": -3.0267558528428093
         },
         {
          "Func": "Gaussian(mu=2, sigma=0.5)",
          "g(x)": 2.4552091064607556e-22,
          "x": -2.976588628762542
         },
         {
          "Func": "Gaussian(mu=2, sigma=0.5)",
          "g(x)": 6.631459927615629e-22,
          "x": -2.926421404682274
         },
         {
          "Func": "Gaussian(mu=2, sigma=0.5)",
          "g(x)": 1.7732001926836856e-21,
          "x": -2.8762541806020065
         },
         {
          "Func": "Gaussian(mu=2, sigma=0.5)",
          "g(x)": 4.693905552895806e-21,
          "x": -2.8260869565217392
         },
         {
          "Func": "Gaussian(mu=2, sigma=0.5)",
          "g(x)": 1.230095644095629e-20,
          "x": -2.775919732441471
         },
         {
          "Func": "Gaussian(mu=2, sigma=0.5)",
          "g(x)": 3.191327475230094e-20,
          "x": -2.7257525083612038
         },
         {
          "Func": "Gaussian(mu=2, sigma=0.5)",
          "g(x)": 8.196563704944882e-20,
          "x": -2.6755852842809364
         },
         {
          "Func": "Gaussian(mu=2, sigma=0.5)",
          "g(x)": 2.0841080104544181e-19,
          "x": -2.625418060200669
         },
         {
          "Func": "Gaussian(mu=2, sigma=0.5)",
          "g(x)": 5.246100230805845e-19,
          "x": -2.575250836120401
         },
         {
          "Func": "Gaussian(mu=2, sigma=0.5)",
          "g(x)": 1.3073169790011353e-18,
          "x": -2.5250836120401337
         },
         {
          "Func": "Gaussian(mu=2, sigma=0.5)",
          "g(x)": 3.2251741951355127e-18,
          "x": -2.4749163879598663
         },
         {
          "Func": "Gaussian(mu=2, sigma=0.5)",
          "g(x)": 7.876865099814672e-18,
          "x": -2.424749163879598
         },
         {
          "Func": "Gaussian(mu=2, sigma=0.5)",
          "g(x)": 1.9045027144487838e-17,
          "x": -2.374581939799331
         },
         {
          "Func": "Gaussian(mu=2, sigma=0.5)",
          "g(x)": 4.558665655052721e-17,
          "x": -2.3244147157190636
         },
         {
          "Func": "Gaussian(mu=2, sigma=0.5)",
          "g(x)": 1.0802439504754556e-16,
          "x": -2.2742474916387954
         },
         {
          "Func": "Gaussian(mu=2, sigma=0.5)",
          "g(x)": 2.534159241072708e-16,
          "x": -2.224080267558528
         },
         {
          "Func": "Gaussian(mu=2, sigma=0.5)",
          "g(x)": 5.885371976192574e-16,
          "x": -2.1739130434782608
         },
         {
          "Func": "Gaussian(mu=2, sigma=0.5)",
          "g(x)": 1.3531373731024468e-15,
          "x": -2.1237458193979935
         },
         {
          "Func": "Gaussian(mu=2, sigma=0.5)",
          "g(x)": 3.079908527880894e-15,
          "x": -2.0735785953177253
         },
         {
          "Func": "Gaussian(mu=2, sigma=0.5)",
          "g(x)": 6.9400356948816565e-15,
          "x": -2.023411371237458
         },
         {
          "Func": "Gaussian(mu=2, sigma=0.5)",
          "g(x)": 1.5481518171208504e-14,
          "x": -1.9732441471571907
         },
         {
          "Func": "Gaussian(mu=2, sigma=0.5)",
          "g(x)": 3.4189546980623976e-14,
          "x": -1.9230769230769234
         },
         {
          "Func": "Gaussian(mu=2, sigma=0.5)",
          "g(x)": 7.474826259326572e-14,
          "x": -1.872909698996656
         },
         {
          "Func": "Gaussian(mu=2, sigma=0.5)",
          "g(x)": 1.61784464480425e-13,
          "x": -1.822742474916387
         },
         {
          "Func": "Gaussian(mu=2, sigma=0.5)",
          "g(x)": 3.4665740814046215e-13,
          "x": -1.7725752508361197
         },
         {
          "Func": "Gaussian(mu=2, sigma=0.5)",
          "g(x)": 7.353466399044145e-13,
          "x": -1.7224080267558524
         },
         {
          "Func": "Gaussian(mu=2, sigma=0.5)",
          "g(x)": 1.5442289705761852e-12,
          "x": -1.672240802675585
         },
         {
          "Func": "Gaussian(mu=2, sigma=0.5)",
          "g(x)": 3.2104006606896867e-12,
          "x": -1.6220735785953178
         },
         {
          "Func": "Gaussian(mu=2, sigma=0.5)",
          "g(x)": 6.607462898578831e-12,
          "x": -1.5719063545150505
         },
         {
          "Func": "Gaussian(mu=2, sigma=0.5)",
          "g(x)": 1.3462886582991062e-11,
          "x": -1.5217391304347831
         },
         {
          "Func": "Gaussian(mu=2, sigma=0.5)",
          "g(x)": 2.715623747658115e-11,
          "x": -1.471571906354514
         },
         {
          "Func": "Gaussian(mu=2, sigma=0.5)",
          "g(x)": 5.4228671525229515e-11,
          "x": -1.4214046822742468
         },
         {
          "Func": "Gaussian(mu=2, sigma=0.5)",
          "g(x)": 1.0720530820231381e-10,
          "x": -1.3712374581939795
         },
         {
          "Func": "Gaussian(mu=2, sigma=0.5)",
          "g(x)": 2.098126025377757e-10,
          "x": -1.3210702341137122
         },
         {
          "Func": "Gaussian(mu=2, sigma=0.5)",
          "g(x)": 4.0651334651012676e-10,
          "x": -1.2709030100334449
         },
         {
          "Func": "Gaussian(mu=2, sigma=0.5)",
          "g(x)": 7.797331591078711e-10,
          "x": -1.2207357859531776
         },
         {
          "Func": "Gaussian(mu=2, sigma=0.5)",
          "g(x)": 1.4806252625104854e-09,
          "x": -1.1705685618729103
         },
         {
          "Func": "Gaussian(mu=2, sigma=0.5)",
          "g(x)": 2.7833784690977473e-09,
          "x": -1.1204013377926412
         },
         {
          "Func": "Gaussian(mu=2, sigma=0.5)",
          "g(x)": 5.179971002564859e-09,
          "x": -1.0702341137123739
         },
         {
          "Func": "Gaussian(mu=2, sigma=0.5)",
          "g(x)": 9.543558731925513e-09,
          "x": -1.0200668896321066
         },
         {
          "Func": "Gaussian(mu=2, sigma=0.5)",
          "g(x)": 1.7406895788802544e-08,
          "x": -0.9698996655518393
         },
         {
          "Func": "Gaussian(mu=2, sigma=0.5)",
          "g(x)": 3.143114953961354e-08,
          "x": -0.919732441471572
         },
         {
          "Func": "Gaussian(mu=2, sigma=0.5)",
          "g(x)": 5.6185876111773215e-08,
          "x": -0.8695652173913047
         },
         {
          "Func": "Gaussian(mu=2, sigma=0.5)",
          "g(x)": 9.943104560512295e-08,
          "x": -0.8193979933110374
         },
         {
          "Func": "Gaussian(mu=2, sigma=0.5)",
          "g(x)": 1.741986609949695e-07,
          "x": -0.7692307692307683
         },
         {
          "Func": "Gaussian(mu=2, sigma=0.5)",
          "g(x)": 3.021311997124827e-07,
          "x": -0.719063545150501
         },
         {
          "Func": "Gaussian(mu=2, sigma=0.5)",
          "g(x)": 5.187693328822577e-07,
          "x": -0.6688963210702337
         },
         {
          "Func": "Gaussian(mu=2, sigma=0.5)",
          "g(x)": 8.818220845466969e-07,
          "x": -0.6187290969899664
         },
         {
          "Func": "Gaussian(mu=2, sigma=0.5)",
          "g(x)": 1.4839374813520407e-06,
          "x": -0.5685618729096991
         },
         {
          "Func": "Gaussian(mu=2, sigma=0.5)",
          "g(x)": 2.4721692172040437e-06,
          "x": -0.5183946488294318
         },
         {
          "Func": "Gaussian(mu=2, sigma=0.5)",
          "g(x)": 4.077263141800626e-06,
          "x": -0.46822742474916446
         },
         {
          "Func": "Gaussian(mu=2, sigma=0.5)",
          "g(x)": 6.657133171842264e-06,
          "x": -0.4180602006688954
         },
         {
          "Func": "Gaussian(mu=2, sigma=0.5)",
          "g(x)": 1.0760531056015742e-05,
          "x": -0.3678929765886281
         },
         {
          "Func": "Gaussian(mu=2, sigma=0.5)",
          "g(x)": 1.7219007788751305e-05,
          "x": -0.31772575250836077
         },
         {
          "Func": "Gaussian(mu=2, sigma=0.5)",
          "g(x)": 2.7277872588057525e-05,
          "x": -0.26755852842809347
         },
         {
          "Func": "Gaussian(mu=2, sigma=0.5)",
          "g(x)": 4.2780004640371665e-05,
          "x": -0.21739130434782616
         },
         {
          "Func": "Gaussian(mu=2, sigma=0.5)",
          "g(x)": 6.642003727410498e-05,
          "x": -0.16722408026755886
         },
         {
          "Func": "Gaussian(mu=2, sigma=0.5)",
          "g(x)": 0.00010209050672286807,
          "x": -0.11705685618729156
         },
         {
          "Func": "Gaussian(mu=2, sigma=0.5)",
          "g(x)": 0.00015534581599265464,
          "x": -0.06688963210702248
         },
         {
          "Func": "Gaussian(mu=2, sigma=0.5)",
          "g(x)": 0.00023401393462053064,
          "x": -0.016722408026755176
         },
         {
          "Func": "Gaussian(mu=2, sigma=0.5)",
          "g(x)": 0.000348989076507078,
          "x": 0.03344481605351213
         },
         {
          "Func": "Gaussian(mu=2, sigma=0.5)",
          "g(x)": 0.0005152403958854396,
          "x": 0.08361204013377943
         },
         {
          "Func": "Gaussian(mu=2, sigma=0.5)",
          "g(x)": 0.0007530710173967444,
          "x": 0.13377926421404673
         },
         {
          "Func": "Gaussian(mu=2, sigma=0.5)",
          "g(x)": 0.0010896572656149594,
          "x": 0.18394648829431404
         },
         {
          "Func": "Gaussian(mu=2, sigma=0.5)",
          "g(x)": 0.0015608884286357411,
          "x": 0.23411371237458134
         },
         {
          "Func": "Gaussian(mu=2, sigma=0.5)",
          "g(x)": 0.0022135113843317284,
          "x": 0.2842809364548504
         },
         {
          "Func": "Gaussian(mu=2, sigma=0.5)",
          "g(x)": 0.0031075606653469126,
          "x": 0.3344481605351177
         },
         {
          "Func": "Gaussian(mu=2, sigma=0.5)",
          "g(x)": 0.004319022118157694,
          "x": 0.384615384615385
         },
         {
          "Func": "Gaussian(mu=2, sigma=0.5)",
          "g(x)": 0.005942636928674572,
          "x": 0.43478260869565233
         },
         {
          "Func": "Gaussian(mu=2, sigma=0.5)",
          "g(x)": 0.00809470308729202,
          "x": 0.48494983277591963
         },
         {
          "Func": "Gaussian(mu=2, sigma=0.5)",
          "g(x)": 0.010915675245796225,
          "x": 0.5351170568561869
         },
         {
          "Func": "Gaussian(mu=2, sigma=0.5)",
          "g(x)": 0.014572304786186678,
          "x": 0.5852842809364542
         },
         {
          "Func": "Gaussian(mu=2, sigma=0.5)",
          "g(x)": 0.019259004854676135,
          "x": 0.6354515050167233
         },
         {
          "Func": "Gaussian(mu=2, sigma=0.5)",
          "g(x)": 0.025198076840101606,
          "x": 0.6856187290969906
         },
         {
          "Func": "Gaussian(mu=2, sigma=0.5)",
          "g(x)": 0.03263840341668509,
          "x": 0.7357859531772579
         },
         {
          "Func": "Gaussian(mu=2, sigma=0.5)",
          "g(x)": 0.04185220780391616,
          "x": 0.7859531772575252
         },
         {
          "Func": "Gaussian(mu=2, sigma=0.5)",
          "g(x)": 0.05312950831124035,
          "x": 0.8361204013377925
         },
         {
          "Func": "Gaussian(mu=2, sigma=0.5)",
          "g(x)": 0.06676996941091695,
          "x": 0.8862876254180598
         },
         {
          "Func": "Gaussian(mu=2, sigma=0.5)",
          "g(x)": 0.08307197095675414,
          "x": 0.9364548494983289
         },
         {
          "Func": "Gaussian(mu=2, sigma=0.5)",
          "g(x)": 0.10231888733238052,
          "x": 0.9866220735785962
         },
         {
          "Func": "Gaussian(mu=2, sigma=0.5)",
          "g(x)": 0.12476278472278415,
          "x": 1.0367892976588635
         },
         {
          "Func": "Gaussian(mu=2, sigma=0.5)",
          "g(x)": 0.1506059977015071,
          "x": 1.0869565217391308
         },
         {
          "Func": "Gaussian(mu=2, sigma=0.5)",
          "g(x)": 0.1799813197395256,
          "x": 1.1371237458193981
         },
         {
          "Func": "Gaussian(mu=2, sigma=0.5)",
          "g(x)": 0.21293181372967568,
          "x": 1.1872909698996654
         },
         {
          "Func": "Gaussian(mu=2, sigma=0.5)",
          "g(x)": 0.249391490925115,
          "x": 1.2374581939799327
         },
         {
          "Func": "Gaussian(mu=2, sigma=0.5)",
          "g(x)": 0.28916828982060144,
          "x": 1.2876254180602018
         },
         {
          "Func": "Gaussian(mu=2, sigma=0.5)",
          "g(x)": 0.33193088075033883,
          "x": 1.3377926421404691
         },
         {
          "Func": "Gaussian(mu=2, sigma=0.5)",
          "g(x)": 0.3772008014999407,
          "x": 1.3879598662207364
         },
         {
          "Func": "Gaussian(mu=2, sigma=0.5)",
          "g(x)": 0.42435127585877724,
          "x": 1.4381270903010037
         },
         {
          "Func": "Gaussian(mu=2, sigma=0.5)",
          "g(x)": 0.47261377374752134,
          "x": 1.488294314381271
         },
         {
          "Func": "Gaussian(mu=2, sigma=0.5)",
          "g(x)": 0.5210929451164701,
          "x": 1.5384615384615383
         },
         {
          "Func": "Gaussian(mu=2, sigma=0.5)",
          "g(x)": 0.5687900221027037,
          "x": 1.5886287625418056
         },
         {
          "Func": "Gaussian(mu=2, sigma=0.5)",
          "g(x)": 0.6146341715301313,
          "x": 1.6387959866220747
         },
         {
          "Func": "Gaussian(mu=2, sigma=0.5)",
          "g(x)": 0.6575206416766939,
          "x": 1.688963210702342
         },
         {
          "Func": "Gaussian(mu=2, sigma=0.5)",
          "g(x)": 0.6963539404642246,
          "x": 1.7391304347826093
         },
         {
          "Func": "Gaussian(mu=2, sigma=0.5)",
          "g(x)": 0.7300937665452749,
          "x": 1.7892976588628766
         },
         {
          "Func": "Gaussian(mu=2, sigma=0.5)",
          "g(x)": 0.7578010458677766,
          "x": 1.839464882943144
         },
         {
          "Func": "Gaussian(mu=2, sigma=0.5)",
          "g(x)": 0.7786812492499008,
          "x": 1.8896321070234112
         },
         {
          "Func": "Gaussian(mu=2, sigma=0.5)",
          "g(x)": 0.7921222098417158,
          "x": 1.9397993311036785
         },
         {
          "Func": "Gaussian(mu=2, sigma=0.5)",
          "g(x)": 0.7977239308728136,
          "x": 1.9899665551839476
         },
         {
          "Func": "Gaussian(mu=2, sigma=0.5)",
          "g(x)": 0.7953183588361843,
          "x": 2.040133779264215
         },
         {
          "Func": "Gaussian(mu=2, sigma=0.5)",
          "g(x)": 0.7849777582388932,
          "x": 2.090301003344482
         },
         {
          "Func": "Gaussian(mu=2, sigma=0.5)",
          "g(x)": 0.7670111055795915,
          "x": 2.1404682274247495
         },
         {
          "Func": "Gaussian(mu=2, sigma=0.5)",
          "g(x)": 0.7419487536320591,
          "x": 2.190635451505017
         },
         {
          "Func": "Gaussian(mu=2, sigma=0.5)",
          "g(x)": 0.710516428130909,
          "x": 2.240802675585284
         },
         {
          "Func": "Gaussian(mu=2, sigma=0.5)",
          "g(x)": 0.6736003357132506,
          "x": 2.2909698996655514
         },
         {
          "Func": "Gaussian(mu=2, sigma=0.5)",
          "g(x)": 0.6322057228019279,
          "x": 2.3411371237458205
         },
         {
          "Func": "Gaussian(mu=2, sigma=0.5)",
          "g(x)": 0.5874115850036524,
          "x": 2.391304347826088
         },
         {
          "Func": "Gaussian(mu=2, sigma=0.5)",
          "g(x)": 0.5403243615331711,
          "x": 2.441471571906355
         },
         {
          "Func": "Gaussian(mu=2, sigma=0.5)",
          "g(x)": 0.4920333579469161,
          "x": 2.4916387959866224
         },
         {
          "Func": "Gaussian(mu=2, sigma=0.5)",
          "g(x)": 0.44357034371400983,
          "x": 2.5418060200668897
         },
         {
          "Func": "Gaussian(mu=2, sigma=0.5)",
          "g(x)": 0.3958753079538106,
          "x": 2.591973244147157
         },
         {
          "Func": "Gaussian(mu=2, sigma=0.5)",
          "g(x)": 0.3497697792439333,
          "x": 2.6421404682274243
         },
         {
          "Func": "Gaussian(mu=2, sigma=0.5)",
          "g(x)": 0.30593848265929724,
          "x": 2.6923076923076934
         },
         {
          "Func": "Gaussian(mu=2, sigma=0.5)",
          "g(x)": 0.2649194780524843,
          "x": 2.7424749163879607
         },
         {
          "Func": "Gaussian(mu=2, sigma=0.5)",
          "g(x)": 0.22710235084549085,
          "x": 2.792642140468228
         },
         {
          "Func": "Gaussian(mu=2, sigma=0.5)",
          "g(x)": 0.19273355217868773,
          "x": 2.8428093645484953
         },
         {
          "Func": "Gaussian(mu=2, sigma=0.5)",
          "g(x)": 0.16192763706568306,
          "x": 2.8929765886287626
         },
         {
          "Func": "Gaussian(mu=2, sigma=0.5)",
          "g(x)": 0.13468293998091752,
          "x": 2.94314381270903
         },
         {
          "Func": "Gaussian(mu=2, sigma=0.5)",
          "g(x)": 0.1109001553007238,
          "x": 2.993311036789297
         },
         {
          "Func": "Gaussian(mu=2, sigma=0.5)",
          "g(x)": 0.09040234113037163,
          "x": 3.0434782608695663
         },
         {
          "Func": "Gaussian(mu=2, sigma=0.5)",
          "g(x)": 0.07295501605879148,
          "x": 3.0936454849498336
         },
         {
          "Func": "Gaussian(mu=2, sigma=0.5)",
          "g(x)": 0.058285240676051335,
          "x": 3.143812709030101
         },
         {
          "Func": "Gaussian(mu=2, sigma=0.5)",
          "g(x)": 0.046098838985858676,
          "x": 3.193979933110368
         },
         {
          "Func": "Gaussian(mu=2, sigma=0.5)",
          "g(x)": 0.03609519048302925,
          "x": 3.2441471571906355
         },
         {
          "Func": "Gaussian(mu=2, sigma=0.5)",
          "g(x)": 0.02797928713382185,
          "x": 3.294314381270903
         },
         {
          "Func": "Gaussian(mu=2, sigma=0.5)",
          "g(x)": 0.02147098206436911,
          "x": 3.34448160535117
         },
         {
          "Func": "Gaussian(mu=2, sigma=0.5)",
          "g(x)": 0.016311546177050978,
          "x": 3.394648829431439
         },
         {
          "Func": "Gaussian(mu=2, sigma=0.5)",
          "g(x)": 0.01226778927578609,
          "x": 3.4448160535117065
         },
         {
          "Func": "Gaussian(mu=2, sigma=0.5)",
          "g(x)": 0.009134093267890123,
          "x": 3.494983277591974
         },
         {
          "Func": "Gaussian(mu=2, sigma=0.5)",
          "g(x)": 0.006732750689290109,
          "x": 3.545150501672241
         },
         {
          "Func": "Gaussian(mu=2, sigma=0.5)",
          "g(x)": 0.004913009241118927,
          "x": 3.5953177257525084
         },
         {
          "Func": "Gaussian(mu=2, sigma=0.5)",
          "g(x)": 0.0035492009231684035,
          "x": 3.6454849498327757
         },
         {
          "Func": "Gaussian(mu=2, sigma=0.5)",
          "g(x)": 0.0025382918036621228,
          "x": 3.695652173913043
         },
         {
          "Func": "Gaussian(mu=2, sigma=0.5)",
          "g(x)": 0.001797134021154031,
          "x": 3.745819397993312
         },
         {
          "Func": "Gaussian(mu=2, sigma=0.5)",
          "g(x)": 0.0012596426038666453,
          "x": 3.7959866220735794
         },
         {
          "Func": "Gaussian(mu=2, sigma=0.5)",
          "g(x)": 0.0008740618659430435,
          "x": 3.8461538461538467
         },
         {
          "Func": "Gaussian(mu=2, sigma=0.5)",
          "g(x)": 0.0006004335649387875,
          "x": 3.896321070234114
         },
         {
          "Func": "Gaussian(mu=2, sigma=0.5)",
          "g(x)": 0.0004083341545753881,
          "x": 3.9464882943143813
         },
         {
          "Func": "Gaussian(mu=2, sigma=0.5)",
          "g(x)": 0.0002749124510188789,
          "x": 3.9966555183946486
         },
         {
          "Func": "Gaussian(mu=2, sigma=0.5)",
          "g(x)": 0.00018323189328916349,
          "x": 4.046822742474916
         },
         {
          "Func": "Gaussian(mu=2, sigma=0.5)",
          "g(x)": 0.00012090261243936211,
          "x": 4.096989966555185
         },
         {
          "Func": "Gaussian(mu=2, sigma=0.5)",
          "g(x)": 7.897656814603857e-05,
          "x": 4.147157190635452
         },
         {
          "Func": "Gaussian(mu=2, sigma=0.5)",
          "g(x)": 5.1072696447087956e-05,
          "x": 4.19732441471572
         },
         {
          "Func": "Gaussian(mu=2, sigma=0.5)",
          "g(x)": 3.269695232220192e-05,
          "x": 4.247491638795987
         },
         {
          "Func": "Gaussian(mu=2, sigma=0.5)",
          "g(x)": 2.0723052024257272e-05,
          "x": 4.297658862876254
         },
         {
          "Func": "Gaussian(mu=2, sigma=0.5)",
          "g(x)": 1.3002537570353004e-05,
          "x": 4.3478260869565215
         },
         {
          "Func": "Gaussian(mu=2, sigma=0.5)",
          "g(x)": 8.076635326069394e-06,
          "x": 4.397993311036789
         },
         {
          "Func": "Gaussian(mu=2, sigma=0.5)",
          "g(x)": 4.966618339382382e-06,
          "x": 4.448160535117058
         },
         {
          "Func": "Gaussian(mu=2, sigma=0.5)",
          "g(x)": 3.023563251787444e-06,
          "x": 4.498327759197325
         },
         {
          "Func": "Gaussian(mu=2, sigma=0.5)",
          "g(x)": 1.8222387830967454e-06,
          "x": 4.5484949832775925
         },
         {
          "Func": "Gaussian(mu=2, sigma=0.5)",
          "g(x)": 1.0872250989156538e-06,
          "x": 4.59866220735786
         },
         {
          "Func": "Gaussian(mu=2, sigma=0.5)",
          "g(x)": 6.421871490262392e-07,
          "x": 4.648829431438127
         },
         {
          "Func": "Gaussian(mu=2, sigma=0.5)",
          "g(x)": 3.755188205686414e-07,
          "x": 4.698996655518394
         },
         {
          "Func": "Gaussian(mu=2, sigma=0.5)",
          "g(x)": 2.1738509466144356e-07,
          "x": 4.749163879598662
         },
         {
          "Func": "Gaussian(mu=2, sigma=0.5)",
          "g(x)": 1.245821363693637e-07,
          "x": 4.799331103678931
         },
         {
          "Func": "Gaussian(mu=2, sigma=0.5)",
          "g(x)": 7.068214849581237e-08,
          "x": 4.849498327759198
         },
         {
          "Func": "Gaussian(mu=2, sigma=0.5)",
          "g(x)": 3.9700106061057674e-08,
          "x": 4.899665551839465
         },
         {
          "Func": "Gaussian(mu=2, sigma=0.5)",
          "g(x)": 2.2075042517175915e-08,
          "x": 4.949832775919733
         },
         {
          "Func": "Gaussian(mu=2, sigma=0.5)",
          "g(x)": 1.2151765699646572e-08,
          "x": 5
         }
        ]
       },
       "encoding": {
        "row": {
         "field": "Func",
         "type": "nominal"
        },
        "x": {
         "field": "x",
         "type": "quantitative"
        },
        "y": {
         "field": "g(x)",
         "type": "quantitative"
        }
       },
       "mark": "line"
      },
      "image/png": "[encoded data removed]",
      "text/plain": [
       "<VegaLite 3 object>\n",
       "\n",
       "If you see this message, it means the renderer has not been properly enabled\n",
       "for the frontend that you are using. For more information, see\n",
       "https://altair-viz.github.io/user_guide/troubleshooting.html\n"
      ]
     },
     "execution_count": 49,
     "metadata": {},
     "output_type": "execute_result"
    }
   ],
   "source": [
    "alt.Chart(df).mark_line().encode(\n",
    "    x=\"x\",\n",
    "    y=\"g(x)\",\n",
    "    row=\"Func\"\n",
    ")"
   ]
  },
  {
   "cell_type": "markdown",
   "metadata": {},
   "source": [
    "And there we have it! A simple way to keep track of arbitrary\n",
    "functions and visualize them. \n",
    "\n",
    "We've learned that python classes can behave like functions, and we can\n",
    "use them to store parameters to be used later. We can combine this with the\n",
    "recent feature of dataclasses to get a bunch of convenient bookkeeping for free.\n",
    "\n",
    "Additionally, this allows us to create convenient labels for our plots, with \n",
    "no chance of error!\n",
    "\n",
    "Hopefully this was a neat intro to a few python techniques that you might\n",
    "not come across if you're just googling around to solve a specific problem. \n",
    "In the future, I plan on releasing a few more interesting tips that \n",
    "aren't so obvious.\n",
    "\n"
   ]
  }
 ],
 "metadata": {
  "kernelspec": {
   "display_name": "Python 3",
   "language": "python",
   "name": "python3"
  },
  "language_info": {
   "codemirror_mode": {
    "name": "ipython",
    "version": 3
   },
   "file_extension": ".py",
   "mimetype": "text/x-python",
   "name": "python",
   "nbconvert_exporter": "python",
   "pygments_lexer": "ipython3",
   "version": "3.7.3"
  }
 },
 "nbformat": 4,
 "nbformat_minor": 4
}
