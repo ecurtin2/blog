{
 "cells": [
  {
   "cell_type": "markdown",
   "metadata": {},
   "source": [
    "Lately I've been playing around with the [anasazi](https://trilinos.org/packages/anasazi/) library. It's basically a library that implements algorithms to solve eigenvalue problems that are all completely unaware of the underling data structures. The way this is done is by implementing the algorithms in terms of an **interface**. Basically, this interface is a contract between whoever wrote the library, and whoever is using it. It's a formal way for the library writer to say \"If you give me an object that implements x, and y, this library will do Z with that object.\"\n",
    "\n",
    "This idea is a bit... abstract. *And that's the whole point*. Two places where this idea is used constantly are the Python Standard Library and the C++ Standard Template Library (STL). In Python, any object that implements \\__iter__ and \\__next__ is automatically considered an iterable, and this opens up a ton of the standard library. In C++, similar functionality is done using iterators, the basic type that all of the STL algorithms work on. \n",
    "\n",
    "In python, for instance, this allows you to define a custom collection with \\__iter__ and \\__next__, and now you automatically get any(), all(), list() and so on, *regardless of what it is your collection does*.\n",
    "\n",
    "This has the significant advantage that the algorithms and data structures you use become decoupled. Therefore to implement N algorithms on M data structures, you only need to implement N + M things around a common interface, rather than the N * M combinations of algorithms and data structures. It's never quite this amazing in practice, but it's close. \n",
    "\n",
    "## Moving Past numpy: Separating Algorithms and data structures in Linear Algebra\n",
    "\n",
    "This is getting long winded. Assume for now that numpy is not doing what we need (say, we need memory - distributed matrices for our problem or something). Rather than rewrite an entire algorithm for another type, why not abstract away numpy in the first place? Then we simply need to write an interface between our algorithm and any data structure we want it to be able to use. \n",
    "\n",
    "## Case Study - The Similarity Transform\n",
    "\n",
    "Python's duck typing actually makes this almost too easy to be true. However I prefer the explicit abstract method interface: here's the imports:"
   ]
  },
  {
   "cell_type": "code",
   "execution_count": 13,
   "metadata": {},
   "outputs": [],
   "source": [
    "from abc import ABC, ABCMeta, abstractmethod\n",
    "import numpy as np\n",
    "np.set_printoptions(suppress=True)\n",
    "from IPython.display import display"
   ]
  },
  {
   "cell_type": "markdown",
   "metadata": {},
   "source": [
    "Lets write out a function for a similarity transform, \n",
    "$\\mathbf{\\tilde{A}} = \\mathbf{S}^{-1}\\mathbf{A}\\mathbf{S}$, \n",
    "but let's use this idea of an abstract interface. The funny thing is, this looks remarkable like psuedo - code:"
   ]
  },
  {
   "cell_type": "code",
   "execution_count": 14,
   "metadata": {},
   "outputs": [],
   "source": [
    "def SimilarityTransform(STInterface, other):\n",
    "    assert isinstance(STInterface, SimilarityTransformInterface)\n",
    "    return STInterface.inverse() @ other @ STInterface"
   ]
  },
  {
   "cell_type": "markdown",
   "metadata": {},
   "source": [
    "Here we assumed that there's something out there called a SimilarityTransformInterface, and the thing we are being passed is an instance of that. Think for a second: what would this interface need to look like? Well, anything conforming to this interface has to implement an inverse() method as well as the @ operator, the python operator for matrix multliplication (since Python 3.5 - you're not still using python 2 right?). \n",
    "\n",
    "The cool thing is, you can express this idea by defining an *Abstract Base Class* with *Abstract Methods*. Basically, an abstract base class cannot be instantiated, but it can be subclassed. The rule is, any subclass must implement all methods marked as abstract by the @abstractmethod decorator. \n",
    "\n",
    "So let's define our abstract base class: "
   ]
  },
  {
   "cell_type": "code",
   "execution_count": 15,
   "metadata": {},
   "outputs": [],
   "source": [
    "class SimilarityTransformInterface(metaclass=ABCMeta):\n",
    "    \n",
    "    @abstractmethod\n",
    "    def inverse(self): pass\n",
    "        \n",
    "    @abstractmethod\n",
    "    def __matmul__(self, other): pass\n",
    "\n",
    "    @classmethod\n",
    "    def __subclasshook__(cls, C):\n",
    "        \"\"\"Any class that implements all abstract methods of this ABC is a subclass.\n",
    "        \n",
    "        This does not require that they inherit from this class!!!        \n",
    "        \"\"\"\n",
    "        if cls is SimilarityTransformInterface:\n",
    "            requirements_met = []\n",
    "            for r in __class__.__abstractmethods__:\n",
    "                requirements_met.append(any(r in B.__dict__ for B in C.__mro__))\n",
    "            if all(requirements_met):\n",
    "                return True\n",
    "        return NotImplemented        "
   ]
  },
  {
   "cell_type": "markdown",
   "metadata": {},
   "source": [
    "Here we've basically instructed anybody who wants to subclass this class that they must implement inverse() and \\__matmul__ themselves.\n",
    "\n",
    "But that's not all. The \\__subclasshoook__ method is where it gets real funky. It basically patches python's issubclass and isinstance methods, and this function as written here basically tells python that  **any class that implements all of the abstractmethods IS A SimilarityTransformInterface**, and there's no need to inherit from it!"
   ]
  },
  {
   "cell_type": "code",
   "execution_count": 36,
   "metadata": {},
   "outputs": [
    {
     "name": "stdout",
     "output_type": "stream",
     "text": [
      "False\n",
      "True\n"
     ]
    }
   ],
   "source": [
    "class NotOne: pass\n",
    "class IsOne:\n",
    "    def inverse(self): pass\n",
    "    def __matmul__(self): pass\n",
    "    \n",
    "print(issubclass(NotOne, SimilarityTransformInterface))\n",
    "print(issubclass(IsOne, SimilarityTransformInterface))"
   ]
  },
  {
   "cell_type": "markdown",
   "metadata": {},
   "source": [
    "So now we've defined our interface, and we can check to make sure whatever we're being passed conforms to it. We're now officially done writing the algorithm. Now all we have to do is write a wrapper for whatever our data types are to make them conform to the interface. I did this for numpy arrays below by copying fromt their documentation:"
   ]
  },
  {
   "cell_type": "code",
   "execution_count": 16,
   "metadata": {},
   "outputs": [],
   "source": [
    "class NumpyShim(np.ndarray):\n",
    "    \"\"\"This wraps a numpy array object into a SimiliarityTransformInterface compliant object.\"\"\"\n",
    "\n",
    "    def __new__(cls, input_array):\n",
    "        obj = np.asarray(input_array).view(cls)\n",
    "        return obj\n",
    "    \n",
    "    def __array_finalize__(self, obj):\n",
    "        if obj is None: return\n",
    "\n",
    "    def inverse(self):\n",
    "        print(\"I just used the np.linalg.inv inverse\")\n",
    "        return np.linalg.inv(self)"
   ]
  },
  {
   "cell_type": "markdown",
   "metadata": {},
   "source": [
    "Ignore the \\__new__ and \\__aray_finalize__ functions. They have to do with complications of subclassing numpy arrays. Since numpy already defines the \\__matmul__ function (for using @ on numpy arrays) all I have to define is the inverse. Numpy also has an inverse function, so I can just call that function within inverse(). Right now this all probably looks like a lot more work to write a one line numpy function, but bear with me. \n",
    "\n",
    "Let's first make sure that our similarity transform algorithm works on numpy arrays. We can test this by diagonalizing a symmetric matrix, and seeing if we can use the eigenvectors to transform it into a diagonal matrix of eigenvalues. "
   ]
  },
  {
   "cell_type": "code",
   "execution_count": 37,
   "metadata": {},
   "outputs": [
    {
     "name": "stdout",
     "output_type": "stream",
     "text": [
      "Eigenvalues are:  [-3.71087275 -1.94249831 -0.09555686  3.90007723]\n",
      "I just used the np.linalg.inv inverse\n"
     ]
    },
    {
     "data": {
      "text/plain": [
       "NumpyShim([[-3.71087275, -0.        , -0.        ,  0.        ],\n",
       "           [-0.        , -1.94249831, -0.        ,  0.        ],\n",
       "           [ 0.        ,  0.        , -0.09555686, -0.        ],\n",
       "           [ 0.        ,  0.        , -0.        ,  3.90007723]])"
      ]
     },
     "execution_count": 37,
     "metadata": {},
     "output_type": "execute_result"
    }
   ],
   "source": [
    "A = np.random.randn(4, 4)\n",
    "A = A + A.T\n",
    "evals, evecs = np.linalg.eigh(A)\n",
    "\n",
    "S = NumpyShim(evecs)\n",
    "M = NumpyShim(A)\n",
    "\n",
    "print(\"Eigenvalues are: \", evals)\n",
    "\n",
    "SimilarityTransform(S, M)"
   ]
  },
  {
   "cell_type": "markdown",
   "metadata": {},
   "source": [
    "Wohoo! It works! But that was a lot of work for basically nothing. Here's where it can get interesting. We know that we have orthogonal eigenvectors of a hermitian matrix, and we know that the inverse of an orthogonal matrix is just it's transpose. So let's not waste our time calculating the inverse when we could just do the transpose. But we don't wanna mess with the algorithm when we know it works:\n",
    "\n",
    "Let's do this by making a specialized OrthogonalArray class, whose inverse() method is just the transpose operation. Like so:"
   ]
  },
  {
   "cell_type": "code",
   "execution_count": 28,
   "metadata": {},
   "outputs": [],
   "source": [
    "class OrthogonalArray(NumpyShim):\n",
    "    \"\"\"Specializes inverse function for orthogonal numpy arrays\"\"\"\n",
    "    \n",
    "    def __init__(self, *args, **kwargs):\n",
    "        assert(np.allclose((self.T @ self - np.eye(len(self))), 0.0 )), \"Must be orthogonal!\"\n",
    "    \n",
    "    def inverse(self):\n",
    "        print(\"I just used the orthogonal array inverse\")\n",
    "        return self.T"
   ]
  },
  {
   "cell_type": "markdown",
   "metadata": {},
   "source": [
    "Now all we have to do is convert our eigenvectors to be an OrthogonalArray and call the similarity transform on that. Note that it uses the orthogonal array inverse function. "
   ]
  },
  {
   "cell_type": "code",
   "execution_count": 38,
   "metadata": {},
   "outputs": [
    {
     "name": "stdout",
     "output_type": "stream",
     "text": [
      "I just used the orthogonal array inverse\n"
     ]
    },
    {
     "data": {
      "text/plain": [
       "OrthogonalArray([[-3.71087275, -0.        , -0.        ,  0.        ],\n",
       "                 [-0.        , -1.94249831,  0.        ,  0.        ],\n",
       "                 [-0.        , -0.        , -0.09555686, -0.        ],\n",
       "                 [ 0.        ,  0.        , -0.        ,  3.90007723]])"
      ]
     },
     "execution_count": 38,
     "metadata": {},
     "output_type": "execute_result"
    }
   ],
   "source": [
    "sym = OrthogonalArray(evecs)\n",
    "SimilarityTransform(sym, A)"
   ]
  },
  {
   "cell_type": "markdown",
   "metadata": {},
   "source": [
    "Ok that's pretty neat, isn't it? We can specialize our data structures to optimize certain restrictions that we know to be true. But the underlying algorithm is unchanged. \n",
    "\n",
    "If you're still not convinced, imagine the following: You could use a sparse array, an out-of-memory dask array, or maybe a massively parallel Trilinos or Petsc array to do this **same algorithm** they just *need to implement the correct interface*. \n",
    "\n",
    "\n",
    "## Ok let's get real weird\n",
    "\n",
    "Allow me to demonstrate. I'm going to use the same function to do a *symbolic* similarity transform using sympy."
   ]
  },
  {
   "cell_type": "code",
   "execution_count": 30,
   "metadata": {},
   "outputs": [],
   "source": [
    "from sympy import Matrix, init_printing, symbols\n",
    "init_printing(use_unicode=True)\n",
    "\n",
    "class SympyShim(Matrix):\n",
    "    def __init__(self, mat):\n",
    "        self = mat\n",
    "        \n",
    "    def inverse(self):\n",
    "        return self.inv()"
   ]
  },
  {
   "cell_type": "markdown",
   "metadata": {},
   "source": [
    "Again, sympy implements the @ operator for us already. (We could have actually required .inv() instead of .inverse() and used both numpy and sympy, but I wanted to illustrate). So we spend the 10 seconds it takes to implement our interface using sympy Matrices. "
   ]
  },
  {
   "cell_type": "code",
   "execution_count": 31,
   "metadata": {},
   "outputs": [
    {
     "data": {
      "image/png": "[encoded data removed]",
      "text/latex": [
       "$$\\left[\\begin{matrix}a & b\\\\b & a\\end{matrix}\\right]$$"
      ],
      "text/plain": [
       "⎡a  b⎤\n",
       "⎢    ⎥\n",
       "⎣b  a⎦"
      ]
     },
     "metadata": {},
     "output_type": "display_data"
    }
   ],
   "source": [
    "a, b = symbols('a b')\n",
    "a = Matrix([[a, b], [b, a]])\n",
    "display(a)"
   ]
  },
  {
   "cell_type": "markdown",
   "metadata": {},
   "source": [
    "Let's take a look at the eigenvalues and vectors:"
   ]
  },
  {
   "cell_type": "code",
   "execution_count": 10,
   "metadata": {},
   "outputs": [
    {
     "data": {
      "image/png": "[encoded data removed]",
      "text/latex": [
       "$$\\left ( a - b, \\quad 1, \\quad \\left [ \\left[\\begin{matrix}-1\\\\1\\end{matrix}\\right]\\right ]\\right )$$"
      ],
      "text/plain": [
       "⎛          ⎡⎡-1⎤⎤⎞\n",
       "⎜a - b, 1, ⎢⎢  ⎥⎥⎟\n",
       "⎝          ⎣⎣1 ⎦⎦⎠"
      ]
     },
     "metadata": {},
     "output_type": "display_data"
    },
    {
     "data": {
      "image/png": "[encoded data removed]",
      "text/latex": [
       "$$\\left ( a + b, \\quad 1, \\quad \\left [ \\left[\\begin{matrix}1\\\\1\\end{matrix}\\right]\\right ]\\right )$$"
      ],
      "text/plain": [
       "⎛          ⎡⎡1⎤⎤⎞\n",
       "⎜a + b, 1, ⎢⎢ ⎥⎥⎟\n",
       "⎝          ⎣⎣1⎦⎦⎠"
      ]
     },
     "metadata": {},
     "output_type": "display_data"
    }
   ],
   "source": [
    "pair1, pair2 = a.eigenvects()\n",
    "display(pair1)\n",
    "display(pair2)"
   ]
  },
  {
   "cell_type": "markdown",
   "metadata": {},
   "source": [
    "Sympy gives us (eigenvalue, multiplicity, eigenvector) tuples as a result, so we have our eigenvectors and values. Lets make a single matrix for the vectors:"
   ]
  },
  {
   "cell_type": "code",
   "execution_count": 11,
   "metadata": {},
   "outputs": [
    {
     "data": {
      "image/png": "[encoded data removed]",
      "text/latex": [
       "$$\\left[\\begin{matrix}-1 & 1\\\\1 & 1\\end{matrix}\\right]$$"
      ],
      "text/plain": [
       "⎡-1  1⎤\n",
       "⎢     ⎥\n",
       "⎣1   1⎦"
      ]
     },
     "execution_count": 11,
     "metadata": {},
     "output_type": "execute_result"
    }
   ],
   "source": [
    "sympy_evecs = pair1[2][0].col_insert(1, pair2[2][0])\n",
    "sympy_evecs"
   ]
  },
  {
   "cell_type": "markdown",
   "metadata": {},
   "source": [
    "Now just convert to our interface type, and use our similarity transform:"
   ]
  },
  {
   "cell_type": "code",
   "execution_count": 12,
   "metadata": {},
   "outputs": [
    {
     "data": {
      "image/png": "[encoded data removed]",
      "text/latex": [
       "$$\\left[\\begin{matrix}a - b & 0\\\\0 & a + b\\end{matrix}\\right]$$"
      ],
      "text/plain": [
       "⎡a - b    0  ⎤\n",
       "⎢            ⎥\n",
       "⎣  0    a + b⎦"
      ]
     },
     "execution_count": 12,
     "metadata": {},
     "output_type": "execute_result"
    }
   ],
   "source": [
    "s = SympyShim(sympy_evecs)\n",
    "SimilarityTransform(s, a)"
   ]
  },
  {
   "cell_type": "markdown",
   "metadata": {},
   "source": [
    "**What the >^_!** it works!!!  Ok maybe I'm overexaggerating what's going on here but I've demonstrated the core idea here. This is an incredibly simple function that I'm implementing but the core idea is the same. **The duck typing of Python makes it an ideal language to implement abstract algorithms that are independent of the underling datatypes**. Can you do this type of thing in C++? Surely, but get your templates and 1200 character types ready. \n",
    "\n",
    "I also think that a lot of linear algebra algorithms are a great target for this approach. Writing a lot of the interface code is quite straightforward (it really really really looks like pseudo code) and then you just have to wrap a lot of very commonly implemented tasks anyway (inverse, dot product, etc). \n",
    "\n",
    "Then you can leverage a lot of linear algebra packages: numpy/scipy, theano, dask, pestc, trilinos, CUDABLAS, tensorflow, etc. with the same algorithms. \n",
    "\n",
    "You can also do **Matrix free computation where you never even store a matrix**. This problem happens all the time if you're dealing with very large matrices that are hundreds of thousands or millions of rows. \n",
    "\n",
    "Maybe we can re implement [anasazi](https://trilinos.org/packages/anasazi/) eigensolvers at the algorithm level in python. Then we can have plug-n-play Lanczos, Arnoldi, Davidson, etc algorithms.\n",
    "\n",
    "Last thing then I'll be quiet. Imagine using this approach in conjunction with numpy as a proof of concept of your algorithm. Come production time, just write a wrapper for theano and if you do it properly you ought to be able to generate the compute graph of your entire algorithm, and let theano optimize and compile it. I really think this approach to solving problems will really shine when paired with the Python scientific stack."
   ]
  },
  {
   "cell_type": "code",
   "execution_count": null,
   "metadata": {},
   "outputs": [],
   "source": []
  }
 ],
 "metadata": {
  "kernelspec": {
   "display_name": "Python 3",
   "language": "python",
   "name": "python3"
  },
  "language_info": {
   "codemirror_mode": {
    "name": "ipython",
    "version": 3
   },
   "file_extension": ".py",
   "mimetype": "text/x-python",
   "name": "python",
   "nbconvert_exporter": "python",
   "pygments_lexer": "ipython3",
   "version": "3.6.3"
  }
 },
 "nbformat": 4,
 "nbformat_minor": 2
}
